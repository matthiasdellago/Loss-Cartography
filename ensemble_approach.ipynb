{
  "cells": [
    {
      "cell_type": "code",
      "execution_count": 1,
      "metadata": {
        "id": "MTV4OGkJQDoW"
      },
      "outputs": [],
      "source": [
        "import torch\n",
        "import torch.nn as nn\n",
        "import torch.nn.functional as F\n",
        "from torchvision.datasets import MNIST\n",
        "from torchvision import transforms\n",
        "\n",
        "# Here's a simple MLP\n",
        "class SimpleMLP(nn.Module):\n",
        "    def __init__(self):\n",
        "        super(SimpleMLP, self).__init__()\n",
        "        self.fc1 = nn.Linear(784, 128)\n",
        "        self.fc2 = nn.Linear(128, 128)\n",
        "        self.fc3 = nn.Linear(128, 10)\n",
        "\n",
        "    def forward(self, x):\n",
        "        x = x.flatten(1)\n",
        "        x = self.fc1(x)\n",
        "        x = F.relu(x)\n",
        "        x = self.fc2(x)\n",
        "        x = F.relu(x)\n",
        "        x = self.fc3(x)\n",
        "        return x\n",
        "\n",
        "device = torch.device(\"cuda\" if torch.cuda.is_available() else \"cpu\")\n",
        "\n",
        "# Use a standard MNIST normalization\n",
        "transform = transforms.Compose([\n",
        "    transforms.ToTensor(),\n",
        "    transforms.Normalize((0.1307,), (0.3081,))\n",
        "])\n",
        "\n",
        "dataset = MNIST(root='./data', download=True, transform=transform)\n",
        "BATCH_SIZE = int(len(dataset)/10) # Big but not too big, because I think that the batch is duplicated for each model in the vmap-enselmble\n",
        "dataloader = torch.utils.data.DataLoader(dataset, batch_size=BATCH_SIZE, num_workers = 2)\n",
        "\n",
        "# criterion functional\n",
        "criterion = F.cross_entropy\n",
        "\n",
        "NUM_DIRS = 2 # number of random directions to sample, in addition to the gradient ascent + descent, and radially in + out.\n",
        "MAX_OOM = 0 # maximum order of magnitude to sample\n",
        "MIN_OOM = -1 # minimum order of magnitude to sample"
      ]
    },
    {
      "cell_type": "code",
      "execution_count": 2,
      "metadata": {},
      "outputs": [],
      "source": [
        "# utils for model arithmetics\n",
        "from copy import deepcopy\n",
        "\n",
        "@torch.no_grad\n",
        "def iadd(a:nn.Module, b:nn.Module):\n",
        "    \"\"\"add the parameters of b to a, inplace\"\"\"\n",
        "    for a_param, b_param in zip(a.parameters(), b.parameters()):\n",
        "        a_param.data.add_(b_param.data)\n",
        "    return a\n",
        "\n",
        "@torch.no_grad\n",
        "def add(a_old:nn.Module, b:nn.Module):\n",
        "    \"\"\"add the parameters of b to a\"\"\"\n",
        "    a = deepcopy(a_old)\n",
        "    return iadd(a, b)\n",
        "\n",
        "@torch.no_grad\n",
        "def scale(a_old:nn.Module, b:float):\n",
        "    \"\"\"scale the parameters of a by b\"\"\"\n",
        "    a = deepcopy(a_old)\n",
        "    for a_param in a.parameters():\n",
        "        a_param.data.mul_(b)\n",
        "    return a\n",
        "\n",
        "@torch.no_grad\n",
        "def sub(a:nn.Module, b:nn.Module):\n",
        "    \"\"\"subtract the parameters of b from a\"\"\"\n",
        "    neg_b = scale(b, -1)\n",
        "    return iadd(neg_b, a)\n",
        "\n",
        "@torch.no_grad\n",
        "def abs(a:nn.Module):\n",
        "    \"\"\"return the norm of the parameters of a\"\"\"\n",
        "    return torch.norm(torch.cat([param.data.flatten() for param in a.parameters()]))\n",
        "\n",
        "@torch.no_grad\n",
        "def norm(a:nn.Module):\n",
        "    \"\"\"normalize the parameters of a\"\"\"\n",
        "    return scale(a, 1/abs(a))\n",
        "\n",
        "@torch.no_grad\n",
        "def rand_like(a:nn.Module):\n",
        "    \"\"\"random, normalised direction in the parameter space of a\"\"\"\n",
        "    new = deepcopy(a)\n",
        "    for param in new.parameters():\n",
        "        param.data = torch.randn_like(param.data)\n",
        "    \n",
        "    return norm(new)"
      ]
    },
    {
      "cell_type": "markdown",
      "metadata": {},
      "source": [
        "Define profiling context manager, measure execution time and GPU RAM usage before and after."
      ]
    },
    {
      "cell_type": "code",
      "execution_count": 20,
      "metadata": {},
      "outputs": [],
      "source": [
        "from time import perf_counter\n",
        "from contextlib import contextmanager\n",
        "\n",
        "@contextmanager\n",
        "def timer(description):\n",
        "    print(description)\n",
        "    if torch.cuda.is_available():\n",
        "        print(f'GPU RAM before exectution: Allocated: {torch.cuda.memory_allocated()/1e9:.2f}GB, Reserved: {torch.cuda.memory_reserved()/1e9:.2f}GB')\n",
        "    start = perf_counter()\n",
        "    yield\n",
        "    end = perf_counter()\n",
        "    if torch.cuda.is_available():\n",
        "        print(f'GPU RAM after exectution: Allocated: {torch.cuda.memory_allocated()/1e9:.2f}GB, Reserved: {torch.cuda.memory_reserved()/1e9:.2f}GB')\n",
        "    print(f'Finished {description} in {end-start:.2}s')"
      ]
    },
    {
      "cell_type": "code",
      "execution_count": 61,
      "metadata": {},
      "outputs": [
        {
          "name": "stdout",
          "output_type": "stream",
          "text": [
            "::::::::::::::::::::::::::::::::::::::test::::::::::::::::::::::::::::::::::::::\n",
            "1\n",
            "::::::::::::::::::::::::::::Finished test in 0.00 s:::::::::::::::::::::::::::::\n"
          ]
        }
      ],
      "source": [
        "from time import perf_counter\n",
        "from contextlib import contextmanager\n",
        "import torch\n",
        "\n",
        "@contextmanager\n",
        "def profiler(description, length=80, pad_char=':'):\n",
        "    print(description.center(length, pad_char))\n",
        "    if torch.cuda.is_available():\n",
        "        print(f'GPU RAM before execution: Allocated: {torch.cuda.memory_allocated()/1e9:.2f} GB | Reserved: {torch.cuda.memory_reserved()/1e9:.2f} GB')\n",
        "    start = perf_counter()\n",
        "    yield\n",
        "    if torch.cuda.is_available():\n",
        "        print(f'GPU RAM after execution:  Allocated: {torch.cuda.memory_allocated()/1e9:.2f} GB | Reserved: {torch.cuda.memory_reserved()/1e9:.2f} GB')\n",
        "    print(f'Finished {description} in {perf_counter() - start:.2f} s'.center(length, pad_char))"
      ]
    },
    {
      "cell_type": "code",
      "execution_count": 3,
      "metadata": {},
      "outputs": [],
      "source": [
        "from copy import deepcopy\n",
        "center_model = SimpleMLP()\n",
        "\n",
        "# create a model to find the gradient\n",
        "grad_model = deepcopy(center_model)\n",
        "grad_model = grad_model.to(device)\n",
        "\n",
        "optimizer = torch.optim.SGD(grad_model.parameters(), lr=1)\n",
        "optimizer.zero_grad()\n",
        "torch.set_grad_enabled(True)\n",
        "\n",
        "# take a single step of gradient descent\n",
        "# gradient accumulate over the whole dataset\n",
        "with profiler('1 step of gradient descent over the whole dataset'):\n",
        "    for data, target in dataloader:\n",
        "        data, target = data.to(device), target.to(device)\n",
        "        output = grad_model(data)\n",
        "        loss = criterion(output, target)\n",
        "        loss.backward()\n",
        "\n",
        "optimizer.step()\n",
        "# from this point on we wont need any gradients\n",
        "torch.set_grad_enabled(False)\n",
        "\n",
        "\n",
        "# calculate the direction of gradient decent from the center model\n",
        "grad_model = grad_model.to('cpu')\n",
        "dir_ascent = sub(center_model, grad_model)\n",
        "dir_ascent = norm(dir_ascent)\n",
        "dir_descent = scale(dir_ascent, -1)\n",
        "\n",
        "del grad_model\n"
      ]
    },
    {
      "cell_type": "code",
      "execution_count": 4,
      "metadata": {},
      "outputs": [],
      "source": [
        "radial = norm(center_model)\n",
        "\n",
        "dirs = {\n",
        "    'Ascent': dir_ascent,\n",
        "    'Descent': dir_descent,\n",
        "    'Radially Out': radial,\n",
        "    'Radially In': scale(radial,-1),\n",
        "    }\n",
        "\n",
        "# add random directions\n",
        "dirs.update({f'Random {i}': rand_like(center_model) for i in range(NUM_DIRS)})\n",
        "\n",
        "# check that they are all normalised\n",
        "assert all(torch.isclose(abs(d), torch.tensor(1.0)) for d in dirs.values())"
      ]
    },
    {
      "cell_type": "code",
      "execution_count": 5,
      "metadata": {},
      "outputs": [
        {
          "data": {
            "text/html": [
              "<div>\n",
              "<style scoped>\n",
              "    .dataframe tbody tr th:only-of-type {\n",
              "        vertical-align: middle;\n",
              "    }\n",
              "\n",
              "    .dataframe tbody tr th {\n",
              "        vertical-align: top;\n",
              "    }\n",
              "\n",
              "    .dataframe thead th {\n",
              "        text-align: right;\n",
              "    }\n",
              "</style>\n",
              "<table border=\"1\" class=\"dataframe\">\n",
              "  <thead>\n",
              "    <tr style=\"text-align: right;\">\n",
              "      <th></th>\n",
              "      <th></th>\n",
              "    </tr>\n",
              "    <tr>\n",
              "      <th>Direction</th>\n",
              "      <th>Distance</th>\n",
              "    </tr>\n",
              "  </thead>\n",
              "  <tbody>\n",
              "    <tr>\n",
              "      <th rowspan=\"5\" valign=\"top\">Ascent</th>\n",
              "      <th>0.062500</th>\n",
              "    </tr>\n",
              "    <tr>\n",
              "      <th>0.125000</th>\n",
              "    </tr>\n",
              "    <tr>\n",
              "      <th>0.250000</th>\n",
              "    </tr>\n",
              "    <tr>\n",
              "      <th>0.500000</th>\n",
              "    </tr>\n",
              "    <tr>\n",
              "      <th>1.000000</th>\n",
              "    </tr>\n",
              "    <tr>\n",
              "      <th rowspan=\"5\" valign=\"top\">Descent</th>\n",
              "      <th>0.070154</th>\n",
              "    </tr>\n",
              "    <tr>\n",
              "      <th>0.140308</th>\n",
              "    </tr>\n",
              "    <tr>\n",
              "      <th>0.280616</th>\n",
              "    </tr>\n",
              "    <tr>\n",
              "      <th>0.561231</th>\n",
              "    </tr>\n",
              "    <tr>\n",
              "      <th>1.122462</th>\n",
              "    </tr>\n",
              "    <tr>\n",
              "      <th rowspan=\"5\" valign=\"top\">Radially Out</th>\n",
              "      <th>0.078745</th>\n",
              "    </tr>\n",
              "    <tr>\n",
              "      <th>0.157490</th>\n",
              "    </tr>\n",
              "    <tr>\n",
              "      <th>0.314980</th>\n",
              "    </tr>\n",
              "    <tr>\n",
              "      <th>0.629961</th>\n",
              "    </tr>\n",
              "    <tr>\n",
              "      <th>1.259921</th>\n",
              "    </tr>\n",
              "    <tr>\n",
              "      <th rowspan=\"5\" valign=\"top\">Radially In</th>\n",
              "      <th>0.088388</th>\n",
              "    </tr>\n",
              "    <tr>\n",
              "      <th>0.176777</th>\n",
              "    </tr>\n",
              "    <tr>\n",
              "      <th>0.353553</th>\n",
              "    </tr>\n",
              "    <tr>\n",
              "      <th>0.707107</th>\n",
              "    </tr>\n",
              "    <tr>\n",
              "      <th>1.414214</th>\n",
              "    </tr>\n",
              "    <tr>\n",
              "      <th rowspan=\"5\" valign=\"top\">Random 0</th>\n",
              "      <th>0.099213</th>\n",
              "    </tr>\n",
              "    <tr>\n",
              "      <th>0.198425</th>\n",
              "    </tr>\n",
              "    <tr>\n",
              "      <th>0.396850</th>\n",
              "    </tr>\n",
              "    <tr>\n",
              "      <th>0.793701</th>\n",
              "    </tr>\n",
              "    <tr>\n",
              "      <th>1.587401</th>\n",
              "    </tr>\n",
              "    <tr>\n",
              "      <th rowspan=\"5\" valign=\"top\">Random 1</th>\n",
              "      <th>0.111362</th>\n",
              "    </tr>\n",
              "    <tr>\n",
              "      <th>0.222725</th>\n",
              "    </tr>\n",
              "    <tr>\n",
              "      <th>0.445449</th>\n",
              "    </tr>\n",
              "    <tr>\n",
              "      <th>0.890899</th>\n",
              "    </tr>\n",
              "    <tr>\n",
              "      <th>1.781797</th>\n",
              "    </tr>\n",
              "  </tbody>\n",
              "</table>\n",
              "</div>"
            ],
            "text/plain": [
              "Empty DataFrame\n",
              "Columns: []\n",
              "Index: [(Ascent, 0.0625), (Ascent, 0.125), (Ascent, 0.25), (Ascent, 0.5), (Ascent, 1.0), (Descent, 0.07015387801933581), (Descent, 0.14030775603867163), (Descent, 0.28061551207734325), (Descent, 0.5612310241546865), (Descent, 1.122462048309373), (Radially Out, 0.07874506561842957), (Radially Out, 0.15749013123685915), (Radially Out, 0.3149802624737183), (Radially Out, 0.6299605249474366), (Radially Out, 1.2599210498948732), (Radially In, 0.08838834764831845), (Radially In, 0.1767766952966369), (Radially In, 0.3535533905932738), (Radially In, 0.7071067811865476), (Radially In, 1.4142135623730951), (Random 0, 0.09921256574801246), (Random 0, 0.19842513149602492), (Random 0, 0.39685026299204984), (Random 0, 0.7937005259840997), (Random 0, 1.5874010519681994), (Random 1, 0.11136233976754241), (Random 1, 0.22272467953508482), (Random 1, 0.44544935907016964), (Random 1, 0.8908987181403393), (Random 1, 1.7817974362806785)]"
            ]
          },
          "execution_count": 5,
          "metadata": {},
          "output_type": "execute_result"
        }
      ],
      "source": [
        "import pandas as pd\n",
        "import numpy as np\n",
        "\n",
        "# convert to base 2\n",
        "POW_MIN_DIST = int(np.floor(MIN_OOM*np.log2(10)))\n",
        "POW_MAX_DIST = int(np.ceil(MAX_OOM*np.log2(10)))\n",
        "\n",
        "# will sample these distances\n",
        "scales = 2. ** np.arange(POW_MIN_DIST, POW_MAX_DIST + 1)\n",
        "\n",
        "# offset each direction by a different amount, so that we get a nice spread of distances, to avoid artefacts/robustness\n",
        "offset_per_direction = 2. ** np.linspace(0, 1, len(dirs), endpoint=False)\n",
        "\n",
        "# Initialize an empty list to hold tuples for MultiIndex\n",
        "index_list = []\n",
        "\n",
        "# Calculate distances using broadcasting\n",
        "distances = np.outer(scales, offset_per_direction).T.flatten()\n",
        "\n",
        "# Repeat directions accordingly\n",
        "directions = np.repeat(list(dirs.keys()), len(scales))\n",
        "\n",
        "# Create DataFrame directly from numpy arrays\n",
        "df = pd.DataFrame(index=pd.MultiIndex.from_arrays([directions, distances], names=['Direction', 'Distance']))\n",
        "\n",
        "df\n"
      ]
    },
    {
      "cell_type": "code",
      "execution_count": 6,
      "metadata": {},
      "outputs": [
        {
          "data": {
            "text/html": [
              "<div>\n",
              "<style scoped>\n",
              "    .dataframe tbody tr th:only-of-type {\n",
              "        vertical-align: middle;\n",
              "    }\n",
              "\n",
              "    .dataframe tbody tr th {\n",
              "        vertical-align: top;\n",
              "    }\n",
              "\n",
              "    .dataframe thead th {\n",
              "        text-align: right;\n",
              "    }\n",
              "</style>\n",
              "<table border=\"1\" class=\"dataframe\">\n",
              "  <thead>\n",
              "    <tr style=\"text-align: right;\">\n",
              "      <th></th>\n",
              "      <th></th>\n",
              "      <th>Model</th>\n",
              "    </tr>\n",
              "    <tr>\n",
              "      <th>Direction</th>\n",
              "      <th>Distance</th>\n",
              "      <th></th>\n",
              "    </tr>\n",
              "  </thead>\n",
              "  <tbody>\n",
              "    <tr>\n",
              "      <th rowspan=\"5\" valign=\"top\">Ascent</th>\n",
              "      <th>0.062500</th>\n",
              "      <td>SimpleMLP(\\n  (fc1): Linear(in_features=784, o...</td>\n",
              "    </tr>\n",
              "    <tr>\n",
              "      <th>0.125000</th>\n",
              "      <td>SimpleMLP(\\n  (fc1): Linear(in_features=784, o...</td>\n",
              "    </tr>\n",
              "    <tr>\n",
              "      <th>0.250000</th>\n",
              "      <td>SimpleMLP(\\n  (fc1): Linear(in_features=784, o...</td>\n",
              "    </tr>\n",
              "    <tr>\n",
              "      <th>0.500000</th>\n",
              "      <td>SimpleMLP(\\n  (fc1): Linear(in_features=784, o...</td>\n",
              "    </tr>\n",
              "    <tr>\n",
              "      <th>1.000000</th>\n",
              "      <td>SimpleMLP(\\n  (fc1): Linear(in_features=784, o...</td>\n",
              "    </tr>\n",
              "    <tr>\n",
              "      <th rowspan=\"5\" valign=\"top\">Descent</th>\n",
              "      <th>0.070154</th>\n",
              "      <td>SimpleMLP(\\n  (fc1): Linear(in_features=784, o...</td>\n",
              "    </tr>\n",
              "    <tr>\n",
              "      <th>0.140308</th>\n",
              "      <td>SimpleMLP(\\n  (fc1): Linear(in_features=784, o...</td>\n",
              "    </tr>\n",
              "    <tr>\n",
              "      <th>0.280616</th>\n",
              "      <td>SimpleMLP(\\n  (fc1): Linear(in_features=784, o...</td>\n",
              "    </tr>\n",
              "    <tr>\n",
              "      <th>0.561231</th>\n",
              "      <td>SimpleMLP(\\n  (fc1): Linear(in_features=784, o...</td>\n",
              "    </tr>\n",
              "    <tr>\n",
              "      <th>1.122462</th>\n",
              "      <td>SimpleMLP(\\n  (fc1): Linear(in_features=784, o...</td>\n",
              "    </tr>\n",
              "    <tr>\n",
              "      <th rowspan=\"5\" valign=\"top\">Radially Out</th>\n",
              "      <th>0.078745</th>\n",
              "      <td>SimpleMLP(\\n  (fc1): Linear(in_features=784, o...</td>\n",
              "    </tr>\n",
              "    <tr>\n",
              "      <th>0.157490</th>\n",
              "      <td>SimpleMLP(\\n  (fc1): Linear(in_features=784, o...</td>\n",
              "    </tr>\n",
              "    <tr>\n",
              "      <th>0.314980</th>\n",
              "      <td>SimpleMLP(\\n  (fc1): Linear(in_features=784, o...</td>\n",
              "    </tr>\n",
              "    <tr>\n",
              "      <th>0.629961</th>\n",
              "      <td>SimpleMLP(\\n  (fc1): Linear(in_features=784, o...</td>\n",
              "    </tr>\n",
              "    <tr>\n",
              "      <th>1.259921</th>\n",
              "      <td>SimpleMLP(\\n  (fc1): Linear(in_features=784, o...</td>\n",
              "    </tr>\n",
              "    <tr>\n",
              "      <th rowspan=\"5\" valign=\"top\">Radially In</th>\n",
              "      <th>0.088388</th>\n",
              "      <td>SimpleMLP(\\n  (fc1): Linear(in_features=784, o...</td>\n",
              "    </tr>\n",
              "    <tr>\n",
              "      <th>0.176777</th>\n",
              "      <td>SimpleMLP(\\n  (fc1): Linear(in_features=784, o...</td>\n",
              "    </tr>\n",
              "    <tr>\n",
              "      <th>0.353553</th>\n",
              "      <td>SimpleMLP(\\n  (fc1): Linear(in_features=784, o...</td>\n",
              "    </tr>\n",
              "    <tr>\n",
              "      <th>0.707107</th>\n",
              "      <td>SimpleMLP(\\n  (fc1): Linear(in_features=784, o...</td>\n",
              "    </tr>\n",
              "    <tr>\n",
              "      <th>1.414214</th>\n",
              "      <td>SimpleMLP(\\n  (fc1): Linear(in_features=784, o...</td>\n",
              "    </tr>\n",
              "    <tr>\n",
              "      <th rowspan=\"5\" valign=\"top\">Random 0</th>\n",
              "      <th>0.099213</th>\n",
              "      <td>SimpleMLP(\\n  (fc1): Linear(in_features=784, o...</td>\n",
              "    </tr>\n",
              "    <tr>\n",
              "      <th>0.198425</th>\n",
              "      <td>SimpleMLP(\\n  (fc1): Linear(in_features=784, o...</td>\n",
              "    </tr>\n",
              "    <tr>\n",
              "      <th>0.396850</th>\n",
              "      <td>SimpleMLP(\\n  (fc1): Linear(in_features=784, o...</td>\n",
              "    </tr>\n",
              "    <tr>\n",
              "      <th>0.793701</th>\n",
              "      <td>SimpleMLP(\\n  (fc1): Linear(in_features=784, o...</td>\n",
              "    </tr>\n",
              "    <tr>\n",
              "      <th>1.587401</th>\n",
              "      <td>SimpleMLP(\\n  (fc1): Linear(in_features=784, o...</td>\n",
              "    </tr>\n",
              "    <tr>\n",
              "      <th rowspan=\"5\" valign=\"top\">Random 1</th>\n",
              "      <th>0.111362</th>\n",
              "      <td>SimpleMLP(\\n  (fc1): Linear(in_features=784, o...</td>\n",
              "    </tr>\n",
              "    <tr>\n",
              "      <th>0.222725</th>\n",
              "      <td>SimpleMLP(\\n  (fc1): Linear(in_features=784, o...</td>\n",
              "    </tr>\n",
              "    <tr>\n",
              "      <th>0.445449</th>\n",
              "      <td>SimpleMLP(\\n  (fc1): Linear(in_features=784, o...</td>\n",
              "    </tr>\n",
              "    <tr>\n",
              "      <th>0.890899</th>\n",
              "      <td>SimpleMLP(\\n  (fc1): Linear(in_features=784, o...</td>\n",
              "    </tr>\n",
              "    <tr>\n",
              "      <th>1.781797</th>\n",
              "      <td>SimpleMLP(\\n  (fc1): Linear(in_features=784, o...</td>\n",
              "    </tr>\n",
              "  </tbody>\n",
              "</table>\n",
              "</div>"
            ],
            "text/plain": [
              "                                                                   Model\n",
              "Direction    Distance                                                   \n",
              "Ascent       0.062500  SimpleMLP(\\n  (fc1): Linear(in_features=784, o...\n",
              "             0.125000  SimpleMLP(\\n  (fc1): Linear(in_features=784, o...\n",
              "             0.250000  SimpleMLP(\\n  (fc1): Linear(in_features=784, o...\n",
              "             0.500000  SimpleMLP(\\n  (fc1): Linear(in_features=784, o...\n",
              "             1.000000  SimpleMLP(\\n  (fc1): Linear(in_features=784, o...\n",
              "Descent      0.070154  SimpleMLP(\\n  (fc1): Linear(in_features=784, o...\n",
              "             0.140308  SimpleMLP(\\n  (fc1): Linear(in_features=784, o...\n",
              "             0.280616  SimpleMLP(\\n  (fc1): Linear(in_features=784, o...\n",
              "             0.561231  SimpleMLP(\\n  (fc1): Linear(in_features=784, o...\n",
              "             1.122462  SimpleMLP(\\n  (fc1): Linear(in_features=784, o...\n",
              "Radially Out 0.078745  SimpleMLP(\\n  (fc1): Linear(in_features=784, o...\n",
              "             0.157490  SimpleMLP(\\n  (fc1): Linear(in_features=784, o...\n",
              "             0.314980  SimpleMLP(\\n  (fc1): Linear(in_features=784, o...\n",
              "             0.629961  SimpleMLP(\\n  (fc1): Linear(in_features=784, o...\n",
              "             1.259921  SimpleMLP(\\n  (fc1): Linear(in_features=784, o...\n",
              "Radially In  0.088388  SimpleMLP(\\n  (fc1): Linear(in_features=784, o...\n",
              "             0.176777  SimpleMLP(\\n  (fc1): Linear(in_features=784, o...\n",
              "             0.353553  SimpleMLP(\\n  (fc1): Linear(in_features=784, o...\n",
              "             0.707107  SimpleMLP(\\n  (fc1): Linear(in_features=784, o...\n",
              "             1.414214  SimpleMLP(\\n  (fc1): Linear(in_features=784, o...\n",
              "Random 0     0.099213  SimpleMLP(\\n  (fc1): Linear(in_features=784, o...\n",
              "             0.198425  SimpleMLP(\\n  (fc1): Linear(in_features=784, o...\n",
              "             0.396850  SimpleMLP(\\n  (fc1): Linear(in_features=784, o...\n",
              "             0.793701  SimpleMLP(\\n  (fc1): Linear(in_features=784, o...\n",
              "             1.587401  SimpleMLP(\\n  (fc1): Linear(in_features=784, o...\n",
              "Random 1     0.111362  SimpleMLP(\\n  (fc1): Linear(in_features=784, o...\n",
              "             0.222725  SimpleMLP(\\n  (fc1): Linear(in_features=784, o...\n",
              "             0.445449  SimpleMLP(\\n  (fc1): Linear(in_features=784, o...\n",
              "             0.890899  SimpleMLP(\\n  (fc1): Linear(in_features=784, o...\n",
              "             1.781797  SimpleMLP(\\n  (fc1): Linear(in_features=784, o..."
            ]
          },
          "execution_count": 6,
          "metadata": {},
          "output_type": "execute_result"
        }
      ],
      "source": [
        "# fill the dataframe with the models\n",
        "for dir_name, dist in df.index:\n",
        "    shift = scale(dirs[dir_name], dist)     # shift = direction * distance\n",
        "    location = iadd(shift, center_model)    # location = center + shift\n",
        "    df.loc[(dir_name, dist), 'Model'] = location\n",
        "\n",
        "df"
      ]
    },
    {
      "cell_type": "markdown",
      "metadata": {},
      "source": [
        "Parallel evaluation with vmap()\n"
      ]
    },
    {
      "cell_type": "code",
      "execution_count": 14,
      "metadata": {},
      "outputs": [
        {
          "name": "stdout",
          "output_type": "stream",
          "text": [
            "Moving stacked ensemble to cpu, finished in 0.00s\n",
            "Evaluating stacked ensemble on cpu"
          ]
        },
        {
          "name": "stdout",
          "output_type": "stream",
          "text": [
            ", finished in 25.24s\n",
            "Loss: tensor([2.3049, 2.3354, 2.3658, 2.4234, 2.5256, 2.7241, 2.2715, 2.2400, 2.1833,\n",
            "        2.0901, 1.9345, 2.3050, 2.3051, 2.3052, 2.3056, 2.3065, 2.3049, 2.3048,\n",
            "        2.3047, 2.3045, 2.3042, 2.3048, 2.3048, 2.3046, 2.3044, 2.3042, 2.3051,\n",
            "        2.3052, 2.3055, 2.3062, 2.3078], dtype=torch.float64)\n"
          ]
        }
      ],
      "source": [
        "import torch\n",
        "from torch.func import stack_module_state, functional_call\n",
        "from torch import vmap\n",
        "from time import perf_counter\n",
        "from contextlib import contextmanager\n",
        "from copy import deepcopy\n",
        "\n",
        "\n",
        "ensemble_list = [center_model] + list(df['Model'])\n",
        "params, buffers = stack_module_state(ensemble_list)\n",
        "\n",
        "device = torch.device('cuda' if torch.cuda.is_available() else 'cpu')\n",
        "\n",
        "with profiler(f'Moving stacked ensemble to {device}'):\n",
        "    params = {name: tensor.to(device) for name, tensor in params.items()}\n",
        "    buffers = {name: tensor.to(device) for name, tensor in buffers.items()}\n",
        "\n",
        "stacked_ensemble = (params, buffers)\n",
        "\n",
        "meta_model = deepcopy(df['Model'][0])\n",
        "meta_model = meta_model.to('meta')\n",
        "\n",
        "# Define the function to vmap over\n",
        "def model_function(params_and_buffers, x):\n",
        "    return functional_call(meta_model, params_and_buffers, (x,))\n",
        "\n",
        "batch_losses = []\n",
        "\n",
        "with profiler(f'Evaluating stacked ensemble on {device}'):\n",
        "    for data, target in dataloader:\n",
        "        data, target = data.to(device), target.to(device)\n",
        "        \n",
        "        # Compute predictions for all models in the ensemble using vmap\n",
        "        predictions = vmap(model_function, in_dims=(0, None))(stacked_ensemble, data)\n",
        "        \n",
        "        # Increase precision of predictions before computing the loss\n",
        "        predictions = predictions.double()\n",
        "        \n",
        "        # Compute the loss\n",
        "        # Use vmap again to compute the loss for each model separately\n",
        "        losses = vmap(criterion, in_dims=(0, None))(predictions, target)\n",
        "        \n",
        "        batch_losses.append(losses)\n",
        "\n",
        "# Stack all the losses and compute the mean across batches but not models\n",
        "loss_tensor = torch.mean(torch.stack(batch_losses), dim=0)\n",
        "\n",
        "# Free VRAM\n",
        "del stacked_ensemble\n",
        "torch.cuda.empty_cache()"
      ]
    },
    {
      "cell_type": "code",
      "execution_count": 15,
      "metadata": {
        "id": "of195MzFwzdG"
      },
      "outputs": [
        {
          "name": "stdout",
          "output_type": "stream",
          "text": [
            "Moving stacked ensemble to cpu, finished in 0.00011s\n",
            "Evaluating stacked ensemble on cpu"
          ]
        },
        {
          "name": "stdout",
          "output_type": "stream",
          "text": [
            ", finished in 2.4e+01s\n"
          ]
        }
      ],
      "source": [
        "from torch.func import stack_module_state\n",
        "from torch.func import functional_call\n",
        "from torch.nn.functional import cross_entropy\n",
        "from torch import vmap\n",
        "\n",
        "# add the center model\n",
        "ensemble = [center_model] + list(df['Model'])\n",
        "\n",
        "# stack to prepare for vmap\n",
        "params, buffers = stack_module_state(ensemble)\n",
        "\n",
        "with profiler(f'Moving stacked ensemble to {device}'):\n",
        "    # Move parameters to the specified device\n",
        "    params = {name: tensor.to(device) for name, tensor in params.items()}\n",
        "    # Move buffers to the specified device\n",
        "    buffers = {name: tensor.to(device) for name, tensor in buffers.items()}\n",
        "\n",
        "\n",
        "stacked_ensemble = (params, buffers)\n",
        "\n",
        "# Construct a \"stateless\" version of one of the models. It is \"stateless\" in\n",
        "# the sense that the parameters are meta Tensors and do not have storage.\n",
        "meta_model = deepcopy(df['Model'][0])\n",
        "meta_model = meta_model.to('meta')\n",
        "\n",
        "def meta_model_loss(params_and_buffers, data, target):\n",
        "    predictions = functional_call(meta_model, params_and_buffers, (data,))\n",
        "    predictions = predictions.double()\n",
        "    loss = criterion(predictions, target)  # Compute loss per sample\n",
        "    return loss\n",
        "\n",
        "ensembled_loss = vmap(meta_model_loss, in_dims=(0, None, None)) # adds an ensemble dimension to the first two arguments (params, buffers)\n",
        "# data and target are not ensembled over, so we don't add an ensemble dimension for them\n",
        "batch_losses = []\n",
        "\n",
        "with profiler(f'Evaluating stacked ensemble on {device}'):\n",
        "    for data, target in dataloader:\n",
        "        data, target = data.to(device), target.to(device)\n",
        "        batch_loss = ensembled_loss(stacked_ensemble, data, target)\n",
        "        batch_losses.append(batch_loss)\n",
        "\n",
        "loss_tensor = torch.mean(torch.stack(batch_losses), dim=0)\n",
        "\n",
        "# free the VRAM. stacked_ensemble takes up a LOT of space (tens of GB), but I'm not sure why.\n",
        "# The models should be small even all together, but I think that the vmap-ensemble is duplicating the data batch for each model.\n",
        "# I looks like memory is around len(ensemble) * BATCH_SIZE * 4 bytes. Why is it scaling with the number of models?!\n",
        "# Shouldn't it len(ensemble) * sizeof(model) + BATCH_SIZE * 4 bytes? Why does vmap duplicate the data for each model?\n",
        "# print VRAM usage\n",
        "del stacked_ensemble\n",
        "torch.cuda.empty_cache()"
      ]
    },
    {
      "cell_type": "code",
      "execution_count": null,
      "metadata": {},
      "outputs": [
        {
          "data": {
            "text/html": [
              "<div>\n",
              "<style scoped>\n",
              "    .dataframe tbody tr th:only-of-type {\n",
              "        vertical-align: middle;\n",
              "    }\n",
              "\n",
              "    .dataframe tbody tr th {\n",
              "        vertical-align: top;\n",
              "    }\n",
              "\n",
              "    .dataframe thead th {\n",
              "        text-align: right;\n",
              "    }\n",
              "</style>\n",
              "<table border=\"1\" class=\"dataframe\">\n",
              "  <thead>\n",
              "    <tr style=\"text-align: right;\">\n",
              "      <th></th>\n",
              "      <th></th>\n",
              "      <th>Model</th>\n",
              "      <th>Loss</th>\n",
              "    </tr>\n",
              "    <tr>\n",
              "      <th>Direction</th>\n",
              "      <th>Distance</th>\n",
              "      <th></th>\n",
              "      <th></th>\n",
              "    </tr>\n",
              "  </thead>\n",
              "  <tbody>\n",
              "    <tr>\n",
              "      <th rowspan=\"6\" valign=\"top\">Ascent</th>\n",
              "      <th>0.000000</th>\n",
              "      <td>NaN</td>\n",
              "      <td>2.310358</td>\n",
              "    </tr>\n",
              "    <tr>\n",
              "      <th>0.062500</th>\n",
              "      <td>SimpleMLP(\\n  (fc1): Linear(in_features=784, o...</td>\n",
              "      <td>2.340195</td>\n",
              "    </tr>\n",
              "    <tr>\n",
              "      <th>0.125000</th>\n",
              "      <td>SimpleMLP(\\n  (fc1): Linear(in_features=784, o...</td>\n",
              "      <td>2.370295</td>\n",
              "    </tr>\n",
              "    <tr>\n",
              "      <th>0.250000</th>\n",
              "      <td>SimpleMLP(\\n  (fc1): Linear(in_features=784, o...</td>\n",
              "      <td>2.430307</td>\n",
              "    </tr>\n",
              "    <tr>\n",
              "      <th>0.500000</th>\n",
              "      <td>SimpleMLP(\\n  (fc1): Linear(in_features=784, o...</td>\n",
              "      <td>2.553088</td>\n",
              "    </tr>\n",
              "    <tr>\n",
              "      <th>1.000000</th>\n",
              "      <td>SimpleMLP(\\n  (fc1): Linear(in_features=784, o...</td>\n",
              "      <td>2.865200</td>\n",
              "    </tr>\n",
              "    <tr>\n",
              "      <th rowspan=\"6\" valign=\"top\">Descent</th>\n",
              "      <th>0.000000</th>\n",
              "      <td>NaN</td>\n",
              "      <td>2.310358</td>\n",
              "    </tr>\n",
              "    <tr>\n",
              "      <th>0.070154</th>\n",
              "      <td>SimpleMLP(\\n  (fc1): Linear(in_features=784, o...</td>\n",
              "      <td>2.278104</td>\n",
              "    </tr>\n",
              "    <tr>\n",
              "      <th>0.140308</th>\n",
              "      <td>SimpleMLP(\\n  (fc1): Linear(in_features=784, o...</td>\n",
              "      <td>2.248296</td>\n",
              "    </tr>\n",
              "    <tr>\n",
              "      <th>0.280616</th>\n",
              "      <td>SimpleMLP(\\n  (fc1): Linear(in_features=784, o...</td>\n",
              "      <td>2.198165</td>\n",
              "    </tr>\n",
              "    <tr>\n",
              "      <th>0.561231</th>\n",
              "      <td>SimpleMLP(\\n  (fc1): Linear(in_features=784, o...</td>\n",
              "      <td>2.126046</td>\n",
              "    </tr>\n",
              "    <tr>\n",
              "      <th>1.122462</th>\n",
              "      <td>SimpleMLP(\\n  (fc1): Linear(in_features=784, o...</td>\n",
              "      <td>2.023995</td>\n",
              "    </tr>\n",
              "    <tr>\n",
              "      <th rowspan=\"6\" valign=\"top\">Radially In</th>\n",
              "      <th>0.000000</th>\n",
              "      <td>NaN</td>\n",
              "      <td>2.310358</td>\n",
              "    </tr>\n",
              "    <tr>\n",
              "      <th>0.088388</th>\n",
              "      <td>SimpleMLP(\\n  (fc1): Linear(in_features=784, o...</td>\n",
              "      <td>2.310013</td>\n",
              "    </tr>\n",
              "    <tr>\n",
              "      <th>0.176777</th>\n",
              "      <td>SimpleMLP(\\n  (fc1): Linear(in_features=784, o...</td>\n",
              "      <td>2.309682</td>\n",
              "    </tr>\n",
              "    <tr>\n",
              "      <th>0.353553</th>\n",
              "      <td>SimpleMLP(\\n  (fc1): Linear(in_features=784, o...</td>\n",
              "      <td>2.309056</td>\n",
              "    </tr>\n",
              "    <tr>\n",
              "      <th>0.707107</th>\n",
              "      <td>SimpleMLP(\\n  (fc1): Linear(in_features=784, o...</td>\n",
              "      <td>2.307946</td>\n",
              "    </tr>\n",
              "    <tr>\n",
              "      <th>1.414214</th>\n",
              "      <td>SimpleMLP(\\n  (fc1): Linear(in_features=784, o...</td>\n",
              "      <td>2.306200</td>\n",
              "    </tr>\n",
              "    <tr>\n",
              "      <th rowspan=\"6\" valign=\"top\">Radially Out</th>\n",
              "      <th>0.000000</th>\n",
              "      <td>NaN</td>\n",
              "      <td>2.310358</td>\n",
              "    </tr>\n",
              "    <tr>\n",
              "      <th>0.078745</th>\n",
              "      <td>SimpleMLP(\\n  (fc1): Linear(in_features=784, o...</td>\n",
              "      <td>2.310676</td>\n",
              "    </tr>\n",
              "    <tr>\n",
              "      <th>0.157490</th>\n",
              "      <td>SimpleMLP(\\n  (fc1): Linear(in_features=784, o...</td>\n",
              "      <td>2.311006</td>\n",
              "    </tr>\n",
              "    <tr>\n",
              "      <th>0.314980</th>\n",
              "      <td>SimpleMLP(\\n  (fc1): Linear(in_features=784, o...</td>\n",
              "      <td>2.311699</td>\n",
              "    </tr>\n",
              "    <tr>\n",
              "      <th>0.629961</th>\n",
              "      <td>SimpleMLP(\\n  (fc1): Linear(in_features=784, o...</td>\n",
              "      <td>2.313234</td>\n",
              "    </tr>\n",
              "    <tr>\n",
              "      <th>1.259921</th>\n",
              "      <td>SimpleMLP(\\n  (fc1): Linear(in_features=784, o...</td>\n",
              "      <td>2.316978</td>\n",
              "    </tr>\n",
              "    <tr>\n",
              "      <th rowspan=\"6\" valign=\"top\">Random 0</th>\n",
              "      <th>0.000000</th>\n",
              "      <td>NaN</td>\n",
              "      <td>2.310358</td>\n",
              "    </tr>\n",
              "    <tr>\n",
              "      <th>0.099213</th>\n",
              "      <td>SimpleMLP(\\n  (fc1): Linear(in_features=784, o...</td>\n",
              "      <td>2.310546</td>\n",
              "    </tr>\n",
              "    <tr>\n",
              "      <th>0.198425</th>\n",
              "      <td>SimpleMLP(\\n  (fc1): Linear(in_features=784, o...</td>\n",
              "      <td>2.310730</td>\n",
              "    </tr>\n",
              "    <tr>\n",
              "      <th>0.396850</th>\n",
              "      <td>SimpleMLP(\\n  (fc1): Linear(in_features=784, o...</td>\n",
              "      <td>2.311086</td>\n",
              "    </tr>\n",
              "    <tr>\n",
              "      <th>0.793701</th>\n",
              "      <td>SimpleMLP(\\n  (fc1): Linear(in_features=784, o...</td>\n",
              "      <td>2.311760</td>\n",
              "    </tr>\n",
              "    <tr>\n",
              "      <th>1.587401</th>\n",
              "      <td>SimpleMLP(\\n  (fc1): Linear(in_features=784, o...</td>\n",
              "      <td>2.312962</td>\n",
              "    </tr>\n",
              "    <tr>\n",
              "      <th rowspan=\"6\" valign=\"top\">Random 1</th>\n",
              "      <th>0.000000</th>\n",
              "      <td>NaN</td>\n",
              "      <td>2.310358</td>\n",
              "    </tr>\n",
              "    <tr>\n",
              "      <th>0.111362</th>\n",
              "      <td>SimpleMLP(\\n  (fc1): Linear(in_features=784, o...</td>\n",
              "      <td>2.310331</td>\n",
              "    </tr>\n",
              "    <tr>\n",
              "      <th>0.222725</th>\n",
              "      <td>SimpleMLP(\\n  (fc1): Linear(in_features=784, o...</td>\n",
              "      <td>2.310304</td>\n",
              "    </tr>\n",
              "    <tr>\n",
              "      <th>0.445449</th>\n",
              "      <td>SimpleMLP(\\n  (fc1): Linear(in_features=784, o...</td>\n",
              "      <td>2.310250</td>\n",
              "    </tr>\n",
              "    <tr>\n",
              "      <th>0.890899</th>\n",
              "      <td>SimpleMLP(\\n  (fc1): Linear(in_features=784, o...</td>\n",
              "      <td>2.310140</td>\n",
              "    </tr>\n",
              "    <tr>\n",
              "      <th>1.781797</th>\n",
              "      <td>SimpleMLP(\\n  (fc1): Linear(in_features=784, o...</td>\n",
              "      <td>2.309943</td>\n",
              "    </tr>\n",
              "  </tbody>\n",
              "</table>\n",
              "</div>"
            ],
            "text/plain": [
              "                                                                   Model  \\\n",
              "Direction    Distance                                                      \n",
              "Ascent       0.000000                                                NaN   \n",
              "             0.062500  SimpleMLP(\\n  (fc1): Linear(in_features=784, o...   \n",
              "             0.125000  SimpleMLP(\\n  (fc1): Linear(in_features=784, o...   \n",
              "             0.250000  SimpleMLP(\\n  (fc1): Linear(in_features=784, o...   \n",
              "             0.500000  SimpleMLP(\\n  (fc1): Linear(in_features=784, o...   \n",
              "             1.000000  SimpleMLP(\\n  (fc1): Linear(in_features=784, o...   \n",
              "Descent      0.000000                                                NaN   \n",
              "             0.070154  SimpleMLP(\\n  (fc1): Linear(in_features=784, o...   \n",
              "             0.140308  SimpleMLP(\\n  (fc1): Linear(in_features=784, o...   \n",
              "             0.280616  SimpleMLP(\\n  (fc1): Linear(in_features=784, o...   \n",
              "             0.561231  SimpleMLP(\\n  (fc1): Linear(in_features=784, o...   \n",
              "             1.122462  SimpleMLP(\\n  (fc1): Linear(in_features=784, o...   \n",
              "Radially In  0.000000                                                NaN   \n",
              "             0.088388  SimpleMLP(\\n  (fc1): Linear(in_features=784, o...   \n",
              "             0.176777  SimpleMLP(\\n  (fc1): Linear(in_features=784, o...   \n",
              "             0.353553  SimpleMLP(\\n  (fc1): Linear(in_features=784, o...   \n",
              "             0.707107  SimpleMLP(\\n  (fc1): Linear(in_features=784, o...   \n",
              "             1.414214  SimpleMLP(\\n  (fc1): Linear(in_features=784, o...   \n",
              "Radially Out 0.000000                                                NaN   \n",
              "             0.078745  SimpleMLP(\\n  (fc1): Linear(in_features=784, o...   \n",
              "             0.157490  SimpleMLP(\\n  (fc1): Linear(in_features=784, o...   \n",
              "             0.314980  SimpleMLP(\\n  (fc1): Linear(in_features=784, o...   \n",
              "             0.629961  SimpleMLP(\\n  (fc1): Linear(in_features=784, o...   \n",
              "             1.259921  SimpleMLP(\\n  (fc1): Linear(in_features=784, o...   \n",
              "Random 0     0.000000                                                NaN   \n",
              "             0.099213  SimpleMLP(\\n  (fc1): Linear(in_features=784, o...   \n",
              "             0.198425  SimpleMLP(\\n  (fc1): Linear(in_features=784, o...   \n",
              "             0.396850  SimpleMLP(\\n  (fc1): Linear(in_features=784, o...   \n",
              "             0.793701  SimpleMLP(\\n  (fc1): Linear(in_features=784, o...   \n",
              "             1.587401  SimpleMLP(\\n  (fc1): Linear(in_features=784, o...   \n",
              "Random 1     0.000000                                                NaN   \n",
              "             0.111362  SimpleMLP(\\n  (fc1): Linear(in_features=784, o...   \n",
              "             0.222725  SimpleMLP(\\n  (fc1): Linear(in_features=784, o...   \n",
              "             0.445449  SimpleMLP(\\n  (fc1): Linear(in_features=784, o...   \n",
              "             0.890899  SimpleMLP(\\n  (fc1): Linear(in_features=784, o...   \n",
              "             1.781797  SimpleMLP(\\n  (fc1): Linear(in_features=784, o...   \n",
              "\n",
              "                           Loss  \n",
              "Direction    Distance            \n",
              "Ascent       0.000000  2.310358  \n",
              "             0.062500  2.340195  \n",
              "             0.125000  2.370295  \n",
              "             0.250000  2.430307  \n",
              "             0.500000  2.553088  \n",
              "             1.000000  2.865200  \n",
              "Descent      0.000000  2.310358  \n",
              "             0.070154  2.278104  \n",
              "             0.140308  2.248296  \n",
              "             0.280616  2.198165  \n",
              "             0.561231  2.126046  \n",
              "             1.122462  2.023995  \n",
              "Radially In  0.000000  2.310358  \n",
              "             0.088388  2.310013  \n",
              "             0.176777  2.309682  \n",
              "             0.353553  2.309056  \n",
              "             0.707107  2.307946  \n",
              "             1.414214  2.306200  \n",
              "Radially Out 0.000000  2.310358  \n",
              "             0.078745  2.310676  \n",
              "             0.157490  2.311006  \n",
              "             0.314980  2.311699  \n",
              "             0.629961  2.313234  \n",
              "             1.259921  2.316978  \n",
              "Random 0     0.000000  2.310358  \n",
              "             0.099213  2.310546  \n",
              "             0.198425  2.310730  \n",
              "             0.396850  2.311086  \n",
              "             0.793701  2.311760  \n",
              "             1.587401  2.312962  \n",
              "Random 1     0.000000  2.310358  \n",
              "             0.111362  2.310331  \n",
              "             0.222725  2.310304  \n",
              "             0.445449  2.310250  \n",
              "             0.890899  2.310140  \n",
              "             1.781797  2.309943  "
            ]
          },
          "execution_count": 8,
          "metadata": {},
          "output_type": "execute_result"
        }
      ],
      "source": [
        "# Convert the loss tensor to a list and unpack\n",
        "center_loss, *dir_losses = loss_tensor.tolist()\n",
        "\n",
        "# Ensure the length of dir_losses matches the DataFrame length\n",
        "assert len(dir_losses) == len(df)\n",
        "\n",
        "# Add the directional losses to the DataFrame\n",
        "df['Loss'] = dir_losses\n",
        "\n",
        "# Add the center_loss to each Direction, for Distance=0\n",
        "for direction in df.index.get_level_values('Direction').unique():\n",
        "    df.loc[(direction, 0.0), 'Loss'] = center_loss\n",
        "\n",
        "df.sort_index(inplace=True)\n",
        "\n",
        "df"
      ]
    },
    {
      "cell_type": "code",
      "execution_count": null,
      "metadata": {},
      "outputs": [
        {
          "data": {
            "application/vnd.plotly.v1+json": {
              "config": {
                "plotlyServerURL": "https://plot.ly"
              },
              "data": [
                {
                  "mode": "lines+markers",
                  "name": "Ascent",
                  "type": "scatter",
                  "x": [
                    0,
                    0.0625,
                    0.125,
                    0.25,
                    0.5,
                    1
                  ],
                  "y": [
                    2.310357808683198,
                    2.3401946832404548,
                    2.3702954392133284,
                    2.430306692417406,
                    2.5530884066444024,
                    2.8651996019460273
                  ]
                },
                {
                  "mode": "lines+markers",
                  "name": "Descent",
                  "type": "scatter",
                  "x": [
                    0,
                    0.07015387801933581,
                    0.14030775603867163,
                    0.28061551207734325,
                    0.5612310241546865,
                    1.122462048309373
                  ],
                  "y": [
                    2.310357808683198,
                    2.278103720231211,
                    2.2482956703642025,
                    2.198164855829576,
                    2.1260458470434083,
                    2.0239949509491373
                  ]
                },
                {
                  "mode": "lines+markers",
                  "name": "Radially In",
                  "type": "scatter",
                  "x": [
                    0,
                    0.08838834764831845,
                    0.1767766952966369,
                    0.3535533905932738,
                    0.7071067811865476,
                    1.4142135623730951
                  ],
                  "y": [
                    2.310357808683198,
                    2.310013249954191,
                    2.3096817778029157,
                    2.30905646357734,
                    2.3079455831966316,
                    2.30620023150392
                  ]
                },
                {
                  "mode": "lines+markers",
                  "name": "Radially Out",
                  "type": "scatter",
                  "x": [
                    0,
                    0.07874506561842957,
                    0.15749013123685915,
                    0.3149802624737183,
                    0.6299605249474366,
                    1.2599210498948732
                  ],
                  "y": [
                    2.310357808683198,
                    2.3106761980101953,
                    2.3110057031993727,
                    2.311699301927112,
                    2.3132339743824355,
                    2.3169779069227254
                  ]
                },
                {
                  "mode": "lines+markers",
                  "name": "Random 0",
                  "type": "scatter",
                  "x": [
                    0,
                    0.09921256574801246,
                    0.19842513149602492,
                    0.39685026299204984,
                    0.7937005259840997,
                    1.5874010519681994
                  ],
                  "y": [
                    2.310357808683198,
                    2.3105455364374476,
                    2.3107302822482123,
                    2.3110862981904505,
                    2.3117600094901847,
                    2.3129622456801138
                  ]
                },
                {
                  "mode": "lines+markers",
                  "name": "Random 1",
                  "type": "scatter",
                  "x": [
                    0,
                    0.11136233976754241,
                    0.22272467953508482,
                    0.44544935907016964,
                    0.8908987181403393,
                    1.7817974362806785
                  ],
                  "y": [
                    2.310357808683198,
                    2.3103309458472543,
                    2.310304326026335,
                    2.310250007252084,
                    2.3101403311050355,
                    2.3099428892778904
                  ]
                }
              ],
              "layout": {
                "height": 600,
                "legend": {
                  "title": {
                    "text": "Direction"
                  }
                },
                "template": {
                  "data": {
                    "bar": [
                      {
                        "error_x": {
                          "color": "rgb(36,36,36)"
                        },
                        "error_y": {
                          "color": "rgb(36,36,36)"
                        },
                        "marker": {
                          "line": {
                            "color": "rgb(234,234,242)",
                            "width": 0.5
                          },
                          "pattern": {
                            "fillmode": "overlay",
                            "size": 10,
                            "solidity": 0.2
                          }
                        },
                        "type": "bar"
                      }
                    ],
                    "barpolar": [
                      {
                        "marker": {
                          "line": {
                            "color": "rgb(234,234,242)",
                            "width": 0.5
                          },
                          "pattern": {
                            "fillmode": "overlay",
                            "size": 10,
                            "solidity": 0.2
                          }
                        },
                        "type": "barpolar"
                      }
                    ],
                    "carpet": [
                      {
                        "aaxis": {
                          "endlinecolor": "rgb(36,36,36)",
                          "gridcolor": "white",
                          "linecolor": "white",
                          "minorgridcolor": "white",
                          "startlinecolor": "rgb(36,36,36)"
                        },
                        "baxis": {
                          "endlinecolor": "rgb(36,36,36)",
                          "gridcolor": "white",
                          "linecolor": "white",
                          "minorgridcolor": "white",
                          "startlinecolor": "rgb(36,36,36)"
                        },
                        "type": "carpet"
                      }
                    ],
                    "choropleth": [
                      {
                        "colorbar": {
                          "outlinewidth": 0,
                          "tickcolor": "rgb(36,36,36)",
                          "ticklen": 8,
                          "ticks": "outside",
                          "tickwidth": 2
                        },
                        "type": "choropleth"
                      }
                    ],
                    "contour": [
                      {
                        "colorbar": {
                          "outlinewidth": 0,
                          "tickcolor": "rgb(36,36,36)",
                          "ticklen": 8,
                          "ticks": "outside",
                          "tickwidth": 2
                        },
                        "colorscale": [
                          [
                            0,
                            "rgb(2,4,25)"
                          ],
                          [
                            0.06274509803921569,
                            "rgb(24,15,41)"
                          ],
                          [
                            0.12549019607843137,
                            "rgb(47,23,57)"
                          ],
                          [
                            0.18823529411764706,
                            "rgb(71,28,72)"
                          ],
                          [
                            0.25098039215686274,
                            "rgb(97,30,82)"
                          ],
                          [
                            0.3137254901960784,
                            "rgb(123,30,89)"
                          ],
                          [
                            0.3764705882352941,
                            "rgb(150,27,91)"
                          ],
                          [
                            0.4392156862745098,
                            "rgb(177,22,88)"
                          ],
                          [
                            0.5019607843137255,
                            "rgb(203,26,79)"
                          ],
                          [
                            0.5647058823529412,
                            "rgb(223,47,67)"
                          ],
                          [
                            0.6274509803921569,
                            "rgb(236,76,61)"
                          ],
                          [
                            0.6901960784313725,
                            "rgb(242,107,73)"
                          ],
                          [
                            0.7529411764705882,
                            "rgb(244,135,95)"
                          ],
                          [
                            0.8156862745098039,
                            "rgb(245,162,122)"
                          ],
                          [
                            0.8784313725490196,
                            "rgb(246,188,153)"
                          ],
                          [
                            0.9411764705882353,
                            "rgb(247,212,187)"
                          ],
                          [
                            1,
                            "rgb(250,234,220)"
                          ]
                        ],
                        "type": "contour"
                      }
                    ],
                    "contourcarpet": [
                      {
                        "colorbar": {
                          "outlinewidth": 0,
                          "tickcolor": "rgb(36,36,36)",
                          "ticklen": 8,
                          "ticks": "outside",
                          "tickwidth": 2
                        },
                        "type": "contourcarpet"
                      }
                    ],
                    "heatmap": [
                      {
                        "colorbar": {
                          "outlinewidth": 0,
                          "tickcolor": "rgb(36,36,36)",
                          "ticklen": 8,
                          "ticks": "outside",
                          "tickwidth": 2
                        },
                        "colorscale": [
                          [
                            0,
                            "rgb(2,4,25)"
                          ],
                          [
                            0.06274509803921569,
                            "rgb(24,15,41)"
                          ],
                          [
                            0.12549019607843137,
                            "rgb(47,23,57)"
                          ],
                          [
                            0.18823529411764706,
                            "rgb(71,28,72)"
                          ],
                          [
                            0.25098039215686274,
                            "rgb(97,30,82)"
                          ],
                          [
                            0.3137254901960784,
                            "rgb(123,30,89)"
                          ],
                          [
                            0.3764705882352941,
                            "rgb(150,27,91)"
                          ],
                          [
                            0.4392156862745098,
                            "rgb(177,22,88)"
                          ],
                          [
                            0.5019607843137255,
                            "rgb(203,26,79)"
                          ],
                          [
                            0.5647058823529412,
                            "rgb(223,47,67)"
                          ],
                          [
                            0.6274509803921569,
                            "rgb(236,76,61)"
                          ],
                          [
                            0.6901960784313725,
                            "rgb(242,107,73)"
                          ],
                          [
                            0.7529411764705882,
                            "rgb(244,135,95)"
                          ],
                          [
                            0.8156862745098039,
                            "rgb(245,162,122)"
                          ],
                          [
                            0.8784313725490196,
                            "rgb(246,188,153)"
                          ],
                          [
                            0.9411764705882353,
                            "rgb(247,212,187)"
                          ],
                          [
                            1,
                            "rgb(250,234,220)"
                          ]
                        ],
                        "type": "heatmap"
                      }
                    ],
                    "heatmapgl": [
                      {
                        "colorbar": {
                          "outlinewidth": 0,
                          "tickcolor": "rgb(36,36,36)",
                          "ticklen": 8,
                          "ticks": "outside",
                          "tickwidth": 2
                        },
                        "colorscale": [
                          [
                            0,
                            "rgb(2,4,25)"
                          ],
                          [
                            0.06274509803921569,
                            "rgb(24,15,41)"
                          ],
                          [
                            0.12549019607843137,
                            "rgb(47,23,57)"
                          ],
                          [
                            0.18823529411764706,
                            "rgb(71,28,72)"
                          ],
                          [
                            0.25098039215686274,
                            "rgb(97,30,82)"
                          ],
                          [
                            0.3137254901960784,
                            "rgb(123,30,89)"
                          ],
                          [
                            0.3764705882352941,
                            "rgb(150,27,91)"
                          ],
                          [
                            0.4392156862745098,
                            "rgb(177,22,88)"
                          ],
                          [
                            0.5019607843137255,
                            "rgb(203,26,79)"
                          ],
                          [
                            0.5647058823529412,
                            "rgb(223,47,67)"
                          ],
                          [
                            0.6274509803921569,
                            "rgb(236,76,61)"
                          ],
                          [
                            0.6901960784313725,
                            "rgb(242,107,73)"
                          ],
                          [
                            0.7529411764705882,
                            "rgb(244,135,95)"
                          ],
                          [
                            0.8156862745098039,
                            "rgb(245,162,122)"
                          ],
                          [
                            0.8784313725490196,
                            "rgb(246,188,153)"
                          ],
                          [
                            0.9411764705882353,
                            "rgb(247,212,187)"
                          ],
                          [
                            1,
                            "rgb(250,234,220)"
                          ]
                        ],
                        "type": "heatmapgl"
                      }
                    ],
                    "histogram": [
                      {
                        "marker": {
                          "pattern": {
                            "fillmode": "overlay",
                            "size": 10,
                            "solidity": 0.2
                          }
                        },
                        "type": "histogram"
                      }
                    ],
                    "histogram2d": [
                      {
                        "colorbar": {
                          "outlinewidth": 0,
                          "tickcolor": "rgb(36,36,36)",
                          "ticklen": 8,
                          "ticks": "outside",
                          "tickwidth": 2
                        },
                        "colorscale": [
                          [
                            0,
                            "rgb(2,4,25)"
                          ],
                          [
                            0.06274509803921569,
                            "rgb(24,15,41)"
                          ],
                          [
                            0.12549019607843137,
                            "rgb(47,23,57)"
                          ],
                          [
                            0.18823529411764706,
                            "rgb(71,28,72)"
                          ],
                          [
                            0.25098039215686274,
                            "rgb(97,30,82)"
                          ],
                          [
                            0.3137254901960784,
                            "rgb(123,30,89)"
                          ],
                          [
                            0.3764705882352941,
                            "rgb(150,27,91)"
                          ],
                          [
                            0.4392156862745098,
                            "rgb(177,22,88)"
                          ],
                          [
                            0.5019607843137255,
                            "rgb(203,26,79)"
                          ],
                          [
                            0.5647058823529412,
                            "rgb(223,47,67)"
                          ],
                          [
                            0.6274509803921569,
                            "rgb(236,76,61)"
                          ],
                          [
                            0.6901960784313725,
                            "rgb(242,107,73)"
                          ],
                          [
                            0.7529411764705882,
                            "rgb(244,135,95)"
                          ],
                          [
                            0.8156862745098039,
                            "rgb(245,162,122)"
                          ],
                          [
                            0.8784313725490196,
                            "rgb(246,188,153)"
                          ],
                          [
                            0.9411764705882353,
                            "rgb(247,212,187)"
                          ],
                          [
                            1,
                            "rgb(250,234,220)"
                          ]
                        ],
                        "type": "histogram2d"
                      }
                    ],
                    "histogram2dcontour": [
                      {
                        "colorbar": {
                          "outlinewidth": 0,
                          "tickcolor": "rgb(36,36,36)",
                          "ticklen": 8,
                          "ticks": "outside",
                          "tickwidth": 2
                        },
                        "colorscale": [
                          [
                            0,
                            "rgb(2,4,25)"
                          ],
                          [
                            0.06274509803921569,
                            "rgb(24,15,41)"
                          ],
                          [
                            0.12549019607843137,
                            "rgb(47,23,57)"
                          ],
                          [
                            0.18823529411764706,
                            "rgb(71,28,72)"
                          ],
                          [
                            0.25098039215686274,
                            "rgb(97,30,82)"
                          ],
                          [
                            0.3137254901960784,
                            "rgb(123,30,89)"
                          ],
                          [
                            0.3764705882352941,
                            "rgb(150,27,91)"
                          ],
                          [
                            0.4392156862745098,
                            "rgb(177,22,88)"
                          ],
                          [
                            0.5019607843137255,
                            "rgb(203,26,79)"
                          ],
                          [
                            0.5647058823529412,
                            "rgb(223,47,67)"
                          ],
                          [
                            0.6274509803921569,
                            "rgb(236,76,61)"
                          ],
                          [
                            0.6901960784313725,
                            "rgb(242,107,73)"
                          ],
                          [
                            0.7529411764705882,
                            "rgb(244,135,95)"
                          ],
                          [
                            0.8156862745098039,
                            "rgb(245,162,122)"
                          ],
                          [
                            0.8784313725490196,
                            "rgb(246,188,153)"
                          ],
                          [
                            0.9411764705882353,
                            "rgb(247,212,187)"
                          ],
                          [
                            1,
                            "rgb(250,234,220)"
                          ]
                        ],
                        "type": "histogram2dcontour"
                      }
                    ],
                    "mesh3d": [
                      {
                        "colorbar": {
                          "outlinewidth": 0,
                          "tickcolor": "rgb(36,36,36)",
                          "ticklen": 8,
                          "ticks": "outside",
                          "tickwidth": 2
                        },
                        "type": "mesh3d"
                      }
                    ],
                    "parcoords": [
                      {
                        "line": {
                          "colorbar": {
                            "outlinewidth": 0,
                            "tickcolor": "rgb(36,36,36)",
                            "ticklen": 8,
                            "ticks": "outside",
                            "tickwidth": 2
                          }
                        },
                        "type": "parcoords"
                      }
                    ],
                    "pie": [
                      {
                        "automargin": true,
                        "type": "pie"
                      }
                    ],
                    "scatter": [
                      {
                        "fillpattern": {
                          "fillmode": "overlay",
                          "size": 10,
                          "solidity": 0.2
                        },
                        "type": "scatter"
                      }
                    ],
                    "scatter3d": [
                      {
                        "line": {
                          "colorbar": {
                            "outlinewidth": 0,
                            "tickcolor": "rgb(36,36,36)",
                            "ticklen": 8,
                            "ticks": "outside",
                            "tickwidth": 2
                          }
                        },
                        "marker": {
                          "colorbar": {
                            "outlinewidth": 0,
                            "tickcolor": "rgb(36,36,36)",
                            "ticklen": 8,
                            "ticks": "outside",
                            "tickwidth": 2
                          }
                        },
                        "type": "scatter3d"
                      }
                    ],
                    "scattercarpet": [
                      {
                        "marker": {
                          "colorbar": {
                            "outlinewidth": 0,
                            "tickcolor": "rgb(36,36,36)",
                            "ticklen": 8,
                            "ticks": "outside",
                            "tickwidth": 2
                          }
                        },
                        "type": "scattercarpet"
                      }
                    ],
                    "scattergeo": [
                      {
                        "marker": {
                          "colorbar": {
                            "outlinewidth": 0,
                            "tickcolor": "rgb(36,36,36)",
                            "ticklen": 8,
                            "ticks": "outside",
                            "tickwidth": 2
                          }
                        },
                        "type": "scattergeo"
                      }
                    ],
                    "scattergl": [
                      {
                        "marker": {
                          "colorbar": {
                            "outlinewidth": 0,
                            "tickcolor": "rgb(36,36,36)",
                            "ticklen": 8,
                            "ticks": "outside",
                            "tickwidth": 2
                          }
                        },
                        "type": "scattergl"
                      }
                    ],
                    "scattermapbox": [
                      {
                        "marker": {
                          "colorbar": {
                            "outlinewidth": 0,
                            "tickcolor": "rgb(36,36,36)",
                            "ticklen": 8,
                            "ticks": "outside",
                            "tickwidth": 2
                          }
                        },
                        "type": "scattermapbox"
                      }
                    ],
                    "scatterpolar": [
                      {
                        "marker": {
                          "colorbar": {
                            "outlinewidth": 0,
                            "tickcolor": "rgb(36,36,36)",
                            "ticklen": 8,
                            "ticks": "outside",
                            "tickwidth": 2
                          }
                        },
                        "type": "scatterpolar"
                      }
                    ],
                    "scatterpolargl": [
                      {
                        "marker": {
                          "colorbar": {
                            "outlinewidth": 0,
                            "tickcolor": "rgb(36,36,36)",
                            "ticklen": 8,
                            "ticks": "outside",
                            "tickwidth": 2
                          }
                        },
                        "type": "scatterpolargl"
                      }
                    ],
                    "scatterternary": [
                      {
                        "marker": {
                          "colorbar": {
                            "outlinewidth": 0,
                            "tickcolor": "rgb(36,36,36)",
                            "ticklen": 8,
                            "ticks": "outside",
                            "tickwidth": 2
                          }
                        },
                        "type": "scatterternary"
                      }
                    ],
                    "surface": [
                      {
                        "colorbar": {
                          "outlinewidth": 0,
                          "tickcolor": "rgb(36,36,36)",
                          "ticklen": 8,
                          "ticks": "outside",
                          "tickwidth": 2
                        },
                        "colorscale": [
                          [
                            0,
                            "rgb(2,4,25)"
                          ],
                          [
                            0.06274509803921569,
                            "rgb(24,15,41)"
                          ],
                          [
                            0.12549019607843137,
                            "rgb(47,23,57)"
                          ],
                          [
                            0.18823529411764706,
                            "rgb(71,28,72)"
                          ],
                          [
                            0.25098039215686274,
                            "rgb(97,30,82)"
                          ],
                          [
                            0.3137254901960784,
                            "rgb(123,30,89)"
                          ],
                          [
                            0.3764705882352941,
                            "rgb(150,27,91)"
                          ],
                          [
                            0.4392156862745098,
                            "rgb(177,22,88)"
                          ],
                          [
                            0.5019607843137255,
                            "rgb(203,26,79)"
                          ],
                          [
                            0.5647058823529412,
                            "rgb(223,47,67)"
                          ],
                          [
                            0.6274509803921569,
                            "rgb(236,76,61)"
                          ],
                          [
                            0.6901960784313725,
                            "rgb(242,107,73)"
                          ],
                          [
                            0.7529411764705882,
                            "rgb(244,135,95)"
                          ],
                          [
                            0.8156862745098039,
                            "rgb(245,162,122)"
                          ],
                          [
                            0.8784313725490196,
                            "rgb(246,188,153)"
                          ],
                          [
                            0.9411764705882353,
                            "rgb(247,212,187)"
                          ],
                          [
                            1,
                            "rgb(250,234,220)"
                          ]
                        ],
                        "type": "surface"
                      }
                    ],
                    "table": [
                      {
                        "cells": {
                          "fill": {
                            "color": "rgb(231,231,240)"
                          },
                          "line": {
                            "color": "white"
                          }
                        },
                        "header": {
                          "fill": {
                            "color": "rgb(183,183,191)"
                          },
                          "line": {
                            "color": "white"
                          }
                        },
                        "type": "table"
                      }
                    ]
                  },
                  "layout": {
                    "annotationdefaults": {
                      "arrowcolor": "rgb(67,103,167)"
                    },
                    "autotypenumbers": "strict",
                    "coloraxis": {
                      "colorbar": {
                        "outlinewidth": 0,
                        "tickcolor": "rgb(36,36,36)",
                        "ticklen": 8,
                        "ticks": "outside",
                        "tickwidth": 2
                      }
                    },
                    "colorscale": {
                      "sequential": [
                        [
                          0,
                          "rgb(2,4,25)"
                        ],
                        [
                          0.06274509803921569,
                          "rgb(24,15,41)"
                        ],
                        [
                          0.12549019607843137,
                          "rgb(47,23,57)"
                        ],
                        [
                          0.18823529411764706,
                          "rgb(71,28,72)"
                        ],
                        [
                          0.25098039215686274,
                          "rgb(97,30,82)"
                        ],
                        [
                          0.3137254901960784,
                          "rgb(123,30,89)"
                        ],
                        [
                          0.3764705882352941,
                          "rgb(150,27,91)"
                        ],
                        [
                          0.4392156862745098,
                          "rgb(177,22,88)"
                        ],
                        [
                          0.5019607843137255,
                          "rgb(203,26,79)"
                        ],
                        [
                          0.5647058823529412,
                          "rgb(223,47,67)"
                        ],
                        [
                          0.6274509803921569,
                          "rgb(236,76,61)"
                        ],
                        [
                          0.6901960784313725,
                          "rgb(242,107,73)"
                        ],
                        [
                          0.7529411764705882,
                          "rgb(244,135,95)"
                        ],
                        [
                          0.8156862745098039,
                          "rgb(245,162,122)"
                        ],
                        [
                          0.8784313725490196,
                          "rgb(246,188,153)"
                        ],
                        [
                          0.9411764705882353,
                          "rgb(247,212,187)"
                        ],
                        [
                          1,
                          "rgb(250,234,220)"
                        ]
                      ],
                      "sequentialminus": [
                        [
                          0,
                          "rgb(2,4,25)"
                        ],
                        [
                          0.06274509803921569,
                          "rgb(24,15,41)"
                        ],
                        [
                          0.12549019607843137,
                          "rgb(47,23,57)"
                        ],
                        [
                          0.18823529411764706,
                          "rgb(71,28,72)"
                        ],
                        [
                          0.25098039215686274,
                          "rgb(97,30,82)"
                        ],
                        [
                          0.3137254901960784,
                          "rgb(123,30,89)"
                        ],
                        [
                          0.3764705882352941,
                          "rgb(150,27,91)"
                        ],
                        [
                          0.4392156862745098,
                          "rgb(177,22,88)"
                        ],
                        [
                          0.5019607843137255,
                          "rgb(203,26,79)"
                        ],
                        [
                          0.5647058823529412,
                          "rgb(223,47,67)"
                        ],
                        [
                          0.6274509803921569,
                          "rgb(236,76,61)"
                        ],
                        [
                          0.6901960784313725,
                          "rgb(242,107,73)"
                        ],
                        [
                          0.7529411764705882,
                          "rgb(244,135,95)"
                        ],
                        [
                          0.8156862745098039,
                          "rgb(245,162,122)"
                        ],
                        [
                          0.8784313725490196,
                          "rgb(246,188,153)"
                        ],
                        [
                          0.9411764705882353,
                          "rgb(247,212,187)"
                        ],
                        [
                          1,
                          "rgb(250,234,220)"
                        ]
                      ]
                    },
                    "colorway": [
                      "rgb(76,114,176)",
                      "rgb(221,132,82)",
                      "rgb(85,168,104)",
                      "rgb(196,78,82)",
                      "rgb(129,114,179)",
                      "rgb(147,120,96)",
                      "rgb(218,139,195)",
                      "rgb(140,140,140)",
                      "rgb(204,185,116)",
                      "rgb(100,181,205)"
                    ],
                    "font": {
                      "color": "rgb(36,36,36)"
                    },
                    "geo": {
                      "bgcolor": "white",
                      "lakecolor": "white",
                      "landcolor": "rgb(234,234,242)",
                      "showlakes": true,
                      "showland": true,
                      "subunitcolor": "white"
                    },
                    "hoverlabel": {
                      "align": "left"
                    },
                    "hovermode": "closest",
                    "paper_bgcolor": "white",
                    "plot_bgcolor": "rgb(234,234,242)",
                    "polar": {
                      "angularaxis": {
                        "gridcolor": "white",
                        "linecolor": "white",
                        "showgrid": true,
                        "ticks": ""
                      },
                      "bgcolor": "rgb(234,234,242)",
                      "radialaxis": {
                        "gridcolor": "white",
                        "linecolor": "white",
                        "showgrid": true,
                        "ticks": ""
                      }
                    },
                    "scene": {
                      "xaxis": {
                        "backgroundcolor": "rgb(234,234,242)",
                        "gridcolor": "white",
                        "gridwidth": 2,
                        "linecolor": "white",
                        "showbackground": true,
                        "showgrid": true,
                        "ticks": "",
                        "zerolinecolor": "white"
                      },
                      "yaxis": {
                        "backgroundcolor": "rgb(234,234,242)",
                        "gridcolor": "white",
                        "gridwidth": 2,
                        "linecolor": "white",
                        "showbackground": true,
                        "showgrid": true,
                        "ticks": "",
                        "zerolinecolor": "white"
                      },
                      "zaxis": {
                        "backgroundcolor": "rgb(234,234,242)",
                        "gridcolor": "white",
                        "gridwidth": 2,
                        "linecolor": "white",
                        "showbackground": true,
                        "showgrid": true,
                        "ticks": "",
                        "zerolinecolor": "white"
                      }
                    },
                    "shapedefaults": {
                      "fillcolor": "rgb(67,103,167)",
                      "line": {
                        "width": 0
                      },
                      "opacity": 0.5
                    },
                    "ternary": {
                      "aaxis": {
                        "gridcolor": "white",
                        "linecolor": "white",
                        "showgrid": true,
                        "ticks": ""
                      },
                      "baxis": {
                        "gridcolor": "white",
                        "linecolor": "white",
                        "showgrid": true,
                        "ticks": ""
                      },
                      "bgcolor": "rgb(234,234,242)",
                      "caxis": {
                        "gridcolor": "white",
                        "linecolor": "white",
                        "showgrid": true,
                        "ticks": ""
                      }
                    },
                    "xaxis": {
                      "automargin": true,
                      "gridcolor": "white",
                      "linecolor": "white",
                      "showgrid": true,
                      "ticks": "",
                      "title": {
                        "standoff": 15
                      },
                      "zerolinecolor": "white"
                    },
                    "yaxis": {
                      "automargin": true,
                      "gridcolor": "white",
                      "linecolor": "white",
                      "showgrid": true,
                      "ticks": "",
                      "title": {
                        "standoff": 15
                      },
                      "zerolinecolor": "white"
                    }
                  }
                },
                "title": {
                  "text": "Loss Landscape of SimpleMLP on MNIST"
                },
                "xaxis": {
                  "title": {
                    "text": "Distance from Center in Parameter Space"
                  }
                },
                "yaxis": {
                  "title": {
                    "text": "Loss"
                  }
                }
              }
            }
          },
          "metadata": {},
          "output_type": "display_data"
        }
      ],
      "source": [
        "import plotly.graph_objects as go\n",
        "\n",
        "# Create a Plotly figure\n",
        "fig = go.Figure()\n",
        "\n",
        "# Plotting directly from grouped data\n",
        "for direction, data in df.groupby(level='Direction'):\n",
        "    fig.add_trace(go.Scatter(\n",
        "        x=data.index.get_level_values('Distance'),\n",
        "        y=data['Loss'],\n",
        "        mode='lines+markers',\n",
        "        name=direction\n",
        "    ))\n",
        "\n",
        "# Set axis labels and title with adjusted figure dimensions\n",
        "fig.update_layout(\n",
        "    xaxis_title='Distance from Center in Parameter Space',\n",
        "    yaxis_title='Loss',\n",
        "    title=f'Loss Landscape of {center_model.__class__.__name__} on {dataset.__class__.__name__}',\n",
        "    legend_title='Direction',\n",
        "    template='seaborn',\n",
        "    height=600,\n",
        ")\n",
        "\n",
        "\n",
        "# Show the figure\n",
        "fig.show()\n"
      ]
    },
    {
      "cell_type": "markdown",
      "metadata": {},
      "source": [
        "Now let's measure the roughness."
      ]
    },
    {
      "cell_type": "code",
      "execution_count": null,
      "metadata": {},
      "outputs": [
        {
          "data": {
            "text/html": [
              "<div>\n",
              "<style scoped>\n",
              "    .dataframe tbody tr th:only-of-type {\n",
              "        vertical-align: middle;\n",
              "    }\n",
              "\n",
              "    .dataframe tbody tr th {\n",
              "        vertical-align: top;\n",
              "    }\n",
              "\n",
              "    .dataframe thead th {\n",
              "        text-align: right;\n",
              "    }\n",
              "</style>\n",
              "<table border=\"1\" class=\"dataframe\">\n",
              "  <thead>\n",
              "    <tr style=\"text-align: right;\">\n",
              "      <th></th>\n",
              "      <th></th>\n",
              "      <th>Model</th>\n",
              "      <th>Loss</th>\n",
              "      <th>Roughness</th>\n",
              "    </tr>\n",
              "    <tr>\n",
              "      <th>Direction</th>\n",
              "      <th>Distance</th>\n",
              "      <th></th>\n",
              "      <th></th>\n",
              "      <th></th>\n",
              "    </tr>\n",
              "  </thead>\n",
              "  <tbody>\n",
              "    <tr>\n",
              "      <th rowspan=\"6\" valign=\"top\">Ascent</th>\n",
              "      <th>0.000000</th>\n",
              "      <td>NaN</td>\n",
              "      <td>2.310358</td>\n",
              "      <td>NaN</td>\n",
              "    </tr>\n",
              "    <tr>\n",
              "      <th>0.062500</th>\n",
              "      <td>SimpleMLP(\\n  (fc1): Linear(in_features=784, o...</td>\n",
              "      <td>2.340195</td>\n",
              "      <td>1.000001</td>\n",
              "    </tr>\n",
              "    <tr>\n",
              "      <th>0.125000</th>\n",
              "      <td>SimpleMLP(\\n  (fc1): Linear(in_features=784, o...</td>\n",
              "      <td>2.370295</td>\n",
              "      <td>1.000000</td>\n",
              "    </tr>\n",
              "    <tr>\n",
              "      <th>0.250000</th>\n",
              "      <td>SimpleMLP(\\n  (fc1): Linear(in_features=784, o...</td>\n",
              "      <td>2.430307</td>\n",
              "      <td>1.000011</td>\n",
              "    </tr>\n",
              "    <tr>\n",
              "      <th>0.500000</th>\n",
              "      <td>SimpleMLP(\\n  (fc1): Linear(in_features=784, o...</td>\n",
              "      <td>2.553088</td>\n",
              "      <td>1.001407</td>\n",
              "    </tr>\n",
              "    <tr>\n",
              "      <th>1.000000</th>\n",
              "      <td>SimpleMLP(\\n  (fc1): Linear(in_features=784, o...</td>\n",
              "      <td>2.865200</td>\n",
              "      <td>NaN</td>\n",
              "    </tr>\n",
              "    <tr>\n",
              "      <th rowspan=\"6\" valign=\"top\">Descent</th>\n",
              "      <th>0.000000</th>\n",
              "      <td>NaN</td>\n",
              "      <td>2.310358</td>\n",
              "      <td>NaN</td>\n",
              "    </tr>\n",
              "    <tr>\n",
              "      <th>0.070154</th>\n",
              "      <td>SimpleMLP(\\n  (fc1): Linear(in_features=784, o...</td>\n",
              "      <td>2.278104</td>\n",
              "      <td>1.000106</td>\n",
              "    </tr>\n",
              "    <tr>\n",
              "      <th>0.140308</th>\n",
              "      <td>SimpleMLP(\\n  (fc1): Linear(in_features=784, o...</td>\n",
              "      <td>2.248296</td>\n",
              "      <td>1.000672</td>\n",
              "    </tr>\n",
              "    <tr>\n",
              "      <th>0.280616</th>\n",
              "      <td>SimpleMLP(\\n  (fc1): Linear(in_features=784, o...</td>\n",
              "      <td>2.198165</td>\n",
              "      <td>1.002076</td>\n",
              "    </tr>\n",
              "    <tr>\n",
              "      <th>0.561231</th>\n",
              "      <td>SimpleMLP(\\n  (fc1): Linear(in_features=784, o...</td>\n",
              "      <td>2.126046</td>\n",
              "      <td>1.002365</td>\n",
              "    </tr>\n",
              "    <tr>\n",
              "      <th>1.122462</th>\n",
              "      <td>SimpleMLP(\\n  (fc1): Linear(in_features=784, o...</td>\n",
              "      <td>2.023995</td>\n",
              "      <td>NaN</td>\n",
              "    </tr>\n",
              "    <tr>\n",
              "      <th rowspan=\"6\" valign=\"top\">Radially In</th>\n",
              "      <th>0.000000</th>\n",
              "      <td>NaN</td>\n",
              "      <td>2.310358</td>\n",
              "      <td>NaN</td>\n",
              "    </tr>\n",
              "    <tr>\n",
              "      <th>0.088388</th>\n",
              "      <td>SimpleMLP(\\n  (fc1): Linear(in_features=784, o...</td>\n",
              "      <td>2.310013</td>\n",
              "      <td>1.000000</td>\n",
              "    </tr>\n",
              "    <tr>\n",
              "      <th>0.176777</th>\n",
              "      <td>SimpleMLP(\\n  (fc1): Linear(in_features=784, o...</td>\n",
              "      <td>2.309682</td>\n",
              "      <td>1.000000</td>\n",
              "    </tr>\n",
              "    <tr>\n",
              "      <th>0.353553</th>\n",
              "      <td>SimpleMLP(\\n  (fc1): Linear(in_features=784, o...</td>\n",
              "      <td>2.309056</td>\n",
              "      <td>1.000000</td>\n",
              "    </tr>\n",
              "    <tr>\n",
              "      <th>0.707107</th>\n",
              "      <td>SimpleMLP(\\n  (fc1): Linear(in_features=784, o...</td>\n",
              "      <td>2.307946</td>\n",
              "      <td>1.000000</td>\n",
              "    </tr>\n",
              "    <tr>\n",
              "      <th>1.414214</th>\n",
              "      <td>SimpleMLP(\\n  (fc1): Linear(in_features=784, o...</td>\n",
              "      <td>2.306200</td>\n",
              "      <td>NaN</td>\n",
              "    </tr>\n",
              "    <tr>\n",
              "      <th rowspan=\"6\" valign=\"top\">Radially Out</th>\n",
              "      <th>0.000000</th>\n",
              "      <td>NaN</td>\n",
              "      <td>2.310358</td>\n",
              "      <td>NaN</td>\n",
              "    </tr>\n",
              "    <tr>\n",
              "      <th>0.078745</th>\n",
              "      <td>SimpleMLP(\\n  (fc1): Linear(in_features=784, o...</td>\n",
              "      <td>2.310676</td>\n",
              "      <td>1.000000</td>\n",
              "    </tr>\n",
              "    <tr>\n",
              "      <th>0.157490</th>\n",
              "      <td>SimpleMLP(\\n  (fc1): Linear(in_features=784, o...</td>\n",
              "      <td>2.311006</td>\n",
              "      <td>1.000000</td>\n",
              "    </tr>\n",
              "    <tr>\n",
              "      <th>0.314980</th>\n",
              "      <td>SimpleMLP(\\n  (fc1): Linear(in_features=784, o...</td>\n",
              "      <td>2.311699</td>\n",
              "      <td>1.000000</td>\n",
              "    </tr>\n",
              "    <tr>\n",
              "      <th>0.629961</th>\n",
              "      <td>SimpleMLP(\\n  (fc1): Linear(in_features=784, o...</td>\n",
              "      <td>2.313234</td>\n",
              "      <td>1.000000</td>\n",
              "    </tr>\n",
              "    <tr>\n",
              "      <th>1.259921</th>\n",
              "      <td>SimpleMLP(\\n  (fc1): Linear(in_features=784, o...</td>\n",
              "      <td>2.316978</td>\n",
              "      <td>NaN</td>\n",
              "    </tr>\n",
              "    <tr>\n",
              "      <th rowspan=\"6\" valign=\"top\">Random 0</th>\n",
              "      <th>0.000000</th>\n",
              "      <td>NaN</td>\n",
              "      <td>2.310358</td>\n",
              "      <td>NaN</td>\n",
              "    </tr>\n",
              "    <tr>\n",
              "      <th>0.099213</th>\n",
              "      <td>SimpleMLP(\\n  (fc1): Linear(in_features=784, o...</td>\n",
              "      <td>2.310546</td>\n",
              "      <td>1.000000</td>\n",
              "    </tr>\n",
              "    <tr>\n",
              "      <th>0.198425</th>\n",
              "      <td>SimpleMLP(\\n  (fc1): Linear(in_features=784, o...</td>\n",
              "      <td>2.310730</td>\n",
              "      <td>1.000000</td>\n",
              "    </tr>\n",
              "    <tr>\n",
              "      <th>0.396850</th>\n",
              "      <td>SimpleMLP(\\n  (fc1): Linear(in_features=784, o...</td>\n",
              "      <td>2.311086</td>\n",
              "      <td>1.000000</td>\n",
              "    </tr>\n",
              "    <tr>\n",
              "      <th>0.793701</th>\n",
              "      <td>SimpleMLP(\\n  (fc1): Linear(in_features=784, o...</td>\n",
              "      <td>2.311760</td>\n",
              "      <td>1.000000</td>\n",
              "    </tr>\n",
              "    <tr>\n",
              "      <th>1.587401</th>\n",
              "      <td>SimpleMLP(\\n  (fc1): Linear(in_features=784, o...</td>\n",
              "      <td>2.312962</td>\n",
              "      <td>NaN</td>\n",
              "    </tr>\n",
              "    <tr>\n",
              "      <th rowspan=\"6\" valign=\"top\">Random 1</th>\n",
              "      <th>0.000000</th>\n",
              "      <td>NaN</td>\n",
              "      <td>2.310358</td>\n",
              "      <td>NaN</td>\n",
              "    </tr>\n",
              "    <tr>\n",
              "      <th>0.111362</th>\n",
              "      <td>SimpleMLP(\\n  (fc1): Linear(in_features=784, o...</td>\n",
              "      <td>2.310331</td>\n",
              "      <td>1.000000</td>\n",
              "    </tr>\n",
              "    <tr>\n",
              "      <th>0.222725</th>\n",
              "      <td>SimpleMLP(\\n  (fc1): Linear(in_features=784, o...</td>\n",
              "      <td>2.310304</td>\n",
              "      <td>1.000000</td>\n",
              "    </tr>\n",
              "    <tr>\n",
              "      <th>0.445449</th>\n",
              "      <td>SimpleMLP(\\n  (fc1): Linear(in_features=784, o...</td>\n",
              "      <td>2.310250</td>\n",
              "      <td>1.000000</td>\n",
              "    </tr>\n",
              "    <tr>\n",
              "      <th>0.890899</th>\n",
              "      <td>SimpleMLP(\\n  (fc1): Linear(in_features=784, o...</td>\n",
              "      <td>2.310140</td>\n",
              "      <td>1.000000</td>\n",
              "    </tr>\n",
              "    <tr>\n",
              "      <th>1.781797</th>\n",
              "      <td>SimpleMLP(\\n  (fc1): Linear(in_features=784, o...</td>\n",
              "      <td>2.309943</td>\n",
              "      <td>NaN</td>\n",
              "    </tr>\n",
              "  </tbody>\n",
              "</table>\n",
              "</div>"
            ],
            "text/plain": [
              "                                                                   Model  \\\n",
              "Direction    Distance                                                      \n",
              "Ascent       0.000000                                                NaN   \n",
              "             0.062500  SimpleMLP(\\n  (fc1): Linear(in_features=784, o...   \n",
              "             0.125000  SimpleMLP(\\n  (fc1): Linear(in_features=784, o...   \n",
              "             0.250000  SimpleMLP(\\n  (fc1): Linear(in_features=784, o...   \n",
              "             0.500000  SimpleMLP(\\n  (fc1): Linear(in_features=784, o...   \n",
              "             1.000000  SimpleMLP(\\n  (fc1): Linear(in_features=784, o...   \n",
              "Descent      0.000000                                                NaN   \n",
              "             0.070154  SimpleMLP(\\n  (fc1): Linear(in_features=784, o...   \n",
              "             0.140308  SimpleMLP(\\n  (fc1): Linear(in_features=784, o...   \n",
              "             0.280616  SimpleMLP(\\n  (fc1): Linear(in_features=784, o...   \n",
              "             0.561231  SimpleMLP(\\n  (fc1): Linear(in_features=784, o...   \n",
              "             1.122462  SimpleMLP(\\n  (fc1): Linear(in_features=784, o...   \n",
              "Radially In  0.000000                                                NaN   \n",
              "             0.088388  SimpleMLP(\\n  (fc1): Linear(in_features=784, o...   \n",
              "             0.176777  SimpleMLP(\\n  (fc1): Linear(in_features=784, o...   \n",
              "             0.353553  SimpleMLP(\\n  (fc1): Linear(in_features=784, o...   \n",
              "             0.707107  SimpleMLP(\\n  (fc1): Linear(in_features=784, o...   \n",
              "             1.414214  SimpleMLP(\\n  (fc1): Linear(in_features=784, o...   \n",
              "Radially Out 0.000000                                                NaN   \n",
              "             0.078745  SimpleMLP(\\n  (fc1): Linear(in_features=784, o...   \n",
              "             0.157490  SimpleMLP(\\n  (fc1): Linear(in_features=784, o...   \n",
              "             0.314980  SimpleMLP(\\n  (fc1): Linear(in_features=784, o...   \n",
              "             0.629961  SimpleMLP(\\n  (fc1): Linear(in_features=784, o...   \n",
              "             1.259921  SimpleMLP(\\n  (fc1): Linear(in_features=784, o...   \n",
              "Random 0     0.000000                                                NaN   \n",
              "             0.099213  SimpleMLP(\\n  (fc1): Linear(in_features=784, o...   \n",
              "             0.198425  SimpleMLP(\\n  (fc1): Linear(in_features=784, o...   \n",
              "             0.396850  SimpleMLP(\\n  (fc1): Linear(in_features=784, o...   \n",
              "             0.793701  SimpleMLP(\\n  (fc1): Linear(in_features=784, o...   \n",
              "             1.587401  SimpleMLP(\\n  (fc1): Linear(in_features=784, o...   \n",
              "Random 1     0.000000                                                NaN   \n",
              "             0.111362  SimpleMLP(\\n  (fc1): Linear(in_features=784, o...   \n",
              "             0.222725  SimpleMLP(\\n  (fc1): Linear(in_features=784, o...   \n",
              "             0.445449  SimpleMLP(\\n  (fc1): Linear(in_features=784, o...   \n",
              "             0.890899  SimpleMLP(\\n  (fc1): Linear(in_features=784, o...   \n",
              "             1.781797  SimpleMLP(\\n  (fc1): Linear(in_features=784, o...   \n",
              "\n",
              "                           Loss  Roughness  \n",
              "Direction    Distance                       \n",
              "Ascent       0.000000  2.310358        NaN  \n",
              "             0.062500  2.340195   1.000001  \n",
              "             0.125000  2.370295   1.000000  \n",
              "             0.250000  2.430307   1.000011  \n",
              "             0.500000  2.553088   1.001407  \n",
              "             1.000000  2.865200        NaN  \n",
              "Descent      0.000000  2.310358        NaN  \n",
              "             0.070154  2.278104   1.000106  \n",
              "             0.140308  2.248296   1.000672  \n",
              "             0.280616  2.198165   1.002076  \n",
              "             0.561231  2.126046   1.002365  \n",
              "             1.122462  2.023995        NaN  \n",
              "Radially In  0.000000  2.310358        NaN  \n",
              "             0.088388  2.310013   1.000000  \n",
              "             0.176777  2.309682   1.000000  \n",
              "             0.353553  2.309056   1.000000  \n",
              "             0.707107  2.307946   1.000000  \n",
              "             1.414214  2.306200        NaN  \n",
              "Radially Out 0.000000  2.310358        NaN  \n",
              "             0.078745  2.310676   1.000000  \n",
              "             0.157490  2.311006   1.000000  \n",
              "             0.314980  2.311699   1.000000  \n",
              "             0.629961  2.313234   1.000000  \n",
              "             1.259921  2.316978        NaN  \n",
              "Random 0     0.000000  2.310358        NaN  \n",
              "             0.099213  2.310546   1.000000  \n",
              "             0.198425  2.310730   1.000000  \n",
              "             0.396850  2.311086   1.000000  \n",
              "             0.793701  2.311760   1.000000  \n",
              "             1.587401  2.312962        NaN  \n",
              "Random 1     0.000000  2.310358        NaN  \n",
              "             0.111362  2.310331   1.000000  \n",
              "             0.222725  2.310304   1.000000  \n",
              "             0.445449  2.310250   1.000000  \n",
              "             0.890899  2.310140   1.000000  \n",
              "             1.781797  2.309943        NaN  "
            ]
          },
          "execution_count": 11,
          "metadata": {},
          "output_type": "execute_result"
        }
      ],
      "source": [
        "# TODO: Add nice explanation of the roughness calculation\n",
        "df['Roughness'] = np.nan\n",
        "\n",
        "# Calculate the roughness, one direction at a time\n",
        "for direction, group in df.groupby(level='Direction'):\n",
        "    distA = group.index.get_level_values('Distance').to_numpy()\n",
        "    losses = group['Loss'].to_numpy()\n",
        "\n",
        "    # Named slices, so that \n",
        "    # distA[x] really corresponds to the distance between A and X ∈ {A, B, C},\n",
        "    # losses[x] really corresponds to the loss at X ∈ {A, B, C}\n",
        "    a = 0\n",
        "    b = slice(1, -1)\n",
        "    c = slice(2, None)\n",
        "\n",
        "    # Ensure distances and slices are correct\n",
        "    assert np.all(distA[c] == 2 * distA[b]), \"Distance check failed\"\n",
        "\n",
        "    # Calculate paths between A, B, and C\n",
        "    AB = np.sqrt((losses[b] - losses[a]) ** 2 + distA[b] ** 2)\n",
        "    BC = np.sqrt((losses[c] - losses[b]) ** 2 + distA[b] ** 2)\n",
        "    AC = np.sqrt((losses[c] - losses[a]) ** 2 + distA[c] ** 2)\n",
        "\n",
        "    # Roghness is how much the path via B (A->B->C) is longer than the direct path A->C\n",
        "    roughness = (AB + BC) / AC\n",
        "\n",
        "    # Update DataFrame with roughness values\n",
        "    df.loc[(direction,), 'Roughness'] = np.concatenate([[np.nan], roughness, [np.nan]])\n",
        "\n",
        "df"
      ]
    },
    {
      "cell_type": "code",
      "execution_count": null,
      "metadata": {},
      "outputs": [
        {
          "data": {
            "application/vnd.plotly.v1+json": {
              "config": {
                "plotlyServerURL": "https://plot.ly"
              },
              "data": [
                {
                  "mode": "markers",
                  "name": "Ascent",
                  "type": "scatter",
                  "x": [
                    0,
                    0.0625,
                    0.125,
                    0.25,
                    0.5,
                    1
                  ],
                  "y": [
                    null,
                    1.000001473034613,
                    1.0000000286522719,
                    1.0000105114886995,
                    1.0014073446158718,
                    null
                  ]
                },
                {
                  "mode": "markers",
                  "name": "Descent",
                  "type": "scatter",
                  "x": [
                    0,
                    0.07015387801933581,
                    0.14030775603867163,
                    0.28061551207734325,
                    0.5612310241546865,
                    1.122462048309373
                  ],
                  "y": [
                    null,
                    1.0001062959552554,
                    1.0006718447199006,
                    1.0020758286861913,
                    1.0023651876832163,
                    null
                  ]
                },
                {
                  "mode": "markers",
                  "name": "Radially In",
                  "type": "scatter",
                  "x": [
                    0,
                    0.08838834764831845,
                    0.1767766952966369,
                    0.3535533905932738,
                    0.7071067811865476,
                    1.4142135623730951
                  ],
                  "y": [
                    null,
                    1.0000000027400562,
                    1.0000000102884374,
                    1.0000000362759665,
                    1.0000001111782362,
                    null
                  ]
                },
                {
                  "mode": "markers",
                  "name": "Radially Out",
                  "type": "scatter",
                  "x": [
                    0,
                    0.07874506561842957,
                    0.15749013123685915,
                    0.3149802624737183,
                    0.6299605249474366,
                    1.2599210498948732
                  ],
                  "y": [
                    null,
                    1.0000000024907774,
                    1.0000000105268882,
                    1.0000000470160342,
                    1.0000002371730896,
                    null
                  ]
                },
                {
                  "mode": "markers",
                  "name": "Random 0",
                  "type": "scatter",
                  "x": [
                    0,
                    0.09921256574801246,
                    0.19842513149602492,
                    0.39685026299204984,
                    0.7937005259840997,
                    1.5874010519681994
                  ],
                  "y": [
                    null,
                    1.0000000001129206,
                    1.0000000008599002,
                    1.000000002381604,
                    1.0000000079341544,
                    null
                  ]
                },
                {
                  "mode": "markers",
                  "name": "Random 1",
                  "type": "scatter",
                  "x": [
                    0,
                    0.11136233976754241,
                    0.22272467953508482,
                    0.44544935907016964,
                    0.8908987181403393,
                    1.7817974362806785
                  ],
                  "y": [
                    null,
                    1.000000000000595,
                    1.0000000000017617,
                    1.000000000002214,
                    1.0000000000632214,
                    null
                  ]
                }
              ],
              "layout": {
                "height": 600,
                "legend": {
                  "title": {
                    "text": "Direction"
                  }
                },
                "template": {
                  "data": {
                    "bar": [
                      {
                        "error_x": {
                          "color": "rgb(36,36,36)"
                        },
                        "error_y": {
                          "color": "rgb(36,36,36)"
                        },
                        "marker": {
                          "line": {
                            "color": "rgb(234,234,242)",
                            "width": 0.5
                          },
                          "pattern": {
                            "fillmode": "overlay",
                            "size": 10,
                            "solidity": 0.2
                          }
                        },
                        "type": "bar"
                      }
                    ],
                    "barpolar": [
                      {
                        "marker": {
                          "line": {
                            "color": "rgb(234,234,242)",
                            "width": 0.5
                          },
                          "pattern": {
                            "fillmode": "overlay",
                            "size": 10,
                            "solidity": 0.2
                          }
                        },
                        "type": "barpolar"
                      }
                    ],
                    "carpet": [
                      {
                        "aaxis": {
                          "endlinecolor": "rgb(36,36,36)",
                          "gridcolor": "white",
                          "linecolor": "white",
                          "minorgridcolor": "white",
                          "startlinecolor": "rgb(36,36,36)"
                        },
                        "baxis": {
                          "endlinecolor": "rgb(36,36,36)",
                          "gridcolor": "white",
                          "linecolor": "white",
                          "minorgridcolor": "white",
                          "startlinecolor": "rgb(36,36,36)"
                        },
                        "type": "carpet"
                      }
                    ],
                    "choropleth": [
                      {
                        "colorbar": {
                          "outlinewidth": 0,
                          "tickcolor": "rgb(36,36,36)",
                          "ticklen": 8,
                          "ticks": "outside",
                          "tickwidth": 2
                        },
                        "type": "choropleth"
                      }
                    ],
                    "contour": [
                      {
                        "colorbar": {
                          "outlinewidth": 0,
                          "tickcolor": "rgb(36,36,36)",
                          "ticklen": 8,
                          "ticks": "outside",
                          "tickwidth": 2
                        },
                        "colorscale": [
                          [
                            0,
                            "rgb(2,4,25)"
                          ],
                          [
                            0.06274509803921569,
                            "rgb(24,15,41)"
                          ],
                          [
                            0.12549019607843137,
                            "rgb(47,23,57)"
                          ],
                          [
                            0.18823529411764706,
                            "rgb(71,28,72)"
                          ],
                          [
                            0.25098039215686274,
                            "rgb(97,30,82)"
                          ],
                          [
                            0.3137254901960784,
                            "rgb(123,30,89)"
                          ],
                          [
                            0.3764705882352941,
                            "rgb(150,27,91)"
                          ],
                          [
                            0.4392156862745098,
                            "rgb(177,22,88)"
                          ],
                          [
                            0.5019607843137255,
                            "rgb(203,26,79)"
                          ],
                          [
                            0.5647058823529412,
                            "rgb(223,47,67)"
                          ],
                          [
                            0.6274509803921569,
                            "rgb(236,76,61)"
                          ],
                          [
                            0.6901960784313725,
                            "rgb(242,107,73)"
                          ],
                          [
                            0.7529411764705882,
                            "rgb(244,135,95)"
                          ],
                          [
                            0.8156862745098039,
                            "rgb(245,162,122)"
                          ],
                          [
                            0.8784313725490196,
                            "rgb(246,188,153)"
                          ],
                          [
                            0.9411764705882353,
                            "rgb(247,212,187)"
                          ],
                          [
                            1,
                            "rgb(250,234,220)"
                          ]
                        ],
                        "type": "contour"
                      }
                    ],
                    "contourcarpet": [
                      {
                        "colorbar": {
                          "outlinewidth": 0,
                          "tickcolor": "rgb(36,36,36)",
                          "ticklen": 8,
                          "ticks": "outside",
                          "tickwidth": 2
                        },
                        "type": "contourcarpet"
                      }
                    ],
                    "heatmap": [
                      {
                        "colorbar": {
                          "outlinewidth": 0,
                          "tickcolor": "rgb(36,36,36)",
                          "ticklen": 8,
                          "ticks": "outside",
                          "tickwidth": 2
                        },
                        "colorscale": [
                          [
                            0,
                            "rgb(2,4,25)"
                          ],
                          [
                            0.06274509803921569,
                            "rgb(24,15,41)"
                          ],
                          [
                            0.12549019607843137,
                            "rgb(47,23,57)"
                          ],
                          [
                            0.18823529411764706,
                            "rgb(71,28,72)"
                          ],
                          [
                            0.25098039215686274,
                            "rgb(97,30,82)"
                          ],
                          [
                            0.3137254901960784,
                            "rgb(123,30,89)"
                          ],
                          [
                            0.3764705882352941,
                            "rgb(150,27,91)"
                          ],
                          [
                            0.4392156862745098,
                            "rgb(177,22,88)"
                          ],
                          [
                            0.5019607843137255,
                            "rgb(203,26,79)"
                          ],
                          [
                            0.5647058823529412,
                            "rgb(223,47,67)"
                          ],
                          [
                            0.6274509803921569,
                            "rgb(236,76,61)"
                          ],
                          [
                            0.6901960784313725,
                            "rgb(242,107,73)"
                          ],
                          [
                            0.7529411764705882,
                            "rgb(244,135,95)"
                          ],
                          [
                            0.8156862745098039,
                            "rgb(245,162,122)"
                          ],
                          [
                            0.8784313725490196,
                            "rgb(246,188,153)"
                          ],
                          [
                            0.9411764705882353,
                            "rgb(247,212,187)"
                          ],
                          [
                            1,
                            "rgb(250,234,220)"
                          ]
                        ],
                        "type": "heatmap"
                      }
                    ],
                    "heatmapgl": [
                      {
                        "colorbar": {
                          "outlinewidth": 0,
                          "tickcolor": "rgb(36,36,36)",
                          "ticklen": 8,
                          "ticks": "outside",
                          "tickwidth": 2
                        },
                        "colorscale": [
                          [
                            0,
                            "rgb(2,4,25)"
                          ],
                          [
                            0.06274509803921569,
                            "rgb(24,15,41)"
                          ],
                          [
                            0.12549019607843137,
                            "rgb(47,23,57)"
                          ],
                          [
                            0.18823529411764706,
                            "rgb(71,28,72)"
                          ],
                          [
                            0.25098039215686274,
                            "rgb(97,30,82)"
                          ],
                          [
                            0.3137254901960784,
                            "rgb(123,30,89)"
                          ],
                          [
                            0.3764705882352941,
                            "rgb(150,27,91)"
                          ],
                          [
                            0.4392156862745098,
                            "rgb(177,22,88)"
                          ],
                          [
                            0.5019607843137255,
                            "rgb(203,26,79)"
                          ],
                          [
                            0.5647058823529412,
                            "rgb(223,47,67)"
                          ],
                          [
                            0.6274509803921569,
                            "rgb(236,76,61)"
                          ],
                          [
                            0.6901960784313725,
                            "rgb(242,107,73)"
                          ],
                          [
                            0.7529411764705882,
                            "rgb(244,135,95)"
                          ],
                          [
                            0.8156862745098039,
                            "rgb(245,162,122)"
                          ],
                          [
                            0.8784313725490196,
                            "rgb(246,188,153)"
                          ],
                          [
                            0.9411764705882353,
                            "rgb(247,212,187)"
                          ],
                          [
                            1,
                            "rgb(250,234,220)"
                          ]
                        ],
                        "type": "heatmapgl"
                      }
                    ],
                    "histogram": [
                      {
                        "marker": {
                          "pattern": {
                            "fillmode": "overlay",
                            "size": 10,
                            "solidity": 0.2
                          }
                        },
                        "type": "histogram"
                      }
                    ],
                    "histogram2d": [
                      {
                        "colorbar": {
                          "outlinewidth": 0,
                          "tickcolor": "rgb(36,36,36)",
                          "ticklen": 8,
                          "ticks": "outside",
                          "tickwidth": 2
                        },
                        "colorscale": [
                          [
                            0,
                            "rgb(2,4,25)"
                          ],
                          [
                            0.06274509803921569,
                            "rgb(24,15,41)"
                          ],
                          [
                            0.12549019607843137,
                            "rgb(47,23,57)"
                          ],
                          [
                            0.18823529411764706,
                            "rgb(71,28,72)"
                          ],
                          [
                            0.25098039215686274,
                            "rgb(97,30,82)"
                          ],
                          [
                            0.3137254901960784,
                            "rgb(123,30,89)"
                          ],
                          [
                            0.3764705882352941,
                            "rgb(150,27,91)"
                          ],
                          [
                            0.4392156862745098,
                            "rgb(177,22,88)"
                          ],
                          [
                            0.5019607843137255,
                            "rgb(203,26,79)"
                          ],
                          [
                            0.5647058823529412,
                            "rgb(223,47,67)"
                          ],
                          [
                            0.6274509803921569,
                            "rgb(236,76,61)"
                          ],
                          [
                            0.6901960784313725,
                            "rgb(242,107,73)"
                          ],
                          [
                            0.7529411764705882,
                            "rgb(244,135,95)"
                          ],
                          [
                            0.8156862745098039,
                            "rgb(245,162,122)"
                          ],
                          [
                            0.8784313725490196,
                            "rgb(246,188,153)"
                          ],
                          [
                            0.9411764705882353,
                            "rgb(247,212,187)"
                          ],
                          [
                            1,
                            "rgb(250,234,220)"
                          ]
                        ],
                        "type": "histogram2d"
                      }
                    ],
                    "histogram2dcontour": [
                      {
                        "colorbar": {
                          "outlinewidth": 0,
                          "tickcolor": "rgb(36,36,36)",
                          "ticklen": 8,
                          "ticks": "outside",
                          "tickwidth": 2
                        },
                        "colorscale": [
                          [
                            0,
                            "rgb(2,4,25)"
                          ],
                          [
                            0.06274509803921569,
                            "rgb(24,15,41)"
                          ],
                          [
                            0.12549019607843137,
                            "rgb(47,23,57)"
                          ],
                          [
                            0.18823529411764706,
                            "rgb(71,28,72)"
                          ],
                          [
                            0.25098039215686274,
                            "rgb(97,30,82)"
                          ],
                          [
                            0.3137254901960784,
                            "rgb(123,30,89)"
                          ],
                          [
                            0.3764705882352941,
                            "rgb(150,27,91)"
                          ],
                          [
                            0.4392156862745098,
                            "rgb(177,22,88)"
                          ],
                          [
                            0.5019607843137255,
                            "rgb(203,26,79)"
                          ],
                          [
                            0.5647058823529412,
                            "rgb(223,47,67)"
                          ],
                          [
                            0.6274509803921569,
                            "rgb(236,76,61)"
                          ],
                          [
                            0.6901960784313725,
                            "rgb(242,107,73)"
                          ],
                          [
                            0.7529411764705882,
                            "rgb(244,135,95)"
                          ],
                          [
                            0.8156862745098039,
                            "rgb(245,162,122)"
                          ],
                          [
                            0.8784313725490196,
                            "rgb(246,188,153)"
                          ],
                          [
                            0.9411764705882353,
                            "rgb(247,212,187)"
                          ],
                          [
                            1,
                            "rgb(250,234,220)"
                          ]
                        ],
                        "type": "histogram2dcontour"
                      }
                    ],
                    "mesh3d": [
                      {
                        "colorbar": {
                          "outlinewidth": 0,
                          "tickcolor": "rgb(36,36,36)",
                          "ticklen": 8,
                          "ticks": "outside",
                          "tickwidth": 2
                        },
                        "type": "mesh3d"
                      }
                    ],
                    "parcoords": [
                      {
                        "line": {
                          "colorbar": {
                            "outlinewidth": 0,
                            "tickcolor": "rgb(36,36,36)",
                            "ticklen": 8,
                            "ticks": "outside",
                            "tickwidth": 2
                          }
                        },
                        "type": "parcoords"
                      }
                    ],
                    "pie": [
                      {
                        "automargin": true,
                        "type": "pie"
                      }
                    ],
                    "scatter": [
                      {
                        "fillpattern": {
                          "fillmode": "overlay",
                          "size": 10,
                          "solidity": 0.2
                        },
                        "type": "scatter"
                      }
                    ],
                    "scatter3d": [
                      {
                        "line": {
                          "colorbar": {
                            "outlinewidth": 0,
                            "tickcolor": "rgb(36,36,36)",
                            "ticklen": 8,
                            "ticks": "outside",
                            "tickwidth": 2
                          }
                        },
                        "marker": {
                          "colorbar": {
                            "outlinewidth": 0,
                            "tickcolor": "rgb(36,36,36)",
                            "ticklen": 8,
                            "ticks": "outside",
                            "tickwidth": 2
                          }
                        },
                        "type": "scatter3d"
                      }
                    ],
                    "scattercarpet": [
                      {
                        "marker": {
                          "colorbar": {
                            "outlinewidth": 0,
                            "tickcolor": "rgb(36,36,36)",
                            "ticklen": 8,
                            "ticks": "outside",
                            "tickwidth": 2
                          }
                        },
                        "type": "scattercarpet"
                      }
                    ],
                    "scattergeo": [
                      {
                        "marker": {
                          "colorbar": {
                            "outlinewidth": 0,
                            "tickcolor": "rgb(36,36,36)",
                            "ticklen": 8,
                            "ticks": "outside",
                            "tickwidth": 2
                          }
                        },
                        "type": "scattergeo"
                      }
                    ],
                    "scattergl": [
                      {
                        "marker": {
                          "colorbar": {
                            "outlinewidth": 0,
                            "tickcolor": "rgb(36,36,36)",
                            "ticklen": 8,
                            "ticks": "outside",
                            "tickwidth": 2
                          }
                        },
                        "type": "scattergl"
                      }
                    ],
                    "scattermapbox": [
                      {
                        "marker": {
                          "colorbar": {
                            "outlinewidth": 0,
                            "tickcolor": "rgb(36,36,36)",
                            "ticklen": 8,
                            "ticks": "outside",
                            "tickwidth": 2
                          }
                        },
                        "type": "scattermapbox"
                      }
                    ],
                    "scatterpolar": [
                      {
                        "marker": {
                          "colorbar": {
                            "outlinewidth": 0,
                            "tickcolor": "rgb(36,36,36)",
                            "ticklen": 8,
                            "ticks": "outside",
                            "tickwidth": 2
                          }
                        },
                        "type": "scatterpolar"
                      }
                    ],
                    "scatterpolargl": [
                      {
                        "marker": {
                          "colorbar": {
                            "outlinewidth": 0,
                            "tickcolor": "rgb(36,36,36)",
                            "ticklen": 8,
                            "ticks": "outside",
                            "tickwidth": 2
                          }
                        },
                        "type": "scatterpolargl"
                      }
                    ],
                    "scatterternary": [
                      {
                        "marker": {
                          "colorbar": {
                            "outlinewidth": 0,
                            "tickcolor": "rgb(36,36,36)",
                            "ticklen": 8,
                            "ticks": "outside",
                            "tickwidth": 2
                          }
                        },
                        "type": "scatterternary"
                      }
                    ],
                    "surface": [
                      {
                        "colorbar": {
                          "outlinewidth": 0,
                          "tickcolor": "rgb(36,36,36)",
                          "ticklen": 8,
                          "ticks": "outside",
                          "tickwidth": 2
                        },
                        "colorscale": [
                          [
                            0,
                            "rgb(2,4,25)"
                          ],
                          [
                            0.06274509803921569,
                            "rgb(24,15,41)"
                          ],
                          [
                            0.12549019607843137,
                            "rgb(47,23,57)"
                          ],
                          [
                            0.18823529411764706,
                            "rgb(71,28,72)"
                          ],
                          [
                            0.25098039215686274,
                            "rgb(97,30,82)"
                          ],
                          [
                            0.3137254901960784,
                            "rgb(123,30,89)"
                          ],
                          [
                            0.3764705882352941,
                            "rgb(150,27,91)"
                          ],
                          [
                            0.4392156862745098,
                            "rgb(177,22,88)"
                          ],
                          [
                            0.5019607843137255,
                            "rgb(203,26,79)"
                          ],
                          [
                            0.5647058823529412,
                            "rgb(223,47,67)"
                          ],
                          [
                            0.6274509803921569,
                            "rgb(236,76,61)"
                          ],
                          [
                            0.6901960784313725,
                            "rgb(242,107,73)"
                          ],
                          [
                            0.7529411764705882,
                            "rgb(244,135,95)"
                          ],
                          [
                            0.8156862745098039,
                            "rgb(245,162,122)"
                          ],
                          [
                            0.8784313725490196,
                            "rgb(246,188,153)"
                          ],
                          [
                            0.9411764705882353,
                            "rgb(247,212,187)"
                          ],
                          [
                            1,
                            "rgb(250,234,220)"
                          ]
                        ],
                        "type": "surface"
                      }
                    ],
                    "table": [
                      {
                        "cells": {
                          "fill": {
                            "color": "rgb(231,231,240)"
                          },
                          "line": {
                            "color": "white"
                          }
                        },
                        "header": {
                          "fill": {
                            "color": "rgb(183,183,191)"
                          },
                          "line": {
                            "color": "white"
                          }
                        },
                        "type": "table"
                      }
                    ]
                  },
                  "layout": {
                    "annotationdefaults": {
                      "arrowcolor": "rgb(67,103,167)"
                    },
                    "autotypenumbers": "strict",
                    "coloraxis": {
                      "colorbar": {
                        "outlinewidth": 0,
                        "tickcolor": "rgb(36,36,36)",
                        "ticklen": 8,
                        "ticks": "outside",
                        "tickwidth": 2
                      }
                    },
                    "colorscale": {
                      "sequential": [
                        [
                          0,
                          "rgb(2,4,25)"
                        ],
                        [
                          0.06274509803921569,
                          "rgb(24,15,41)"
                        ],
                        [
                          0.12549019607843137,
                          "rgb(47,23,57)"
                        ],
                        [
                          0.18823529411764706,
                          "rgb(71,28,72)"
                        ],
                        [
                          0.25098039215686274,
                          "rgb(97,30,82)"
                        ],
                        [
                          0.3137254901960784,
                          "rgb(123,30,89)"
                        ],
                        [
                          0.3764705882352941,
                          "rgb(150,27,91)"
                        ],
                        [
                          0.4392156862745098,
                          "rgb(177,22,88)"
                        ],
                        [
                          0.5019607843137255,
                          "rgb(203,26,79)"
                        ],
                        [
                          0.5647058823529412,
                          "rgb(223,47,67)"
                        ],
                        [
                          0.6274509803921569,
                          "rgb(236,76,61)"
                        ],
                        [
                          0.6901960784313725,
                          "rgb(242,107,73)"
                        ],
                        [
                          0.7529411764705882,
                          "rgb(244,135,95)"
                        ],
                        [
                          0.8156862745098039,
                          "rgb(245,162,122)"
                        ],
                        [
                          0.8784313725490196,
                          "rgb(246,188,153)"
                        ],
                        [
                          0.9411764705882353,
                          "rgb(247,212,187)"
                        ],
                        [
                          1,
                          "rgb(250,234,220)"
                        ]
                      ],
                      "sequentialminus": [
                        [
                          0,
                          "rgb(2,4,25)"
                        ],
                        [
                          0.06274509803921569,
                          "rgb(24,15,41)"
                        ],
                        [
                          0.12549019607843137,
                          "rgb(47,23,57)"
                        ],
                        [
                          0.18823529411764706,
                          "rgb(71,28,72)"
                        ],
                        [
                          0.25098039215686274,
                          "rgb(97,30,82)"
                        ],
                        [
                          0.3137254901960784,
                          "rgb(123,30,89)"
                        ],
                        [
                          0.3764705882352941,
                          "rgb(150,27,91)"
                        ],
                        [
                          0.4392156862745098,
                          "rgb(177,22,88)"
                        ],
                        [
                          0.5019607843137255,
                          "rgb(203,26,79)"
                        ],
                        [
                          0.5647058823529412,
                          "rgb(223,47,67)"
                        ],
                        [
                          0.6274509803921569,
                          "rgb(236,76,61)"
                        ],
                        [
                          0.6901960784313725,
                          "rgb(242,107,73)"
                        ],
                        [
                          0.7529411764705882,
                          "rgb(244,135,95)"
                        ],
                        [
                          0.8156862745098039,
                          "rgb(245,162,122)"
                        ],
                        [
                          0.8784313725490196,
                          "rgb(246,188,153)"
                        ],
                        [
                          0.9411764705882353,
                          "rgb(247,212,187)"
                        ],
                        [
                          1,
                          "rgb(250,234,220)"
                        ]
                      ]
                    },
                    "colorway": [
                      "rgb(76,114,176)",
                      "rgb(221,132,82)",
                      "rgb(85,168,104)",
                      "rgb(196,78,82)",
                      "rgb(129,114,179)",
                      "rgb(147,120,96)",
                      "rgb(218,139,195)",
                      "rgb(140,140,140)",
                      "rgb(204,185,116)",
                      "rgb(100,181,205)"
                    ],
                    "font": {
                      "color": "rgb(36,36,36)"
                    },
                    "geo": {
                      "bgcolor": "white",
                      "lakecolor": "white",
                      "landcolor": "rgb(234,234,242)",
                      "showlakes": true,
                      "showland": true,
                      "subunitcolor": "white"
                    },
                    "hoverlabel": {
                      "align": "left"
                    },
                    "hovermode": "closest",
                    "paper_bgcolor": "white",
                    "plot_bgcolor": "rgb(234,234,242)",
                    "polar": {
                      "angularaxis": {
                        "gridcolor": "white",
                        "linecolor": "white",
                        "showgrid": true,
                        "ticks": ""
                      },
                      "bgcolor": "rgb(234,234,242)",
                      "radialaxis": {
                        "gridcolor": "white",
                        "linecolor": "white",
                        "showgrid": true,
                        "ticks": ""
                      }
                    },
                    "scene": {
                      "xaxis": {
                        "backgroundcolor": "rgb(234,234,242)",
                        "gridcolor": "white",
                        "gridwidth": 2,
                        "linecolor": "white",
                        "showbackground": true,
                        "showgrid": true,
                        "ticks": "",
                        "zerolinecolor": "white"
                      },
                      "yaxis": {
                        "backgroundcolor": "rgb(234,234,242)",
                        "gridcolor": "white",
                        "gridwidth": 2,
                        "linecolor": "white",
                        "showbackground": true,
                        "showgrid": true,
                        "ticks": "",
                        "zerolinecolor": "white"
                      },
                      "zaxis": {
                        "backgroundcolor": "rgb(234,234,242)",
                        "gridcolor": "white",
                        "gridwidth": 2,
                        "linecolor": "white",
                        "showbackground": true,
                        "showgrid": true,
                        "ticks": "",
                        "zerolinecolor": "white"
                      }
                    },
                    "shapedefaults": {
                      "fillcolor": "rgb(67,103,167)",
                      "line": {
                        "width": 0
                      },
                      "opacity": 0.5
                    },
                    "ternary": {
                      "aaxis": {
                        "gridcolor": "white",
                        "linecolor": "white",
                        "showgrid": true,
                        "ticks": ""
                      },
                      "baxis": {
                        "gridcolor": "white",
                        "linecolor": "white",
                        "showgrid": true,
                        "ticks": ""
                      },
                      "bgcolor": "rgb(234,234,242)",
                      "caxis": {
                        "gridcolor": "white",
                        "linecolor": "white",
                        "showgrid": true,
                        "ticks": ""
                      }
                    },
                    "xaxis": {
                      "automargin": true,
                      "gridcolor": "white",
                      "linecolor": "white",
                      "showgrid": true,
                      "ticks": "",
                      "title": {
                        "standoff": 15
                      },
                      "zerolinecolor": "white"
                    },
                    "yaxis": {
                      "automargin": true,
                      "gridcolor": "white",
                      "linecolor": "white",
                      "showgrid": true,
                      "ticks": "",
                      "title": {
                        "standoff": 15
                      },
                      "zerolinecolor": "white"
                    }
                  }
                },
                "title": {
                  "text": "Scale Dependent Roughness of SimpleMLP on MNIST"
                },
                "xaxis": {
                  "dtick": 1,
                  "title": {
                    "text": "Coarse Graining Scale"
                  },
                  "type": "log"
                },
                "yaxis": {
                  "title": {
                    "text": "Roughness"
                  }
                }
              }
            }
          },
          "metadata": {},
          "output_type": "display_data"
        }
      ],
      "source": [
        "import plotly.graph_objects as go\n",
        "\n",
        "# Create a Plotly figure\n",
        "fig = go.Figure()\n",
        "\n",
        "# Plotting roughness for each direction using grouped data\n",
        "for direction, data in df.groupby(level='Direction'):\n",
        "    fig.add_trace(go.Scatter(\n",
        "        x=data.index.get_level_values('Distance'),\n",
        "        y=data['Roughness'],\n",
        "        mode='markers',\n",
        "        name=direction\n",
        "    ))\n",
        "\n",
        "# Set axis labels, title, and configure log scale on x-axis\n",
        "fig.update_layout(\n",
        "    xaxis_title='Coarse Graining Scale',\n",
        "    yaxis_title='Roughness',\n",
        "    title=f'Scale Dependent Roughness of {center_model.__class__.__name__} on {dataset.__class__.__name__}',\n",
        "    legend_title='Direction',\n",
        "    template='seaborn',\n",
        "    xaxis={\n",
        "        'type': 'log',\n",
        "        'dtick': 1,  # Tick every power of ten\n",
        "    },\n",
        "    height=600\n",
        ")\n",
        "\n",
        "# Display the figure\n",
        "fig.show()\n"
      ]
    }
  ],
  "metadata": {
    "colab": {
      "provenance": []
    },
    "kernelspec": {
      "display_name": "Python 3",
      "name": "python3"
    },
    "language_info": {
      "codemirror_mode": {
        "name": "ipython",
        "version": 3
      },
      "file_extension": ".py",
      "mimetype": "text/x-python",
      "name": "python",
      "nbconvert_exporter": "python",
      "pygments_lexer": "ipython3",
      "version": "3.11.6"
    }
  },
  "nbformat": 4,
  "nbformat_minor": 0
}
