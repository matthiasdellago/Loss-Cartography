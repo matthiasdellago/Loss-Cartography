{
  "cells": [
    {
      "cell_type": "code",
      "execution_count": 15,
      "metadata": {
        "id": "MTV4OGkJQDoW"
      },
      "outputs": [],
      "source": [
        "import torch\n",
        "import torch.nn as nn\n",
        "import torch.nn.functional as F\n",
        "from torchvision.datasets import MNIST\n",
        "from torchvision import transforms\n",
        "\n",
        "class SimpleMLP(nn.Module):\n",
        "    def __init__(self):\n",
        "        super(SimpleMLP, self).__init__()\n",
        "        self.fc1 = nn.Linear(784, 128)\n",
        "        self.fc2 = nn.Linear(128, 128)\n",
        "        self.fc3 = nn.Linear(128, 10)\n",
        "\n",
        "    def forward(self, x):\n",
        "        x = x.flatten(1)\n",
        "        x = self.fc1(x)\n",
        "        x = F.relu(x)\n",
        "        x = self.fc2(x)\n",
        "        x = F.relu(x)\n",
        "        x = self.fc3(x)\n",
        "        return x\n",
        "\n",
        "device = torch.device(\"cuda\" if torch.cuda.is_available() else \"cpu\")\n",
        "\n",
        "# Use a standard MNIST normalization\n",
        "transform = transforms.Compose([\n",
        "    transforms.ToTensor(),\n",
        "    transforms.Normalize((0.1307,), (0.3081,))\n",
        "])\n",
        "\n",
        "dataset = MNIST(root='./data', download=True, transform=transform)\n",
        "BATCH_SIZE = int(len(dataset)/10) # Big but not too big, because I think that the batch is duplicated for each model in the vmap-enselmble\n",
        "dataloader = torch.utils.data.DataLoader(dataset, batch_size=BATCH_SIZE, num_workers = 2)\n",
        "\n",
        "# criterion functional\n",
        "criterion = F.cross_entropy\n",
        "\n",
        "# parameter subspaces to investigate.\n",
        "# for each string, the union of all modules that contain the string in their name will be considered.\n",
        "# we will sample a random direction in that subspace + the gradient ascent and descent directions projected onto that subspace.\n",
        "SUBSPACES = ['fc1', 'weight', 'bias']\n",
        "\n",
        "#check if we are on GPU, otherwise just proof of concept\n",
        "if torch.cuda.is_available():\n",
        "    NUM_DIRS = 6\n",
        "    MAX_OOM = 1\n",
        "    MIN_OOM = -8\n",
        "else:\n",
        "    NUM_DIRS = 0 # number of random directions to sample, in addition to the gradient ascent + descent, and radially in + out.\n",
        "    MAX_OOM = 0 # maximum order of magnitude to sample\n",
        "    MIN_OOM = -1 # minimum order of magnitude to sample"
      ]
    },
    {
      "cell_type": "markdown",
      "metadata": {},
      "source": [
        "Define utility functions for parameter space arithmetic. iadd is inplace, all others create a new model."
      ]
    },
    {
      "cell_type": "code",
      "execution_count": 16,
      "metadata": {},
      "outputs": [],
      "source": [
        "from copy import deepcopy\n",
        "\n",
        "@torch.no_grad\n",
        "def iadd(a:nn.Module, b:nn.Module):\n",
        "    \"\"\"add the parameters of b to a, inplace\"\"\"\n",
        "    for a_param, b_param in zip(a.parameters(), b.parameters()):\n",
        "        a_param.data.add_(b_param.data)\n",
        "    return a\n",
        "\n",
        "@torch.no_grad\n",
        "def add(a_old:nn.Module, b:nn.Module):\n",
        "    \"\"\"add the parameters of b to a\"\"\"\n",
        "    a = deepcopy(a_old)\n",
        "    return iadd(a, b)\n",
        "\n",
        "@torch.no_grad\n",
        "def scale(a_old:nn.Module, b:float):\n",
        "    \"\"\"scale the parameters of a by b\"\"\"\n",
        "    a = deepcopy(a_old)\n",
        "    for a_param in a.parameters():\n",
        "        a_param.data.mul_(b)\n",
        "    return a\n",
        "\n",
        "@torch.no_grad\n",
        "def sub(a:nn.Module, b:nn.Module):\n",
        "    \"\"\"subtract the parameters of b from a\"\"\"\n",
        "    neg_b = scale(b, -1)\n",
        "    return iadd(neg_b, a)\n",
        "\n",
        "@torch.no_grad\n",
        "def abs(a:nn.Module):\n",
        "    \"\"\"return the norm of the parameters of a\"\"\"\n",
        "    return torch.norm(torch.cat([param.data.flatten() for param in a.parameters()]))\n",
        "\n",
        "@torch.no_grad\n",
        "def norm(a:nn.Module):\n",
        "    \"\"\"normalize the parameters of a\"\"\"\n",
        "    return scale(a, 1/abs(a))\n",
        "\n",
        "@torch.no_grad\n",
        "def rand_like(a: nn.Module):\n",
        "    \"\"\"normalised random direction in the parameter space of the model.\"\"\"\n",
        "    rand = deepcopy(a)\n",
        "    for param in rand.parameters():\n",
        "        param.data = torch.randn_like(param.data)\n",
        "    return norm(rand)\n",
        "\n",
        "@torch.no_grad\n",
        "def project_to_module(a: nn.Module, target_subspace: str):\n",
        "    \"\"\"\n",
        "    normalised projection onto the subspace of the model specified by `target_subspace`.\n",
        "    subspace: Any parameter whose name contains the `target_subspace` string.\n",
        "    \"\"\"\n",
        "    projection = deepcopy(a)\n",
        "    for name, param in projection.named_parameters():\n",
        "        if target_subspace not in name:\n",
        "            param.data.zero_()\n",
        "    return norm(projection)"
      ]
    },
    {
      "cell_type": "markdown",
      "metadata": {},
      "source": [
        "Define profiling context manager: measure execution time and GPU RAM usage before and after."
      ]
    },
    {
      "cell_type": "code",
      "execution_count": 17,
      "metadata": {},
      "outputs": [
        {
          "name": "stdout",
          "output_type": "stream",
          "text": [
            "\n",
            "::::::::::::::::::::::::::::::::Profiler example::::::::::::::::::::::::::::::::\n",
            "Computation goes here...\n",
            "::::::::::::::::::::::Finished Profiler example in 0.00 s:::::::::::::::::::::::\n"
          ]
        }
      ],
      "source": [
        "from time import perf_counter\n",
        "from contextlib import contextmanager\n",
        "import torch\n",
        "\n",
        "@contextmanager\n",
        "def profiler(description, length=80, pad_char=':'):\n",
        "    print('\\n'+description.center(length, pad_char))\n",
        "    if torch.cuda.is_available():\n",
        "        print(f'GPU RAM before execution: Allocated: {torch.cuda.memory_allocated()/1e9:.2f} GB | Reserved: {torch.cuda.memory_reserved()/1e9:.2f} GB')\n",
        "    start = perf_counter()\n",
        "    yield\n",
        "    if torch.cuda.is_available():\n",
        "        print(f'GPU RAM after execution:  Allocated: {torch.cuda.memory_allocated()/1e9:.2f} GB | Reserved: {torch.cuda.memory_reserved()/1e9:.2f} GB')\n",
        "    print(f'Finished {description} in {perf_counter() - start:.2f} s'.center(length, pad_char))\n",
        "\n",
        "with profiler('Profiler example'):\n",
        "    print('Computation goes here...')"
      ]
    },
    {
      "cell_type": "code",
      "execution_count": 18,
      "metadata": {},
      "outputs": [
        {
          "name": "stdout",
          "output_type": "stream",
          "text": [
            "\n",
            ":::::::::::::::1 step of gradient descent over the whole dataset::::::::::::::::\n"
          ]
        },
        {
          "name": "stdout",
          "output_type": "stream",
          "text": [
            ":::::Finished 1 step of gradient descent over the whole dataset in 19.39 s::::::\n"
          ]
        }
      ],
      "source": [
        "center_model = SimpleMLP()\n",
        "\n",
        "# create a model to find the gradient\n",
        "grad_model = deepcopy(center_model)\n",
        "grad_model = grad_model.to(device)\n",
        "\n",
        "optimizer = torch.optim.SGD(grad_model.parameters(), lr=1)\n",
        "optimizer.zero_grad()\n",
        "torch.set_grad_enabled(True)\n",
        "\n",
        "# take a single step of gradient descent\n",
        "# gradient accumulate over the whole dataset\n",
        "with profiler('1 step of gradient descent over the whole dataset'):\n",
        "    for data, target in dataloader:\n",
        "        data, target = data.to(device), target.to(device)\n",
        "        output = grad_model(data)\n",
        "        loss = criterion(output, target)\n",
        "        loss.backward()\n",
        "\n",
        "optimizer.step()\n",
        "# from this point on we wont need any gradients\n",
        "torch.set_grad_enabled(False)\n",
        "\n",
        "\n",
        "# calculate the direction of gradient decent from the center model\n",
        "grad_model = grad_model.to('cpu')\n",
        "dir_ascent = sub(center_model, grad_model)\n",
        "dir_ascent = norm(dir_ascent)\n",
        "dir_descent = scale(dir_ascent, -1)\n",
        "\n",
        "del grad_model\n"
      ]
    },
    {
      "cell_type": "code",
      "execution_count": 19,
      "metadata": {},
      "outputs": [],
      "source": [
        "radial = norm(center_model)\n",
        "\n",
        "dirs = {\n",
        "    'Ascent': dir_ascent,\n",
        "    'Descent': dir_descent,\n",
        "    'Radially Out': radial,\n",
        "    'Radially In': scale(radial,-1),\n",
        "    }\n",
        "\n",
        "# add random directions\n",
        "dirs.update({f'Random {i}': rand_like(center_model) for i in range(NUM_DIRS)})\n",
        "\n",
        "# add projections of each dir in dirs onto each SUBSPACE\n",
        "# Add projections of each direction in dirs onto each subspace\n",
        "for dir_name, direction in list(dirs.items()):\n",
        "    for subspace in SUBSPACES:\n",
        "        projected_dir = project_to_module(direction, subspace)\n",
        "        new_key = f'{dir_name} ⋅ P({subspace})'\n",
        "        dirs[new_key] = projected_dir\n",
        "\n",
        "# check that they are all normalised\n",
        "assert all(torch.isclose(abs(d), torch.tensor(1.0)) for d in dirs.values())"
      ]
    },
    {
      "cell_type": "code",
      "execution_count": 20,
      "metadata": {},
      "outputs": [
        {
          "data": {
            "text/html": [
              "<div>\n",
              "<style scoped>\n",
              "    .dataframe tbody tr th:only-of-type {\n",
              "        vertical-align: middle;\n",
              "    }\n",
              "\n",
              "    .dataframe tbody tr th {\n",
              "        vertical-align: top;\n",
              "    }\n",
              "\n",
              "    .dataframe thead th {\n",
              "        text-align: right;\n",
              "    }\n",
              "</style>\n",
              "<table border=\"1\" class=\"dataframe\">\n",
              "  <thead>\n",
              "    <tr style=\"text-align: right;\">\n",
              "      <th></th>\n",
              "      <th></th>\n",
              "    </tr>\n",
              "    <tr>\n",
              "      <th>Direction</th>\n",
              "      <th>Distance</th>\n",
              "    </tr>\n",
              "  </thead>\n",
              "  <tbody>\n",
              "    <tr>\n",
              "      <th rowspan=\"5\" valign=\"top\">Ascent</th>\n",
              "      <th>0.062500</th>\n",
              "    </tr>\n",
              "    <tr>\n",
              "      <th>0.125000</th>\n",
              "    </tr>\n",
              "    <tr>\n",
              "      <th>0.250000</th>\n",
              "    </tr>\n",
              "    <tr>\n",
              "      <th>0.500000</th>\n",
              "    </tr>\n",
              "    <tr>\n",
              "      <th>1.000000</th>\n",
              "    </tr>\n",
              "    <tr>\n",
              "      <th>...</th>\n",
              "      <th>...</th>\n",
              "    </tr>\n",
              "    <tr>\n",
              "      <th rowspan=\"5\" valign=\"top\">Radially In ⋅ P(bias)</th>\n",
              "      <th>0.119700</th>\n",
              "    </tr>\n",
              "    <tr>\n",
              "      <th>0.239401</th>\n",
              "    </tr>\n",
              "    <tr>\n",
              "      <th>0.478802</th>\n",
              "    </tr>\n",
              "    <tr>\n",
              "      <th>0.957603</th>\n",
              "    </tr>\n",
              "    <tr>\n",
              "      <th>1.915207</th>\n",
              "    </tr>\n",
              "  </tbody>\n",
              "</table>\n",
              "<p>80 rows × 0 columns</p>\n",
              "</div>"
            ],
            "text/plain": [
              "Empty DataFrame\n",
              "Columns: []\n",
              "Index: [(Ascent, 0.0625), (Ascent, 0.125), (Ascent, 0.25), (Ascent, 0.5), (Ascent, 1.0), (Descent, 0.06526711140171336), (Descent, 0.13053422280342672), (Descent, 0.26106844560685344), (Descent, 0.5221368912137069), (Descent, 1.0442737824274138), (Radially Out, 0.0681567332915786), (Radially Out, 0.1363134665831572), (Radially Out, 0.2726269331663144), (Radially Out, 0.5452538663326288), (Radially Out, 1.0905077326652577), (Radially In, 0.07117428967229322), (Radially In, 0.14234857934458645), (Radially In, 0.2846971586891729), (Radially In, 0.5693943173783458), (Radially In, 1.1387886347566916), (Ascent ⋅ P(fc1), 0.07432544468767006), (Ascent ⋅ P(fc1), 0.14865088937534013), (Ascent ⋅ P(fc1), 0.29730177875068026), (Ascent ⋅ P(fc1), 0.5946035575013605), (Ascent ⋅ P(fc1), 1.189207115002721), (Ascent ⋅ P(weight), 0.07761611325459275), (Ascent ⋅ P(weight), 0.1552322265091855), (Ascent ⋅ P(weight), 0.310464453018371), (Ascent ⋅ P(weight), 0.620928906036742), (Ascent ⋅ P(weight), 1.241857812073484), (Ascent ⋅ P(bias), 0.0810524721656881), (Ascent ⋅ P(bias), 0.1621049443313762), (Ascent ⋅ P(bias), 0.3242098886627524), (Ascent ⋅ P(bias), 0.6484197773255048), (Ascent ⋅ P(bias), 1.2968395546510096), (Descent ⋅ P(fc1), 0.08464097168355579), (Descent ⋅ P(fc1), 0.16928194336711158), (Descent ⋅ P(fc1), 0.33856388673422316), (Descent ⋅ P(fc1), 0.6771277734684463), (Descent ⋅ P(fc1), 1.3542555469368927), (Descent ⋅ P(weight), 0.08838834764831845), (Descent ⋅ P(weight), 0.1767766952966369), (Descent ⋅ P(weight), 0.3535533905932738), (Descent ⋅ P(weight), 0.7071067811865476), (Descent ⋅ P(weight), 1.4142135623730951), (Descent ⋅ P(bias), 0.09230163412121871), (Descent ⋅ P(bias), 0.18460326824243742), (Descent ⋅ P(bias), 0.36920653648487484), (Descent ⋅ P(bias), 0.7384130729697497), (Descent ⋅ P(bias), 1.4768261459394993), (Radially Out ⋅ P(fc1), 0.0963881765879963), (Radially Out ⋅ P(fc1), 0.1927763531759926), (Radially Out ⋅ P(fc1), 0.3855527063519852), (Radially Out ⋅ P(fc1), 0.7711054127039704), (Radially Out ⋅ P(fc1), 1.5422108254079407), (Radially Out ⋅ P(weight), 0.10065564574682839), (Radially Out ⋅ P(weight), 0.20131129149365679), (Radially Out ⋅ P(weight), 0.40262258298731357), (Radially Out ⋅ P(weight), 0.8052451659746271), (Radially Out ⋅ P(weight), 1.6104903319492543), (Radially Out ⋅ P(bias), 0.10511205190671431), (Radially Out ⋅ P(bias), 0.21022410381342863), (Radially Out ⋅ P(bias), 0.42044820762685725), (Radially Out ⋅ P(bias), 0.8408964152537145), (Radially Out ⋅ P(bias), 1.681792830507429), (Radially In ⋅ P(fc1), 0.10976576002333122), (Radially In ⋅ P(fc1), 0.21953152004666243), (Radially In ⋅ P(fc1), 0.43906304009332486), (Radially In ⋅ P(fc1), 0.8781260801866497), (Radially In ⋅ P(fc1), 1.7562521603732995), (Radially In ⋅ P(weight), 0.1146255054005839), (Radially In ⋅ P(weight), 0.2292510108011678), (Radially In ⋅ P(weight), 0.4585020216023356), (Radially In ⋅ P(weight), 0.9170040432046712), (Radially In ⋅ P(weight), 1.8340080864093424), (Radially In ⋅ P(bias), 0.11970041008732171), (Radially In ⋅ P(bias), 0.23940082017464343), (Radially In ⋅ P(bias), 0.47880164034928685), (Radially In ⋅ P(bias), 0.9576032806985737), (Radially In ⋅ P(bias), 1.9152065613971474)]\n",
              "\n",
              "[80 rows x 0 columns]"
            ]
          },
          "execution_count": 20,
          "metadata": {},
          "output_type": "execute_result"
        }
      ],
      "source": [
        "import pandas as pd\n",
        "import numpy as np\n",
        "\n",
        "# convert to base 2\n",
        "POW_MIN_DIST = int(np.floor(MIN_OOM*np.log2(10)))\n",
        "POW_MAX_DIST = int(np.ceil(MAX_OOM*np.log2(10)))\n",
        "\n",
        "# will sample these distances\n",
        "scales = 2. ** np.arange(POW_MIN_DIST, POW_MAX_DIST + 1)\n",
        "\n",
        "# offset each direction by a different amount, so that we get a nice spread of distances, to avoid artefacts/robustness\n",
        "offset_per_direction = 2. ** np.linspace(0, 1, len(dirs), endpoint=False)\n",
        "\n",
        "# Initialize an empty list to hold tuples for MultiIndex\n",
        "index_list = []\n",
        "\n",
        "# Calculate distances using broadcasting\n",
        "distances = np.outer(scales, offset_per_direction).T.flatten()\n",
        "\n",
        "# Repeat directions accordingly\n",
        "directions = np.repeat(list(dirs.keys()), len(scales))\n",
        "\n",
        "# Create DataFrame directly from numpy arrays\n",
        "df = pd.DataFrame(index=pd.MultiIndex.from_arrays([directions, distances], names=['Direction', 'Distance']))\n",
        "\n",
        "df\n"
      ]
    },
    {
      "cell_type": "code",
      "execution_count": 21,
      "metadata": {},
      "outputs": [
        {
          "data": {
            "text/html": [
              "<div>\n",
              "<style scoped>\n",
              "    .dataframe tbody tr th:only-of-type {\n",
              "        vertical-align: middle;\n",
              "    }\n",
              "\n",
              "    .dataframe tbody tr th {\n",
              "        vertical-align: top;\n",
              "    }\n",
              "\n",
              "    .dataframe thead th {\n",
              "        text-align: right;\n",
              "    }\n",
              "</style>\n",
              "<table border=\"1\" class=\"dataframe\">\n",
              "  <thead>\n",
              "    <tr style=\"text-align: right;\">\n",
              "      <th></th>\n",
              "      <th></th>\n",
              "      <th>Model</th>\n",
              "    </tr>\n",
              "    <tr>\n",
              "      <th>Direction</th>\n",
              "      <th>Distance</th>\n",
              "      <th></th>\n",
              "    </tr>\n",
              "  </thead>\n",
              "  <tbody>\n",
              "    <tr>\n",
              "      <th rowspan=\"5\" valign=\"top\">Ascent</th>\n",
              "      <th>0.062500</th>\n",
              "      <td>SimpleMLP(\\n  (fc1): Linear(in_features=784, o...</td>\n",
              "    </tr>\n",
              "    <tr>\n",
              "      <th>0.125000</th>\n",
              "      <td>SimpleMLP(\\n  (fc1): Linear(in_features=784, o...</td>\n",
              "    </tr>\n",
              "    <tr>\n",
              "      <th>0.250000</th>\n",
              "      <td>SimpleMLP(\\n  (fc1): Linear(in_features=784, o...</td>\n",
              "    </tr>\n",
              "    <tr>\n",
              "      <th>0.500000</th>\n",
              "      <td>SimpleMLP(\\n  (fc1): Linear(in_features=784, o...</td>\n",
              "    </tr>\n",
              "    <tr>\n",
              "      <th>1.000000</th>\n",
              "      <td>SimpleMLP(\\n  (fc1): Linear(in_features=784, o...</td>\n",
              "    </tr>\n",
              "    <tr>\n",
              "      <th>...</th>\n",
              "      <th>...</th>\n",
              "      <td>...</td>\n",
              "    </tr>\n",
              "    <tr>\n",
              "      <th rowspan=\"5\" valign=\"top\">Radially In ⋅ P(bias)</th>\n",
              "      <th>0.119700</th>\n",
              "      <td>SimpleMLP(\\n  (fc1): Linear(in_features=784, o...</td>\n",
              "    </tr>\n",
              "    <tr>\n",
              "      <th>0.239401</th>\n",
              "      <td>SimpleMLP(\\n  (fc1): Linear(in_features=784, o...</td>\n",
              "    </tr>\n",
              "    <tr>\n",
              "      <th>0.478802</th>\n",
              "      <td>SimpleMLP(\\n  (fc1): Linear(in_features=784, o...</td>\n",
              "    </tr>\n",
              "    <tr>\n",
              "      <th>0.957603</th>\n",
              "      <td>SimpleMLP(\\n  (fc1): Linear(in_features=784, o...</td>\n",
              "    </tr>\n",
              "    <tr>\n",
              "      <th>1.915207</th>\n",
              "      <td>SimpleMLP(\\n  (fc1): Linear(in_features=784, o...</td>\n",
              "    </tr>\n",
              "  </tbody>\n",
              "</table>\n",
              "<p>80 rows × 1 columns</p>\n",
              "</div>"
            ],
            "text/plain": [
              "                                                                            Model\n",
              "Direction             Distance                                                   \n",
              "Ascent                0.062500  SimpleMLP(\\n  (fc1): Linear(in_features=784, o...\n",
              "                      0.125000  SimpleMLP(\\n  (fc1): Linear(in_features=784, o...\n",
              "                      0.250000  SimpleMLP(\\n  (fc1): Linear(in_features=784, o...\n",
              "                      0.500000  SimpleMLP(\\n  (fc1): Linear(in_features=784, o...\n",
              "                      1.000000  SimpleMLP(\\n  (fc1): Linear(in_features=784, o...\n",
              "...                                                                           ...\n",
              "Radially In ⋅ P(bias) 0.119700  SimpleMLP(\\n  (fc1): Linear(in_features=784, o...\n",
              "                      0.239401  SimpleMLP(\\n  (fc1): Linear(in_features=784, o...\n",
              "                      0.478802  SimpleMLP(\\n  (fc1): Linear(in_features=784, o...\n",
              "                      0.957603  SimpleMLP(\\n  (fc1): Linear(in_features=784, o...\n",
              "                      1.915207  SimpleMLP(\\n  (fc1): Linear(in_features=784, o...\n",
              "\n",
              "[80 rows x 1 columns]"
            ]
          },
          "execution_count": 21,
          "metadata": {},
          "output_type": "execute_result"
        }
      ],
      "source": [
        "# fill the dataframe with the models\n",
        "for dir_name, dist in df.index:\n",
        "    shift = scale(dirs[dir_name], dist)     # shift = direction * distance\n",
        "    location = iadd(shift, center_model)    # location = center + shift\n",
        "    df.loc[(dir_name, dist), 'Model'] = location\n",
        "\n",
        "df"
      ]
    },
    {
      "cell_type": "markdown",
      "metadata": {},
      "source": [
        "Parallel evaluation with vmap()\n"
      ]
    },
    {
      "cell_type": "code",
      "execution_count": 22,
      "metadata": {
        "id": "of195MzFwzdG"
      },
      "outputs": [
        {
          "name": "stdout",
          "output_type": "stream",
          "text": [
            "\n",
            ":::::::::::::::::::::::::Moving stacked ensemble to cpu:::::::::::::::::::::::::\n",
            ":::::::::::::::Finished Moving stacked ensemble to cpu in 0.00 s::::::::::::::::\n",
            "\n",
            ":::::::::::::::::::::::Evaluating stacked ensemble on cpu:::::::::::::::::::::::\n",
            ":::::::::::::Finished Evaluating stacked ensemble on cpu in 57.33 s:::::::::::::\n",
            "\n",
            "::::::::::::::::::::::::::::Freeing data and target:::::::::::::::::::::::::::::\n",
            ":::::::::::::::::::Finished Freeing data and target in 0.00 s:::::::::::::::::::\n",
            "\n",
            "::::::::::::::::::::::::::::Freeing stacked ensemble::::::::::::::::::::::::::::\n",
            "::::::::::::::::::Finished Freeing stacked ensemble in 0.00 s:::::::::::::::::::\n"
          ]
        }
      ],
      "source": [
        "from torch.func import stack_module_state, functional_call\n",
        "from torch import vmap\n",
        "\n",
        "# add the center model\n",
        "ensemble_list = [center_model] + list(df['Model'])\n",
        "\n",
        "print(f'Ensemble size: {len(ensemble_list)}')\n",
        "\n",
        "# stack to prepare for vmap\n",
        "params, buffers = stack_module_state(ensemble_list)\n",
        "\n",
        "with profiler(f'Moving stacked ensemble to {device}'):\n",
        "    params = {name: tensor.to(device) for name, tensor in params.items()}\n",
        "    buffers = {name: tensor.to(device) for name, tensor in buffers.items()}\n",
        "\n",
        "stacked_ensemble = (params, buffers)\n",
        "\n",
        "# Construct a \"stateless\" version of one of the models. It is \"stateless\" in\n",
        "# the sense that the parameters are meta Tensors and do not have storage.\n",
        "meta_model = deepcopy(center_model).to('meta')\n",
        "\n",
        "def meta_model_loss(params_and_buffers, data, target):\n",
        "    \"\"\"Compute the loss of a set of params on a batch of data, via the meta model\"\"\"\n",
        "    predictions = functional_call(meta_model, params_and_buffers, (data,))\n",
        "    predictions = predictions.double() # double precision for better resoltion of small scales\n",
        "    loss = criterion(predictions, target)\n",
        "    return loss\n",
        "\n",
        "# define a loss function that takes the stacked ensemble params, data, and target\n",
        "# in_dims=(0, None, None) adds an ensemble dimension to the first argument 'params_and_buffers' but not to the other two arguments\n",
        "vmap_loss = vmap(meta_model_loss, in_dims=(0, None, None))\n",
        "\n",
        "batch_losses = []\n",
        "with profiler(f'Evaluating stacked ensemble on {device}'):\n",
        "    for data, target in dataloader:\n",
        "        data, target = data.to(device), target.to(device)\n",
        "        batch_loss = vmap_loss(stacked_ensemble, data, target)\n",
        "        batch_losses.append(batch_loss)\n",
        "\n",
        "with profiler('Freeing data and target'):\n",
        "    del data, target\n",
        "    torch.cuda.empty_cache()\n",
        "\n",
        "with profiler('Freeing stacked ensemble'):\n",
        "    del stacked_ensemble\n",
        "    torch.cuda.empty_cache()\n",
        "\n",
        "loss_tensor = torch.mean(torch.stack(batch_losses), dim=0)"
      ]
    },
    {
      "cell_type": "code",
      "execution_count": 23,
      "metadata": {},
      "outputs": [
        {
          "data": {
            "text/html": [
              "<div>\n",
              "<style scoped>\n",
              "    .dataframe tbody tr th:only-of-type {\n",
              "        vertical-align: middle;\n",
              "    }\n",
              "\n",
              "    .dataframe tbody tr th {\n",
              "        vertical-align: top;\n",
              "    }\n",
              "\n",
              "    .dataframe thead th {\n",
              "        text-align: right;\n",
              "    }\n",
              "</style>\n",
              "<table border=\"1\" class=\"dataframe\">\n",
              "  <thead>\n",
              "    <tr style=\"text-align: right;\">\n",
              "      <th></th>\n",
              "      <th></th>\n",
              "      <th>Model</th>\n",
              "      <th>Loss</th>\n",
              "    </tr>\n",
              "    <tr>\n",
              "      <th>Direction</th>\n",
              "      <th>Distance</th>\n",
              "      <th></th>\n",
              "      <th></th>\n",
              "    </tr>\n",
              "  </thead>\n",
              "  <tbody>\n",
              "    <tr>\n",
              "      <th rowspan=\"5\" valign=\"top\">Ascent</th>\n",
              "      <th>0.000000</th>\n",
              "      <td>NaN</td>\n",
              "      <td>2.303077</td>\n",
              "    </tr>\n",
              "    <tr>\n",
              "      <th>0.062500</th>\n",
              "      <td>SimpleMLP(\\n  (fc1): Linear(in_features=784, o...</td>\n",
              "      <td>2.335889</td>\n",
              "    </tr>\n",
              "    <tr>\n",
              "      <th>0.125000</th>\n",
              "      <td>SimpleMLP(\\n  (fc1): Linear(in_features=784, o...</td>\n",
              "      <td>2.368436</td>\n",
              "    </tr>\n",
              "    <tr>\n",
              "      <th>0.250000</th>\n",
              "      <td>SimpleMLP(\\n  (fc1): Linear(in_features=784, o...</td>\n",
              "      <td>2.430218</td>\n",
              "    </tr>\n",
              "    <tr>\n",
              "      <th>0.500000</th>\n",
              "      <td>SimpleMLP(\\n  (fc1): Linear(in_features=784, o...</td>\n",
              "      <td>2.538586</td>\n",
              "    </tr>\n",
              "    <tr>\n",
              "      <th>...</th>\n",
              "      <th>...</th>\n",
              "      <td>...</td>\n",
              "      <td>...</td>\n",
              "    </tr>\n",
              "    <tr>\n",
              "      <th rowspan=\"5\" valign=\"top\">Radially Out ⋅ P(weight)</th>\n",
              "      <th>0.100656</th>\n",
              "      <td>SimpleMLP(\\n  (fc1): Linear(in_features=784, o...</td>\n",
              "      <td>2.303110</td>\n",
              "    </tr>\n",
              "    <tr>\n",
              "      <th>0.201311</th>\n",
              "      <td>SimpleMLP(\\n  (fc1): Linear(in_features=784, o...</td>\n",
              "      <td>2.303151</td>\n",
              "    </tr>\n",
              "    <tr>\n",
              "      <th>0.402623</th>\n",
              "      <td>SimpleMLP(\\n  (fc1): Linear(in_features=784, o...</td>\n",
              "      <td>2.303259</td>\n",
              "    </tr>\n",
              "    <tr>\n",
              "      <th>0.805245</th>\n",
              "      <td>SimpleMLP(\\n  (fc1): Linear(in_features=784, o...</td>\n",
              "      <td>2.303591</td>\n",
              "    </tr>\n",
              "    <tr>\n",
              "      <th>1.610490</th>\n",
              "      <td>SimpleMLP(\\n  (fc1): Linear(in_features=784, o...</td>\n",
              "      <td>2.304842</td>\n",
              "    </tr>\n",
              "  </tbody>\n",
              "</table>\n",
              "<p>96 rows × 2 columns</p>\n",
              "</div>"
            ],
            "text/plain": [
              "                                                                               Model  \\\n",
              "Direction                Distance                                                      \n",
              "Ascent                   0.000000                                                NaN   \n",
              "                         0.062500  SimpleMLP(\\n  (fc1): Linear(in_features=784, o...   \n",
              "                         0.125000  SimpleMLP(\\n  (fc1): Linear(in_features=784, o...   \n",
              "                         0.250000  SimpleMLP(\\n  (fc1): Linear(in_features=784, o...   \n",
              "                         0.500000  SimpleMLP(\\n  (fc1): Linear(in_features=784, o...   \n",
              "...                                                                              ...   \n",
              "Radially Out ⋅ P(weight) 0.100656  SimpleMLP(\\n  (fc1): Linear(in_features=784, o...   \n",
              "                         0.201311  SimpleMLP(\\n  (fc1): Linear(in_features=784, o...   \n",
              "                         0.402623  SimpleMLP(\\n  (fc1): Linear(in_features=784, o...   \n",
              "                         0.805245  SimpleMLP(\\n  (fc1): Linear(in_features=784, o...   \n",
              "                         1.610490  SimpleMLP(\\n  (fc1): Linear(in_features=784, o...   \n",
              "\n",
              "                                       Loss  \n",
              "Direction                Distance            \n",
              "Ascent                   0.000000  2.303077  \n",
              "                         0.062500  2.335889  \n",
              "                         0.125000  2.368436  \n",
              "                         0.250000  2.430218  \n",
              "                         0.500000  2.538586  \n",
              "...                                     ...  \n",
              "Radially Out ⋅ P(weight) 0.100656  2.303110  \n",
              "                         0.201311  2.303151  \n",
              "                         0.402623  2.303259  \n",
              "                         0.805245  2.303591  \n",
              "                         1.610490  2.304842  \n",
              "\n",
              "[96 rows x 2 columns]"
            ]
          },
          "execution_count": 23,
          "metadata": {},
          "output_type": "execute_result"
        }
      ],
      "source": [
        "# Convert the loss tensor to a list and unpack\n",
        "center_loss, *dir_losses = loss_tensor.tolist()\n",
        "\n",
        "# Ensure the length of dir_losses matches the DataFrame length\n",
        "assert len(dir_losses) == len(df)\n",
        "\n",
        "# Add the directional losses to the DataFrame\n",
        "df['Loss'] = dir_losses\n",
        "\n",
        "# Add the center_loss to each Direction, for Distance=0\n",
        "for direction in df.index.get_level_values('Direction').unique():\n",
        "    df.loc[(direction, 0.0), 'Loss'] = center_loss\n",
        "\n",
        "df.sort_index(inplace=True)\n",
        "\n",
        "df"
      ]
    },
    {
      "cell_type": "code",
      "execution_count": 24,
      "metadata": {},
      "outputs": [
        {
          "data": {
            "application/vnd.plotly.v1+json": {
              "config": {
                "plotlyServerURL": "https://plot.ly"
              },
              "data": [
                {
                  "mode": "lines+markers",
                  "name": "Ascent",
                  "type": "scatter",
                  "x": [
                    0,
                    0.0625,
                    0.125,
                    0.25,
                    0.5,
                    1
                  ],
                  "y": [
                    2.303076580511354,
                    2.33588911697844,
                    2.368436043397432,
                    2.4302183420587458,
                    2.538586136518366,
                    2.745815658092678
                  ]
                },
                {
                  "mode": "lines+markers",
                  "name": "Ascent ⋅ P(bias)",
                  "type": "scatter",
                  "x": [
                    0,
                    0.0810524721656881,
                    0.1621049443313762,
                    0.3242098886627524,
                    0.6484197773255048,
                    1.2968395546510096
                  ],
                  "y": [
                    2.303076580511354,
                    2.307478326754994,
                    2.3123965945067484,
                    2.32375097500943,
                    2.3523321749498516,
                    2.431425759009692
                  ]
                },
                {
                  "mode": "lines+markers",
                  "name": "Ascent ⋅ P(fc1)",
                  "type": "scatter",
                  "x": [
                    0,
                    0.07432544468767006,
                    0.14865088937534013,
                    0.29730177875068026,
                    0.5946035575013605,
                    1.189207115002721
                  ],
                  "y": [
                    2.303076580511354,
                    2.3372826988324893,
                    2.3706149277717947,
                    2.4308878490947334,
                    2.5271511735191807,
                    2.6892418198413344
                  ]
                },
                {
                  "mode": "lines+markers",
                  "name": "Ascent ⋅ P(weight)",
                  "type": "scatter",
                  "x": [
                    0,
                    0.07761611325459275,
                    0.1552322265091855,
                    0.310464453018371,
                    0.620928906036742,
                    1.241857812073484
                  ],
                  "y": [
                    2.303076580511354,
                    2.343605928490951,
                    2.383414005425525,
                    2.457051793863782,
                    2.58474276217563,
                    2.8538473097991464
                  ]
                },
                {
                  "mode": "lines+markers",
                  "name": "Descent",
                  "type": "scatter",
                  "x": [
                    0,
                    0.06526711140171336,
                    0.13053422280342672,
                    0.26106844560685344,
                    0.5221368912137069,
                    1.0442737824274138
                  ],
                  "y": [
                    2.303076580511354,
                    2.2695562424886324,
                    2.237764791321673,
                    2.1811274403283263,
                    2.0906001805982255,
                    1.951059712263146
                  ]
                },
                {
                  "mode": "lines+markers",
                  "name": "Descent ⋅ P(bias)",
                  "type": "scatter",
                  "x": [
                    0,
                    0.09230163412121871,
                    0.18460326824243742,
                    0.36920653648487484,
                    0.7384130729697497,
                    1.4768261459394993
                  ],
                  "y": [
                    2.303076580511354,
                    2.298700900514619,
                    2.295012011201322,
                    2.289737694366964,
                    2.2877885707939534,
                    2.319498457818827
                  ]
                },
                {
                  "mode": "lines+markers",
                  "name": "Descent ⋅ P(fc1)",
                  "type": "scatter",
                  "x": [
                    0,
                    0.08464097168355579,
                    0.16928194336711158,
                    0.33856388673422316,
                    0.6771277734684463,
                    1.3542555469368927
                  ],
                  "y": [
                    2.303076580511354,
                    2.2652178058741166,
                    2.230586410053129,
                    2.1729001943677275,
                    2.0867484676924315,
                    1.9526913258147203
                  ]
                },
                {
                  "mode": "lines+markers",
                  "name": "Descent ⋅ P(weight)",
                  "type": "scatter",
                  "x": [
                    0,
                    0.08838834764831845,
                    0.1767766952966369,
                    0.3535533905932738,
                    0.7071067811865476,
                    1.4142135623730951
                  ],
                  "y": [
                    2.303076580511354,
                    2.2582549872128044,
                    2.2169541179970267,
                    2.1468536620808956,
                    2.0374886289457104,
                    1.87828633062081
                  ]
                },
                {
                  "mode": "lines+markers",
                  "name": "Radially In",
                  "type": "scatter",
                  "x": [
                    0,
                    0.07117428967229322,
                    0.14234857934458645,
                    0.2846971586891729,
                    0.5693943173783458,
                    1.1387886347566916
                  ],
                  "y": [
                    2.303076580511354,
                    2.3030058324043456,
                    2.302939614242844,
                    2.3028199332701043,
                    2.3026275619356045,
                    2.302397793603378
                  ]
                },
                {
                  "mode": "lines+markers",
                  "name": "Radially In ⋅ P(bias)",
                  "type": "scatter",
                  "x": [
                    0,
                    0.11970041008732171,
                    0.23940082017464343,
                    0.47880164034928685,
                    0.9576032806985737,
                    1.9152065613971474
                  ],
                  "y": [
                    2.303076580511354,
                    2.301928534402594,
                    2.3009182075977326,
                    2.2993107424940473,
                    2.2977273911714664,
                    2.300464729335049
                  ]
                },
                {
                  "mode": "lines+markers",
                  "name": "Radially In ⋅ P(fc1)",
                  "type": "scatter",
                  "x": [
                    0,
                    0.10976576002333122,
                    0.21953152004666243,
                    0.43906304009332486,
                    0.8781260801866497,
                    1.7562521603732995
                  ],
                  "y": [
                    2.303076580511354,
                    2.30307444672082,
                    2.3030741991447483,
                    2.303079706115287,
                    2.303114145641097,
                    2.303279835940719
                  ]
                },
                {
                  "mode": "lines+markers",
                  "name": "Radially In ⋅ P(weight)",
                  "type": "scatter",
                  "x": [
                    0,
                    0.1146255054005839,
                    0.2292510108011678,
                    0.4585020216023356,
                    0.9170040432046712,
                    1.8340080864093424
                  ],
                  "y": [
                    2.303076580511354,
                    2.3030475877050334,
                    2.30302768660293,
                    2.3030126971372917,
                    2.303065867429786,
                    2.3033980768677567
                  ]
                },
                {
                  "mode": "lines+markers",
                  "name": "Radially Out",
                  "type": "scatter",
                  "x": [
                    0,
                    0.0681567332915786,
                    0.1363134665831572,
                    0.2726269331663144,
                    0.5452538663326288,
                    1.0905077326652577
                  ],
                  "y": [
                    2.303076580511354,
                    2.3031487080796933,
                    2.3032252415742205,
                    2.3033922263752715,
                    2.3037863904866867,
                    2.3048559220272677
                  ]
                },
                {
                  "mode": "lines+markers",
                  "name": "Radially Out ⋅ P(bias)",
                  "type": "scatter",
                  "x": [
                    0,
                    0.10511205190671431,
                    0.21022410381342863,
                    0.42044820762685725,
                    0.8408964152537145,
                    1.681792830507429
                  ],
                  "y": [
                    2.303076580511354,
                    2.3041983088713986,
                    2.3054263625666587,
                    2.3081962891462053,
                    2.31489961771846,
                    2.3324834568217234
                  ]
                },
                {
                  "mode": "lines+markers",
                  "name": "Radially Out ⋅ P(fc1)",
                  "type": "scatter",
                  "x": [
                    0,
                    0.0963881765879963,
                    0.1927763531759926,
                    0.3855527063519852,
                    0.7711054127039704,
                    1.5422108254079407
                  ],
                  "y": [
                    2.303076580511354,
                    2.303080060489413,
                    2.3030849762933254,
                    2.3030991102095415,
                    2.303144955764048,
                    2.3033061170302984
                  ]
                },
                {
                  "mode": "lines+markers",
                  "name": "Radially Out ⋅ P(weight)",
                  "type": "scatter",
                  "x": [
                    0,
                    0.10065564574682839,
                    0.20131129149365679,
                    0.40262258298731357,
                    0.8052451659746271,
                    1.6104903319492543
                  ],
                  "y": [
                    2.303076580511354,
                    2.303109983315829,
                    2.3031512153677625,
                    2.3032590935776813,
                    2.3035909523828093,
                    2.304841904252067
                  ]
                }
              ],
              "layout": {
                "height": 600,
                "legend": {
                  "title": {
                    "text": "Direction"
                  }
                },
                "template": {
                  "data": {
                    "bar": [
                      {
                        "error_x": {
                          "color": "rgb(36,36,36)"
                        },
                        "error_y": {
                          "color": "rgb(36,36,36)"
                        },
                        "marker": {
                          "line": {
                            "color": "rgb(234,234,242)",
                            "width": 0.5
                          },
                          "pattern": {
                            "fillmode": "overlay",
                            "size": 10,
                            "solidity": 0.2
                          }
                        },
                        "type": "bar"
                      }
                    ],
                    "barpolar": [
                      {
                        "marker": {
                          "line": {
                            "color": "rgb(234,234,242)",
                            "width": 0.5
                          },
                          "pattern": {
                            "fillmode": "overlay",
                            "size": 10,
                            "solidity": 0.2
                          }
                        },
                        "type": "barpolar"
                      }
                    ],
                    "carpet": [
                      {
                        "aaxis": {
                          "endlinecolor": "rgb(36,36,36)",
                          "gridcolor": "white",
                          "linecolor": "white",
                          "minorgridcolor": "white",
                          "startlinecolor": "rgb(36,36,36)"
                        },
                        "baxis": {
                          "endlinecolor": "rgb(36,36,36)",
                          "gridcolor": "white",
                          "linecolor": "white",
                          "minorgridcolor": "white",
                          "startlinecolor": "rgb(36,36,36)"
                        },
                        "type": "carpet"
                      }
                    ],
                    "choropleth": [
                      {
                        "colorbar": {
                          "outlinewidth": 0,
                          "tickcolor": "rgb(36,36,36)",
                          "ticklen": 8,
                          "ticks": "outside",
                          "tickwidth": 2
                        },
                        "type": "choropleth"
                      }
                    ],
                    "contour": [
                      {
                        "colorbar": {
                          "outlinewidth": 0,
                          "tickcolor": "rgb(36,36,36)",
                          "ticklen": 8,
                          "ticks": "outside",
                          "tickwidth": 2
                        },
                        "colorscale": [
                          [
                            0,
                            "rgb(2,4,25)"
                          ],
                          [
                            0.06274509803921569,
                            "rgb(24,15,41)"
                          ],
                          [
                            0.12549019607843137,
                            "rgb(47,23,57)"
                          ],
                          [
                            0.18823529411764706,
                            "rgb(71,28,72)"
                          ],
                          [
                            0.25098039215686274,
                            "rgb(97,30,82)"
                          ],
                          [
                            0.3137254901960784,
                            "rgb(123,30,89)"
                          ],
                          [
                            0.3764705882352941,
                            "rgb(150,27,91)"
                          ],
                          [
                            0.4392156862745098,
                            "rgb(177,22,88)"
                          ],
                          [
                            0.5019607843137255,
                            "rgb(203,26,79)"
                          ],
                          [
                            0.5647058823529412,
                            "rgb(223,47,67)"
                          ],
                          [
                            0.6274509803921569,
                            "rgb(236,76,61)"
                          ],
                          [
                            0.6901960784313725,
                            "rgb(242,107,73)"
                          ],
                          [
                            0.7529411764705882,
                            "rgb(244,135,95)"
                          ],
                          [
                            0.8156862745098039,
                            "rgb(245,162,122)"
                          ],
                          [
                            0.8784313725490196,
                            "rgb(246,188,153)"
                          ],
                          [
                            0.9411764705882353,
                            "rgb(247,212,187)"
                          ],
                          [
                            1,
                            "rgb(250,234,220)"
                          ]
                        ],
                        "type": "contour"
                      }
                    ],
                    "contourcarpet": [
                      {
                        "colorbar": {
                          "outlinewidth": 0,
                          "tickcolor": "rgb(36,36,36)",
                          "ticklen": 8,
                          "ticks": "outside",
                          "tickwidth": 2
                        },
                        "type": "contourcarpet"
                      }
                    ],
                    "heatmap": [
                      {
                        "colorbar": {
                          "outlinewidth": 0,
                          "tickcolor": "rgb(36,36,36)",
                          "ticklen": 8,
                          "ticks": "outside",
                          "tickwidth": 2
                        },
                        "colorscale": [
                          [
                            0,
                            "rgb(2,4,25)"
                          ],
                          [
                            0.06274509803921569,
                            "rgb(24,15,41)"
                          ],
                          [
                            0.12549019607843137,
                            "rgb(47,23,57)"
                          ],
                          [
                            0.18823529411764706,
                            "rgb(71,28,72)"
                          ],
                          [
                            0.25098039215686274,
                            "rgb(97,30,82)"
                          ],
                          [
                            0.3137254901960784,
                            "rgb(123,30,89)"
                          ],
                          [
                            0.3764705882352941,
                            "rgb(150,27,91)"
                          ],
                          [
                            0.4392156862745098,
                            "rgb(177,22,88)"
                          ],
                          [
                            0.5019607843137255,
                            "rgb(203,26,79)"
                          ],
                          [
                            0.5647058823529412,
                            "rgb(223,47,67)"
                          ],
                          [
                            0.6274509803921569,
                            "rgb(236,76,61)"
                          ],
                          [
                            0.6901960784313725,
                            "rgb(242,107,73)"
                          ],
                          [
                            0.7529411764705882,
                            "rgb(244,135,95)"
                          ],
                          [
                            0.8156862745098039,
                            "rgb(245,162,122)"
                          ],
                          [
                            0.8784313725490196,
                            "rgb(246,188,153)"
                          ],
                          [
                            0.9411764705882353,
                            "rgb(247,212,187)"
                          ],
                          [
                            1,
                            "rgb(250,234,220)"
                          ]
                        ],
                        "type": "heatmap"
                      }
                    ],
                    "heatmapgl": [
                      {
                        "colorbar": {
                          "outlinewidth": 0,
                          "tickcolor": "rgb(36,36,36)",
                          "ticklen": 8,
                          "ticks": "outside",
                          "tickwidth": 2
                        },
                        "colorscale": [
                          [
                            0,
                            "rgb(2,4,25)"
                          ],
                          [
                            0.06274509803921569,
                            "rgb(24,15,41)"
                          ],
                          [
                            0.12549019607843137,
                            "rgb(47,23,57)"
                          ],
                          [
                            0.18823529411764706,
                            "rgb(71,28,72)"
                          ],
                          [
                            0.25098039215686274,
                            "rgb(97,30,82)"
                          ],
                          [
                            0.3137254901960784,
                            "rgb(123,30,89)"
                          ],
                          [
                            0.3764705882352941,
                            "rgb(150,27,91)"
                          ],
                          [
                            0.4392156862745098,
                            "rgb(177,22,88)"
                          ],
                          [
                            0.5019607843137255,
                            "rgb(203,26,79)"
                          ],
                          [
                            0.5647058823529412,
                            "rgb(223,47,67)"
                          ],
                          [
                            0.6274509803921569,
                            "rgb(236,76,61)"
                          ],
                          [
                            0.6901960784313725,
                            "rgb(242,107,73)"
                          ],
                          [
                            0.7529411764705882,
                            "rgb(244,135,95)"
                          ],
                          [
                            0.8156862745098039,
                            "rgb(245,162,122)"
                          ],
                          [
                            0.8784313725490196,
                            "rgb(246,188,153)"
                          ],
                          [
                            0.9411764705882353,
                            "rgb(247,212,187)"
                          ],
                          [
                            1,
                            "rgb(250,234,220)"
                          ]
                        ],
                        "type": "heatmapgl"
                      }
                    ],
                    "histogram": [
                      {
                        "marker": {
                          "pattern": {
                            "fillmode": "overlay",
                            "size": 10,
                            "solidity": 0.2
                          }
                        },
                        "type": "histogram"
                      }
                    ],
                    "histogram2d": [
                      {
                        "colorbar": {
                          "outlinewidth": 0,
                          "tickcolor": "rgb(36,36,36)",
                          "ticklen": 8,
                          "ticks": "outside",
                          "tickwidth": 2
                        },
                        "colorscale": [
                          [
                            0,
                            "rgb(2,4,25)"
                          ],
                          [
                            0.06274509803921569,
                            "rgb(24,15,41)"
                          ],
                          [
                            0.12549019607843137,
                            "rgb(47,23,57)"
                          ],
                          [
                            0.18823529411764706,
                            "rgb(71,28,72)"
                          ],
                          [
                            0.25098039215686274,
                            "rgb(97,30,82)"
                          ],
                          [
                            0.3137254901960784,
                            "rgb(123,30,89)"
                          ],
                          [
                            0.3764705882352941,
                            "rgb(150,27,91)"
                          ],
                          [
                            0.4392156862745098,
                            "rgb(177,22,88)"
                          ],
                          [
                            0.5019607843137255,
                            "rgb(203,26,79)"
                          ],
                          [
                            0.5647058823529412,
                            "rgb(223,47,67)"
                          ],
                          [
                            0.6274509803921569,
                            "rgb(236,76,61)"
                          ],
                          [
                            0.6901960784313725,
                            "rgb(242,107,73)"
                          ],
                          [
                            0.7529411764705882,
                            "rgb(244,135,95)"
                          ],
                          [
                            0.8156862745098039,
                            "rgb(245,162,122)"
                          ],
                          [
                            0.8784313725490196,
                            "rgb(246,188,153)"
                          ],
                          [
                            0.9411764705882353,
                            "rgb(247,212,187)"
                          ],
                          [
                            1,
                            "rgb(250,234,220)"
                          ]
                        ],
                        "type": "histogram2d"
                      }
                    ],
                    "histogram2dcontour": [
                      {
                        "colorbar": {
                          "outlinewidth": 0,
                          "tickcolor": "rgb(36,36,36)",
                          "ticklen": 8,
                          "ticks": "outside",
                          "tickwidth": 2
                        },
                        "colorscale": [
                          [
                            0,
                            "rgb(2,4,25)"
                          ],
                          [
                            0.06274509803921569,
                            "rgb(24,15,41)"
                          ],
                          [
                            0.12549019607843137,
                            "rgb(47,23,57)"
                          ],
                          [
                            0.18823529411764706,
                            "rgb(71,28,72)"
                          ],
                          [
                            0.25098039215686274,
                            "rgb(97,30,82)"
                          ],
                          [
                            0.3137254901960784,
                            "rgb(123,30,89)"
                          ],
                          [
                            0.3764705882352941,
                            "rgb(150,27,91)"
                          ],
                          [
                            0.4392156862745098,
                            "rgb(177,22,88)"
                          ],
                          [
                            0.5019607843137255,
                            "rgb(203,26,79)"
                          ],
                          [
                            0.5647058823529412,
                            "rgb(223,47,67)"
                          ],
                          [
                            0.6274509803921569,
                            "rgb(236,76,61)"
                          ],
                          [
                            0.6901960784313725,
                            "rgb(242,107,73)"
                          ],
                          [
                            0.7529411764705882,
                            "rgb(244,135,95)"
                          ],
                          [
                            0.8156862745098039,
                            "rgb(245,162,122)"
                          ],
                          [
                            0.8784313725490196,
                            "rgb(246,188,153)"
                          ],
                          [
                            0.9411764705882353,
                            "rgb(247,212,187)"
                          ],
                          [
                            1,
                            "rgb(250,234,220)"
                          ]
                        ],
                        "type": "histogram2dcontour"
                      }
                    ],
                    "mesh3d": [
                      {
                        "colorbar": {
                          "outlinewidth": 0,
                          "tickcolor": "rgb(36,36,36)",
                          "ticklen": 8,
                          "ticks": "outside",
                          "tickwidth": 2
                        },
                        "type": "mesh3d"
                      }
                    ],
                    "parcoords": [
                      {
                        "line": {
                          "colorbar": {
                            "outlinewidth": 0,
                            "tickcolor": "rgb(36,36,36)",
                            "ticklen": 8,
                            "ticks": "outside",
                            "tickwidth": 2
                          }
                        },
                        "type": "parcoords"
                      }
                    ],
                    "pie": [
                      {
                        "automargin": true,
                        "type": "pie"
                      }
                    ],
                    "scatter": [
                      {
                        "fillpattern": {
                          "fillmode": "overlay",
                          "size": 10,
                          "solidity": 0.2
                        },
                        "type": "scatter"
                      }
                    ],
                    "scatter3d": [
                      {
                        "line": {
                          "colorbar": {
                            "outlinewidth": 0,
                            "tickcolor": "rgb(36,36,36)",
                            "ticklen": 8,
                            "ticks": "outside",
                            "tickwidth": 2
                          }
                        },
                        "marker": {
                          "colorbar": {
                            "outlinewidth": 0,
                            "tickcolor": "rgb(36,36,36)",
                            "ticklen": 8,
                            "ticks": "outside",
                            "tickwidth": 2
                          }
                        },
                        "type": "scatter3d"
                      }
                    ],
                    "scattercarpet": [
                      {
                        "marker": {
                          "colorbar": {
                            "outlinewidth": 0,
                            "tickcolor": "rgb(36,36,36)",
                            "ticklen": 8,
                            "ticks": "outside",
                            "tickwidth": 2
                          }
                        },
                        "type": "scattercarpet"
                      }
                    ],
                    "scattergeo": [
                      {
                        "marker": {
                          "colorbar": {
                            "outlinewidth": 0,
                            "tickcolor": "rgb(36,36,36)",
                            "ticklen": 8,
                            "ticks": "outside",
                            "tickwidth": 2
                          }
                        },
                        "type": "scattergeo"
                      }
                    ],
                    "scattergl": [
                      {
                        "marker": {
                          "colorbar": {
                            "outlinewidth": 0,
                            "tickcolor": "rgb(36,36,36)",
                            "ticklen": 8,
                            "ticks": "outside",
                            "tickwidth": 2
                          }
                        },
                        "type": "scattergl"
                      }
                    ],
                    "scattermapbox": [
                      {
                        "marker": {
                          "colorbar": {
                            "outlinewidth": 0,
                            "tickcolor": "rgb(36,36,36)",
                            "ticklen": 8,
                            "ticks": "outside",
                            "tickwidth": 2
                          }
                        },
                        "type": "scattermapbox"
                      }
                    ],
                    "scatterpolar": [
                      {
                        "marker": {
                          "colorbar": {
                            "outlinewidth": 0,
                            "tickcolor": "rgb(36,36,36)",
                            "ticklen": 8,
                            "ticks": "outside",
                            "tickwidth": 2
                          }
                        },
                        "type": "scatterpolar"
                      }
                    ],
                    "scatterpolargl": [
                      {
                        "marker": {
                          "colorbar": {
                            "outlinewidth": 0,
                            "tickcolor": "rgb(36,36,36)",
                            "ticklen": 8,
                            "ticks": "outside",
                            "tickwidth": 2
                          }
                        },
                        "type": "scatterpolargl"
                      }
                    ],
                    "scatterternary": [
                      {
                        "marker": {
                          "colorbar": {
                            "outlinewidth": 0,
                            "tickcolor": "rgb(36,36,36)",
                            "ticklen": 8,
                            "ticks": "outside",
                            "tickwidth": 2
                          }
                        },
                        "type": "scatterternary"
                      }
                    ],
                    "surface": [
                      {
                        "colorbar": {
                          "outlinewidth": 0,
                          "tickcolor": "rgb(36,36,36)",
                          "ticklen": 8,
                          "ticks": "outside",
                          "tickwidth": 2
                        },
                        "colorscale": [
                          [
                            0,
                            "rgb(2,4,25)"
                          ],
                          [
                            0.06274509803921569,
                            "rgb(24,15,41)"
                          ],
                          [
                            0.12549019607843137,
                            "rgb(47,23,57)"
                          ],
                          [
                            0.18823529411764706,
                            "rgb(71,28,72)"
                          ],
                          [
                            0.25098039215686274,
                            "rgb(97,30,82)"
                          ],
                          [
                            0.3137254901960784,
                            "rgb(123,30,89)"
                          ],
                          [
                            0.3764705882352941,
                            "rgb(150,27,91)"
                          ],
                          [
                            0.4392156862745098,
                            "rgb(177,22,88)"
                          ],
                          [
                            0.5019607843137255,
                            "rgb(203,26,79)"
                          ],
                          [
                            0.5647058823529412,
                            "rgb(223,47,67)"
                          ],
                          [
                            0.6274509803921569,
                            "rgb(236,76,61)"
                          ],
                          [
                            0.6901960784313725,
                            "rgb(242,107,73)"
                          ],
                          [
                            0.7529411764705882,
                            "rgb(244,135,95)"
                          ],
                          [
                            0.8156862745098039,
                            "rgb(245,162,122)"
                          ],
                          [
                            0.8784313725490196,
                            "rgb(246,188,153)"
                          ],
                          [
                            0.9411764705882353,
                            "rgb(247,212,187)"
                          ],
                          [
                            1,
                            "rgb(250,234,220)"
                          ]
                        ],
                        "type": "surface"
                      }
                    ],
                    "table": [
                      {
                        "cells": {
                          "fill": {
                            "color": "rgb(231,231,240)"
                          },
                          "line": {
                            "color": "white"
                          }
                        },
                        "header": {
                          "fill": {
                            "color": "rgb(183,183,191)"
                          },
                          "line": {
                            "color": "white"
                          }
                        },
                        "type": "table"
                      }
                    ]
                  },
                  "layout": {
                    "annotationdefaults": {
                      "arrowcolor": "rgb(67,103,167)"
                    },
                    "autotypenumbers": "strict",
                    "coloraxis": {
                      "colorbar": {
                        "outlinewidth": 0,
                        "tickcolor": "rgb(36,36,36)",
                        "ticklen": 8,
                        "ticks": "outside",
                        "tickwidth": 2
                      }
                    },
                    "colorscale": {
                      "sequential": [
                        [
                          0,
                          "rgb(2,4,25)"
                        ],
                        [
                          0.06274509803921569,
                          "rgb(24,15,41)"
                        ],
                        [
                          0.12549019607843137,
                          "rgb(47,23,57)"
                        ],
                        [
                          0.18823529411764706,
                          "rgb(71,28,72)"
                        ],
                        [
                          0.25098039215686274,
                          "rgb(97,30,82)"
                        ],
                        [
                          0.3137254901960784,
                          "rgb(123,30,89)"
                        ],
                        [
                          0.3764705882352941,
                          "rgb(150,27,91)"
                        ],
                        [
                          0.4392156862745098,
                          "rgb(177,22,88)"
                        ],
                        [
                          0.5019607843137255,
                          "rgb(203,26,79)"
                        ],
                        [
                          0.5647058823529412,
                          "rgb(223,47,67)"
                        ],
                        [
                          0.6274509803921569,
                          "rgb(236,76,61)"
                        ],
                        [
                          0.6901960784313725,
                          "rgb(242,107,73)"
                        ],
                        [
                          0.7529411764705882,
                          "rgb(244,135,95)"
                        ],
                        [
                          0.8156862745098039,
                          "rgb(245,162,122)"
                        ],
                        [
                          0.8784313725490196,
                          "rgb(246,188,153)"
                        ],
                        [
                          0.9411764705882353,
                          "rgb(247,212,187)"
                        ],
                        [
                          1,
                          "rgb(250,234,220)"
                        ]
                      ],
                      "sequentialminus": [
                        [
                          0,
                          "rgb(2,4,25)"
                        ],
                        [
                          0.06274509803921569,
                          "rgb(24,15,41)"
                        ],
                        [
                          0.12549019607843137,
                          "rgb(47,23,57)"
                        ],
                        [
                          0.18823529411764706,
                          "rgb(71,28,72)"
                        ],
                        [
                          0.25098039215686274,
                          "rgb(97,30,82)"
                        ],
                        [
                          0.3137254901960784,
                          "rgb(123,30,89)"
                        ],
                        [
                          0.3764705882352941,
                          "rgb(150,27,91)"
                        ],
                        [
                          0.4392156862745098,
                          "rgb(177,22,88)"
                        ],
                        [
                          0.5019607843137255,
                          "rgb(203,26,79)"
                        ],
                        [
                          0.5647058823529412,
                          "rgb(223,47,67)"
                        ],
                        [
                          0.6274509803921569,
                          "rgb(236,76,61)"
                        ],
                        [
                          0.6901960784313725,
                          "rgb(242,107,73)"
                        ],
                        [
                          0.7529411764705882,
                          "rgb(244,135,95)"
                        ],
                        [
                          0.8156862745098039,
                          "rgb(245,162,122)"
                        ],
                        [
                          0.8784313725490196,
                          "rgb(246,188,153)"
                        ],
                        [
                          0.9411764705882353,
                          "rgb(247,212,187)"
                        ],
                        [
                          1,
                          "rgb(250,234,220)"
                        ]
                      ]
                    },
                    "colorway": [
                      "rgb(76,114,176)",
                      "rgb(221,132,82)",
                      "rgb(85,168,104)",
                      "rgb(196,78,82)",
                      "rgb(129,114,179)",
                      "rgb(147,120,96)",
                      "rgb(218,139,195)",
                      "rgb(140,140,140)",
                      "rgb(204,185,116)",
                      "rgb(100,181,205)"
                    ],
                    "font": {
                      "color": "rgb(36,36,36)"
                    },
                    "geo": {
                      "bgcolor": "white",
                      "lakecolor": "white",
                      "landcolor": "rgb(234,234,242)",
                      "showlakes": true,
                      "showland": true,
                      "subunitcolor": "white"
                    },
                    "hoverlabel": {
                      "align": "left"
                    },
                    "hovermode": "closest",
                    "paper_bgcolor": "white",
                    "plot_bgcolor": "rgb(234,234,242)",
                    "polar": {
                      "angularaxis": {
                        "gridcolor": "white",
                        "linecolor": "white",
                        "showgrid": true,
                        "ticks": ""
                      },
                      "bgcolor": "rgb(234,234,242)",
                      "radialaxis": {
                        "gridcolor": "white",
                        "linecolor": "white",
                        "showgrid": true,
                        "ticks": ""
                      }
                    },
                    "scene": {
                      "xaxis": {
                        "backgroundcolor": "rgb(234,234,242)",
                        "gridcolor": "white",
                        "gridwidth": 2,
                        "linecolor": "white",
                        "showbackground": true,
                        "showgrid": true,
                        "ticks": "",
                        "zerolinecolor": "white"
                      },
                      "yaxis": {
                        "backgroundcolor": "rgb(234,234,242)",
                        "gridcolor": "white",
                        "gridwidth": 2,
                        "linecolor": "white",
                        "showbackground": true,
                        "showgrid": true,
                        "ticks": "",
                        "zerolinecolor": "white"
                      },
                      "zaxis": {
                        "backgroundcolor": "rgb(234,234,242)",
                        "gridcolor": "white",
                        "gridwidth": 2,
                        "linecolor": "white",
                        "showbackground": true,
                        "showgrid": true,
                        "ticks": "",
                        "zerolinecolor": "white"
                      }
                    },
                    "shapedefaults": {
                      "fillcolor": "rgb(67,103,167)",
                      "line": {
                        "width": 0
                      },
                      "opacity": 0.5
                    },
                    "ternary": {
                      "aaxis": {
                        "gridcolor": "white",
                        "linecolor": "white",
                        "showgrid": true,
                        "ticks": ""
                      },
                      "baxis": {
                        "gridcolor": "white",
                        "linecolor": "white",
                        "showgrid": true,
                        "ticks": ""
                      },
                      "bgcolor": "rgb(234,234,242)",
                      "caxis": {
                        "gridcolor": "white",
                        "linecolor": "white",
                        "showgrid": true,
                        "ticks": ""
                      }
                    },
                    "xaxis": {
                      "automargin": true,
                      "gridcolor": "white",
                      "linecolor": "white",
                      "showgrid": true,
                      "ticks": "",
                      "title": {
                        "standoff": 15
                      },
                      "zerolinecolor": "white"
                    },
                    "yaxis": {
                      "automargin": true,
                      "gridcolor": "white",
                      "linecolor": "white",
                      "showgrid": true,
                      "ticks": "",
                      "title": {
                        "standoff": 15
                      },
                      "zerolinecolor": "white"
                    }
                  }
                },
                "title": {
                  "text": "Loss Landscape of SimpleMLP on MNIST"
                },
                "xaxis": {
                  "title": {
                    "text": "Distance from Center in Parameter Space"
                  }
                },
                "yaxis": {
                  "title": {
                    "text": "Loss"
                  }
                }
              }
            }
          },
          "metadata": {},
          "output_type": "display_data"
        }
      ],
      "source": [
        "import plotly.graph_objects as go\n",
        "\n",
        "# Create a Plotly figure\n",
        "fig = go.Figure()\n",
        "\n",
        "# Plotting directly from grouped data\n",
        "for direction, data in df.groupby(level='Direction'):\n",
        "    fig.add_trace(go.Scatter(\n",
        "        x=data.index.get_level_values('Distance'),\n",
        "        y=data['Loss'],\n",
        "        mode='lines+markers',\n",
        "        name=direction\n",
        "    ))\n",
        "\n",
        "# Set axis labels and title with adjusted figure dimensions\n",
        "fig.update_layout(\n",
        "    title=f'Loss Landscape of {center_model.__class__.__name__} on {dataset.__class__.__name__}',\n",
        "    xaxis_title='Distance from Center in Parameter Space',\n",
        "    yaxis_title='Loss',\n",
        "    legend_title='Direction',\n",
        "    template='seaborn',\n",
        "    height=600,\n",
        ")\n",
        "\n",
        "\n",
        "# Show the figure\n",
        "fig.show()\n"
      ]
    },
    {
      "cell_type": "markdown",
      "metadata": {},
      "source": [
        "Now let's measure the roughness."
      ]
    },
    {
      "cell_type": "code",
      "execution_count": 25,
      "metadata": {},
      "outputs": [
        {
          "data": {
            "text/html": [
              "<div>\n",
              "<style scoped>\n",
              "    .dataframe tbody tr th:only-of-type {\n",
              "        vertical-align: middle;\n",
              "    }\n",
              "\n",
              "    .dataframe tbody tr th {\n",
              "        vertical-align: top;\n",
              "    }\n",
              "\n",
              "    .dataframe thead th {\n",
              "        text-align: right;\n",
              "    }\n",
              "</style>\n",
              "<table border=\"1\" class=\"dataframe\">\n",
              "  <thead>\n",
              "    <tr style=\"text-align: right;\">\n",
              "      <th></th>\n",
              "      <th></th>\n",
              "      <th>Model</th>\n",
              "      <th>Loss</th>\n",
              "      <th>Roughness</th>\n",
              "    </tr>\n",
              "    <tr>\n",
              "      <th>Direction</th>\n",
              "      <th>Distance</th>\n",
              "      <th></th>\n",
              "      <th></th>\n",
              "      <th></th>\n",
              "    </tr>\n",
              "  </thead>\n",
              "  <tbody>\n",
              "    <tr>\n",
              "      <th rowspan=\"5\" valign=\"top\">Ascent</th>\n",
              "      <th>0.000000</th>\n",
              "      <td>NaN</td>\n",
              "      <td>2.303077</td>\n",
              "      <td>NaN</td>\n",
              "    </tr>\n",
              "    <tr>\n",
              "      <th>0.062500</th>\n",
              "      <td>SimpleMLP(\\n  (fc1): Linear(in_features=784, o...</td>\n",
              "      <td>2.335889</td>\n",
              "      <td>1.000001</td>\n",
              "    </tr>\n",
              "    <tr>\n",
              "      <th>0.125000</th>\n",
              "      <td>SimpleMLP(\\n  (fc1): Linear(in_features=784, o...</td>\n",
              "      <td>2.368436</td>\n",
              "      <td>1.000065</td>\n",
              "    </tr>\n",
              "    <tr>\n",
              "      <th>0.250000</th>\n",
              "      <td>SimpleMLP(\\n  (fc1): Linear(in_features=784, o...</td>\n",
              "      <td>2.430218</td>\n",
              "      <td>1.000472</td>\n",
              "    </tr>\n",
              "    <tr>\n",
              "      <th>0.500000</th>\n",
              "      <td>SimpleMLP(\\n  (fc1): Linear(in_features=784, o...</td>\n",
              "      <td>2.538586</td>\n",
              "      <td>1.000280</td>\n",
              "    </tr>\n",
              "    <tr>\n",
              "      <th>...</th>\n",
              "      <th>...</th>\n",
              "      <td>...</td>\n",
              "      <td>...</td>\n",
              "      <td>...</td>\n",
              "    </tr>\n",
              "    <tr>\n",
              "      <th rowspan=\"5\" valign=\"top\">Radially Out ⋅ P(weight)</th>\n",
              "      <th>0.100656</th>\n",
              "      <td>SimpleMLP(\\n  (fc1): Linear(in_features=784, o...</td>\n",
              "      <td>2.303110</td>\n",
              "      <td>1.000000</td>\n",
              "    </tr>\n",
              "    <tr>\n",
              "      <th>0.201311</th>\n",
              "      <td>SimpleMLP(\\n  (fc1): Linear(in_features=784, o...</td>\n",
              "      <td>2.303151</td>\n",
              "      <td>1.000000</td>\n",
              "    </tr>\n",
              "    <tr>\n",
              "      <th>0.402623</th>\n",
              "      <td>SimpleMLP(\\n  (fc1): Linear(in_features=784, o...</td>\n",
              "      <td>2.303259</td>\n",
              "      <td>1.000000</td>\n",
              "    </tr>\n",
              "    <tr>\n",
              "      <th>0.805245</th>\n",
              "      <td>SimpleMLP(\\n  (fc1): Linear(in_features=784, o...</td>\n",
              "      <td>2.303591</td>\n",
              "      <td>1.000000</td>\n",
              "    </tr>\n",
              "    <tr>\n",
              "      <th>1.610490</th>\n",
              "      <td>SimpleMLP(\\n  (fc1): Linear(in_features=784, o...</td>\n",
              "      <td>2.304842</td>\n",
              "      <td>NaN</td>\n",
              "    </tr>\n",
              "  </tbody>\n",
              "</table>\n",
              "<p>96 rows × 3 columns</p>\n",
              "</div>"
            ],
            "text/plain": [
              "                                                                               Model  \\\n",
              "Direction                Distance                                                      \n",
              "Ascent                   0.000000                                                NaN   \n",
              "                         0.062500  SimpleMLP(\\n  (fc1): Linear(in_features=784, o...   \n",
              "                         0.125000  SimpleMLP(\\n  (fc1): Linear(in_features=784, o...   \n",
              "                         0.250000  SimpleMLP(\\n  (fc1): Linear(in_features=784, o...   \n",
              "                         0.500000  SimpleMLP(\\n  (fc1): Linear(in_features=784, o...   \n",
              "...                                                                              ...   \n",
              "Radially Out ⋅ P(weight) 0.100656  SimpleMLP(\\n  (fc1): Linear(in_features=784, o...   \n",
              "                         0.201311  SimpleMLP(\\n  (fc1): Linear(in_features=784, o...   \n",
              "                         0.402623  SimpleMLP(\\n  (fc1): Linear(in_features=784, o...   \n",
              "                         0.805245  SimpleMLP(\\n  (fc1): Linear(in_features=784, o...   \n",
              "                         1.610490  SimpleMLP(\\n  (fc1): Linear(in_features=784, o...   \n",
              "\n",
              "                                       Loss  Roughness  \n",
              "Direction                Distance                       \n",
              "Ascent                   0.000000  2.303077        NaN  \n",
              "                         0.062500  2.335889   1.000001  \n",
              "                         0.125000  2.368436   1.000065  \n",
              "                         0.250000  2.430218   1.000472  \n",
              "                         0.500000  2.538586   1.000280  \n",
              "...                                     ...        ...  \n",
              "Radially Out ⋅ P(weight) 0.100656  2.303110   1.000000  \n",
              "                         0.201311  2.303151   1.000000  \n",
              "                         0.402623  2.303259   1.000000  \n",
              "                         0.805245  2.303591   1.000000  \n",
              "                         1.610490  2.304842        NaN  \n",
              "\n",
              "[96 rows x 3 columns]"
            ]
          },
          "execution_count": 25,
          "metadata": {},
          "output_type": "execute_result"
        }
      ],
      "source": [
        "# TODO: Add nice explanation of the roughness calculation\n",
        "df['Roughness'] = np.nan\n",
        "\n",
        "# Calculate the roughness, one direction at a time\n",
        "for direction, group in df.groupby(level='Direction'):\n",
        "    distA = group.index.get_level_values('Distance').to_numpy()\n",
        "    losses = group['Loss'].to_numpy()\n",
        "\n",
        "    # Named slices, so that \n",
        "    # distA[x] really corresponds to the distance between A and X ∈ {A, B, C},\n",
        "    # losses[x] really corresponds to the loss at X ∈ {A, B, C}\n",
        "    a = 0\n",
        "    b = slice(1, -1)\n",
        "    c = slice(2, None)\n",
        "\n",
        "    # Ensure distances and slices are correct\n",
        "    assert np.all(distA[c] == 2 * distA[b]), \"Distance check failed\"\n",
        "\n",
        "    # Calculate paths between A, B, and C\n",
        "    AB = np.sqrt((losses[b] - losses[a]) ** 2 + distA[b] ** 2)\n",
        "    BC = np.sqrt((losses[c] - losses[b]) ** 2 + distA[b] ** 2)\n",
        "    AC = np.sqrt((losses[c] - losses[a]) ** 2 + distA[c] ** 2)\n",
        "\n",
        "    # Roghness is how much the path via B (A->B->C) is longer than the direct path A->C\n",
        "    # subtracting 1, then we can use log scale better!\n",
        "    roughness = (AB + BC) / AC - 1\n",
        "\n",
        "    # Update DataFrame with roughness values\n",
        "    df.loc[(direction,), 'Roughness'] = np.concatenate([[np.nan], roughness, [np.nan]])\n",
        "\n",
        "df"
      ]
    },
    {
      "cell_type": "code",
      "execution_count": 29,
      "metadata": {},
      "outputs": [
        {
          "data": {
            "application/vnd.plotly.v1+json": {
              "config": {
                "plotlyServerURL": "https://plot.ly"
              },
              "data": [
                {
                  "mode": "markers",
                  "name": "Ascent",
                  "type": "scatter",
                  "x": [
                    0,
                    0.0625,
                    0.125,
                    0.25,
                    0.5,
                    1
                  ],
                  "y": [
                    null,
                    1.000001392226827,
                    1.0000646196891751,
                    1.0004721590412071,
                    1.0002795383481111,
                    null
                  ]
                },
                {
                  "mode": "markers",
                  "name": "Ascent ⋅ P(bias)",
                  "type": "scatter",
                  "x": [
                    0,
                    0.0810524721656881,
                    0.1621049443313762,
                    0.3242098886627524,
                    0.6484197773255048,
                    1.2968395546510096
                  ],
                  "y": [
                    null,
                    1.000005042974975,
                    1.0000195275078436,
                    1.0000734930713284,
                    1.0002595469109876,
                    null
                  ]
                },
                {
                  "mode": "markers",
                  "name": "Ascent ⋅ P(fc1)",
                  "type": "scatter",
                  "x": [
                    0,
                    0.07432544468767006,
                    0.14865088937534013,
                    0.29730177875068026,
                    0.5946035575013605,
                    1.189207115002721
                  ],
                  "y": [
                    null,
                    1.000011872593216,
                    1.000212707164734,
                    1.001078979330433,
                    1.0011112160820588,
                    null
                  ]
                },
                {
                  "mode": "markers",
                  "name": "Ascent ⋅ P(weight)",
                  "type": "scatter",
                  "x": [
                    0,
                    0.07761611325459275,
                    0.1552322265091855,
                    0.310464453018371,
                    0.620928906036742,
                    1.241857812073484
                  ],
                  "y": [
                    null,
                    1.0000067154615495,
                    1.0001499804668934,
                    1.0006162023054819,
                    1.0000357230391717,
                    null
                  ]
                },
                {
                  "mode": "markers",
                  "name": "Descent",
                  "type": "scatter",
                  "x": [
                    0,
                    0.06526711140171336,
                    0.13053422280342672,
                    0.26106844560685344,
                    0.5221368912137069,
                    1.0442737824274138
                  ],
                  "y": [
                    null,
                    1.0000561043431244,
                    1.0003719620291764,
                    1.0013325106285853,
                    1.0019656590358423,
                    null
                  ]
                },
                {
                  "mode": "markers",
                  "name": "Descent ⋅ P(bias)",
                  "type": "scatter",
                  "x": [
                    0,
                    0.09230163412121871,
                    0.18460326824243742,
                    0.36920653648487484,
                    0.7384130729697497,
                    1.4768261459394993
                  ],
                  "y": [
                    null,
                    1.0000068941773046,
                    1.000028482564511,
                    1.0001188509310301,
                    1.0005061169456284,
                    null
                  ]
                },
                {
                  "mode": "markers",
                  "name": "Descent ⋅ P(fc1)",
                  "type": "scatter",
                  "x": [
                    0,
                    0.08464097168355579,
                    0.16928194336711158,
                    0.33856388673422316,
                    0.6771277734684463,
                    1.3542555469368927
                  ],
                  "y": [
                    null,
                    1.0001297768727024,
                    1.0007254697972732,
                    1.0017393265813495,
                    1.0016200325258906,
                    null
                  ]
                },
                {
                  "mode": "markers",
                  "name": "Descent ⋅ P(weight)",
                  "type": "scatter",
                  "x": [
                    0,
                    0.08838834764831845,
                    0.1767766952966369,
                    0.3535533905932738,
                    0.7071067811865476,
                    1.4142135623730951
                  ],
                  "y": [
                    null,
                    1.000129538796502,
                    1.0007186969059476,
                    1.001685690769283,
                    1.002378727211261,
                    null
                  ]
                },
                {
                  "mode": "markers",
                  "name": "Radially In",
                  "type": "scatter",
                  "x": [
                    0,
                    0.07117428967229322,
                    0.14234857934458645,
                    0.2846971586891729,
                    0.5693943173783458,
                    1.1387886347566916
                  ],
                  "y": [
                    null,
                    1.0000000005063479,
                    1.000000001843133,
                    1.0000000063714698,
                    1.0000000185337634,
                    null
                  ]
                },
                {
                  "mode": "markers",
                  "name": "Radially In ⋅ P(bias)",
                  "type": "scatter",
                  "x": [
                    0,
                    0.11970041008732171,
                    0.23940082017464343,
                    0.47880164034928685,
                    0.9576032806985737,
                    1.9152065613971474
                  ],
                  "y": [
                    null,
                    1.00000016543894,
                    1.0000006618548112,
                    1.0000025970140356,
                    1.0000089137273822,
                    null
                  ]
                },
                {
                  "mode": "markers",
                  "name": "Radially In ⋅ P(fc1)",
                  "type": "scatter",
                  "x": [
                    0,
                    0.10976576002333122,
                    0.21953152004666243,
                    0.43906304009332486,
                    0.8781260801866497,
                    1.7562521603732995
                  ],
                  "y": [
                    null,
                    1.0000000000369114,
                    1.000000000161394,
                    1.0000000006358156,
                    1.0000000026611242,
                    null
                  ]
                },
                {
                  "mode": "markers",
                  "name": "Radially In ⋅ P(weight)",
                  "type": "scatter",
                  "x": [
                    0,
                    0.1146255054005839,
                    0.2292510108011678,
                    0.4585020216023356,
                    0.9170040432046712,
                    1.8340080864093424
                  ],
                  "y": [
                    null,
                    1.00000000078639,
                    1.000000002734014,
                    1.0000000081469969,
                    1.000000017480727,
                    null
                  ]
                },
                {
                  "mode": "markers",
                  "name": "Radially Out",
                  "type": "scatter",
                  "x": [
                    0,
                    0.0681567332915786,
                    0.1363134665831572,
                    0.2726269331663144,
                    0.5452538663326288,
                    1.0905077326652577
                  ],
                  "y": [
                    null,
                    1.000000000522355,
                    1.0000000022587048,
                    1.0000000103684115,
                    1.0000000544055407,
                    null
                  ]
                },
                {
                  "mode": "markers",
                  "name": "Radially Out ⋅ P(bias)",
                  "type": "scatter",
                  "x": [
                    0,
                    0.10511205190671431,
                    0.21022410381342863,
                    0.42044820762685725,
                    0.8408964152537145,
                    1.681792830507429
                  ],
                  "y": [
                    null,
                    1.0000001278703832,
                    1.0000004991298244,
                    1.0000017726167523,
                    1.0000058630567632,
                    null
                  ]
                },
                {
                  "mode": "markers",
                  "name": "Radially Out ⋅ P(fc1)",
                  "type": "scatter",
                  "x": [
                    0,
                    0.0963881765879963,
                    0.1927763531759926,
                    0.3855527063519852,
                    0.7711054127039704,
                    1.5422108254079407
                  ],
                  "y": [
                    null,
                    1.0000000000277376,
                    1.00000000011075,
                    1.0000000004571357,
                    1.0000000018098707,
                    null
                  ]
                },
                {
                  "mode": "markers",
                  "name": "Radially Out ⋅ P(weight)",
                  "type": "scatter",
                  "x": [
                    0,
                    0.10065564574682839,
                    0.20131129149365679,
                    0.40262258298731357,
                    0.8052451659746271,
                    1.6104903319492543
                  ],
                  "y": [
                    null,
                    1.0000000007562644,
                    1.0000000034086562,
                    1.0000000171988364,
                    1.0000001045905715,
                    null
                  ]
                }
              ],
              "layout": {
                "height": 600,
                "legend": {
                  "title": {
                    "text": "Direction"
                  }
                },
                "template": {
                  "data": {
                    "bar": [
                      {
                        "error_x": {
                          "color": "rgb(36,36,36)"
                        },
                        "error_y": {
                          "color": "rgb(36,36,36)"
                        },
                        "marker": {
                          "line": {
                            "color": "rgb(234,234,242)",
                            "width": 0.5
                          },
                          "pattern": {
                            "fillmode": "overlay",
                            "size": 10,
                            "solidity": 0.2
                          }
                        },
                        "type": "bar"
                      }
                    ],
                    "barpolar": [
                      {
                        "marker": {
                          "line": {
                            "color": "rgb(234,234,242)",
                            "width": 0.5
                          },
                          "pattern": {
                            "fillmode": "overlay",
                            "size": 10,
                            "solidity": 0.2
                          }
                        },
                        "type": "barpolar"
                      }
                    ],
                    "carpet": [
                      {
                        "aaxis": {
                          "endlinecolor": "rgb(36,36,36)",
                          "gridcolor": "white",
                          "linecolor": "white",
                          "minorgridcolor": "white",
                          "startlinecolor": "rgb(36,36,36)"
                        },
                        "baxis": {
                          "endlinecolor": "rgb(36,36,36)",
                          "gridcolor": "white",
                          "linecolor": "white",
                          "minorgridcolor": "white",
                          "startlinecolor": "rgb(36,36,36)"
                        },
                        "type": "carpet"
                      }
                    ],
                    "choropleth": [
                      {
                        "colorbar": {
                          "outlinewidth": 0,
                          "tickcolor": "rgb(36,36,36)",
                          "ticklen": 8,
                          "ticks": "outside",
                          "tickwidth": 2
                        },
                        "type": "choropleth"
                      }
                    ],
                    "contour": [
                      {
                        "colorbar": {
                          "outlinewidth": 0,
                          "tickcolor": "rgb(36,36,36)",
                          "ticklen": 8,
                          "ticks": "outside",
                          "tickwidth": 2
                        },
                        "colorscale": [
                          [
                            0,
                            "rgb(2,4,25)"
                          ],
                          [
                            0.06274509803921569,
                            "rgb(24,15,41)"
                          ],
                          [
                            0.12549019607843137,
                            "rgb(47,23,57)"
                          ],
                          [
                            0.18823529411764706,
                            "rgb(71,28,72)"
                          ],
                          [
                            0.25098039215686274,
                            "rgb(97,30,82)"
                          ],
                          [
                            0.3137254901960784,
                            "rgb(123,30,89)"
                          ],
                          [
                            0.3764705882352941,
                            "rgb(150,27,91)"
                          ],
                          [
                            0.4392156862745098,
                            "rgb(177,22,88)"
                          ],
                          [
                            0.5019607843137255,
                            "rgb(203,26,79)"
                          ],
                          [
                            0.5647058823529412,
                            "rgb(223,47,67)"
                          ],
                          [
                            0.6274509803921569,
                            "rgb(236,76,61)"
                          ],
                          [
                            0.6901960784313725,
                            "rgb(242,107,73)"
                          ],
                          [
                            0.7529411764705882,
                            "rgb(244,135,95)"
                          ],
                          [
                            0.8156862745098039,
                            "rgb(245,162,122)"
                          ],
                          [
                            0.8784313725490196,
                            "rgb(246,188,153)"
                          ],
                          [
                            0.9411764705882353,
                            "rgb(247,212,187)"
                          ],
                          [
                            1,
                            "rgb(250,234,220)"
                          ]
                        ],
                        "type": "contour"
                      }
                    ],
                    "contourcarpet": [
                      {
                        "colorbar": {
                          "outlinewidth": 0,
                          "tickcolor": "rgb(36,36,36)",
                          "ticklen": 8,
                          "ticks": "outside",
                          "tickwidth": 2
                        },
                        "type": "contourcarpet"
                      }
                    ],
                    "heatmap": [
                      {
                        "colorbar": {
                          "outlinewidth": 0,
                          "tickcolor": "rgb(36,36,36)",
                          "ticklen": 8,
                          "ticks": "outside",
                          "tickwidth": 2
                        },
                        "colorscale": [
                          [
                            0,
                            "rgb(2,4,25)"
                          ],
                          [
                            0.06274509803921569,
                            "rgb(24,15,41)"
                          ],
                          [
                            0.12549019607843137,
                            "rgb(47,23,57)"
                          ],
                          [
                            0.18823529411764706,
                            "rgb(71,28,72)"
                          ],
                          [
                            0.25098039215686274,
                            "rgb(97,30,82)"
                          ],
                          [
                            0.3137254901960784,
                            "rgb(123,30,89)"
                          ],
                          [
                            0.3764705882352941,
                            "rgb(150,27,91)"
                          ],
                          [
                            0.4392156862745098,
                            "rgb(177,22,88)"
                          ],
                          [
                            0.5019607843137255,
                            "rgb(203,26,79)"
                          ],
                          [
                            0.5647058823529412,
                            "rgb(223,47,67)"
                          ],
                          [
                            0.6274509803921569,
                            "rgb(236,76,61)"
                          ],
                          [
                            0.6901960784313725,
                            "rgb(242,107,73)"
                          ],
                          [
                            0.7529411764705882,
                            "rgb(244,135,95)"
                          ],
                          [
                            0.8156862745098039,
                            "rgb(245,162,122)"
                          ],
                          [
                            0.8784313725490196,
                            "rgb(246,188,153)"
                          ],
                          [
                            0.9411764705882353,
                            "rgb(247,212,187)"
                          ],
                          [
                            1,
                            "rgb(250,234,220)"
                          ]
                        ],
                        "type": "heatmap"
                      }
                    ],
                    "heatmapgl": [
                      {
                        "colorbar": {
                          "outlinewidth": 0,
                          "tickcolor": "rgb(36,36,36)",
                          "ticklen": 8,
                          "ticks": "outside",
                          "tickwidth": 2
                        },
                        "colorscale": [
                          [
                            0,
                            "rgb(2,4,25)"
                          ],
                          [
                            0.06274509803921569,
                            "rgb(24,15,41)"
                          ],
                          [
                            0.12549019607843137,
                            "rgb(47,23,57)"
                          ],
                          [
                            0.18823529411764706,
                            "rgb(71,28,72)"
                          ],
                          [
                            0.25098039215686274,
                            "rgb(97,30,82)"
                          ],
                          [
                            0.3137254901960784,
                            "rgb(123,30,89)"
                          ],
                          [
                            0.3764705882352941,
                            "rgb(150,27,91)"
                          ],
                          [
                            0.4392156862745098,
                            "rgb(177,22,88)"
                          ],
                          [
                            0.5019607843137255,
                            "rgb(203,26,79)"
                          ],
                          [
                            0.5647058823529412,
                            "rgb(223,47,67)"
                          ],
                          [
                            0.6274509803921569,
                            "rgb(236,76,61)"
                          ],
                          [
                            0.6901960784313725,
                            "rgb(242,107,73)"
                          ],
                          [
                            0.7529411764705882,
                            "rgb(244,135,95)"
                          ],
                          [
                            0.8156862745098039,
                            "rgb(245,162,122)"
                          ],
                          [
                            0.8784313725490196,
                            "rgb(246,188,153)"
                          ],
                          [
                            0.9411764705882353,
                            "rgb(247,212,187)"
                          ],
                          [
                            1,
                            "rgb(250,234,220)"
                          ]
                        ],
                        "type": "heatmapgl"
                      }
                    ],
                    "histogram": [
                      {
                        "marker": {
                          "pattern": {
                            "fillmode": "overlay",
                            "size": 10,
                            "solidity": 0.2
                          }
                        },
                        "type": "histogram"
                      }
                    ],
                    "histogram2d": [
                      {
                        "colorbar": {
                          "outlinewidth": 0,
                          "tickcolor": "rgb(36,36,36)",
                          "ticklen": 8,
                          "ticks": "outside",
                          "tickwidth": 2
                        },
                        "colorscale": [
                          [
                            0,
                            "rgb(2,4,25)"
                          ],
                          [
                            0.06274509803921569,
                            "rgb(24,15,41)"
                          ],
                          [
                            0.12549019607843137,
                            "rgb(47,23,57)"
                          ],
                          [
                            0.18823529411764706,
                            "rgb(71,28,72)"
                          ],
                          [
                            0.25098039215686274,
                            "rgb(97,30,82)"
                          ],
                          [
                            0.3137254901960784,
                            "rgb(123,30,89)"
                          ],
                          [
                            0.3764705882352941,
                            "rgb(150,27,91)"
                          ],
                          [
                            0.4392156862745098,
                            "rgb(177,22,88)"
                          ],
                          [
                            0.5019607843137255,
                            "rgb(203,26,79)"
                          ],
                          [
                            0.5647058823529412,
                            "rgb(223,47,67)"
                          ],
                          [
                            0.6274509803921569,
                            "rgb(236,76,61)"
                          ],
                          [
                            0.6901960784313725,
                            "rgb(242,107,73)"
                          ],
                          [
                            0.7529411764705882,
                            "rgb(244,135,95)"
                          ],
                          [
                            0.8156862745098039,
                            "rgb(245,162,122)"
                          ],
                          [
                            0.8784313725490196,
                            "rgb(246,188,153)"
                          ],
                          [
                            0.9411764705882353,
                            "rgb(247,212,187)"
                          ],
                          [
                            1,
                            "rgb(250,234,220)"
                          ]
                        ],
                        "type": "histogram2d"
                      }
                    ],
                    "histogram2dcontour": [
                      {
                        "colorbar": {
                          "outlinewidth": 0,
                          "tickcolor": "rgb(36,36,36)",
                          "ticklen": 8,
                          "ticks": "outside",
                          "tickwidth": 2
                        },
                        "colorscale": [
                          [
                            0,
                            "rgb(2,4,25)"
                          ],
                          [
                            0.06274509803921569,
                            "rgb(24,15,41)"
                          ],
                          [
                            0.12549019607843137,
                            "rgb(47,23,57)"
                          ],
                          [
                            0.18823529411764706,
                            "rgb(71,28,72)"
                          ],
                          [
                            0.25098039215686274,
                            "rgb(97,30,82)"
                          ],
                          [
                            0.3137254901960784,
                            "rgb(123,30,89)"
                          ],
                          [
                            0.3764705882352941,
                            "rgb(150,27,91)"
                          ],
                          [
                            0.4392156862745098,
                            "rgb(177,22,88)"
                          ],
                          [
                            0.5019607843137255,
                            "rgb(203,26,79)"
                          ],
                          [
                            0.5647058823529412,
                            "rgb(223,47,67)"
                          ],
                          [
                            0.6274509803921569,
                            "rgb(236,76,61)"
                          ],
                          [
                            0.6901960784313725,
                            "rgb(242,107,73)"
                          ],
                          [
                            0.7529411764705882,
                            "rgb(244,135,95)"
                          ],
                          [
                            0.8156862745098039,
                            "rgb(245,162,122)"
                          ],
                          [
                            0.8784313725490196,
                            "rgb(246,188,153)"
                          ],
                          [
                            0.9411764705882353,
                            "rgb(247,212,187)"
                          ],
                          [
                            1,
                            "rgb(250,234,220)"
                          ]
                        ],
                        "type": "histogram2dcontour"
                      }
                    ],
                    "mesh3d": [
                      {
                        "colorbar": {
                          "outlinewidth": 0,
                          "tickcolor": "rgb(36,36,36)",
                          "ticklen": 8,
                          "ticks": "outside",
                          "tickwidth": 2
                        },
                        "type": "mesh3d"
                      }
                    ],
                    "parcoords": [
                      {
                        "line": {
                          "colorbar": {
                            "outlinewidth": 0,
                            "tickcolor": "rgb(36,36,36)",
                            "ticklen": 8,
                            "ticks": "outside",
                            "tickwidth": 2
                          }
                        },
                        "type": "parcoords"
                      }
                    ],
                    "pie": [
                      {
                        "automargin": true,
                        "type": "pie"
                      }
                    ],
                    "scatter": [
                      {
                        "fillpattern": {
                          "fillmode": "overlay",
                          "size": 10,
                          "solidity": 0.2
                        },
                        "type": "scatter"
                      }
                    ],
                    "scatter3d": [
                      {
                        "line": {
                          "colorbar": {
                            "outlinewidth": 0,
                            "tickcolor": "rgb(36,36,36)",
                            "ticklen": 8,
                            "ticks": "outside",
                            "tickwidth": 2
                          }
                        },
                        "marker": {
                          "colorbar": {
                            "outlinewidth": 0,
                            "tickcolor": "rgb(36,36,36)",
                            "ticklen": 8,
                            "ticks": "outside",
                            "tickwidth": 2
                          }
                        },
                        "type": "scatter3d"
                      }
                    ],
                    "scattercarpet": [
                      {
                        "marker": {
                          "colorbar": {
                            "outlinewidth": 0,
                            "tickcolor": "rgb(36,36,36)",
                            "ticklen": 8,
                            "ticks": "outside",
                            "tickwidth": 2
                          }
                        },
                        "type": "scattercarpet"
                      }
                    ],
                    "scattergeo": [
                      {
                        "marker": {
                          "colorbar": {
                            "outlinewidth": 0,
                            "tickcolor": "rgb(36,36,36)",
                            "ticklen": 8,
                            "ticks": "outside",
                            "tickwidth": 2
                          }
                        },
                        "type": "scattergeo"
                      }
                    ],
                    "scattergl": [
                      {
                        "marker": {
                          "colorbar": {
                            "outlinewidth": 0,
                            "tickcolor": "rgb(36,36,36)",
                            "ticklen": 8,
                            "ticks": "outside",
                            "tickwidth": 2
                          }
                        },
                        "type": "scattergl"
                      }
                    ],
                    "scattermapbox": [
                      {
                        "marker": {
                          "colorbar": {
                            "outlinewidth": 0,
                            "tickcolor": "rgb(36,36,36)",
                            "ticklen": 8,
                            "ticks": "outside",
                            "tickwidth": 2
                          }
                        },
                        "type": "scattermapbox"
                      }
                    ],
                    "scatterpolar": [
                      {
                        "marker": {
                          "colorbar": {
                            "outlinewidth": 0,
                            "tickcolor": "rgb(36,36,36)",
                            "ticklen": 8,
                            "ticks": "outside",
                            "tickwidth": 2
                          }
                        },
                        "type": "scatterpolar"
                      }
                    ],
                    "scatterpolargl": [
                      {
                        "marker": {
                          "colorbar": {
                            "outlinewidth": 0,
                            "tickcolor": "rgb(36,36,36)",
                            "ticklen": 8,
                            "ticks": "outside",
                            "tickwidth": 2
                          }
                        },
                        "type": "scatterpolargl"
                      }
                    ],
                    "scatterternary": [
                      {
                        "marker": {
                          "colorbar": {
                            "outlinewidth": 0,
                            "tickcolor": "rgb(36,36,36)",
                            "ticklen": 8,
                            "ticks": "outside",
                            "tickwidth": 2
                          }
                        },
                        "type": "scatterternary"
                      }
                    ],
                    "surface": [
                      {
                        "colorbar": {
                          "outlinewidth": 0,
                          "tickcolor": "rgb(36,36,36)",
                          "ticklen": 8,
                          "ticks": "outside",
                          "tickwidth": 2
                        },
                        "colorscale": [
                          [
                            0,
                            "rgb(2,4,25)"
                          ],
                          [
                            0.06274509803921569,
                            "rgb(24,15,41)"
                          ],
                          [
                            0.12549019607843137,
                            "rgb(47,23,57)"
                          ],
                          [
                            0.18823529411764706,
                            "rgb(71,28,72)"
                          ],
                          [
                            0.25098039215686274,
                            "rgb(97,30,82)"
                          ],
                          [
                            0.3137254901960784,
                            "rgb(123,30,89)"
                          ],
                          [
                            0.3764705882352941,
                            "rgb(150,27,91)"
                          ],
                          [
                            0.4392156862745098,
                            "rgb(177,22,88)"
                          ],
                          [
                            0.5019607843137255,
                            "rgb(203,26,79)"
                          ],
                          [
                            0.5647058823529412,
                            "rgb(223,47,67)"
                          ],
                          [
                            0.6274509803921569,
                            "rgb(236,76,61)"
                          ],
                          [
                            0.6901960784313725,
                            "rgb(242,107,73)"
                          ],
                          [
                            0.7529411764705882,
                            "rgb(244,135,95)"
                          ],
                          [
                            0.8156862745098039,
                            "rgb(245,162,122)"
                          ],
                          [
                            0.8784313725490196,
                            "rgb(246,188,153)"
                          ],
                          [
                            0.9411764705882353,
                            "rgb(247,212,187)"
                          ],
                          [
                            1,
                            "rgb(250,234,220)"
                          ]
                        ],
                        "type": "surface"
                      }
                    ],
                    "table": [
                      {
                        "cells": {
                          "fill": {
                            "color": "rgb(231,231,240)"
                          },
                          "line": {
                            "color": "white"
                          }
                        },
                        "header": {
                          "fill": {
                            "color": "rgb(183,183,191)"
                          },
                          "line": {
                            "color": "white"
                          }
                        },
                        "type": "table"
                      }
                    ]
                  },
                  "layout": {
                    "annotationdefaults": {
                      "arrowcolor": "rgb(67,103,167)"
                    },
                    "autotypenumbers": "strict",
                    "coloraxis": {
                      "colorbar": {
                        "outlinewidth": 0,
                        "tickcolor": "rgb(36,36,36)",
                        "ticklen": 8,
                        "ticks": "outside",
                        "tickwidth": 2
                      }
                    },
                    "colorscale": {
                      "sequential": [
                        [
                          0,
                          "rgb(2,4,25)"
                        ],
                        [
                          0.06274509803921569,
                          "rgb(24,15,41)"
                        ],
                        [
                          0.12549019607843137,
                          "rgb(47,23,57)"
                        ],
                        [
                          0.18823529411764706,
                          "rgb(71,28,72)"
                        ],
                        [
                          0.25098039215686274,
                          "rgb(97,30,82)"
                        ],
                        [
                          0.3137254901960784,
                          "rgb(123,30,89)"
                        ],
                        [
                          0.3764705882352941,
                          "rgb(150,27,91)"
                        ],
                        [
                          0.4392156862745098,
                          "rgb(177,22,88)"
                        ],
                        [
                          0.5019607843137255,
                          "rgb(203,26,79)"
                        ],
                        [
                          0.5647058823529412,
                          "rgb(223,47,67)"
                        ],
                        [
                          0.6274509803921569,
                          "rgb(236,76,61)"
                        ],
                        [
                          0.6901960784313725,
                          "rgb(242,107,73)"
                        ],
                        [
                          0.7529411764705882,
                          "rgb(244,135,95)"
                        ],
                        [
                          0.8156862745098039,
                          "rgb(245,162,122)"
                        ],
                        [
                          0.8784313725490196,
                          "rgb(246,188,153)"
                        ],
                        [
                          0.9411764705882353,
                          "rgb(247,212,187)"
                        ],
                        [
                          1,
                          "rgb(250,234,220)"
                        ]
                      ],
                      "sequentialminus": [
                        [
                          0,
                          "rgb(2,4,25)"
                        ],
                        [
                          0.06274509803921569,
                          "rgb(24,15,41)"
                        ],
                        [
                          0.12549019607843137,
                          "rgb(47,23,57)"
                        ],
                        [
                          0.18823529411764706,
                          "rgb(71,28,72)"
                        ],
                        [
                          0.25098039215686274,
                          "rgb(97,30,82)"
                        ],
                        [
                          0.3137254901960784,
                          "rgb(123,30,89)"
                        ],
                        [
                          0.3764705882352941,
                          "rgb(150,27,91)"
                        ],
                        [
                          0.4392156862745098,
                          "rgb(177,22,88)"
                        ],
                        [
                          0.5019607843137255,
                          "rgb(203,26,79)"
                        ],
                        [
                          0.5647058823529412,
                          "rgb(223,47,67)"
                        ],
                        [
                          0.6274509803921569,
                          "rgb(236,76,61)"
                        ],
                        [
                          0.6901960784313725,
                          "rgb(242,107,73)"
                        ],
                        [
                          0.7529411764705882,
                          "rgb(244,135,95)"
                        ],
                        [
                          0.8156862745098039,
                          "rgb(245,162,122)"
                        ],
                        [
                          0.8784313725490196,
                          "rgb(246,188,153)"
                        ],
                        [
                          0.9411764705882353,
                          "rgb(247,212,187)"
                        ],
                        [
                          1,
                          "rgb(250,234,220)"
                        ]
                      ]
                    },
                    "colorway": [
                      "rgb(76,114,176)",
                      "rgb(221,132,82)",
                      "rgb(85,168,104)",
                      "rgb(196,78,82)",
                      "rgb(129,114,179)",
                      "rgb(147,120,96)",
                      "rgb(218,139,195)",
                      "rgb(140,140,140)",
                      "rgb(204,185,116)",
                      "rgb(100,181,205)"
                    ],
                    "font": {
                      "color": "rgb(36,36,36)"
                    },
                    "geo": {
                      "bgcolor": "white",
                      "lakecolor": "white",
                      "landcolor": "rgb(234,234,242)",
                      "showlakes": true,
                      "showland": true,
                      "subunitcolor": "white"
                    },
                    "hoverlabel": {
                      "align": "left"
                    },
                    "hovermode": "closest",
                    "paper_bgcolor": "white",
                    "plot_bgcolor": "rgb(234,234,242)",
                    "polar": {
                      "angularaxis": {
                        "gridcolor": "white",
                        "linecolor": "white",
                        "showgrid": true,
                        "ticks": ""
                      },
                      "bgcolor": "rgb(234,234,242)",
                      "radialaxis": {
                        "gridcolor": "white",
                        "linecolor": "white",
                        "showgrid": true,
                        "ticks": ""
                      }
                    },
                    "scene": {
                      "xaxis": {
                        "backgroundcolor": "rgb(234,234,242)",
                        "gridcolor": "white",
                        "gridwidth": 2,
                        "linecolor": "white",
                        "showbackground": true,
                        "showgrid": true,
                        "ticks": "",
                        "zerolinecolor": "white"
                      },
                      "yaxis": {
                        "backgroundcolor": "rgb(234,234,242)",
                        "gridcolor": "white",
                        "gridwidth": 2,
                        "linecolor": "white",
                        "showbackground": true,
                        "showgrid": true,
                        "ticks": "",
                        "zerolinecolor": "white"
                      },
                      "zaxis": {
                        "backgroundcolor": "rgb(234,234,242)",
                        "gridcolor": "white",
                        "gridwidth": 2,
                        "linecolor": "white",
                        "showbackground": true,
                        "showgrid": true,
                        "ticks": "",
                        "zerolinecolor": "white"
                      }
                    },
                    "shapedefaults": {
                      "fillcolor": "rgb(67,103,167)",
                      "line": {
                        "width": 0
                      },
                      "opacity": 0.5
                    },
                    "ternary": {
                      "aaxis": {
                        "gridcolor": "white",
                        "linecolor": "white",
                        "showgrid": true,
                        "ticks": ""
                      },
                      "baxis": {
                        "gridcolor": "white",
                        "linecolor": "white",
                        "showgrid": true,
                        "ticks": ""
                      },
                      "bgcolor": "rgb(234,234,242)",
                      "caxis": {
                        "gridcolor": "white",
                        "linecolor": "white",
                        "showgrid": true,
                        "ticks": ""
                      }
                    },
                    "xaxis": {
                      "automargin": true,
                      "gridcolor": "white",
                      "linecolor": "white",
                      "showgrid": true,
                      "ticks": "",
                      "title": {
                        "standoff": 15
                      },
                      "zerolinecolor": "white"
                    },
                    "yaxis": {
                      "automargin": true,
                      "gridcolor": "white",
                      "linecolor": "white",
                      "showgrid": true,
                      "ticks": "",
                      "title": {
                        "standoff": 15
                      },
                      "zerolinecolor": "white"
                    }
                  }
                },
                "title": {
                  "text": "Scale Dependent Roughness of SimpleMLP on MNIST"
                },
                "xaxis": {
                  "dtick": 1,
                  "title": {
                    "text": "Coarse Graining Scale"
                  },
                  "type": "log"
                },
                "yaxis": {
                  "title": {
                    "text": "Roughness"
                  },
                  "type": "log"
                }
              }
            }
          },
          "metadata": {},
          "output_type": "display_data"
        }
      ],
      "source": [
        "# new nomenclature: grit := scale dependent roughness\n",
        "\n",
        "# Create a Plotly figure\n",
        "fig = go.Figure()\n",
        "\n",
        "# Plotting roughness for each direction using grouped data\n",
        "for direction, data in df.groupby(level='Direction'):\n",
        "    fig.add_trace(go.Scatter(\n",
        "        x=data.index.get_level_values('Distance'),\n",
        "        y=data['Roughness'],\n",
        "        mode='markers',\n",
        "        name=direction\n",
        "    ))\n",
        "\n",
        "# Set axis labels, title, and configure log scale on x-axis\n",
        "fig.update_layout(\n",
        "    title=f'Scale Dependent Roughness of {center_model.__class__.__name__} on {dataset.__class__.__name__}',\n",
        "    xaxis={\n",
        "        'title': 'Coarse Graining Scale',\n",
        "        'type': 'log',\n",
        "        'dtick': 1,  # Tick every power of ten\n",
        "    },\n",
        "    yaxis ={\n",
        "        'title': 'Roughness',\n",
        "        'type': 'log',\n",
        "    },\n",
        "    legend_title='Direction',\n",
        "    template='seaborn',\n",
        "    height=600\n",
        ")\n",
        "\n",
        "# Display the figure\n",
        "fig.show()\n"
      ]
    }
  ],
  "metadata": {
    "colab": {
      "provenance": []
    },
    "kernelspec": {
      "display_name": "Python 3",
      "name": "python3"
    },
    "language_info": {
      "codemirror_mode": {
        "name": "ipython",
        "version": 3
      },
      "file_extension": ".py",
      "mimetype": "text/x-python",
      "name": "python",
      "nbconvert_exporter": "python",
      "pygments_lexer": "ipython3",
      "version": "3.11.6"
    }
  },
  "nbformat": 4,
  "nbformat_minor": 0
}
