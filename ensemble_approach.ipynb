{
  "cells": [
    {
      "cell_type": "code",
      "execution_count": 2,
      "metadata": {
        "id": "MTV4OGkJQDoW"
      },
      "outputs": [],
      "source": [
        "import torch\n",
        "import torch.nn as nn\n",
        "import torch.nn.functional as F\n",
        "from torchvision.datasets import MNIST\n",
        "from torchvision import transforms\n",
        "\n",
        "class SimpleMLP(nn.Module):\n",
        "    def __init__(self):\n",
        "        super(SimpleMLP, self).__init__()\n",
        "        self.fc1 = nn.Linear(784, 128)\n",
        "        self.fc2 = nn.Linear(128, 128)\n",
        "        self.fc3 = nn.Linear(128, 10)\n",
        "\n",
        "    def forward(self, x):\n",
        "        x = x.flatten(1)\n",
        "        x = self.fc1(x)\n",
        "        x = F.relu(x)\n",
        "        x = self.fc2(x)\n",
        "        x = F.relu(x)\n",
        "        x = self.fc3(x)\n",
        "        return x\n",
        "\n",
        "device = torch.device(\"cuda\" if torch.cuda.is_available() else \"cpu\")\n",
        "\n",
        "# Use a standard MNIST normalization\n",
        "transform = transforms.Compose([\n",
        "    transforms.ToTensor(),\n",
        "    transforms.Normalize((0.1307,), (0.3081,))\n",
        "])\n",
        "\n",
        "dataset = MNIST(root='./data', download=True, transform=transform)\n",
        "BATCH_SIZE = int(len(dataset)/10) # Big but not too big, because I think that the batch is duplicated for each model in the vmap-enselmble\n",
        "dataloader = torch.utils.data.DataLoader(dataset, batch_size=BATCH_SIZE, num_workers = 2)\n",
        "\n",
        "# criterion functional\n",
        "criterion = F.cross_entropy\n",
        "\n",
        "# parameter subspaces to investigate.\n",
        "# for each string, the union of all modules that contain the string in their name will be considered.\n",
        "# we will sample a random direction in that subspace + the gradient ascent and descent directions projected onto that subspace.\n",
        "SUBSPACES = ['fc1', 'weight', 'bias']\n",
        "\n",
        "#check if we are on GPU, otherwise just proof of concept\n",
        "if torch.cuda.is_available():\n",
        "    NUM_DIRS = 6\n",
        "    MAX_OOM = 1\n",
        "    MIN_OOM = -8\n",
        "else:\n",
        "    NUM_DIRS = 0 # number of random directions to sample, in addition to the gradient ascent + descent, and radially in + out.\n",
        "    MAX_OOM = 0 # maximum order of magnitude to sample\n",
        "    MIN_OOM = -1 # minimum order of magnitude to sample"
      ]
    },
    {
      "cell_type": "markdown",
      "metadata": {},
      "source": [
        "Define utility functions for parameter space arithmetic. iadd is inplace, all others create a new model."
      ]
    },
    {
      "cell_type": "code",
      "execution_count": 3,
      "metadata": {},
      "outputs": [],
      "source": [
        "from copy import deepcopy\n",
        "\n",
        "@torch.no_grad\n",
        "def iadd(a:nn.Module, b:nn.Module):\n",
        "    \"\"\"add the parameters of b to a, inplace\"\"\"\n",
        "    for a_param, b_param in zip(a.parameters(), b.parameters()):\n",
        "        a_param.data.add_(b_param.data)\n",
        "    return a\n",
        "\n",
        "@torch.no_grad\n",
        "def add(a_old:nn.Module, b:nn.Module):\n",
        "    \"\"\"add the parameters of b to a\"\"\"\n",
        "    a = deepcopy(a_old)\n",
        "    return iadd(a, b)\n",
        "\n",
        "@torch.no_grad\n",
        "def scale(a_old:nn.Module, b:float):\n",
        "    \"\"\"scale the parameters of a by b\"\"\"\n",
        "    a = deepcopy(a_old)\n",
        "    for a_param in a.parameters():\n",
        "        a_param.data.mul_(b)\n",
        "    return a\n",
        "\n",
        "@torch.no_grad\n",
        "def sub(a:nn.Module, b:nn.Module):\n",
        "    \"\"\"subtract the parameters of b from a\"\"\"\n",
        "    neg_b = scale(b, -1)\n",
        "    return iadd(neg_b, a)\n",
        "\n",
        "@torch.no_grad\n",
        "def abs(a:nn.Module):\n",
        "    \"\"\"return the norm of the parameters of a\"\"\"\n",
        "    return torch.norm(torch.cat([param.data.flatten() for param in a.parameters()]))\n",
        "\n",
        "@torch.no_grad\n",
        "def norm(a:nn.Module):\n",
        "    \"\"\"normalize the parameters of a\"\"\"\n",
        "    return scale(a, 1/abs(a))\n",
        "\n",
        "@torch.no_grad\n",
        "def rand_like(a: nn.Module):\n",
        "    \"\"\"normalised random direction in the parameter space of the model.\"\"\"\n",
        "    rand = deepcopy(a)\n",
        "    for param in rand.parameters():\n",
        "        param.data = torch.randn_like(param.data)\n",
        "    return norm(rand)\n",
        "\n",
        "@torch.no_grad\n",
        "def project_to_module(a: nn.Module, target_subspace: str):\n",
        "    \"\"\"\n",
        "    normalised projection onto the subspace of the model specified by `target_subspace`.\n",
        "    subspace: Any parameter whose name contains the `target_subspace` string.\n",
        "    \"\"\"\n",
        "    projection = deepcopy(a)\n",
        "    for name, param in projection.named_parameters():\n",
        "        if target_subspace not in name:\n",
        "            param.data.zero_()\n",
        "    return norm(projection)"
      ]
    },
    {
      "cell_type": "markdown",
      "metadata": {},
      "source": [
        "Define profiling context manager: measure execution time and GPU RAM usage before and after."
      ]
    },
    {
      "cell_type": "code",
      "execution_count": 4,
      "metadata": {},
      "outputs": [
        {
          "name": "stdout",
          "output_type": "stream",
          "text": [
            "\n",
            "::::::::::::::::::::::::::::::::Profiler example::::::::::::::::::::::::::::::::\n",
            "Computation goes here...\n",
            "::::::::::::::::::::::Finished Profiler example in 0.00 s:::::::::::::::::::::::\n"
          ]
        }
      ],
      "source": [
        "from time import perf_counter\n",
        "from contextlib import contextmanager\n",
        "import torch\n",
        "\n",
        "@contextmanager\n",
        "def profiler(description, length=80, pad_char=':'):\n",
        "    print('\\n'+description.center(length, pad_char))\n",
        "    if torch.cuda.is_available():\n",
        "        print(f'GPU RAM before execution: Allocated: {torch.cuda.memory_allocated()/1e9:.2f} GB | Reserved: {torch.cuda.memory_reserved()/1e9:.2f} GB')\n",
        "    start = perf_counter()\n",
        "    yield\n",
        "    if torch.cuda.is_available():\n",
        "        print(f'GPU RAM after execution:  Allocated: {torch.cuda.memory_allocated()/1e9:.2f} GB | Reserved: {torch.cuda.memory_reserved()/1e9:.2f} GB')\n",
        "    print(f'Finished {description} in {perf_counter() - start:.2f} s'.center(length, pad_char))\n",
        "\n",
        "with profiler('Profiler example'):\n",
        "    print('Computation goes here...')"
      ]
    },
    {
      "cell_type": "code",
      "execution_count": 5,
      "metadata": {},
      "outputs": [
        {
          "name": "stdout",
          "output_type": "stream",
          "text": [
            "\n",
            ":::::::::::::::1 step of gradient descent over the whole dataset::::::::::::::::\n"
          ]
        },
        {
          "name": "stdout",
          "output_type": "stream",
          "text": [
            ":::::Finished 1 step of gradient descent over the whole dataset in 18.83 s::::::\n"
          ]
        }
      ],
      "source": [
        "center_model = SimpleMLP()\n",
        "\n",
        "# create a model to find the gradient\n",
        "grad_model = deepcopy(center_model)\n",
        "grad_model = grad_model.to(device)\n",
        "\n",
        "optimizer = torch.optim.SGD(grad_model.parameters(), lr=1)\n",
        "optimizer.zero_grad()\n",
        "torch.set_grad_enabled(True)\n",
        "\n",
        "# take a single step of gradient descent\n",
        "# gradient accumulate over the whole dataset\n",
        "with profiler('1 step of gradient descent over the whole dataset'):\n",
        "    for data, target in dataloader:\n",
        "        data, target = data.to(device), target.to(device)\n",
        "        output = grad_model(data)\n",
        "        loss = criterion(output, target)\n",
        "        loss.backward()\n",
        "\n",
        "optimizer.step()\n",
        "# from this point on we wont need any gradients\n",
        "torch.set_grad_enabled(False)\n",
        "\n",
        "\n",
        "# calculate the direction of gradient decent from the center model\n",
        "grad_model = grad_model.to('cpu')\n",
        "dir_ascent = sub(center_model, grad_model)\n",
        "dir_ascent = norm(dir_ascent)\n",
        "dir_descent = scale(dir_ascent, -1)\n",
        "\n",
        "del grad_model\n"
      ]
    },
    {
      "cell_type": "code",
      "execution_count": 6,
      "metadata": {},
      "outputs": [],
      "source": [
        "radial = norm(center_model)\n",
        "\n",
        "dirs = {\n",
        "    'Ascent': dir_ascent,\n",
        "    'Descent': dir_descent,\n",
        "    'Radially Out': radial,\n",
        "    'Radially In': scale(radial,-1),\n",
        "    }\n",
        "\n",
        "# add random directions\n",
        "dirs.update({f'Random {i}': rand_like(center_model) for i in range(NUM_DIRS)})\n",
        "\n",
        "# add projections of each dir in dirs onto each SUBSPACE\n",
        "# Add projections of each direction in dirs onto each subspace\n",
        "for dir_name, direction in list(dirs.items()):\n",
        "    for subspace in SUBSPACES:\n",
        "        projected_dir = project_to_module(direction, subspace)\n",
        "        new_key = f'{dir_name} ⋅ P({subspace})'\n",
        "        dirs[new_key] = projected_dir\n",
        "\n",
        "# check that they are all normalised\n",
        "assert all(torch.isclose(abs(d), torch.tensor(1.0)) for d in dirs.values())"
      ]
    },
    {
      "cell_type": "code",
      "execution_count": 7,
      "metadata": {},
      "outputs": [
        {
          "data": {
            "text/html": [
              "<div>\n",
              "<style scoped>\n",
              "    .dataframe tbody tr th:only-of-type {\n",
              "        vertical-align: middle;\n",
              "    }\n",
              "\n",
              "    .dataframe tbody tr th {\n",
              "        vertical-align: top;\n",
              "    }\n",
              "\n",
              "    .dataframe thead th {\n",
              "        text-align: right;\n",
              "    }\n",
              "</style>\n",
              "<table border=\"1\" class=\"dataframe\">\n",
              "  <thead>\n",
              "    <tr style=\"text-align: right;\">\n",
              "      <th></th>\n",
              "      <th></th>\n",
              "    </tr>\n",
              "    <tr>\n",
              "      <th>Direction</th>\n",
              "      <th>Distance</th>\n",
              "    </tr>\n",
              "  </thead>\n",
              "  <tbody>\n",
              "    <tr>\n",
              "      <th rowspan=\"5\" valign=\"top\">Ascent</th>\n",
              "      <th>0.062500</th>\n",
              "    </tr>\n",
              "    <tr>\n",
              "      <th>0.125000</th>\n",
              "    </tr>\n",
              "    <tr>\n",
              "      <th>0.250000</th>\n",
              "    </tr>\n",
              "    <tr>\n",
              "      <th>0.500000</th>\n",
              "    </tr>\n",
              "    <tr>\n",
              "      <th>1.000000</th>\n",
              "    </tr>\n",
              "    <tr>\n",
              "      <th>...</th>\n",
              "      <th>...</th>\n",
              "    </tr>\n",
              "    <tr>\n",
              "      <th rowspan=\"5\" valign=\"top\">Radially In ⋅ P(bias)</th>\n",
              "      <th>0.119700</th>\n",
              "    </tr>\n",
              "    <tr>\n",
              "      <th>0.239401</th>\n",
              "    </tr>\n",
              "    <tr>\n",
              "      <th>0.478802</th>\n",
              "    </tr>\n",
              "    <tr>\n",
              "      <th>0.957603</th>\n",
              "    </tr>\n",
              "    <tr>\n",
              "      <th>1.915207</th>\n",
              "    </tr>\n",
              "  </tbody>\n",
              "</table>\n",
              "<p>80 rows × 0 columns</p>\n",
              "</div>"
            ],
            "text/plain": [
              "Empty DataFrame\n",
              "Columns: []\n",
              "Index: [(Ascent, 0.0625), (Ascent, 0.125), (Ascent, 0.25), (Ascent, 0.5), (Ascent, 1.0), (Descent, 0.06526711140171336), (Descent, 0.13053422280342672), (Descent, 0.26106844560685344), (Descent, 0.5221368912137069), (Descent, 1.0442737824274138), (Radially Out, 0.0681567332915786), (Radially Out, 0.1363134665831572), (Radially Out, 0.2726269331663144), (Radially Out, 0.5452538663326288), (Radially Out, 1.0905077326652577), (Radially In, 0.07117428967229322), (Radially In, 0.14234857934458645), (Radially In, 0.2846971586891729), (Radially In, 0.5693943173783458), (Radially In, 1.1387886347566916), (Ascent ⋅ P(fc1), 0.07432544468767006), (Ascent ⋅ P(fc1), 0.14865088937534013), (Ascent ⋅ P(fc1), 0.29730177875068026), (Ascent ⋅ P(fc1), 0.5946035575013605), (Ascent ⋅ P(fc1), 1.189207115002721), (Ascent ⋅ P(weight), 0.07761611325459275), (Ascent ⋅ P(weight), 0.1552322265091855), (Ascent ⋅ P(weight), 0.310464453018371), (Ascent ⋅ P(weight), 0.620928906036742), (Ascent ⋅ P(weight), 1.241857812073484), (Ascent ⋅ P(bias), 0.0810524721656881), (Ascent ⋅ P(bias), 0.1621049443313762), (Ascent ⋅ P(bias), 0.3242098886627524), (Ascent ⋅ P(bias), 0.6484197773255048), (Ascent ⋅ P(bias), 1.2968395546510096), (Descent ⋅ P(fc1), 0.08464097168355579), (Descent ⋅ P(fc1), 0.16928194336711158), (Descent ⋅ P(fc1), 0.33856388673422316), (Descent ⋅ P(fc1), 0.6771277734684463), (Descent ⋅ P(fc1), 1.3542555469368927), (Descent ⋅ P(weight), 0.08838834764831845), (Descent ⋅ P(weight), 0.1767766952966369), (Descent ⋅ P(weight), 0.3535533905932738), (Descent ⋅ P(weight), 0.7071067811865476), (Descent ⋅ P(weight), 1.4142135623730951), (Descent ⋅ P(bias), 0.09230163412121871), (Descent ⋅ P(bias), 0.18460326824243742), (Descent ⋅ P(bias), 0.36920653648487484), (Descent ⋅ P(bias), 0.7384130729697497), (Descent ⋅ P(bias), 1.4768261459394993), (Radially Out ⋅ P(fc1), 0.0963881765879963), (Radially Out ⋅ P(fc1), 0.1927763531759926), (Radially Out ⋅ P(fc1), 0.3855527063519852), (Radially Out ⋅ P(fc1), 0.7711054127039704), (Radially Out ⋅ P(fc1), 1.5422108254079407), (Radially Out ⋅ P(weight), 0.10065564574682839), (Radially Out ⋅ P(weight), 0.20131129149365679), (Radially Out ⋅ P(weight), 0.40262258298731357), (Radially Out ⋅ P(weight), 0.8052451659746271), (Radially Out ⋅ P(weight), 1.6104903319492543), (Radially Out ⋅ P(bias), 0.10511205190671431), (Radially Out ⋅ P(bias), 0.21022410381342863), (Radially Out ⋅ P(bias), 0.42044820762685725), (Radially Out ⋅ P(bias), 0.8408964152537145), (Radially Out ⋅ P(bias), 1.681792830507429), (Radially In ⋅ P(fc1), 0.10976576002333122), (Radially In ⋅ P(fc1), 0.21953152004666243), (Radially In ⋅ P(fc1), 0.43906304009332486), (Radially In ⋅ P(fc1), 0.8781260801866497), (Radially In ⋅ P(fc1), 1.7562521603732995), (Radially In ⋅ P(weight), 0.1146255054005839), (Radially In ⋅ P(weight), 0.2292510108011678), (Radially In ⋅ P(weight), 0.4585020216023356), (Radially In ⋅ P(weight), 0.9170040432046712), (Radially In ⋅ P(weight), 1.8340080864093424), (Radially In ⋅ P(bias), 0.11970041008732171), (Radially In ⋅ P(bias), 0.23940082017464343), (Radially In ⋅ P(bias), 0.47880164034928685), (Radially In ⋅ P(bias), 0.9576032806985737), (Radially In ⋅ P(bias), 1.9152065613971474)]\n",
              "\n",
              "[80 rows x 0 columns]"
            ]
          },
          "execution_count": 7,
          "metadata": {},
          "output_type": "execute_result"
        }
      ],
      "source": [
        "import pandas as pd\n",
        "import numpy as np\n",
        "\n",
        "# convert to base 2\n",
        "POW_MIN_DIST = int(np.floor(MIN_OOM*np.log2(10)))\n",
        "POW_MAX_DIST = int(np.ceil(MAX_OOM*np.log2(10)))\n",
        "\n",
        "# will sample these distances\n",
        "scales = 2. ** np.arange(POW_MIN_DIST, POW_MAX_DIST + 1)\n",
        "\n",
        "# offset each direction by a different amount, so that we get a nice spread of distances, to avoid artefacts/robustness\n",
        "offset_per_direction = 2. ** np.linspace(0, 1, len(dirs), endpoint=False)\n",
        "\n",
        "# Initialize an empty list to hold tuples for MultiIndex\n",
        "index_list = []\n",
        "\n",
        "# Calculate distances using broadcasting\n",
        "distances = np.outer(scales, offset_per_direction).T.flatten()\n",
        "\n",
        "# Repeat directions accordingly\n",
        "directions = np.repeat(list(dirs.keys()), len(scales))\n",
        "\n",
        "# Create DataFrame directly from numpy arrays\n",
        "df = pd.DataFrame(index=pd.MultiIndex.from_arrays([directions, distances], names=['Direction', 'Distance']))\n",
        "\n",
        "df\n"
      ]
    },
    {
      "cell_type": "code",
      "execution_count": 8,
      "metadata": {},
      "outputs": [
        {
          "data": {
            "text/html": [
              "<div>\n",
              "<style scoped>\n",
              "    .dataframe tbody tr th:only-of-type {\n",
              "        vertical-align: middle;\n",
              "    }\n",
              "\n",
              "    .dataframe tbody tr th {\n",
              "        vertical-align: top;\n",
              "    }\n",
              "\n",
              "    .dataframe thead th {\n",
              "        text-align: right;\n",
              "    }\n",
              "</style>\n",
              "<table border=\"1\" class=\"dataframe\">\n",
              "  <thead>\n",
              "    <tr style=\"text-align: right;\">\n",
              "      <th></th>\n",
              "      <th></th>\n",
              "      <th>Model</th>\n",
              "    </tr>\n",
              "    <tr>\n",
              "      <th>Direction</th>\n",
              "      <th>Distance</th>\n",
              "      <th></th>\n",
              "    </tr>\n",
              "  </thead>\n",
              "  <tbody>\n",
              "    <tr>\n",
              "      <th rowspan=\"5\" valign=\"top\">Ascent</th>\n",
              "      <th>0.062500</th>\n",
              "      <td>SimpleMLP(\\n  (fc1): Linear(in_features=784, o...</td>\n",
              "    </tr>\n",
              "    <tr>\n",
              "      <th>0.125000</th>\n",
              "      <td>SimpleMLP(\\n  (fc1): Linear(in_features=784, o...</td>\n",
              "    </tr>\n",
              "    <tr>\n",
              "      <th>0.250000</th>\n",
              "      <td>SimpleMLP(\\n  (fc1): Linear(in_features=784, o...</td>\n",
              "    </tr>\n",
              "    <tr>\n",
              "      <th>0.500000</th>\n",
              "      <td>SimpleMLP(\\n  (fc1): Linear(in_features=784, o...</td>\n",
              "    </tr>\n",
              "    <tr>\n",
              "      <th>1.000000</th>\n",
              "      <td>SimpleMLP(\\n  (fc1): Linear(in_features=784, o...</td>\n",
              "    </tr>\n",
              "    <tr>\n",
              "      <th>...</th>\n",
              "      <th>...</th>\n",
              "      <td>...</td>\n",
              "    </tr>\n",
              "    <tr>\n",
              "      <th rowspan=\"5\" valign=\"top\">Radially In ⋅ P(bias)</th>\n",
              "      <th>0.119700</th>\n",
              "      <td>SimpleMLP(\\n  (fc1): Linear(in_features=784, o...</td>\n",
              "    </tr>\n",
              "    <tr>\n",
              "      <th>0.239401</th>\n",
              "      <td>SimpleMLP(\\n  (fc1): Linear(in_features=784, o...</td>\n",
              "    </tr>\n",
              "    <tr>\n",
              "      <th>0.478802</th>\n",
              "      <td>SimpleMLP(\\n  (fc1): Linear(in_features=784, o...</td>\n",
              "    </tr>\n",
              "    <tr>\n",
              "      <th>0.957603</th>\n",
              "      <td>SimpleMLP(\\n  (fc1): Linear(in_features=784, o...</td>\n",
              "    </tr>\n",
              "    <tr>\n",
              "      <th>1.915207</th>\n",
              "      <td>SimpleMLP(\\n  (fc1): Linear(in_features=784, o...</td>\n",
              "    </tr>\n",
              "  </tbody>\n",
              "</table>\n",
              "<p>80 rows × 1 columns</p>\n",
              "</div>"
            ],
            "text/plain": [
              "                                                                            Model\n",
              "Direction             Distance                                                   \n",
              "Ascent                0.062500  SimpleMLP(\\n  (fc1): Linear(in_features=784, o...\n",
              "                      0.125000  SimpleMLP(\\n  (fc1): Linear(in_features=784, o...\n",
              "                      0.250000  SimpleMLP(\\n  (fc1): Linear(in_features=784, o...\n",
              "                      0.500000  SimpleMLP(\\n  (fc1): Linear(in_features=784, o...\n",
              "                      1.000000  SimpleMLP(\\n  (fc1): Linear(in_features=784, o...\n",
              "...                                                                           ...\n",
              "Radially In ⋅ P(bias) 0.119700  SimpleMLP(\\n  (fc1): Linear(in_features=784, o...\n",
              "                      0.239401  SimpleMLP(\\n  (fc1): Linear(in_features=784, o...\n",
              "                      0.478802  SimpleMLP(\\n  (fc1): Linear(in_features=784, o...\n",
              "                      0.957603  SimpleMLP(\\n  (fc1): Linear(in_features=784, o...\n",
              "                      1.915207  SimpleMLP(\\n  (fc1): Linear(in_features=784, o...\n",
              "\n",
              "[80 rows x 1 columns]"
            ]
          },
          "execution_count": 8,
          "metadata": {},
          "output_type": "execute_result"
        }
      ],
      "source": [
        "# fill the dataframe with the models\n",
        "for dir_name, dist in df.index:\n",
        "    shift = scale(dirs[dir_name], dist)     # shift = direction * distance\n",
        "    location = iadd(shift, center_model)    # location = center + shift\n",
        "    df.loc[(dir_name, dist), 'Model'] = location\n",
        "\n",
        "df"
      ]
    },
    {
      "cell_type": "markdown",
      "metadata": {},
      "source": [
        "Parallel evaluation with vmap()\n"
      ]
    },
    {
      "cell_type": "code",
      "execution_count": 9,
      "metadata": {
        "id": "of195MzFwzdG"
      },
      "outputs": [
        {
          "name": "stdout",
          "output_type": "stream",
          "text": [
            "Ensemble size: 81\n",
            "\n",
            ":::::::::::::::::::::::::Moving stacked ensemble to cpu:::::::::::::::::::::::::\n",
            ":::::::::::::::Finished Moving stacked ensemble to cpu in 0.00 s::::::::::::::::\n",
            "\n",
            ":::::::::::::::::::::::Evaluating stacked ensemble on cpu:::::::::::::::::::::::\n",
            ":::::::::::::Finished Evaluating stacked ensemble on cpu in 52.53 s:::::::::::::\n",
            "\n",
            "::::::::::::::::::::::::::::Freeing data and target:::::::::::::::::::::::::::::\n",
            ":::::::::::::::::::Finished Freeing data and target in 0.00 s:::::::::::::::::::\n",
            "\n",
            "::::::::::::::::::::::::::::Freeing stacked ensemble::::::::::::::::::::::::::::\n",
            "::::::::::::::::::Finished Freeing stacked ensemble in 0.00 s:::::::::::::::::::\n"
          ]
        }
      ],
      "source": [
        "from torch.func import stack_module_state, functional_call\n",
        "from torch import vmap\n",
        "\n",
        "# add the center model\n",
        "ensemble_list = [center_model] + list(df['Model'])\n",
        "\n",
        "print(f'Ensemble size: {len(ensemble_list)}')\n",
        "\n",
        "# stack to prepare for vmap\n",
        "params, buffers = stack_module_state(ensemble_list)\n",
        "\n",
        "with profiler(f'Moving stacked ensemble to {device}'):\n",
        "    params = {name: tensor.to(device) for name, tensor in params.items()}\n",
        "    buffers = {name: tensor.to(device) for name, tensor in buffers.items()}\n",
        "\n",
        "stacked_ensemble = (params, buffers)\n",
        "\n",
        "# Construct a \"stateless\" version of one of the models. It is \"stateless\" in\n",
        "# the sense that the parameters are meta Tensors and do not have storage.\n",
        "meta_model = deepcopy(center_model).to('meta')\n",
        "\n",
        "def meta_model_loss(params_and_buffers, data, target):\n",
        "    \"\"\"Compute the loss of a set of params on a batch of data, via the meta model\"\"\"\n",
        "    predictions = functional_call(meta_model, params_and_buffers, (data,))\n",
        "    predictions = predictions.double() # double precision for better resoltion of small scales\n",
        "    loss = criterion(predictions, target)\n",
        "    return loss\n",
        "\n",
        "# define a loss function that takes the stacked ensemble params, data, and target\n",
        "# in_dims=(0, None, None) adds an ensemble dimension to the first argument 'params_and_buffers' but not to the other two arguments\n",
        "vmap_loss = vmap(meta_model_loss, in_dims=(0, None, None))\n",
        "\n",
        "batch_losses = []\n",
        "with profiler(f'Evaluating stacked ensemble on {device}'):\n",
        "    for data, target in dataloader:\n",
        "        data, target = data.to(device), target.to(device)\n",
        "        batch_loss = vmap_loss(stacked_ensemble, data, target)\n",
        "        batch_losses.append(batch_loss)\n",
        "\n",
        "with profiler('Freeing data and target'):\n",
        "    del data, target\n",
        "    torch.cuda.empty_cache()\n",
        "\n",
        "with profiler('Freeing stacked ensemble'):\n",
        "    del stacked_ensemble\n",
        "    torch.cuda.empty_cache()\n",
        "\n",
        "loss_tensor = torch.mean(torch.stack(batch_losses), dim=0)"
      ]
    },
    {
      "cell_type": "code",
      "execution_count": 10,
      "metadata": {},
      "outputs": [
        {
          "data": {
            "text/html": [
              "<div>\n",
              "<style scoped>\n",
              "    .dataframe tbody tr th:only-of-type {\n",
              "        vertical-align: middle;\n",
              "    }\n",
              "\n",
              "    .dataframe tbody tr th {\n",
              "        vertical-align: top;\n",
              "    }\n",
              "\n",
              "    .dataframe thead th {\n",
              "        text-align: right;\n",
              "    }\n",
              "</style>\n",
              "<table border=\"1\" class=\"dataframe\">\n",
              "  <thead>\n",
              "    <tr style=\"text-align: right;\">\n",
              "      <th></th>\n",
              "      <th></th>\n",
              "      <th>Model</th>\n",
              "      <th>Loss</th>\n",
              "    </tr>\n",
              "    <tr>\n",
              "      <th>Direction</th>\n",
              "      <th>Distance</th>\n",
              "      <th></th>\n",
              "      <th></th>\n",
              "    </tr>\n",
              "  </thead>\n",
              "  <tbody>\n",
              "    <tr>\n",
              "      <th rowspan=\"5\" valign=\"top\">Ascent</th>\n",
              "      <th>0.000000</th>\n",
              "      <td>NaN</td>\n",
              "      <td>2.316014</td>\n",
              "    </tr>\n",
              "    <tr>\n",
              "      <th>0.062500</th>\n",
              "      <td>SimpleMLP(\\n  (fc1): Linear(in_features=784, o...</td>\n",
              "      <td>2.343748</td>\n",
              "    </tr>\n",
              "    <tr>\n",
              "      <th>0.125000</th>\n",
              "      <td>SimpleMLP(\\n  (fc1): Linear(in_features=784, o...</td>\n",
              "      <td>2.371750</td>\n",
              "    </tr>\n",
              "    <tr>\n",
              "      <th>0.250000</th>\n",
              "      <td>SimpleMLP(\\n  (fc1): Linear(in_features=784, o...</td>\n",
              "      <td>2.426332</td>\n",
              "    </tr>\n",
              "    <tr>\n",
              "      <th>0.500000</th>\n",
              "      <td>SimpleMLP(\\n  (fc1): Linear(in_features=784, o...</td>\n",
              "      <td>2.532197</td>\n",
              "    </tr>\n",
              "    <tr>\n",
              "      <th>...</th>\n",
              "      <th>...</th>\n",
              "      <td>...</td>\n",
              "      <td>...</td>\n",
              "    </tr>\n",
              "    <tr>\n",
              "      <th rowspan=\"5\" valign=\"top\">Radially Out ⋅ P(weight)</th>\n",
              "      <th>0.100656</th>\n",
              "      <td>SimpleMLP(\\n  (fc1): Linear(in_features=784, o...</td>\n",
              "      <td>2.316512</td>\n",
              "    </tr>\n",
              "    <tr>\n",
              "      <th>0.201311</th>\n",
              "      <td>SimpleMLP(\\n  (fc1): Linear(in_features=784, o...</td>\n",
              "      <td>2.317027</td>\n",
              "    </tr>\n",
              "    <tr>\n",
              "      <th>0.402623</th>\n",
              "      <td>SimpleMLP(\\n  (fc1): Linear(in_features=784, o...</td>\n",
              "      <td>2.318109</td>\n",
              "    </tr>\n",
              "    <tr>\n",
              "      <th>0.805245</th>\n",
              "      <td>SimpleMLP(\\n  (fc1): Linear(in_features=784, o...</td>\n",
              "      <td>2.320496</td>\n",
              "    </tr>\n",
              "    <tr>\n",
              "      <th>1.610490</th>\n",
              "      <td>SimpleMLP(\\n  (fc1): Linear(in_features=784, o...</td>\n",
              "      <td>2.326301</td>\n",
              "    </tr>\n",
              "  </tbody>\n",
              "</table>\n",
              "<p>96 rows × 2 columns</p>\n",
              "</div>"
            ],
            "text/plain": [
              "                                                                               Model  \\\n",
              "Direction                Distance                                                      \n",
              "Ascent                   0.000000                                                NaN   \n",
              "                         0.062500  SimpleMLP(\\n  (fc1): Linear(in_features=784, o...   \n",
              "                         0.125000  SimpleMLP(\\n  (fc1): Linear(in_features=784, o...   \n",
              "                         0.250000  SimpleMLP(\\n  (fc1): Linear(in_features=784, o...   \n",
              "                         0.500000  SimpleMLP(\\n  (fc1): Linear(in_features=784, o...   \n",
              "...                                                                              ...   \n",
              "Radially Out ⋅ P(weight) 0.100656  SimpleMLP(\\n  (fc1): Linear(in_features=784, o...   \n",
              "                         0.201311  SimpleMLP(\\n  (fc1): Linear(in_features=784, o...   \n",
              "                         0.402623  SimpleMLP(\\n  (fc1): Linear(in_features=784, o...   \n",
              "                         0.805245  SimpleMLP(\\n  (fc1): Linear(in_features=784, o...   \n",
              "                         1.610490  SimpleMLP(\\n  (fc1): Linear(in_features=784, o...   \n",
              "\n",
              "                                       Loss  \n",
              "Direction                Distance            \n",
              "Ascent                   0.000000  2.316014  \n",
              "                         0.062500  2.343748  \n",
              "                         0.125000  2.371750  \n",
              "                         0.250000  2.426332  \n",
              "                         0.500000  2.532197  \n",
              "...                                     ...  \n",
              "Radially Out ⋅ P(weight) 0.100656  2.316512  \n",
              "                         0.201311  2.317027  \n",
              "                         0.402623  2.318109  \n",
              "                         0.805245  2.320496  \n",
              "                         1.610490  2.326301  \n",
              "\n",
              "[96 rows x 2 columns]"
            ]
          },
          "execution_count": 10,
          "metadata": {},
          "output_type": "execute_result"
        }
      ],
      "source": [
        "# Convert the loss tensor to a list and unpack\n",
        "center_loss, *dir_losses = loss_tensor.tolist()\n",
        "\n",
        "# Ensure the length of dir_losses matches the DataFrame length\n",
        "assert len(dir_losses) == len(df)\n",
        "\n",
        "# Add the directional losses to the DataFrame\n",
        "df['Loss'] = dir_losses\n",
        "\n",
        "# Add the center_loss to each Direction, for Distance=0\n",
        "for direction in df.index.get_level_values('Direction').unique():\n",
        "    df.loc[(direction, 0.0), 'Loss'] = center_loss\n",
        "\n",
        "df.sort_index(inplace=True)\n",
        "\n",
        "df"
      ]
    },
    {
      "cell_type": "code",
      "execution_count": 11,
      "metadata": {},
      "outputs": [
        {
          "data": {
            "application/vnd.plotly.v1+json": {
              "config": {
                "plotlyServerURL": "https://plot.ly"
              },
              "data": [
                {
                  "mode": "lines+markers",
                  "name": "Ascent",
                  "type": "scatter",
                  "x": [
                    0,
                    0.0625,
                    0.125,
                    0.25,
                    0.5,
                    1
                  ],
                  "y": [
                    2.3160136638479356,
                    2.3437480768033234,
                    2.3717503483235722,
                    2.4263319458200296,
                    2.5321966943542082,
                    2.7775960373573674
                  ]
                },
                {
                  "mode": "lines+markers",
                  "name": "Ascent ⋅ P(bias)",
                  "type": "scatter",
                  "x": [
                    0,
                    0.0810524721656881,
                    0.1621049443313762,
                    0.3242098886627524,
                    0.6484197773255048,
                    1.2968395546510096
                  ],
                  "y": [
                    2.3160136638479356,
                    2.319126641978709,
                    2.3225438131349856,
                    2.330284169121355,
                    2.3493680874575915,
                    2.4018913878370767
                  ]
                },
                {
                  "mode": "lines+markers",
                  "name": "Ascent ⋅ P(fc1)",
                  "type": "scatter",
                  "x": [
                    0,
                    0.07432544468767006,
                    0.14865088937534013,
                    0.29730177875068026,
                    0.5946035575013605,
                    1.189207115002721
                  ],
                  "y": [
                    2.3160136638479356,
                    2.3447678490620696,
                    2.372706118149324,
                    2.423244762193998,
                    2.5119512163917026,
                    2.684090441911156
                  ]
                },
                {
                  "mode": "lines+markers",
                  "name": "Ascent ⋅ P(weight)",
                  "type": "scatter",
                  "x": [
                    0,
                    0.07761611325459275,
                    0.1552322265091855,
                    0.310464453018371,
                    0.620928906036742,
                    1.241857812073484
                  ],
                  "y": [
                    2.3160136638479356,
                    2.3503918429003066,
                    2.384870055566194,
                    2.451299264633303,
                    2.5838019358145825,
                    2.923350635802786
                  ]
                },
                {
                  "mode": "lines+markers",
                  "name": "Descent",
                  "type": "scatter",
                  "x": [
                    0,
                    0.06526711140171336,
                    0.13053422280342672,
                    0.26106844560685344,
                    0.5221368912137069,
                    1.0442737824274138
                  ],
                  "y": [
                    2.3160136638479356,
                    2.2884337187440105,
                    2.263235900455487,
                    2.2211497096114154,
                    2.161562658100615,
                    2.078863915301116
                  ]
                },
                {
                  "mode": "lines+markers",
                  "name": "Descent ⋅ P(bias)",
                  "type": "scatter",
                  "x": [
                    0,
                    0.09230163412121871,
                    0.18460326824243742,
                    0.36920653648487484,
                    0.7384130729697497,
                    1.4768261459394993
                  ],
                  "y": [
                    2.3160136638479356,
                    2.312843851092665,
                    2.3100769522829543,
                    2.305751133340044,
                    2.3019955465645863,
                    2.3137391757343733
                  ]
                },
                {
                  "mode": "lines+markers",
                  "name": "Descent ⋅ P(fc1)",
                  "type": "scatter",
                  "x": [
                    0,
                    0.08464097168355579,
                    0.16928194336711158,
                    0.33856388673422316,
                    0.6771277734684463,
                    1.3542555469368927
                  ],
                  "y": [
                    2.3160136638479356,
                    2.284806138618346,
                    2.257430772242542,
                    2.215557621314468,
                    2.1606616645049237,
                    2.079821635934432
                  ]
                },
                {
                  "mode": "lines+markers",
                  "name": "Descent ⋅ P(weight)",
                  "type": "scatter",
                  "x": [
                    0,
                    0.08838834764831845,
                    0.1767766952966369,
                    0.3535533905932738,
                    0.7071067811865476,
                    1.4142135623730951
                  ],
                  "y": [
                    2.3160136638479356,
                    2.279314757240541,
                    2.247226565907554,
                    2.197342435059962,
                    2.1289642517228113,
                    2.0336036862546734
                  ]
                },
                {
                  "mode": "lines+markers",
                  "name": "Radially In",
                  "type": "scatter",
                  "x": [
                    0,
                    0.07117428967229322,
                    0.14234857934458645,
                    0.2846971586891729,
                    0.5693943173783458,
                    1.1387886347566916
                  ],
                  "y": [
                    2.3160136638479356,
                    2.315652751371714,
                    2.315299976129879,
                    2.314618142346439,
                    2.3133447958537805,
                    2.3111278648975375
                  ]
                },
                {
                  "mode": "lines+markers",
                  "name": "Radially In ⋅ P(bias)",
                  "type": "scatter",
                  "x": [
                    0,
                    0.11970041008732171,
                    0.23940082017464343,
                    0.47880164034928685,
                    0.9576032806985737,
                    1.9152065613971474
                  ],
                  "y": [
                    2.3160136638479356,
                    2.3155895663797583,
                    2.315222605418175,
                    2.3146551671286226,
                    2.314271721845848,
                    2.3174803423938863
                  ]
                },
                {
                  "mode": "lines+markers",
                  "name": "Radially In ⋅ P(fc1)",
                  "type": "scatter",
                  "x": [
                    0,
                    0.10976576002333122,
                    0.21953152004666243,
                    0.43906304009332486,
                    0.8781260801866497,
                    1.7562521603732995
                  ],
                  "y": [
                    2.3160136638479356,
                    2.315749830998241,
                    2.3154873566081626,
                    2.31496642930863,
                    2.313942608560815,
                    2.3119606334865623
                  ]
                },
                {
                  "mode": "lines+markers",
                  "name": "Radially In ⋅ P(weight)",
                  "type": "scatter",
                  "x": [
                    0,
                    0.1146255054005839,
                    0.2292510108011678,
                    0.4585020216023356,
                    0.9170040432046712,
                    1.8340080864093424
                  ],
                  "y": [
                    2.3160136638479356,
                    2.3154656971038667,
                    2.314937607477172,
                    2.313939176580955,
                    2.3121555003101975,
                    2.3093090855608414
                  ]
                },
                {
                  "mode": "lines+markers",
                  "name": "Radially Out",
                  "type": "scatter",
                  "x": [
                    0,
                    0.0681567332915786,
                    0.1363134665831572,
                    0.2726269331663144,
                    0.5452538663326288,
                    1.0905077326652577
                  ],
                  "y": [
                    2.3160136638479356,
                    2.3163670681165085,
                    2.3167282887911944,
                    2.317474649417226,
                    2.3190679644065786,
                    2.322694966655736
                  ]
                },
                {
                  "mode": "lines+markers",
                  "name": "Radially Out ⋅ P(bias)",
                  "type": "scatter",
                  "x": [
                    0,
                    0.10511205190671431,
                    0.21022410381342863,
                    0.42044820762685725,
                    0.8408964152537145,
                    1.681792830507429
                  ],
                  "y": [
                    2.3160136638479356,
                    2.3164345921032625,
                    2.31690467188188,
                    2.3180072046349998,
                    2.3209084703448952,
                    2.3298217815435995
                  ]
                },
                {
                  "mode": "lines+markers",
                  "name": "Radially Out ⋅ P(fc1)",
                  "type": "scatter",
                  "x": [
                    0,
                    0.0963881765879963,
                    0.1927763531759926,
                    0.3855527063519852,
                    0.7711054127039704,
                    1.5422108254079407
                  ],
                  "y": [
                    2.3160136638479356,
                    2.3162465833807717,
                    2.316480638480274,
                    2.316952387230751,
                    2.3179098401634852,
                    2.3198829595478907
                  ]
                },
                {
                  "mode": "lines+markers",
                  "name": "Radially Out ⋅ P(weight)",
                  "type": "scatter",
                  "x": [
                    0,
                    0.10065564574682839,
                    0.20131129149365679,
                    0.40262258298731357,
                    0.8052451659746271,
                    1.6104903319492543
                  ],
                  "y": [
                    2.3160136638479356,
                    2.316512020060771,
                    2.31702704018746,
                    2.318108957188195,
                    2.32049617416848,
                    2.3263012268478755
                  ]
                }
              ],
              "layout": {
                "height": 600,
                "legend": {
                  "title": {
                    "text": "Direction"
                  }
                },
                "template": {
                  "data": {
                    "bar": [
                      {
                        "error_x": {
                          "color": "rgb(36,36,36)"
                        },
                        "error_y": {
                          "color": "rgb(36,36,36)"
                        },
                        "marker": {
                          "line": {
                            "color": "rgb(234,234,242)",
                            "width": 0.5
                          },
                          "pattern": {
                            "fillmode": "overlay",
                            "size": 10,
                            "solidity": 0.2
                          }
                        },
                        "type": "bar"
                      }
                    ],
                    "barpolar": [
                      {
                        "marker": {
                          "line": {
                            "color": "rgb(234,234,242)",
                            "width": 0.5
                          },
                          "pattern": {
                            "fillmode": "overlay",
                            "size": 10,
                            "solidity": 0.2
                          }
                        },
                        "type": "barpolar"
                      }
                    ],
                    "carpet": [
                      {
                        "aaxis": {
                          "endlinecolor": "rgb(36,36,36)",
                          "gridcolor": "white",
                          "linecolor": "white",
                          "minorgridcolor": "white",
                          "startlinecolor": "rgb(36,36,36)"
                        },
                        "baxis": {
                          "endlinecolor": "rgb(36,36,36)",
                          "gridcolor": "white",
                          "linecolor": "white",
                          "minorgridcolor": "white",
                          "startlinecolor": "rgb(36,36,36)"
                        },
                        "type": "carpet"
                      }
                    ],
                    "choropleth": [
                      {
                        "colorbar": {
                          "outlinewidth": 0,
                          "tickcolor": "rgb(36,36,36)",
                          "ticklen": 8,
                          "ticks": "outside",
                          "tickwidth": 2
                        },
                        "type": "choropleth"
                      }
                    ],
                    "contour": [
                      {
                        "colorbar": {
                          "outlinewidth": 0,
                          "tickcolor": "rgb(36,36,36)",
                          "ticklen": 8,
                          "ticks": "outside",
                          "tickwidth": 2
                        },
                        "colorscale": [
                          [
                            0,
                            "rgb(2,4,25)"
                          ],
                          [
                            0.06274509803921569,
                            "rgb(24,15,41)"
                          ],
                          [
                            0.12549019607843137,
                            "rgb(47,23,57)"
                          ],
                          [
                            0.18823529411764706,
                            "rgb(71,28,72)"
                          ],
                          [
                            0.25098039215686274,
                            "rgb(97,30,82)"
                          ],
                          [
                            0.3137254901960784,
                            "rgb(123,30,89)"
                          ],
                          [
                            0.3764705882352941,
                            "rgb(150,27,91)"
                          ],
                          [
                            0.4392156862745098,
                            "rgb(177,22,88)"
                          ],
                          [
                            0.5019607843137255,
                            "rgb(203,26,79)"
                          ],
                          [
                            0.5647058823529412,
                            "rgb(223,47,67)"
                          ],
                          [
                            0.6274509803921569,
                            "rgb(236,76,61)"
                          ],
                          [
                            0.6901960784313725,
                            "rgb(242,107,73)"
                          ],
                          [
                            0.7529411764705882,
                            "rgb(244,135,95)"
                          ],
                          [
                            0.8156862745098039,
                            "rgb(245,162,122)"
                          ],
                          [
                            0.8784313725490196,
                            "rgb(246,188,153)"
                          ],
                          [
                            0.9411764705882353,
                            "rgb(247,212,187)"
                          ],
                          [
                            1,
                            "rgb(250,234,220)"
                          ]
                        ],
                        "type": "contour"
                      }
                    ],
                    "contourcarpet": [
                      {
                        "colorbar": {
                          "outlinewidth": 0,
                          "tickcolor": "rgb(36,36,36)",
                          "ticklen": 8,
                          "ticks": "outside",
                          "tickwidth": 2
                        },
                        "type": "contourcarpet"
                      }
                    ],
                    "heatmap": [
                      {
                        "colorbar": {
                          "outlinewidth": 0,
                          "tickcolor": "rgb(36,36,36)",
                          "ticklen": 8,
                          "ticks": "outside",
                          "tickwidth": 2
                        },
                        "colorscale": [
                          [
                            0,
                            "rgb(2,4,25)"
                          ],
                          [
                            0.06274509803921569,
                            "rgb(24,15,41)"
                          ],
                          [
                            0.12549019607843137,
                            "rgb(47,23,57)"
                          ],
                          [
                            0.18823529411764706,
                            "rgb(71,28,72)"
                          ],
                          [
                            0.25098039215686274,
                            "rgb(97,30,82)"
                          ],
                          [
                            0.3137254901960784,
                            "rgb(123,30,89)"
                          ],
                          [
                            0.3764705882352941,
                            "rgb(150,27,91)"
                          ],
                          [
                            0.4392156862745098,
                            "rgb(177,22,88)"
                          ],
                          [
                            0.5019607843137255,
                            "rgb(203,26,79)"
                          ],
                          [
                            0.5647058823529412,
                            "rgb(223,47,67)"
                          ],
                          [
                            0.6274509803921569,
                            "rgb(236,76,61)"
                          ],
                          [
                            0.6901960784313725,
                            "rgb(242,107,73)"
                          ],
                          [
                            0.7529411764705882,
                            "rgb(244,135,95)"
                          ],
                          [
                            0.8156862745098039,
                            "rgb(245,162,122)"
                          ],
                          [
                            0.8784313725490196,
                            "rgb(246,188,153)"
                          ],
                          [
                            0.9411764705882353,
                            "rgb(247,212,187)"
                          ],
                          [
                            1,
                            "rgb(250,234,220)"
                          ]
                        ],
                        "type": "heatmap"
                      }
                    ],
                    "heatmapgl": [
                      {
                        "colorbar": {
                          "outlinewidth": 0,
                          "tickcolor": "rgb(36,36,36)",
                          "ticklen": 8,
                          "ticks": "outside",
                          "tickwidth": 2
                        },
                        "colorscale": [
                          [
                            0,
                            "rgb(2,4,25)"
                          ],
                          [
                            0.06274509803921569,
                            "rgb(24,15,41)"
                          ],
                          [
                            0.12549019607843137,
                            "rgb(47,23,57)"
                          ],
                          [
                            0.18823529411764706,
                            "rgb(71,28,72)"
                          ],
                          [
                            0.25098039215686274,
                            "rgb(97,30,82)"
                          ],
                          [
                            0.3137254901960784,
                            "rgb(123,30,89)"
                          ],
                          [
                            0.3764705882352941,
                            "rgb(150,27,91)"
                          ],
                          [
                            0.4392156862745098,
                            "rgb(177,22,88)"
                          ],
                          [
                            0.5019607843137255,
                            "rgb(203,26,79)"
                          ],
                          [
                            0.5647058823529412,
                            "rgb(223,47,67)"
                          ],
                          [
                            0.6274509803921569,
                            "rgb(236,76,61)"
                          ],
                          [
                            0.6901960784313725,
                            "rgb(242,107,73)"
                          ],
                          [
                            0.7529411764705882,
                            "rgb(244,135,95)"
                          ],
                          [
                            0.8156862745098039,
                            "rgb(245,162,122)"
                          ],
                          [
                            0.8784313725490196,
                            "rgb(246,188,153)"
                          ],
                          [
                            0.9411764705882353,
                            "rgb(247,212,187)"
                          ],
                          [
                            1,
                            "rgb(250,234,220)"
                          ]
                        ],
                        "type": "heatmapgl"
                      }
                    ],
                    "histogram": [
                      {
                        "marker": {
                          "pattern": {
                            "fillmode": "overlay",
                            "size": 10,
                            "solidity": 0.2
                          }
                        },
                        "type": "histogram"
                      }
                    ],
                    "histogram2d": [
                      {
                        "colorbar": {
                          "outlinewidth": 0,
                          "tickcolor": "rgb(36,36,36)",
                          "ticklen": 8,
                          "ticks": "outside",
                          "tickwidth": 2
                        },
                        "colorscale": [
                          [
                            0,
                            "rgb(2,4,25)"
                          ],
                          [
                            0.06274509803921569,
                            "rgb(24,15,41)"
                          ],
                          [
                            0.12549019607843137,
                            "rgb(47,23,57)"
                          ],
                          [
                            0.18823529411764706,
                            "rgb(71,28,72)"
                          ],
                          [
                            0.25098039215686274,
                            "rgb(97,30,82)"
                          ],
                          [
                            0.3137254901960784,
                            "rgb(123,30,89)"
                          ],
                          [
                            0.3764705882352941,
                            "rgb(150,27,91)"
                          ],
                          [
                            0.4392156862745098,
                            "rgb(177,22,88)"
                          ],
                          [
                            0.5019607843137255,
                            "rgb(203,26,79)"
                          ],
                          [
                            0.5647058823529412,
                            "rgb(223,47,67)"
                          ],
                          [
                            0.6274509803921569,
                            "rgb(236,76,61)"
                          ],
                          [
                            0.6901960784313725,
                            "rgb(242,107,73)"
                          ],
                          [
                            0.7529411764705882,
                            "rgb(244,135,95)"
                          ],
                          [
                            0.8156862745098039,
                            "rgb(245,162,122)"
                          ],
                          [
                            0.8784313725490196,
                            "rgb(246,188,153)"
                          ],
                          [
                            0.9411764705882353,
                            "rgb(247,212,187)"
                          ],
                          [
                            1,
                            "rgb(250,234,220)"
                          ]
                        ],
                        "type": "histogram2d"
                      }
                    ],
                    "histogram2dcontour": [
                      {
                        "colorbar": {
                          "outlinewidth": 0,
                          "tickcolor": "rgb(36,36,36)",
                          "ticklen": 8,
                          "ticks": "outside",
                          "tickwidth": 2
                        },
                        "colorscale": [
                          [
                            0,
                            "rgb(2,4,25)"
                          ],
                          [
                            0.06274509803921569,
                            "rgb(24,15,41)"
                          ],
                          [
                            0.12549019607843137,
                            "rgb(47,23,57)"
                          ],
                          [
                            0.18823529411764706,
                            "rgb(71,28,72)"
                          ],
                          [
                            0.25098039215686274,
                            "rgb(97,30,82)"
                          ],
                          [
                            0.3137254901960784,
                            "rgb(123,30,89)"
                          ],
                          [
                            0.3764705882352941,
                            "rgb(150,27,91)"
                          ],
                          [
                            0.4392156862745098,
                            "rgb(177,22,88)"
                          ],
                          [
                            0.5019607843137255,
                            "rgb(203,26,79)"
                          ],
                          [
                            0.5647058823529412,
                            "rgb(223,47,67)"
                          ],
                          [
                            0.6274509803921569,
                            "rgb(236,76,61)"
                          ],
                          [
                            0.6901960784313725,
                            "rgb(242,107,73)"
                          ],
                          [
                            0.7529411764705882,
                            "rgb(244,135,95)"
                          ],
                          [
                            0.8156862745098039,
                            "rgb(245,162,122)"
                          ],
                          [
                            0.8784313725490196,
                            "rgb(246,188,153)"
                          ],
                          [
                            0.9411764705882353,
                            "rgb(247,212,187)"
                          ],
                          [
                            1,
                            "rgb(250,234,220)"
                          ]
                        ],
                        "type": "histogram2dcontour"
                      }
                    ],
                    "mesh3d": [
                      {
                        "colorbar": {
                          "outlinewidth": 0,
                          "tickcolor": "rgb(36,36,36)",
                          "ticklen": 8,
                          "ticks": "outside",
                          "tickwidth": 2
                        },
                        "type": "mesh3d"
                      }
                    ],
                    "parcoords": [
                      {
                        "line": {
                          "colorbar": {
                            "outlinewidth": 0,
                            "tickcolor": "rgb(36,36,36)",
                            "ticklen": 8,
                            "ticks": "outside",
                            "tickwidth": 2
                          }
                        },
                        "type": "parcoords"
                      }
                    ],
                    "pie": [
                      {
                        "automargin": true,
                        "type": "pie"
                      }
                    ],
                    "scatter": [
                      {
                        "fillpattern": {
                          "fillmode": "overlay",
                          "size": 10,
                          "solidity": 0.2
                        },
                        "type": "scatter"
                      }
                    ],
                    "scatter3d": [
                      {
                        "line": {
                          "colorbar": {
                            "outlinewidth": 0,
                            "tickcolor": "rgb(36,36,36)",
                            "ticklen": 8,
                            "ticks": "outside",
                            "tickwidth": 2
                          }
                        },
                        "marker": {
                          "colorbar": {
                            "outlinewidth": 0,
                            "tickcolor": "rgb(36,36,36)",
                            "ticklen": 8,
                            "ticks": "outside",
                            "tickwidth": 2
                          }
                        },
                        "type": "scatter3d"
                      }
                    ],
                    "scattercarpet": [
                      {
                        "marker": {
                          "colorbar": {
                            "outlinewidth": 0,
                            "tickcolor": "rgb(36,36,36)",
                            "ticklen": 8,
                            "ticks": "outside",
                            "tickwidth": 2
                          }
                        },
                        "type": "scattercarpet"
                      }
                    ],
                    "scattergeo": [
                      {
                        "marker": {
                          "colorbar": {
                            "outlinewidth": 0,
                            "tickcolor": "rgb(36,36,36)",
                            "ticklen": 8,
                            "ticks": "outside",
                            "tickwidth": 2
                          }
                        },
                        "type": "scattergeo"
                      }
                    ],
                    "scattergl": [
                      {
                        "marker": {
                          "colorbar": {
                            "outlinewidth": 0,
                            "tickcolor": "rgb(36,36,36)",
                            "ticklen": 8,
                            "ticks": "outside",
                            "tickwidth": 2
                          }
                        },
                        "type": "scattergl"
                      }
                    ],
                    "scattermapbox": [
                      {
                        "marker": {
                          "colorbar": {
                            "outlinewidth": 0,
                            "tickcolor": "rgb(36,36,36)",
                            "ticklen": 8,
                            "ticks": "outside",
                            "tickwidth": 2
                          }
                        },
                        "type": "scattermapbox"
                      }
                    ],
                    "scatterpolar": [
                      {
                        "marker": {
                          "colorbar": {
                            "outlinewidth": 0,
                            "tickcolor": "rgb(36,36,36)",
                            "ticklen": 8,
                            "ticks": "outside",
                            "tickwidth": 2
                          }
                        },
                        "type": "scatterpolar"
                      }
                    ],
                    "scatterpolargl": [
                      {
                        "marker": {
                          "colorbar": {
                            "outlinewidth": 0,
                            "tickcolor": "rgb(36,36,36)",
                            "ticklen": 8,
                            "ticks": "outside",
                            "tickwidth": 2
                          }
                        },
                        "type": "scatterpolargl"
                      }
                    ],
                    "scatterternary": [
                      {
                        "marker": {
                          "colorbar": {
                            "outlinewidth": 0,
                            "tickcolor": "rgb(36,36,36)",
                            "ticklen": 8,
                            "ticks": "outside",
                            "tickwidth": 2
                          }
                        },
                        "type": "scatterternary"
                      }
                    ],
                    "surface": [
                      {
                        "colorbar": {
                          "outlinewidth": 0,
                          "tickcolor": "rgb(36,36,36)",
                          "ticklen": 8,
                          "ticks": "outside",
                          "tickwidth": 2
                        },
                        "colorscale": [
                          [
                            0,
                            "rgb(2,4,25)"
                          ],
                          [
                            0.06274509803921569,
                            "rgb(24,15,41)"
                          ],
                          [
                            0.12549019607843137,
                            "rgb(47,23,57)"
                          ],
                          [
                            0.18823529411764706,
                            "rgb(71,28,72)"
                          ],
                          [
                            0.25098039215686274,
                            "rgb(97,30,82)"
                          ],
                          [
                            0.3137254901960784,
                            "rgb(123,30,89)"
                          ],
                          [
                            0.3764705882352941,
                            "rgb(150,27,91)"
                          ],
                          [
                            0.4392156862745098,
                            "rgb(177,22,88)"
                          ],
                          [
                            0.5019607843137255,
                            "rgb(203,26,79)"
                          ],
                          [
                            0.5647058823529412,
                            "rgb(223,47,67)"
                          ],
                          [
                            0.6274509803921569,
                            "rgb(236,76,61)"
                          ],
                          [
                            0.6901960784313725,
                            "rgb(242,107,73)"
                          ],
                          [
                            0.7529411764705882,
                            "rgb(244,135,95)"
                          ],
                          [
                            0.8156862745098039,
                            "rgb(245,162,122)"
                          ],
                          [
                            0.8784313725490196,
                            "rgb(246,188,153)"
                          ],
                          [
                            0.9411764705882353,
                            "rgb(247,212,187)"
                          ],
                          [
                            1,
                            "rgb(250,234,220)"
                          ]
                        ],
                        "type": "surface"
                      }
                    ],
                    "table": [
                      {
                        "cells": {
                          "fill": {
                            "color": "rgb(231,231,240)"
                          },
                          "line": {
                            "color": "white"
                          }
                        },
                        "header": {
                          "fill": {
                            "color": "rgb(183,183,191)"
                          },
                          "line": {
                            "color": "white"
                          }
                        },
                        "type": "table"
                      }
                    ]
                  },
                  "layout": {
                    "annotationdefaults": {
                      "arrowcolor": "rgb(67,103,167)"
                    },
                    "autotypenumbers": "strict",
                    "coloraxis": {
                      "colorbar": {
                        "outlinewidth": 0,
                        "tickcolor": "rgb(36,36,36)",
                        "ticklen": 8,
                        "ticks": "outside",
                        "tickwidth": 2
                      }
                    },
                    "colorscale": {
                      "sequential": [
                        [
                          0,
                          "rgb(2,4,25)"
                        ],
                        [
                          0.06274509803921569,
                          "rgb(24,15,41)"
                        ],
                        [
                          0.12549019607843137,
                          "rgb(47,23,57)"
                        ],
                        [
                          0.18823529411764706,
                          "rgb(71,28,72)"
                        ],
                        [
                          0.25098039215686274,
                          "rgb(97,30,82)"
                        ],
                        [
                          0.3137254901960784,
                          "rgb(123,30,89)"
                        ],
                        [
                          0.3764705882352941,
                          "rgb(150,27,91)"
                        ],
                        [
                          0.4392156862745098,
                          "rgb(177,22,88)"
                        ],
                        [
                          0.5019607843137255,
                          "rgb(203,26,79)"
                        ],
                        [
                          0.5647058823529412,
                          "rgb(223,47,67)"
                        ],
                        [
                          0.6274509803921569,
                          "rgb(236,76,61)"
                        ],
                        [
                          0.6901960784313725,
                          "rgb(242,107,73)"
                        ],
                        [
                          0.7529411764705882,
                          "rgb(244,135,95)"
                        ],
                        [
                          0.8156862745098039,
                          "rgb(245,162,122)"
                        ],
                        [
                          0.8784313725490196,
                          "rgb(246,188,153)"
                        ],
                        [
                          0.9411764705882353,
                          "rgb(247,212,187)"
                        ],
                        [
                          1,
                          "rgb(250,234,220)"
                        ]
                      ],
                      "sequentialminus": [
                        [
                          0,
                          "rgb(2,4,25)"
                        ],
                        [
                          0.06274509803921569,
                          "rgb(24,15,41)"
                        ],
                        [
                          0.12549019607843137,
                          "rgb(47,23,57)"
                        ],
                        [
                          0.18823529411764706,
                          "rgb(71,28,72)"
                        ],
                        [
                          0.25098039215686274,
                          "rgb(97,30,82)"
                        ],
                        [
                          0.3137254901960784,
                          "rgb(123,30,89)"
                        ],
                        [
                          0.3764705882352941,
                          "rgb(150,27,91)"
                        ],
                        [
                          0.4392156862745098,
                          "rgb(177,22,88)"
                        ],
                        [
                          0.5019607843137255,
                          "rgb(203,26,79)"
                        ],
                        [
                          0.5647058823529412,
                          "rgb(223,47,67)"
                        ],
                        [
                          0.6274509803921569,
                          "rgb(236,76,61)"
                        ],
                        [
                          0.6901960784313725,
                          "rgb(242,107,73)"
                        ],
                        [
                          0.7529411764705882,
                          "rgb(244,135,95)"
                        ],
                        [
                          0.8156862745098039,
                          "rgb(245,162,122)"
                        ],
                        [
                          0.8784313725490196,
                          "rgb(246,188,153)"
                        ],
                        [
                          0.9411764705882353,
                          "rgb(247,212,187)"
                        ],
                        [
                          1,
                          "rgb(250,234,220)"
                        ]
                      ]
                    },
                    "colorway": [
                      "rgb(76,114,176)",
                      "rgb(221,132,82)",
                      "rgb(85,168,104)",
                      "rgb(196,78,82)",
                      "rgb(129,114,179)",
                      "rgb(147,120,96)",
                      "rgb(218,139,195)",
                      "rgb(140,140,140)",
                      "rgb(204,185,116)",
                      "rgb(100,181,205)"
                    ],
                    "font": {
                      "color": "rgb(36,36,36)"
                    },
                    "geo": {
                      "bgcolor": "white",
                      "lakecolor": "white",
                      "landcolor": "rgb(234,234,242)",
                      "showlakes": true,
                      "showland": true,
                      "subunitcolor": "white"
                    },
                    "hoverlabel": {
                      "align": "left"
                    },
                    "hovermode": "closest",
                    "paper_bgcolor": "white",
                    "plot_bgcolor": "rgb(234,234,242)",
                    "polar": {
                      "angularaxis": {
                        "gridcolor": "white",
                        "linecolor": "white",
                        "showgrid": true,
                        "ticks": ""
                      },
                      "bgcolor": "rgb(234,234,242)",
                      "radialaxis": {
                        "gridcolor": "white",
                        "linecolor": "white",
                        "showgrid": true,
                        "ticks": ""
                      }
                    },
                    "scene": {
                      "xaxis": {
                        "backgroundcolor": "rgb(234,234,242)",
                        "gridcolor": "white",
                        "gridwidth": 2,
                        "linecolor": "white",
                        "showbackground": true,
                        "showgrid": true,
                        "ticks": "",
                        "zerolinecolor": "white"
                      },
                      "yaxis": {
                        "backgroundcolor": "rgb(234,234,242)",
                        "gridcolor": "white",
                        "gridwidth": 2,
                        "linecolor": "white",
                        "showbackground": true,
                        "showgrid": true,
                        "ticks": "",
                        "zerolinecolor": "white"
                      },
                      "zaxis": {
                        "backgroundcolor": "rgb(234,234,242)",
                        "gridcolor": "white",
                        "gridwidth": 2,
                        "linecolor": "white",
                        "showbackground": true,
                        "showgrid": true,
                        "ticks": "",
                        "zerolinecolor": "white"
                      }
                    },
                    "shapedefaults": {
                      "fillcolor": "rgb(67,103,167)",
                      "line": {
                        "width": 0
                      },
                      "opacity": 0.5
                    },
                    "ternary": {
                      "aaxis": {
                        "gridcolor": "white",
                        "linecolor": "white",
                        "showgrid": true,
                        "ticks": ""
                      },
                      "baxis": {
                        "gridcolor": "white",
                        "linecolor": "white",
                        "showgrid": true,
                        "ticks": ""
                      },
                      "bgcolor": "rgb(234,234,242)",
                      "caxis": {
                        "gridcolor": "white",
                        "linecolor": "white",
                        "showgrid": true,
                        "ticks": ""
                      }
                    },
                    "xaxis": {
                      "automargin": true,
                      "gridcolor": "white",
                      "linecolor": "white",
                      "showgrid": true,
                      "ticks": "",
                      "title": {
                        "standoff": 15
                      },
                      "zerolinecolor": "white"
                    },
                    "yaxis": {
                      "automargin": true,
                      "gridcolor": "white",
                      "linecolor": "white",
                      "showgrid": true,
                      "ticks": "",
                      "title": {
                        "standoff": 15
                      },
                      "zerolinecolor": "white"
                    }
                  }
                },
                "title": {
                  "text": "Loss Landscape of SimpleMLP on MNIST"
                },
                "xaxis": {
                  "title": {
                    "text": "Distance from Center in Parameter Space"
                  }
                },
                "yaxis": {
                  "title": {
                    "text": "Loss"
                  }
                }
              }
            }
          },
          "metadata": {},
          "output_type": "display_data"
        }
      ],
      "source": [
        "import plotly.graph_objects as go\n",
        "\n",
        "# Create a Plotly figure\n",
        "fig = go.Figure()\n",
        "\n",
        "# Plotting directly from grouped data\n",
        "for direction, data in df.groupby(level='Direction'):\n",
        "    fig.add_trace(go.Scatter(\n",
        "        x=data.index.get_level_values('Distance'),\n",
        "        y=data['Loss'],\n",
        "        mode='lines+markers',\n",
        "        name=direction\n",
        "    ))\n",
        "\n",
        "# Set axis labels and title with adjusted figure dimensions\n",
        "fig.update_layout(\n",
        "    title=f'Loss Landscape of {center_model.__class__.__name__} on {dataset.__class__.__name__}',\n",
        "    xaxis_title='Distance from Center in Parameter Space',\n",
        "    yaxis_title='Loss',\n",
        "    legend_title='Direction',\n",
        "    template='seaborn',\n",
        "    height=600,\n",
        ")\n",
        "\n",
        "\n",
        "# Show the figure\n",
        "fig.show()\n"
      ]
    },
    {
      "cell_type": "markdown",
      "metadata": {},
      "source": [
        "Now let's measure the roughness."
      ]
    },
    {
      "cell_type": "code",
      "execution_count": 12,
      "metadata": {},
      "outputs": [
        {
          "data": {
            "text/html": [
              "<div>\n",
              "<style scoped>\n",
              "    .dataframe tbody tr th:only-of-type {\n",
              "        vertical-align: middle;\n",
              "    }\n",
              "\n",
              "    .dataframe tbody tr th {\n",
              "        vertical-align: top;\n",
              "    }\n",
              "\n",
              "    .dataframe thead th {\n",
              "        text-align: right;\n",
              "    }\n",
              "</style>\n",
              "<table border=\"1\" class=\"dataframe\">\n",
              "  <thead>\n",
              "    <tr style=\"text-align: right;\">\n",
              "      <th></th>\n",
              "      <th></th>\n",
              "      <th>Model</th>\n",
              "      <th>Loss</th>\n",
              "      <th>Roughness</th>\n",
              "    </tr>\n",
              "    <tr>\n",
              "      <th>Direction</th>\n",
              "      <th>Distance</th>\n",
              "      <th></th>\n",
              "      <th></th>\n",
              "      <th></th>\n",
              "    </tr>\n",
              "  </thead>\n",
              "  <tbody>\n",
              "    <tr>\n",
              "      <th rowspan=\"5\" valign=\"top\">Ascent</th>\n",
              "      <th>0.000000</th>\n",
              "      <td>NaN</td>\n",
              "      <td>2.316014</td>\n",
              "      <td>NaN</td>\n",
              "    </tr>\n",
              "    <tr>\n",
              "      <th>0.062500</th>\n",
              "      <td>SimpleMLP(\\n  (fc1): Linear(in_features=784, o...</td>\n",
              "      <td>2.343748</td>\n",
              "      <td>1.597542e-06</td>\n",
              "    </tr>\n",
              "    <tr>\n",
              "      <th>0.125000</th>\n",
              "      <td>SimpleMLP(\\n  (fc1): Linear(in_features=784, o...</td>\n",
              "      <td>2.371750</td>\n",
              "      <td>7.477997e-06</td>\n",
              "    </tr>\n",
              "    <tr>\n",
              "      <th>0.250000</th>\n",
              "      <td>SimpleMLP(\\n  (fc1): Linear(in_features=784, o...</td>\n",
              "      <td>2.426332</td>\n",
              "      <td>2.815659e-05</td>\n",
              "    </tr>\n",
              "    <tr>\n",
              "      <th>0.500000</th>\n",
              "      <td>SimpleMLP(\\n  (fc1): Linear(in_features=784, o...</td>\n",
              "      <td>2.532197</td>\n",
              "      <td>2.900335e-04</td>\n",
              "    </tr>\n",
              "    <tr>\n",
              "      <th>...</th>\n",
              "      <th>...</th>\n",
              "      <td>...</td>\n",
              "      <td>...</td>\n",
              "      <td>...</td>\n",
              "    </tr>\n",
              "    <tr>\n",
              "      <th rowspan=\"5\" valign=\"top\">Radially Out ⋅ P(weight)</th>\n",
              "      <th>0.100656</th>\n",
              "      <td>SimpleMLP(\\n  (fc1): Linear(in_features=784, o...</td>\n",
              "      <td>2.316512</td>\n",
              "      <td>3.425830e-09</td>\n",
              "    </tr>\n",
              "    <tr>\n",
              "      <th>0.201311</th>\n",
              "      <td>SimpleMLP(\\n  (fc1): Linear(in_features=784, o...</td>\n",
              "      <td>2.317027</td>\n",
              "      <td>1.448928e-08</td>\n",
              "    </tr>\n",
              "    <tr>\n",
              "      <th>0.402623</th>\n",
              "      <td>SimpleMLP(\\n  (fc1): Linear(in_features=784, o...</td>\n",
              "      <td>2.318109</td>\n",
              "      <td>6.570908e-08</td>\n",
              "    </tr>\n",
              "    <tr>\n",
              "      <th>0.805245</th>\n",
              "      <td>SimpleMLP(\\n  (fc1): Linear(in_features=784, o...</td>\n",
              "      <td>2.320496</td>\n",
              "      <td>3.371611e-07</td>\n",
              "    </tr>\n",
              "    <tr>\n",
              "      <th>1.610490</th>\n",
              "      <td>SimpleMLP(\\n  (fc1): Linear(in_features=784, o...</td>\n",
              "      <td>2.326301</td>\n",
              "      <td>NaN</td>\n",
              "    </tr>\n",
              "  </tbody>\n",
              "</table>\n",
              "<p>96 rows × 3 columns</p>\n",
              "</div>"
            ],
            "text/plain": [
              "                                                                               Model  \\\n",
              "Direction                Distance                                                      \n",
              "Ascent                   0.000000                                                NaN   \n",
              "                         0.062500  SimpleMLP(\\n  (fc1): Linear(in_features=784, o...   \n",
              "                         0.125000  SimpleMLP(\\n  (fc1): Linear(in_features=784, o...   \n",
              "                         0.250000  SimpleMLP(\\n  (fc1): Linear(in_features=784, o...   \n",
              "                         0.500000  SimpleMLP(\\n  (fc1): Linear(in_features=784, o...   \n",
              "...                                                                              ...   \n",
              "Radially Out ⋅ P(weight) 0.100656  SimpleMLP(\\n  (fc1): Linear(in_features=784, o...   \n",
              "                         0.201311  SimpleMLP(\\n  (fc1): Linear(in_features=784, o...   \n",
              "                         0.402623  SimpleMLP(\\n  (fc1): Linear(in_features=784, o...   \n",
              "                         0.805245  SimpleMLP(\\n  (fc1): Linear(in_features=784, o...   \n",
              "                         1.610490  SimpleMLP(\\n  (fc1): Linear(in_features=784, o...   \n",
              "\n",
              "                                       Loss     Roughness  \n",
              "Direction                Distance                          \n",
              "Ascent                   0.000000  2.316014           NaN  \n",
              "                         0.062500  2.343748  1.597542e-06  \n",
              "                         0.125000  2.371750  7.477997e-06  \n",
              "                         0.250000  2.426332  2.815659e-05  \n",
              "                         0.500000  2.532197  2.900335e-04  \n",
              "...                                     ...           ...  \n",
              "Radially Out ⋅ P(weight) 0.100656  2.316512  3.425830e-09  \n",
              "                         0.201311  2.317027  1.448928e-08  \n",
              "                         0.402623  2.318109  6.570908e-08  \n",
              "                         0.805245  2.320496  3.371611e-07  \n",
              "                         1.610490  2.326301           NaN  \n",
              "\n",
              "[96 rows x 3 columns]"
            ]
          },
          "execution_count": 12,
          "metadata": {},
          "output_type": "execute_result"
        }
      ],
      "source": [
        "# TODO: Add nice explanation of the roughness calculation\n",
        "df['Roughness'] = np.nan\n",
        "\n",
        "# Calculate the roughness, one direction at a time\n",
        "for direction, group in df.groupby(level='Direction'):\n",
        "    distA = group.index.get_level_values('Distance').to_numpy()\n",
        "    loss = group['Loss'].to_numpy()\n",
        "\n",
        "    # Named slices, so that \n",
        "    # distA[x] really corresponds to the distance between A and X ∈ {A, B, C},\n",
        "    # loss[x] really corresponds to the loss at X ∈ {A, B, C}\n",
        "    a = 0\n",
        "    b = slice(1, -1)\n",
        "    c = slice(2, None)\n",
        "\n",
        "    # Ensure distances and slices are correct\n",
        "    assert np.all(distA[c] == 2 * distA[b]), \"Distance check failed\"\n",
        "\n",
        "    # Calculate paths between A, B, and C\n",
        "    AB = np.sqrt((loss[b] - loss[a]) ** 2 + distA[b] ** 2)\n",
        "    BC = np.sqrt((loss[c] - loss[b]) ** 2 + distA[b] ** 2)\n",
        "    AC = np.sqrt((loss[c] - loss[a]) ** 2 + distA[c] ** 2)\n",
        "\n",
        "    # Roghness is how much the path via B (A->B->C) is longer than the direct path A->C\n",
        "    # subtracting 1, then we can use log scale better!\n",
        "    roughness = (AB + BC) / AC - 1\n",
        "\n",
        "    # Update DataFrame with roughness values\n",
        "    df.loc[(direction,), 'Roughness'] = np.concatenate([[np.nan], roughness, [np.nan]])\n",
        "\n",
        "df"
      ]
    },
    {
      "cell_type": "code",
      "execution_count": 13,
      "metadata": {},
      "outputs": [
        {
          "data": {
            "application/vnd.plotly.v1+json": {
              "config": {
                "plotlyServerURL": "https://plot.ly"
              },
              "data": [
                {
                  "mode": "markers",
                  "name": "Ascent",
                  "type": "scatter",
                  "x": [
                    0,
                    0.0625,
                    0.125,
                    0.25,
                    0.5,
                    1
                  ],
                  "y": [
                    null,
                    0.0000015975420728508993,
                    0.0000074779972616401125,
                    0.000028156589929384523,
                    0.000290033484011909,
                    null
                  ]
                },
                {
                  "mode": "markers",
                  "name": "Ascent ⋅ P(bias)",
                  "type": "scatter",
                  "x": [
                    0,
                    0.0810524721656881,
                    0.1621049443313762,
                    0.3242098886627524,
                    0.6484197773255048,
                    1.2968395546510096
                  ],
                  "y": [
                    null,
                    0.0000017549600743738125,
                    0.000006939910945247263,
                    0.000027407069430385178,
                    0.00010828470956880665,
                    null
                  ]
                },
                {
                  "mode": "markers",
                  "name": "Ascent ⋅ P(fc1)",
                  "type": "scatter",
                  "x": [
                    0,
                    0.07432544468767006,
                    0.14865088937534013,
                    0.29730177875068026,
                    0.5946035575013605,
                    1.189207115002721
                  ],
                  "y": [
                    null,
                    0.000011480802610819296,
                    0.0001677332108451779,
                    0.00039484457596272726,
                    0.00016674912972947098,
                    null
                  ]
                },
                {
                  "mode": "markers",
                  "name": "Ascent ⋅ P(weight)",
                  "type": "scatter",
                  "x": [
                    0,
                    0.07761611325459275,
                    0.1552322265091855,
                    0.310464453018371,
                    0.620928906036742,
                    1.241857812073484
                  ],
                  "y": [
                    null,
                    1.4497328360008055e-7,
                    0.000021584582354350346,
                    0.000007140443364583859,
                    0.0010872275825206668,
                    null
                  ]
                },
                {
                  "mode": "markers",
                  "name": "Descent",
                  "type": "scatter",
                  "x": [
                    0,
                    0.06526711140171336,
                    0.13053422280342672,
                    0.26106844560685344,
                    0.5221368912137069,
                    1.0442737824274138
                  ],
                  "y": [
                    null,
                    0.00012300623002903244,
                    0.0006542692857500754,
                    0.001928636561779884,
                    0.0021328803901570215,
                    null
                  ]
                },
                {
                  "mode": "markers",
                  "name": "Descent ⋅ P(bias)",
                  "type": "scatter",
                  "x": [
                    0,
                    0.09230163412121871,
                    0.18460326824243742,
                    0.36920653648487484,
                    0.7384130729697497,
                    1.4768261459394993
                  ],
                  "y": [
                    null,
                    0.000002376935897441257,
                    0.000009503674051281052,
                    0.00003879751953395072,
                    0.00015213416956005865,
                    null
                  ]
                },
                {
                  "mode": "markers",
                  "name": "Descent ⋅ P(fc1)",
                  "type": "scatter",
                  "x": [
                    0,
                    0.08464097168355579,
                    0.16928194336711158,
                    0.33856388673422316,
                    0.6771277734684463,
                    1.3542555469368927
                  ],
                  "y": [
                    null,
                    0.00020434352956266721,
                    0.0010284783769203276,
                    0.002041222895323047,
                    0.001424696543399051,
                    null
                  ]
                },
                {
                  "mode": "markers",
                  "name": "Descent ⋅ P(weight)",
                  "type": "scatter",
                  "x": [
                    0,
                    0.08838834764831845,
                    0.1767766952966369,
                    0.3535533905932738,
                    0.7071067811865476,
                    1.4142135623730951
                  ],
                  "y": [
                    null,
                    0.00025655007550340336,
                    0.0011541305368663046,
                    0.0022076144993803393,
                    0.0019420216453061023,
                    null
                  ]
                },
                {
                  "mode": "markers",
                  "name": "Radially In",
                  "type": "scatter",
                  "x": [
                    0,
                    0.07117428967229322,
                    0.14234857934458645,
                    0.2846971586891729,
                    0.5693943173783458,
                    1.1387886347566916
                  ],
                  "y": [
                    null,
                    1.633787327648406e-9,
                    6.2590586047406305e-9,
                    2.3019157247006206e-8,
                    7.874511487315772e-8,
                    null
                  ]
                },
                {
                  "mode": "markers",
                  "name": "Radially In ⋅ P(bias)",
                  "type": "scatter",
                  "x": [
                    0,
                    0.11970041008732171,
                    0.23940082017464343,
                    0.47880164034928685,
                    0.9576032806985737,
                    1.9152065613971474
                  ],
                  "y": [
                    null,
                    2.847977897957321e-8,
                    1.090620258548114e-7,
                    5.183830829036395e-7,
                    0.0000033407704225218993,
                    null
                  ]
                },
                {
                  "mode": "markers",
                  "name": "Radially In ⋅ P(fc1)",
                  "type": "scatter",
                  "x": [
                    0,
                    0.10976576002333122,
                    0.21953152004666243,
                    0.43906304009332486,
                    0.8781260801866497,
                    1.7562521603732995
                  ],
                  "y": [
                    null,
                    1.9145351970450974e-11,
                    7.506995025607921e-11,
                    3.5546343646331025e-10,
                    1.286335038486186e-9,
                    null
                  ]
                },
                {
                  "mode": "markers",
                  "name": "Radially In ⋅ P(weight)",
                  "type": "scatter",
                  "x": [
                    0,
                    0.1146255054005839,
                    0.2292510108011678,
                    0.4585020216023356,
                    0.9170040432046712,
                    1.8340080864093424
                  ],
                  "y": [
                    null,
                    3.758678257526071e-9,
                    1.4331057895944355e-8,
                    5.028445704269302e-8,
                    1.5216026549857986e-7,
                    null
                  ]
                },
                {
                  "mode": "markers",
                  "name": "Radially Out",
                  "type": "scatter",
                  "x": [
                    0,
                    0.0681567332915786,
                    0.1363134665831572,
                    0.2726269331663144,
                    0.5452538663326288,
                    1.0905077326652577
                  ],
                  "y": [
                    null,
                    1.6439283267999372e-9,
                    6.774905525475106e-9,
                    2.944815236105569e-8,
                    1.378912797278531e-7,
                    null
                  ]
                },
                {
                  "mode": "markers",
                  "name": "Radially Out ⋅ P(bias)",
                  "type": "scatter",
                  "x": [
                    0,
                    0.10511205190671431,
                    0.21022410381342863,
                    0.42044820762685725,
                    0.8408964152537145,
                    1.681792830507429
                  ],
                  "y": [
                    null,
                    2.733149195854878e-8,
                    1.265457878485421e-7,
                    5.825912599011218e-7,
                    0.0000028542683596644025,
                    null
                  ]
                },
                {
                  "mode": "markers",
                  "name": "Radially Out ⋅ P(fc1)",
                  "type": "scatter",
                  "x": [
                    0,
                    0.0963881765879963,
                    0.1927763531759926,
                    0.3855527063519852,
                    0.7711054127039704,
                    1.5422108254079407
                  ],
                  "y": [
                    null,
                    1.7349233161212396e-11,
                    7.666267620720646e-11,
                    2.9497959630475634e-10,
                    1.2445606767386153e-9,
                    null
                  ]
                },
                {
                  "mode": "markers",
                  "name": "Radially Out ⋅ P(weight)",
                  "type": "scatter",
                  "x": [
                    0,
                    0.10065564574682839,
                    0.20131129149365679,
                    0.40262258298731357,
                    0.8052451659746271,
                    1.6104903319492543
                  ],
                  "y": [
                    null,
                    3.4258296199851657e-9,
                    1.4489279775986574e-8,
                    6.570907506997514e-8,
                    3.3716107261660966e-7,
                    null
                  ]
                }
              ],
              "layout": {
                "height": 600,
                "legend": {
                  "title": {
                    "text": "Direction"
                  }
                },
                "template": {
                  "data": {
                    "bar": [
                      {
                        "error_x": {
                          "color": "rgb(36,36,36)"
                        },
                        "error_y": {
                          "color": "rgb(36,36,36)"
                        },
                        "marker": {
                          "line": {
                            "color": "rgb(234,234,242)",
                            "width": 0.5
                          },
                          "pattern": {
                            "fillmode": "overlay",
                            "size": 10,
                            "solidity": 0.2
                          }
                        },
                        "type": "bar"
                      }
                    ],
                    "barpolar": [
                      {
                        "marker": {
                          "line": {
                            "color": "rgb(234,234,242)",
                            "width": 0.5
                          },
                          "pattern": {
                            "fillmode": "overlay",
                            "size": 10,
                            "solidity": 0.2
                          }
                        },
                        "type": "barpolar"
                      }
                    ],
                    "carpet": [
                      {
                        "aaxis": {
                          "endlinecolor": "rgb(36,36,36)",
                          "gridcolor": "white",
                          "linecolor": "white",
                          "minorgridcolor": "white",
                          "startlinecolor": "rgb(36,36,36)"
                        },
                        "baxis": {
                          "endlinecolor": "rgb(36,36,36)",
                          "gridcolor": "white",
                          "linecolor": "white",
                          "minorgridcolor": "white",
                          "startlinecolor": "rgb(36,36,36)"
                        },
                        "type": "carpet"
                      }
                    ],
                    "choropleth": [
                      {
                        "colorbar": {
                          "outlinewidth": 0,
                          "tickcolor": "rgb(36,36,36)",
                          "ticklen": 8,
                          "ticks": "outside",
                          "tickwidth": 2
                        },
                        "type": "choropleth"
                      }
                    ],
                    "contour": [
                      {
                        "colorbar": {
                          "outlinewidth": 0,
                          "tickcolor": "rgb(36,36,36)",
                          "ticklen": 8,
                          "ticks": "outside",
                          "tickwidth": 2
                        },
                        "colorscale": [
                          [
                            0,
                            "rgb(2,4,25)"
                          ],
                          [
                            0.06274509803921569,
                            "rgb(24,15,41)"
                          ],
                          [
                            0.12549019607843137,
                            "rgb(47,23,57)"
                          ],
                          [
                            0.18823529411764706,
                            "rgb(71,28,72)"
                          ],
                          [
                            0.25098039215686274,
                            "rgb(97,30,82)"
                          ],
                          [
                            0.3137254901960784,
                            "rgb(123,30,89)"
                          ],
                          [
                            0.3764705882352941,
                            "rgb(150,27,91)"
                          ],
                          [
                            0.4392156862745098,
                            "rgb(177,22,88)"
                          ],
                          [
                            0.5019607843137255,
                            "rgb(203,26,79)"
                          ],
                          [
                            0.5647058823529412,
                            "rgb(223,47,67)"
                          ],
                          [
                            0.6274509803921569,
                            "rgb(236,76,61)"
                          ],
                          [
                            0.6901960784313725,
                            "rgb(242,107,73)"
                          ],
                          [
                            0.7529411764705882,
                            "rgb(244,135,95)"
                          ],
                          [
                            0.8156862745098039,
                            "rgb(245,162,122)"
                          ],
                          [
                            0.8784313725490196,
                            "rgb(246,188,153)"
                          ],
                          [
                            0.9411764705882353,
                            "rgb(247,212,187)"
                          ],
                          [
                            1,
                            "rgb(250,234,220)"
                          ]
                        ],
                        "type": "contour"
                      }
                    ],
                    "contourcarpet": [
                      {
                        "colorbar": {
                          "outlinewidth": 0,
                          "tickcolor": "rgb(36,36,36)",
                          "ticklen": 8,
                          "ticks": "outside",
                          "tickwidth": 2
                        },
                        "type": "contourcarpet"
                      }
                    ],
                    "heatmap": [
                      {
                        "colorbar": {
                          "outlinewidth": 0,
                          "tickcolor": "rgb(36,36,36)",
                          "ticklen": 8,
                          "ticks": "outside",
                          "tickwidth": 2
                        },
                        "colorscale": [
                          [
                            0,
                            "rgb(2,4,25)"
                          ],
                          [
                            0.06274509803921569,
                            "rgb(24,15,41)"
                          ],
                          [
                            0.12549019607843137,
                            "rgb(47,23,57)"
                          ],
                          [
                            0.18823529411764706,
                            "rgb(71,28,72)"
                          ],
                          [
                            0.25098039215686274,
                            "rgb(97,30,82)"
                          ],
                          [
                            0.3137254901960784,
                            "rgb(123,30,89)"
                          ],
                          [
                            0.3764705882352941,
                            "rgb(150,27,91)"
                          ],
                          [
                            0.4392156862745098,
                            "rgb(177,22,88)"
                          ],
                          [
                            0.5019607843137255,
                            "rgb(203,26,79)"
                          ],
                          [
                            0.5647058823529412,
                            "rgb(223,47,67)"
                          ],
                          [
                            0.6274509803921569,
                            "rgb(236,76,61)"
                          ],
                          [
                            0.6901960784313725,
                            "rgb(242,107,73)"
                          ],
                          [
                            0.7529411764705882,
                            "rgb(244,135,95)"
                          ],
                          [
                            0.8156862745098039,
                            "rgb(245,162,122)"
                          ],
                          [
                            0.8784313725490196,
                            "rgb(246,188,153)"
                          ],
                          [
                            0.9411764705882353,
                            "rgb(247,212,187)"
                          ],
                          [
                            1,
                            "rgb(250,234,220)"
                          ]
                        ],
                        "type": "heatmap"
                      }
                    ],
                    "heatmapgl": [
                      {
                        "colorbar": {
                          "outlinewidth": 0,
                          "tickcolor": "rgb(36,36,36)",
                          "ticklen": 8,
                          "ticks": "outside",
                          "tickwidth": 2
                        },
                        "colorscale": [
                          [
                            0,
                            "rgb(2,4,25)"
                          ],
                          [
                            0.06274509803921569,
                            "rgb(24,15,41)"
                          ],
                          [
                            0.12549019607843137,
                            "rgb(47,23,57)"
                          ],
                          [
                            0.18823529411764706,
                            "rgb(71,28,72)"
                          ],
                          [
                            0.25098039215686274,
                            "rgb(97,30,82)"
                          ],
                          [
                            0.3137254901960784,
                            "rgb(123,30,89)"
                          ],
                          [
                            0.3764705882352941,
                            "rgb(150,27,91)"
                          ],
                          [
                            0.4392156862745098,
                            "rgb(177,22,88)"
                          ],
                          [
                            0.5019607843137255,
                            "rgb(203,26,79)"
                          ],
                          [
                            0.5647058823529412,
                            "rgb(223,47,67)"
                          ],
                          [
                            0.6274509803921569,
                            "rgb(236,76,61)"
                          ],
                          [
                            0.6901960784313725,
                            "rgb(242,107,73)"
                          ],
                          [
                            0.7529411764705882,
                            "rgb(244,135,95)"
                          ],
                          [
                            0.8156862745098039,
                            "rgb(245,162,122)"
                          ],
                          [
                            0.8784313725490196,
                            "rgb(246,188,153)"
                          ],
                          [
                            0.9411764705882353,
                            "rgb(247,212,187)"
                          ],
                          [
                            1,
                            "rgb(250,234,220)"
                          ]
                        ],
                        "type": "heatmapgl"
                      }
                    ],
                    "histogram": [
                      {
                        "marker": {
                          "pattern": {
                            "fillmode": "overlay",
                            "size": 10,
                            "solidity": 0.2
                          }
                        },
                        "type": "histogram"
                      }
                    ],
                    "histogram2d": [
                      {
                        "colorbar": {
                          "outlinewidth": 0,
                          "tickcolor": "rgb(36,36,36)",
                          "ticklen": 8,
                          "ticks": "outside",
                          "tickwidth": 2
                        },
                        "colorscale": [
                          [
                            0,
                            "rgb(2,4,25)"
                          ],
                          [
                            0.06274509803921569,
                            "rgb(24,15,41)"
                          ],
                          [
                            0.12549019607843137,
                            "rgb(47,23,57)"
                          ],
                          [
                            0.18823529411764706,
                            "rgb(71,28,72)"
                          ],
                          [
                            0.25098039215686274,
                            "rgb(97,30,82)"
                          ],
                          [
                            0.3137254901960784,
                            "rgb(123,30,89)"
                          ],
                          [
                            0.3764705882352941,
                            "rgb(150,27,91)"
                          ],
                          [
                            0.4392156862745098,
                            "rgb(177,22,88)"
                          ],
                          [
                            0.5019607843137255,
                            "rgb(203,26,79)"
                          ],
                          [
                            0.5647058823529412,
                            "rgb(223,47,67)"
                          ],
                          [
                            0.6274509803921569,
                            "rgb(236,76,61)"
                          ],
                          [
                            0.6901960784313725,
                            "rgb(242,107,73)"
                          ],
                          [
                            0.7529411764705882,
                            "rgb(244,135,95)"
                          ],
                          [
                            0.8156862745098039,
                            "rgb(245,162,122)"
                          ],
                          [
                            0.8784313725490196,
                            "rgb(246,188,153)"
                          ],
                          [
                            0.9411764705882353,
                            "rgb(247,212,187)"
                          ],
                          [
                            1,
                            "rgb(250,234,220)"
                          ]
                        ],
                        "type": "histogram2d"
                      }
                    ],
                    "histogram2dcontour": [
                      {
                        "colorbar": {
                          "outlinewidth": 0,
                          "tickcolor": "rgb(36,36,36)",
                          "ticklen": 8,
                          "ticks": "outside",
                          "tickwidth": 2
                        },
                        "colorscale": [
                          [
                            0,
                            "rgb(2,4,25)"
                          ],
                          [
                            0.06274509803921569,
                            "rgb(24,15,41)"
                          ],
                          [
                            0.12549019607843137,
                            "rgb(47,23,57)"
                          ],
                          [
                            0.18823529411764706,
                            "rgb(71,28,72)"
                          ],
                          [
                            0.25098039215686274,
                            "rgb(97,30,82)"
                          ],
                          [
                            0.3137254901960784,
                            "rgb(123,30,89)"
                          ],
                          [
                            0.3764705882352941,
                            "rgb(150,27,91)"
                          ],
                          [
                            0.4392156862745098,
                            "rgb(177,22,88)"
                          ],
                          [
                            0.5019607843137255,
                            "rgb(203,26,79)"
                          ],
                          [
                            0.5647058823529412,
                            "rgb(223,47,67)"
                          ],
                          [
                            0.6274509803921569,
                            "rgb(236,76,61)"
                          ],
                          [
                            0.6901960784313725,
                            "rgb(242,107,73)"
                          ],
                          [
                            0.7529411764705882,
                            "rgb(244,135,95)"
                          ],
                          [
                            0.8156862745098039,
                            "rgb(245,162,122)"
                          ],
                          [
                            0.8784313725490196,
                            "rgb(246,188,153)"
                          ],
                          [
                            0.9411764705882353,
                            "rgb(247,212,187)"
                          ],
                          [
                            1,
                            "rgb(250,234,220)"
                          ]
                        ],
                        "type": "histogram2dcontour"
                      }
                    ],
                    "mesh3d": [
                      {
                        "colorbar": {
                          "outlinewidth": 0,
                          "tickcolor": "rgb(36,36,36)",
                          "ticklen": 8,
                          "ticks": "outside",
                          "tickwidth": 2
                        },
                        "type": "mesh3d"
                      }
                    ],
                    "parcoords": [
                      {
                        "line": {
                          "colorbar": {
                            "outlinewidth": 0,
                            "tickcolor": "rgb(36,36,36)",
                            "ticklen": 8,
                            "ticks": "outside",
                            "tickwidth": 2
                          }
                        },
                        "type": "parcoords"
                      }
                    ],
                    "pie": [
                      {
                        "automargin": true,
                        "type": "pie"
                      }
                    ],
                    "scatter": [
                      {
                        "fillpattern": {
                          "fillmode": "overlay",
                          "size": 10,
                          "solidity": 0.2
                        },
                        "type": "scatter"
                      }
                    ],
                    "scatter3d": [
                      {
                        "line": {
                          "colorbar": {
                            "outlinewidth": 0,
                            "tickcolor": "rgb(36,36,36)",
                            "ticklen": 8,
                            "ticks": "outside",
                            "tickwidth": 2
                          }
                        },
                        "marker": {
                          "colorbar": {
                            "outlinewidth": 0,
                            "tickcolor": "rgb(36,36,36)",
                            "ticklen": 8,
                            "ticks": "outside",
                            "tickwidth": 2
                          }
                        },
                        "type": "scatter3d"
                      }
                    ],
                    "scattercarpet": [
                      {
                        "marker": {
                          "colorbar": {
                            "outlinewidth": 0,
                            "tickcolor": "rgb(36,36,36)",
                            "ticklen": 8,
                            "ticks": "outside",
                            "tickwidth": 2
                          }
                        },
                        "type": "scattercarpet"
                      }
                    ],
                    "scattergeo": [
                      {
                        "marker": {
                          "colorbar": {
                            "outlinewidth": 0,
                            "tickcolor": "rgb(36,36,36)",
                            "ticklen": 8,
                            "ticks": "outside",
                            "tickwidth": 2
                          }
                        },
                        "type": "scattergeo"
                      }
                    ],
                    "scattergl": [
                      {
                        "marker": {
                          "colorbar": {
                            "outlinewidth": 0,
                            "tickcolor": "rgb(36,36,36)",
                            "ticklen": 8,
                            "ticks": "outside",
                            "tickwidth": 2
                          }
                        },
                        "type": "scattergl"
                      }
                    ],
                    "scattermapbox": [
                      {
                        "marker": {
                          "colorbar": {
                            "outlinewidth": 0,
                            "tickcolor": "rgb(36,36,36)",
                            "ticklen": 8,
                            "ticks": "outside",
                            "tickwidth": 2
                          }
                        },
                        "type": "scattermapbox"
                      }
                    ],
                    "scatterpolar": [
                      {
                        "marker": {
                          "colorbar": {
                            "outlinewidth": 0,
                            "tickcolor": "rgb(36,36,36)",
                            "ticklen": 8,
                            "ticks": "outside",
                            "tickwidth": 2
                          }
                        },
                        "type": "scatterpolar"
                      }
                    ],
                    "scatterpolargl": [
                      {
                        "marker": {
                          "colorbar": {
                            "outlinewidth": 0,
                            "tickcolor": "rgb(36,36,36)",
                            "ticklen": 8,
                            "ticks": "outside",
                            "tickwidth": 2
                          }
                        },
                        "type": "scatterpolargl"
                      }
                    ],
                    "scatterternary": [
                      {
                        "marker": {
                          "colorbar": {
                            "outlinewidth": 0,
                            "tickcolor": "rgb(36,36,36)",
                            "ticklen": 8,
                            "ticks": "outside",
                            "tickwidth": 2
                          }
                        },
                        "type": "scatterternary"
                      }
                    ],
                    "surface": [
                      {
                        "colorbar": {
                          "outlinewidth": 0,
                          "tickcolor": "rgb(36,36,36)",
                          "ticklen": 8,
                          "ticks": "outside",
                          "tickwidth": 2
                        },
                        "colorscale": [
                          [
                            0,
                            "rgb(2,4,25)"
                          ],
                          [
                            0.06274509803921569,
                            "rgb(24,15,41)"
                          ],
                          [
                            0.12549019607843137,
                            "rgb(47,23,57)"
                          ],
                          [
                            0.18823529411764706,
                            "rgb(71,28,72)"
                          ],
                          [
                            0.25098039215686274,
                            "rgb(97,30,82)"
                          ],
                          [
                            0.3137254901960784,
                            "rgb(123,30,89)"
                          ],
                          [
                            0.3764705882352941,
                            "rgb(150,27,91)"
                          ],
                          [
                            0.4392156862745098,
                            "rgb(177,22,88)"
                          ],
                          [
                            0.5019607843137255,
                            "rgb(203,26,79)"
                          ],
                          [
                            0.5647058823529412,
                            "rgb(223,47,67)"
                          ],
                          [
                            0.6274509803921569,
                            "rgb(236,76,61)"
                          ],
                          [
                            0.6901960784313725,
                            "rgb(242,107,73)"
                          ],
                          [
                            0.7529411764705882,
                            "rgb(244,135,95)"
                          ],
                          [
                            0.8156862745098039,
                            "rgb(245,162,122)"
                          ],
                          [
                            0.8784313725490196,
                            "rgb(246,188,153)"
                          ],
                          [
                            0.9411764705882353,
                            "rgb(247,212,187)"
                          ],
                          [
                            1,
                            "rgb(250,234,220)"
                          ]
                        ],
                        "type": "surface"
                      }
                    ],
                    "table": [
                      {
                        "cells": {
                          "fill": {
                            "color": "rgb(231,231,240)"
                          },
                          "line": {
                            "color": "white"
                          }
                        },
                        "header": {
                          "fill": {
                            "color": "rgb(183,183,191)"
                          },
                          "line": {
                            "color": "white"
                          }
                        },
                        "type": "table"
                      }
                    ]
                  },
                  "layout": {
                    "annotationdefaults": {
                      "arrowcolor": "rgb(67,103,167)"
                    },
                    "autotypenumbers": "strict",
                    "coloraxis": {
                      "colorbar": {
                        "outlinewidth": 0,
                        "tickcolor": "rgb(36,36,36)",
                        "ticklen": 8,
                        "ticks": "outside",
                        "tickwidth": 2
                      }
                    },
                    "colorscale": {
                      "sequential": [
                        [
                          0,
                          "rgb(2,4,25)"
                        ],
                        [
                          0.06274509803921569,
                          "rgb(24,15,41)"
                        ],
                        [
                          0.12549019607843137,
                          "rgb(47,23,57)"
                        ],
                        [
                          0.18823529411764706,
                          "rgb(71,28,72)"
                        ],
                        [
                          0.25098039215686274,
                          "rgb(97,30,82)"
                        ],
                        [
                          0.3137254901960784,
                          "rgb(123,30,89)"
                        ],
                        [
                          0.3764705882352941,
                          "rgb(150,27,91)"
                        ],
                        [
                          0.4392156862745098,
                          "rgb(177,22,88)"
                        ],
                        [
                          0.5019607843137255,
                          "rgb(203,26,79)"
                        ],
                        [
                          0.5647058823529412,
                          "rgb(223,47,67)"
                        ],
                        [
                          0.6274509803921569,
                          "rgb(236,76,61)"
                        ],
                        [
                          0.6901960784313725,
                          "rgb(242,107,73)"
                        ],
                        [
                          0.7529411764705882,
                          "rgb(244,135,95)"
                        ],
                        [
                          0.8156862745098039,
                          "rgb(245,162,122)"
                        ],
                        [
                          0.8784313725490196,
                          "rgb(246,188,153)"
                        ],
                        [
                          0.9411764705882353,
                          "rgb(247,212,187)"
                        ],
                        [
                          1,
                          "rgb(250,234,220)"
                        ]
                      ],
                      "sequentialminus": [
                        [
                          0,
                          "rgb(2,4,25)"
                        ],
                        [
                          0.06274509803921569,
                          "rgb(24,15,41)"
                        ],
                        [
                          0.12549019607843137,
                          "rgb(47,23,57)"
                        ],
                        [
                          0.18823529411764706,
                          "rgb(71,28,72)"
                        ],
                        [
                          0.25098039215686274,
                          "rgb(97,30,82)"
                        ],
                        [
                          0.3137254901960784,
                          "rgb(123,30,89)"
                        ],
                        [
                          0.3764705882352941,
                          "rgb(150,27,91)"
                        ],
                        [
                          0.4392156862745098,
                          "rgb(177,22,88)"
                        ],
                        [
                          0.5019607843137255,
                          "rgb(203,26,79)"
                        ],
                        [
                          0.5647058823529412,
                          "rgb(223,47,67)"
                        ],
                        [
                          0.6274509803921569,
                          "rgb(236,76,61)"
                        ],
                        [
                          0.6901960784313725,
                          "rgb(242,107,73)"
                        ],
                        [
                          0.7529411764705882,
                          "rgb(244,135,95)"
                        ],
                        [
                          0.8156862745098039,
                          "rgb(245,162,122)"
                        ],
                        [
                          0.8784313725490196,
                          "rgb(246,188,153)"
                        ],
                        [
                          0.9411764705882353,
                          "rgb(247,212,187)"
                        ],
                        [
                          1,
                          "rgb(250,234,220)"
                        ]
                      ]
                    },
                    "colorway": [
                      "rgb(76,114,176)",
                      "rgb(221,132,82)",
                      "rgb(85,168,104)",
                      "rgb(196,78,82)",
                      "rgb(129,114,179)",
                      "rgb(147,120,96)",
                      "rgb(218,139,195)",
                      "rgb(140,140,140)",
                      "rgb(204,185,116)",
                      "rgb(100,181,205)"
                    ],
                    "font": {
                      "color": "rgb(36,36,36)"
                    },
                    "geo": {
                      "bgcolor": "white",
                      "lakecolor": "white",
                      "landcolor": "rgb(234,234,242)",
                      "showlakes": true,
                      "showland": true,
                      "subunitcolor": "white"
                    },
                    "hoverlabel": {
                      "align": "left"
                    },
                    "hovermode": "closest",
                    "paper_bgcolor": "white",
                    "plot_bgcolor": "rgb(234,234,242)",
                    "polar": {
                      "angularaxis": {
                        "gridcolor": "white",
                        "linecolor": "white",
                        "showgrid": true,
                        "ticks": ""
                      },
                      "bgcolor": "rgb(234,234,242)",
                      "radialaxis": {
                        "gridcolor": "white",
                        "linecolor": "white",
                        "showgrid": true,
                        "ticks": ""
                      }
                    },
                    "scene": {
                      "xaxis": {
                        "backgroundcolor": "rgb(234,234,242)",
                        "gridcolor": "white",
                        "gridwidth": 2,
                        "linecolor": "white",
                        "showbackground": true,
                        "showgrid": true,
                        "ticks": "",
                        "zerolinecolor": "white"
                      },
                      "yaxis": {
                        "backgroundcolor": "rgb(234,234,242)",
                        "gridcolor": "white",
                        "gridwidth": 2,
                        "linecolor": "white",
                        "showbackground": true,
                        "showgrid": true,
                        "ticks": "",
                        "zerolinecolor": "white"
                      },
                      "zaxis": {
                        "backgroundcolor": "rgb(234,234,242)",
                        "gridcolor": "white",
                        "gridwidth": 2,
                        "linecolor": "white",
                        "showbackground": true,
                        "showgrid": true,
                        "ticks": "",
                        "zerolinecolor": "white"
                      }
                    },
                    "shapedefaults": {
                      "fillcolor": "rgb(67,103,167)",
                      "line": {
                        "width": 0
                      },
                      "opacity": 0.5
                    },
                    "ternary": {
                      "aaxis": {
                        "gridcolor": "white",
                        "linecolor": "white",
                        "showgrid": true,
                        "ticks": ""
                      },
                      "baxis": {
                        "gridcolor": "white",
                        "linecolor": "white",
                        "showgrid": true,
                        "ticks": ""
                      },
                      "bgcolor": "rgb(234,234,242)",
                      "caxis": {
                        "gridcolor": "white",
                        "linecolor": "white",
                        "showgrid": true,
                        "ticks": ""
                      }
                    },
                    "xaxis": {
                      "automargin": true,
                      "gridcolor": "white",
                      "linecolor": "white",
                      "showgrid": true,
                      "ticks": "",
                      "title": {
                        "standoff": 15
                      },
                      "zerolinecolor": "white"
                    },
                    "yaxis": {
                      "automargin": true,
                      "gridcolor": "white",
                      "linecolor": "white",
                      "showgrid": true,
                      "ticks": "",
                      "title": {
                        "standoff": 15
                      },
                      "zerolinecolor": "white"
                    }
                  }
                },
                "title": {
                  "text": "Scale Dependent Roughness of SimpleMLP on MNIST"
                },
                "xaxis": {
                  "dtick": 1,
                  "title": {
                    "text": "Coarse Graining Scale"
                  },
                  "type": "log"
                },
                "yaxis": {
                  "title": {
                    "text": "Roughness"
                  },
                  "type": "log"
                }
              }
            }
          },
          "metadata": {},
          "output_type": "display_data"
        }
      ],
      "source": [
        "# new nomenclature: grit := scale dependent roughness\n",
        "\n",
        "# Create a Plotly figure\n",
        "fig = go.Figure()\n",
        "\n",
        "# Plotting roughness for each direction using grouped data\n",
        "for direction, data in df.groupby(level='Direction'):\n",
        "    fig.add_trace(go.Scatter(\n",
        "        x=data.index.get_level_values('Distance'),\n",
        "        y=data['Roughness'],\n",
        "        mode='markers',\n",
        "        name=direction\n",
        "    ))\n",
        "\n",
        "# Set axis labels, title, and configure log scale on x-axis\n",
        "fig.update_layout(\n",
        "    title=f'Scale Dependent Roughness of {center_model.__class__.__name__} on {dataset.__class__.__name__}',\n",
        "    xaxis={\n",
        "        'title': 'Coarse Graining Scale',\n",
        "        'type': 'log',\n",
        "        'dtick': 1,  # Tick every power of ten\n",
        "    },\n",
        "    yaxis ={\n",
        "        'title': 'Roughness',\n",
        "        'type': 'log',\n",
        "    },\n",
        "    legend_title='Direction',\n",
        "    template='seaborn',\n",
        "    height=600\n",
        ")\n",
        "\n",
        "# Display the figure\n",
        "fig.show()\n"
      ]
    },
    {
      "cell_type": "markdown",
      "metadata": {},
      "source": [
        "Consider the formula for the second derivative of the loss function around point x:\n",
        "$$\n",
        "l''(x) = \\lim_{{h \\to 0}} \\frac{l(x) - 2l(x+h) + l(x+2h)}{h^2}\n",
        "$$\n",
        "\n",
        "Now let's consider this not as a limit but at a finite h.\n",
        "$$\n",
        "curvature(x,h) = \\frac{l(x) - 2l(x+h) + l(x+2h)}{h^2}\n",
        "$$\n",
        "\n",
        "Now let's set x to x to our central model and calculate the curvature for different h's.\n",
        "Each h is a different scale, and so we get scale dependent curvature."
      ]
    },
    {
      "cell_type": "code",
      "execution_count": 16,
      "metadata": {},
      "outputs": [
        {
          "data": {
            "text/html": [
              "<div>\n",
              "<style scoped>\n",
              "    .dataframe tbody tr th:only-of-type {\n",
              "        vertical-align: middle;\n",
              "    }\n",
              "\n",
              "    .dataframe tbody tr th {\n",
              "        vertical-align: top;\n",
              "    }\n",
              "\n",
              "    .dataframe thead th {\n",
              "        text-align: right;\n",
              "    }\n",
              "</style>\n",
              "<table border=\"1\" class=\"dataframe\">\n",
              "  <thead>\n",
              "    <tr style=\"text-align: right;\">\n",
              "      <th></th>\n",
              "      <th></th>\n",
              "      <th>Model</th>\n",
              "      <th>Loss</th>\n",
              "      <th>Roughness</th>\n",
              "      <th>Curvature</th>\n",
              "    </tr>\n",
              "    <tr>\n",
              "      <th>Direction</th>\n",
              "      <th>Distance</th>\n",
              "      <th></th>\n",
              "      <th></th>\n",
              "      <th></th>\n",
              "      <th></th>\n",
              "    </tr>\n",
              "  </thead>\n",
              "  <tbody>\n",
              "    <tr>\n",
              "      <th rowspan=\"5\" valign=\"top\">Ascent</th>\n",
              "      <th>0.000000</th>\n",
              "      <td>NaN</td>\n",
              "      <td>2.316014</td>\n",
              "      <td>NaN</td>\n",
              "      <td>NaN</td>\n",
              "    </tr>\n",
              "    <tr>\n",
              "      <th>0.062500</th>\n",
              "      <td>SimpleMLP(\\n  (fc1): Linear(in_features=784, o...</td>\n",
              "      <td>2.343748</td>\n",
              "      <td>1.597542e-06</td>\n",
              "      <td>0.068572</td>\n",
              "    </tr>\n",
              "    <tr>\n",
              "      <th>0.125000</th>\n",
              "      <td>SimpleMLP(\\n  (fc1): Linear(in_features=784, o...</td>\n",
              "      <td>2.371750</td>\n",
              "      <td>7.477997e-06</td>\n",
              "      <td>-0.073926</td>\n",
              "    </tr>\n",
              "    <tr>\n",
              "      <th>0.250000</th>\n",
              "      <td>SimpleMLP(\\n  (fc1): Linear(in_features=784, o...</td>\n",
              "      <td>2.426332</td>\n",
              "      <td>2.815659e-05</td>\n",
              "      <td>-0.071257</td>\n",
              "    </tr>\n",
              "    <tr>\n",
              "      <th>0.500000</th>\n",
              "      <td>SimpleMLP(\\n  (fc1): Linear(in_features=784, o...</td>\n",
              "      <td>2.532197</td>\n",
              "      <td>2.900335e-04</td>\n",
              "      <td>0.116865</td>\n",
              "    </tr>\n",
              "    <tr>\n",
              "      <th>...</th>\n",
              "      <th>...</th>\n",
              "      <td>...</td>\n",
              "      <td>...</td>\n",
              "      <td>...</td>\n",
              "      <td>...</td>\n",
              "    </tr>\n",
              "    <tr>\n",
              "      <th rowspan=\"5\" valign=\"top\">Radially Out ⋅ P(weight)</th>\n",
              "      <th>0.100656</th>\n",
              "      <td>SimpleMLP(\\n  (fc1): Linear(in_features=784, o...</td>\n",
              "      <td>2.316512</td>\n",
              "      <td>3.425830e-09</td>\n",
              "      <td>0.001645</td>\n",
              "    </tr>\n",
              "    <tr>\n",
              "      <th>0.201311</th>\n",
              "      <td>SimpleMLP(\\n  (fc1): Linear(in_features=784, o...</td>\n",
              "      <td>2.317027</td>\n",
              "      <td>1.448928e-08</td>\n",
              "      <td>0.001691</td>\n",
              "    </tr>\n",
              "    <tr>\n",
              "      <th>0.402623</th>\n",
              "      <td>SimpleMLP(\\n  (fc1): Linear(in_features=784, o...</td>\n",
              "      <td>2.318109</td>\n",
              "      <td>6.570908e-08</td>\n",
              "      <td>0.001801</td>\n",
              "    </tr>\n",
              "    <tr>\n",
              "      <th>0.805245</th>\n",
              "      <td>SimpleMLP(\\n  (fc1): Linear(in_features=784, o...</td>\n",
              "      <td>2.320496</td>\n",
              "      <td>3.371611e-07</td>\n",
              "      <td>0.002040</td>\n",
              "    </tr>\n",
              "    <tr>\n",
              "      <th>1.610490</th>\n",
              "      <td>SimpleMLP(\\n  (fc1): Linear(in_features=784, o...</td>\n",
              "      <td>2.326301</td>\n",
              "      <td>NaN</td>\n",
              "      <td>NaN</td>\n",
              "    </tr>\n",
              "  </tbody>\n",
              "</table>\n",
              "<p>96 rows × 4 columns</p>\n",
              "</div>"
            ],
            "text/plain": [
              "                                                                               Model  \\\n",
              "Direction                Distance                                                      \n",
              "Ascent                   0.000000                                                NaN   \n",
              "                         0.062500  SimpleMLP(\\n  (fc1): Linear(in_features=784, o...   \n",
              "                         0.125000  SimpleMLP(\\n  (fc1): Linear(in_features=784, o...   \n",
              "                         0.250000  SimpleMLP(\\n  (fc1): Linear(in_features=784, o...   \n",
              "                         0.500000  SimpleMLP(\\n  (fc1): Linear(in_features=784, o...   \n",
              "...                                                                              ...   \n",
              "Radially Out ⋅ P(weight) 0.100656  SimpleMLP(\\n  (fc1): Linear(in_features=784, o...   \n",
              "                         0.201311  SimpleMLP(\\n  (fc1): Linear(in_features=784, o...   \n",
              "                         0.402623  SimpleMLP(\\n  (fc1): Linear(in_features=784, o...   \n",
              "                         0.805245  SimpleMLP(\\n  (fc1): Linear(in_features=784, o...   \n",
              "                         1.610490  SimpleMLP(\\n  (fc1): Linear(in_features=784, o...   \n",
              "\n",
              "                                       Loss     Roughness  Curvature  \n",
              "Direction                Distance                                     \n",
              "Ascent                   0.000000  2.316014           NaN        NaN  \n",
              "                         0.062500  2.343748  1.597542e-06   0.068572  \n",
              "                         0.125000  2.371750  7.477997e-06  -0.073926  \n",
              "                         0.250000  2.426332  2.815659e-05  -0.071257  \n",
              "                         0.500000  2.532197  2.900335e-04   0.116865  \n",
              "...                                     ...           ...        ...  \n",
              "Radially Out ⋅ P(weight) 0.100656  2.316512  3.425830e-09   0.001645  \n",
              "                         0.201311  2.317027  1.448928e-08   0.001691  \n",
              "                         0.402623  2.318109  6.570908e-08   0.001801  \n",
              "                         0.805245  2.320496  3.371611e-07   0.002040  \n",
              "                         1.610490  2.326301           NaN        NaN  \n",
              "\n",
              "[96 rows x 4 columns]"
            ]
          },
          "execution_count": 16,
          "metadata": {},
          "output_type": "execute_result"
        }
      ],
      "source": [
        "df['Curvature'] = np.nan\n",
        "\n",
        "# Calculate the curvature, one direction at a time\n",
        "for direction, group in df.groupby(level='Direction'):\n",
        "    dist_h = group.index.get_level_values('Distance').to_numpy()\n",
        "    l = group['Loss'].to_numpy()\n",
        "\n",
        "    # Named slices, so that x \n",
        "    x = 0\n",
        "    x_plus_h = slice(1, -1)\n",
        "    x_plus_2h = slice(2, None)\n",
        "\n",
        "    # calculate the curvature\n",
        "\n",
        "    curvature = (l[x] - 2*l[x_plus_h] + l[x_plus_2h]) / (dist_h[x_plus_h] ** 2)\n",
        "\n",
        "    # Update DataFrame with roughness values\n",
        "    df.loc[(direction,), 'Curvature'] = np.concatenate([[np.nan], curvature, [np.nan]])\n",
        "\n",
        "df"
      ]
    },
    {
      "cell_type": "code",
      "execution_count": 17,
      "metadata": {},
      "outputs": [
        {
          "data": {
            "application/vnd.plotly.v1+json": {
              "config": {
                "plotlyServerURL": "https://plot.ly"
              },
              "data": [
                {
                  "mode": "markers",
                  "name": "Ascent",
                  "type": "scatter",
                  "x": [
                    0,
                    0.0625,
                    0.125,
                    0.25,
                    0.5,
                    1
                  ],
                  "y": [
                    null,
                    0.06857179260441626,
                    -0.07392556666746941,
                    -0.07125653500664697,
                    0.116865249987546,
                    null
                  ]
                },
                {
                  "mode": "markers",
                  "name": "Ascent ⋅ P(bias)",
                  "type": "scatter",
                  "x": [
                    0,
                    0.0810524721656881,
                    0.1621049443313762,
                    0.3242098886627524,
                    0.6484197773255048,
                    1.2968395546510096
                  ],
                  "y": [
                    null,
                    0.0463038093135831,
                    0.04605396535854578,
                    0.045793160493994414,
                    0.045591529282582664,
                    null
                  ]
                },
                {
                  "mode": "markers",
                  "name": "Ascent ⋅ P(fc1)",
                  "type": "scatter",
                  "x": [
                    0,
                    0.07432544468767006,
                    0.14865088937534013,
                    0.29730177875068026,
                    0.5946035575013605,
                    1.189207115002721
                  ],
                  "y": [
                    null,
                    -0.14769659550616146,
                    -0.2784896616101201,
                    -0.2095824239419459,
                    -0.06731183367914892,
                    null
                  ]
                },
                {
                  "mode": "markers",
                  "name": "Ascent ⋅ P(weight)",
                  "type": "scatter",
                  "x": [
                    0,
                    0.07761611325459275,
                    0.1552322265091855,
                    0.310464453018371,
                    0.620928906036742,
                    1.241857812073484
                  ],
                  "y": [
                    null,
                    0.01660512599078812,
                    -0.10072532698795701,
                    -0.02887210550712235,
                    0.18612352303408283,
                    null
                  ]
                },
                {
                  "mode": "markers",
                  "name": "Descent",
                  "type": "scatter",
                  "x": [
                    0,
                    0.06526711140171336,
                    0.13053422280342672,
                    0.26106844560685344,
                    0.5221368912137069,
                    1.0442737824274138
                  ],
                  "y": [
                    null,
                    0.5592114998142855,
                    0.6274697763249873,
                    0.5175849988995642,
                    0.2631884609289492,
                    null
                  ]
                },
                {
                  "mode": "markers",
                  "name": "Descent ⋅ P(bias)",
                  "type": "scatter",
                  "x": [
                    0,
                    0.09230163412121871,
                    0.18460326824243742,
                    0.36920653648487484,
                    0.7384130729697497,
                    1.4768261459394993
                  ],
                  "y": [
                    null,
                    0.0472926357941222,
                    0.04727024152344035,
                    0.047735149692380546,
                    0.04724725131507924,
                    null
                  ]
                },
                {
                  "mode": "markers",
                  "name": "Descent ⋅ P(fc1)",
                  "type": "scatter",
                  "x": [
                    0,
                    0.08464097168355579,
                    0.16928194336711158,
                    0.33856388673422316,
                    0.6771277734684463,
                    1.3542555469368927
                  ],
                  "y": [
                    null,
                    0.5349118544454993,
                    0.5831072454223264,
                    0.3974690062626453,
                    0.16251176060712227,
                    null
                  ]
                },
                {
                  "mode": "markers",
                  "name": "Descent ⋅ P(weight)",
                  "type": "scatter",
                  "x": [
                    0,
                    0.08838834764831845,
                    0.1767766952966369,
                    0.3535533905932738,
                    0.7071067811865476,
                    1.4142135623730951
                  ],
                  "y": [
                    null,
                    0.5901715551242431,
                    0.6048949469692672,
                    0.40234436360658055,
                    0.18337769331397255,
                    null
                  ]
                },
                {
                  "mode": "markers",
                  "name": "Radially In",
                  "type": "scatter",
                  "x": [
                    0,
                    0.07117428967229322,
                    0.14234857934458645,
                    0.2846971586891729,
                    0.5693943173783458,
                    1.1387886347566916
                  ],
                  "y": [
                    null,
                    0.001606314362984274,
                    0.0015720154495042571,
                    0.0015073569697974726,
                    0.0013939643845417757,
                    null
                  ]
                },
                {
                  "mode": "markers",
                  "name": "Radially In ⋅ P(bias)",
                  "type": "scatter",
                  "x": [
                    0,
                    0.11970041008732171,
                    0.23940082017464343,
                    0.47880164034928685,
                    0.9576032806985737,
                    1.9152065613971474
                  ],
                  "y": [
                    null,
                    0.003987699344527285,
                    0.0039017518732269722,
                    0.004253204525166547,
                    0.005398626741955007,
                    null
                  ]
                },
                {
                  "mode": "markers",
                  "name": "Radially In ⋅ P(fc1)",
                  "type": "scatter",
                  "x": [
                    0,
                    0.10976576002333122,
                    0.21953152004666243,
                    0.43906304009332486,
                    0.8781260801866497,
                    1.7562521603732995
                  ],
                  "y": [
                    null,
                    0.00011274906645153186,
                    0.00011163070888682206,
                    0.00012145572371698835,
                    0.00011552274358383641,
                    null
                  ]
                },
                {
                  "mode": "markers",
                  "name": "Radially In ⋅ P(weight)",
                  "type": "scatter",
                  "x": [
                    0,
                    0.1146255054005839,
                    0.2292510108011678,
                    0.4585020216023356,
                    0.9170040432046712,
                    1.8340080864093424
                  ],
                  "y": [
                    null,
                    0.0015128326020631122,
                    0.0014770042661782486,
                    0.0013833380233164742,
                    0.0012031788577393293,
                    null
                  ]
                },
                {
                  "mode": "markers",
                  "name": "Radially Out",
                  "type": "scatter",
                  "x": [
                    0,
                    0.0681567332915786,
                    0.1363134665831572,
                    0.2726269331663144,
                    0.5452538663326288,
                    1.0905077326652577
                  ],
                  "y": [
                    null,
                    0.0016826336974363435,
                    0.0017079310002745336,
                    0.0017804053594056815,
                    0.0019263311942538735,
                    null
                  ]
                },
                {
                  "mode": "markers",
                  "name": "Radially Out ⋅ P(bias)",
                  "type": "scatter",
                  "x": [
                    0,
                    0.10511205190671431,
                    0.21022410381342863,
                    0.42044820762685725,
                    0.8408964152537145,
                    1.681792830507429
                  ],
                  "y": [
                    null,
                    0.004448688054322478,
                    0.004786258026160275,
                    0.005134867587088439,
                    0.0056830238496673995,
                    null
                  ]
                },
                {
                  "mode": "markers",
                  "name": "Radially Out ⋅ P(fc1)",
                  "type": "scatter",
                  "x": [
                    0,
                    0.0963881765879963,
                    0.1927763531759926,
                    0.3855527063519852,
                    0.7711054127039704,
                    1.5422108254079407
                  ],
                  "y": [
                    null,
                    0.00012222642415982775,
                    0.00012846524253170752,
                    0.00012599689108659524,
                    0.00012940230155902724,
                    null
                  ]
                },
                {
                  "mode": "markers",
                  "name": "Radially Out ⋅ P(weight)",
                  "type": "scatter",
                  "x": [
                    0,
                    0.10065564574682839,
                    0.20131129149365679,
                    0.40262258298731357,
                    0.8052451659746271,
                    1.6104903319492543
                  ],
                  "y": [
                    null,
                    0.0016447531736407664,
                    0.0016912663951948622,
                    0.0018008311913599792,
                    0.0020396391428808875,
                    null
                  ]
                }
              ],
              "layout": {
                "height": 600,
                "legend": {
                  "title": {
                    "text": "Direction"
                  }
                },
                "template": {
                  "data": {
                    "bar": [
                      {
                        "error_x": {
                          "color": "rgb(36,36,36)"
                        },
                        "error_y": {
                          "color": "rgb(36,36,36)"
                        },
                        "marker": {
                          "line": {
                            "color": "rgb(234,234,242)",
                            "width": 0.5
                          },
                          "pattern": {
                            "fillmode": "overlay",
                            "size": 10,
                            "solidity": 0.2
                          }
                        },
                        "type": "bar"
                      }
                    ],
                    "barpolar": [
                      {
                        "marker": {
                          "line": {
                            "color": "rgb(234,234,242)",
                            "width": 0.5
                          },
                          "pattern": {
                            "fillmode": "overlay",
                            "size": 10,
                            "solidity": 0.2
                          }
                        },
                        "type": "barpolar"
                      }
                    ],
                    "carpet": [
                      {
                        "aaxis": {
                          "endlinecolor": "rgb(36,36,36)",
                          "gridcolor": "white",
                          "linecolor": "white",
                          "minorgridcolor": "white",
                          "startlinecolor": "rgb(36,36,36)"
                        },
                        "baxis": {
                          "endlinecolor": "rgb(36,36,36)",
                          "gridcolor": "white",
                          "linecolor": "white",
                          "minorgridcolor": "white",
                          "startlinecolor": "rgb(36,36,36)"
                        },
                        "type": "carpet"
                      }
                    ],
                    "choropleth": [
                      {
                        "colorbar": {
                          "outlinewidth": 0,
                          "tickcolor": "rgb(36,36,36)",
                          "ticklen": 8,
                          "ticks": "outside",
                          "tickwidth": 2
                        },
                        "type": "choropleth"
                      }
                    ],
                    "contour": [
                      {
                        "colorbar": {
                          "outlinewidth": 0,
                          "tickcolor": "rgb(36,36,36)",
                          "ticklen": 8,
                          "ticks": "outside",
                          "tickwidth": 2
                        },
                        "colorscale": [
                          [
                            0,
                            "rgb(2,4,25)"
                          ],
                          [
                            0.06274509803921569,
                            "rgb(24,15,41)"
                          ],
                          [
                            0.12549019607843137,
                            "rgb(47,23,57)"
                          ],
                          [
                            0.18823529411764706,
                            "rgb(71,28,72)"
                          ],
                          [
                            0.25098039215686274,
                            "rgb(97,30,82)"
                          ],
                          [
                            0.3137254901960784,
                            "rgb(123,30,89)"
                          ],
                          [
                            0.3764705882352941,
                            "rgb(150,27,91)"
                          ],
                          [
                            0.4392156862745098,
                            "rgb(177,22,88)"
                          ],
                          [
                            0.5019607843137255,
                            "rgb(203,26,79)"
                          ],
                          [
                            0.5647058823529412,
                            "rgb(223,47,67)"
                          ],
                          [
                            0.6274509803921569,
                            "rgb(236,76,61)"
                          ],
                          [
                            0.6901960784313725,
                            "rgb(242,107,73)"
                          ],
                          [
                            0.7529411764705882,
                            "rgb(244,135,95)"
                          ],
                          [
                            0.8156862745098039,
                            "rgb(245,162,122)"
                          ],
                          [
                            0.8784313725490196,
                            "rgb(246,188,153)"
                          ],
                          [
                            0.9411764705882353,
                            "rgb(247,212,187)"
                          ],
                          [
                            1,
                            "rgb(250,234,220)"
                          ]
                        ],
                        "type": "contour"
                      }
                    ],
                    "contourcarpet": [
                      {
                        "colorbar": {
                          "outlinewidth": 0,
                          "tickcolor": "rgb(36,36,36)",
                          "ticklen": 8,
                          "ticks": "outside",
                          "tickwidth": 2
                        },
                        "type": "contourcarpet"
                      }
                    ],
                    "heatmap": [
                      {
                        "colorbar": {
                          "outlinewidth": 0,
                          "tickcolor": "rgb(36,36,36)",
                          "ticklen": 8,
                          "ticks": "outside",
                          "tickwidth": 2
                        },
                        "colorscale": [
                          [
                            0,
                            "rgb(2,4,25)"
                          ],
                          [
                            0.06274509803921569,
                            "rgb(24,15,41)"
                          ],
                          [
                            0.12549019607843137,
                            "rgb(47,23,57)"
                          ],
                          [
                            0.18823529411764706,
                            "rgb(71,28,72)"
                          ],
                          [
                            0.25098039215686274,
                            "rgb(97,30,82)"
                          ],
                          [
                            0.3137254901960784,
                            "rgb(123,30,89)"
                          ],
                          [
                            0.3764705882352941,
                            "rgb(150,27,91)"
                          ],
                          [
                            0.4392156862745098,
                            "rgb(177,22,88)"
                          ],
                          [
                            0.5019607843137255,
                            "rgb(203,26,79)"
                          ],
                          [
                            0.5647058823529412,
                            "rgb(223,47,67)"
                          ],
                          [
                            0.6274509803921569,
                            "rgb(236,76,61)"
                          ],
                          [
                            0.6901960784313725,
                            "rgb(242,107,73)"
                          ],
                          [
                            0.7529411764705882,
                            "rgb(244,135,95)"
                          ],
                          [
                            0.8156862745098039,
                            "rgb(245,162,122)"
                          ],
                          [
                            0.8784313725490196,
                            "rgb(246,188,153)"
                          ],
                          [
                            0.9411764705882353,
                            "rgb(247,212,187)"
                          ],
                          [
                            1,
                            "rgb(250,234,220)"
                          ]
                        ],
                        "type": "heatmap"
                      }
                    ],
                    "heatmapgl": [
                      {
                        "colorbar": {
                          "outlinewidth": 0,
                          "tickcolor": "rgb(36,36,36)",
                          "ticklen": 8,
                          "ticks": "outside",
                          "tickwidth": 2
                        },
                        "colorscale": [
                          [
                            0,
                            "rgb(2,4,25)"
                          ],
                          [
                            0.06274509803921569,
                            "rgb(24,15,41)"
                          ],
                          [
                            0.12549019607843137,
                            "rgb(47,23,57)"
                          ],
                          [
                            0.18823529411764706,
                            "rgb(71,28,72)"
                          ],
                          [
                            0.25098039215686274,
                            "rgb(97,30,82)"
                          ],
                          [
                            0.3137254901960784,
                            "rgb(123,30,89)"
                          ],
                          [
                            0.3764705882352941,
                            "rgb(150,27,91)"
                          ],
                          [
                            0.4392156862745098,
                            "rgb(177,22,88)"
                          ],
                          [
                            0.5019607843137255,
                            "rgb(203,26,79)"
                          ],
                          [
                            0.5647058823529412,
                            "rgb(223,47,67)"
                          ],
                          [
                            0.6274509803921569,
                            "rgb(236,76,61)"
                          ],
                          [
                            0.6901960784313725,
                            "rgb(242,107,73)"
                          ],
                          [
                            0.7529411764705882,
                            "rgb(244,135,95)"
                          ],
                          [
                            0.8156862745098039,
                            "rgb(245,162,122)"
                          ],
                          [
                            0.8784313725490196,
                            "rgb(246,188,153)"
                          ],
                          [
                            0.9411764705882353,
                            "rgb(247,212,187)"
                          ],
                          [
                            1,
                            "rgb(250,234,220)"
                          ]
                        ],
                        "type": "heatmapgl"
                      }
                    ],
                    "histogram": [
                      {
                        "marker": {
                          "pattern": {
                            "fillmode": "overlay",
                            "size": 10,
                            "solidity": 0.2
                          }
                        },
                        "type": "histogram"
                      }
                    ],
                    "histogram2d": [
                      {
                        "colorbar": {
                          "outlinewidth": 0,
                          "tickcolor": "rgb(36,36,36)",
                          "ticklen": 8,
                          "ticks": "outside",
                          "tickwidth": 2
                        },
                        "colorscale": [
                          [
                            0,
                            "rgb(2,4,25)"
                          ],
                          [
                            0.06274509803921569,
                            "rgb(24,15,41)"
                          ],
                          [
                            0.12549019607843137,
                            "rgb(47,23,57)"
                          ],
                          [
                            0.18823529411764706,
                            "rgb(71,28,72)"
                          ],
                          [
                            0.25098039215686274,
                            "rgb(97,30,82)"
                          ],
                          [
                            0.3137254901960784,
                            "rgb(123,30,89)"
                          ],
                          [
                            0.3764705882352941,
                            "rgb(150,27,91)"
                          ],
                          [
                            0.4392156862745098,
                            "rgb(177,22,88)"
                          ],
                          [
                            0.5019607843137255,
                            "rgb(203,26,79)"
                          ],
                          [
                            0.5647058823529412,
                            "rgb(223,47,67)"
                          ],
                          [
                            0.6274509803921569,
                            "rgb(236,76,61)"
                          ],
                          [
                            0.6901960784313725,
                            "rgb(242,107,73)"
                          ],
                          [
                            0.7529411764705882,
                            "rgb(244,135,95)"
                          ],
                          [
                            0.8156862745098039,
                            "rgb(245,162,122)"
                          ],
                          [
                            0.8784313725490196,
                            "rgb(246,188,153)"
                          ],
                          [
                            0.9411764705882353,
                            "rgb(247,212,187)"
                          ],
                          [
                            1,
                            "rgb(250,234,220)"
                          ]
                        ],
                        "type": "histogram2d"
                      }
                    ],
                    "histogram2dcontour": [
                      {
                        "colorbar": {
                          "outlinewidth": 0,
                          "tickcolor": "rgb(36,36,36)",
                          "ticklen": 8,
                          "ticks": "outside",
                          "tickwidth": 2
                        },
                        "colorscale": [
                          [
                            0,
                            "rgb(2,4,25)"
                          ],
                          [
                            0.06274509803921569,
                            "rgb(24,15,41)"
                          ],
                          [
                            0.12549019607843137,
                            "rgb(47,23,57)"
                          ],
                          [
                            0.18823529411764706,
                            "rgb(71,28,72)"
                          ],
                          [
                            0.25098039215686274,
                            "rgb(97,30,82)"
                          ],
                          [
                            0.3137254901960784,
                            "rgb(123,30,89)"
                          ],
                          [
                            0.3764705882352941,
                            "rgb(150,27,91)"
                          ],
                          [
                            0.4392156862745098,
                            "rgb(177,22,88)"
                          ],
                          [
                            0.5019607843137255,
                            "rgb(203,26,79)"
                          ],
                          [
                            0.5647058823529412,
                            "rgb(223,47,67)"
                          ],
                          [
                            0.6274509803921569,
                            "rgb(236,76,61)"
                          ],
                          [
                            0.6901960784313725,
                            "rgb(242,107,73)"
                          ],
                          [
                            0.7529411764705882,
                            "rgb(244,135,95)"
                          ],
                          [
                            0.8156862745098039,
                            "rgb(245,162,122)"
                          ],
                          [
                            0.8784313725490196,
                            "rgb(246,188,153)"
                          ],
                          [
                            0.9411764705882353,
                            "rgb(247,212,187)"
                          ],
                          [
                            1,
                            "rgb(250,234,220)"
                          ]
                        ],
                        "type": "histogram2dcontour"
                      }
                    ],
                    "mesh3d": [
                      {
                        "colorbar": {
                          "outlinewidth": 0,
                          "tickcolor": "rgb(36,36,36)",
                          "ticklen": 8,
                          "ticks": "outside",
                          "tickwidth": 2
                        },
                        "type": "mesh3d"
                      }
                    ],
                    "parcoords": [
                      {
                        "line": {
                          "colorbar": {
                            "outlinewidth": 0,
                            "tickcolor": "rgb(36,36,36)",
                            "ticklen": 8,
                            "ticks": "outside",
                            "tickwidth": 2
                          }
                        },
                        "type": "parcoords"
                      }
                    ],
                    "pie": [
                      {
                        "automargin": true,
                        "type": "pie"
                      }
                    ],
                    "scatter": [
                      {
                        "fillpattern": {
                          "fillmode": "overlay",
                          "size": 10,
                          "solidity": 0.2
                        },
                        "type": "scatter"
                      }
                    ],
                    "scatter3d": [
                      {
                        "line": {
                          "colorbar": {
                            "outlinewidth": 0,
                            "tickcolor": "rgb(36,36,36)",
                            "ticklen": 8,
                            "ticks": "outside",
                            "tickwidth": 2
                          }
                        },
                        "marker": {
                          "colorbar": {
                            "outlinewidth": 0,
                            "tickcolor": "rgb(36,36,36)",
                            "ticklen": 8,
                            "ticks": "outside",
                            "tickwidth": 2
                          }
                        },
                        "type": "scatter3d"
                      }
                    ],
                    "scattercarpet": [
                      {
                        "marker": {
                          "colorbar": {
                            "outlinewidth": 0,
                            "tickcolor": "rgb(36,36,36)",
                            "ticklen": 8,
                            "ticks": "outside",
                            "tickwidth": 2
                          }
                        },
                        "type": "scattercarpet"
                      }
                    ],
                    "scattergeo": [
                      {
                        "marker": {
                          "colorbar": {
                            "outlinewidth": 0,
                            "tickcolor": "rgb(36,36,36)",
                            "ticklen": 8,
                            "ticks": "outside",
                            "tickwidth": 2
                          }
                        },
                        "type": "scattergeo"
                      }
                    ],
                    "scattergl": [
                      {
                        "marker": {
                          "colorbar": {
                            "outlinewidth": 0,
                            "tickcolor": "rgb(36,36,36)",
                            "ticklen": 8,
                            "ticks": "outside",
                            "tickwidth": 2
                          }
                        },
                        "type": "scattergl"
                      }
                    ],
                    "scattermapbox": [
                      {
                        "marker": {
                          "colorbar": {
                            "outlinewidth": 0,
                            "tickcolor": "rgb(36,36,36)",
                            "ticklen": 8,
                            "ticks": "outside",
                            "tickwidth": 2
                          }
                        },
                        "type": "scattermapbox"
                      }
                    ],
                    "scatterpolar": [
                      {
                        "marker": {
                          "colorbar": {
                            "outlinewidth": 0,
                            "tickcolor": "rgb(36,36,36)",
                            "ticklen": 8,
                            "ticks": "outside",
                            "tickwidth": 2
                          }
                        },
                        "type": "scatterpolar"
                      }
                    ],
                    "scatterpolargl": [
                      {
                        "marker": {
                          "colorbar": {
                            "outlinewidth": 0,
                            "tickcolor": "rgb(36,36,36)",
                            "ticklen": 8,
                            "ticks": "outside",
                            "tickwidth": 2
                          }
                        },
                        "type": "scatterpolargl"
                      }
                    ],
                    "scatterternary": [
                      {
                        "marker": {
                          "colorbar": {
                            "outlinewidth": 0,
                            "tickcolor": "rgb(36,36,36)",
                            "ticklen": 8,
                            "ticks": "outside",
                            "tickwidth": 2
                          }
                        },
                        "type": "scatterternary"
                      }
                    ],
                    "surface": [
                      {
                        "colorbar": {
                          "outlinewidth": 0,
                          "tickcolor": "rgb(36,36,36)",
                          "ticklen": 8,
                          "ticks": "outside",
                          "tickwidth": 2
                        },
                        "colorscale": [
                          [
                            0,
                            "rgb(2,4,25)"
                          ],
                          [
                            0.06274509803921569,
                            "rgb(24,15,41)"
                          ],
                          [
                            0.12549019607843137,
                            "rgb(47,23,57)"
                          ],
                          [
                            0.18823529411764706,
                            "rgb(71,28,72)"
                          ],
                          [
                            0.25098039215686274,
                            "rgb(97,30,82)"
                          ],
                          [
                            0.3137254901960784,
                            "rgb(123,30,89)"
                          ],
                          [
                            0.3764705882352941,
                            "rgb(150,27,91)"
                          ],
                          [
                            0.4392156862745098,
                            "rgb(177,22,88)"
                          ],
                          [
                            0.5019607843137255,
                            "rgb(203,26,79)"
                          ],
                          [
                            0.5647058823529412,
                            "rgb(223,47,67)"
                          ],
                          [
                            0.6274509803921569,
                            "rgb(236,76,61)"
                          ],
                          [
                            0.6901960784313725,
                            "rgb(242,107,73)"
                          ],
                          [
                            0.7529411764705882,
                            "rgb(244,135,95)"
                          ],
                          [
                            0.8156862745098039,
                            "rgb(245,162,122)"
                          ],
                          [
                            0.8784313725490196,
                            "rgb(246,188,153)"
                          ],
                          [
                            0.9411764705882353,
                            "rgb(247,212,187)"
                          ],
                          [
                            1,
                            "rgb(250,234,220)"
                          ]
                        ],
                        "type": "surface"
                      }
                    ],
                    "table": [
                      {
                        "cells": {
                          "fill": {
                            "color": "rgb(231,231,240)"
                          },
                          "line": {
                            "color": "white"
                          }
                        },
                        "header": {
                          "fill": {
                            "color": "rgb(183,183,191)"
                          },
                          "line": {
                            "color": "white"
                          }
                        },
                        "type": "table"
                      }
                    ]
                  },
                  "layout": {
                    "annotationdefaults": {
                      "arrowcolor": "rgb(67,103,167)"
                    },
                    "autotypenumbers": "strict",
                    "coloraxis": {
                      "colorbar": {
                        "outlinewidth": 0,
                        "tickcolor": "rgb(36,36,36)",
                        "ticklen": 8,
                        "ticks": "outside",
                        "tickwidth": 2
                      }
                    },
                    "colorscale": {
                      "sequential": [
                        [
                          0,
                          "rgb(2,4,25)"
                        ],
                        [
                          0.06274509803921569,
                          "rgb(24,15,41)"
                        ],
                        [
                          0.12549019607843137,
                          "rgb(47,23,57)"
                        ],
                        [
                          0.18823529411764706,
                          "rgb(71,28,72)"
                        ],
                        [
                          0.25098039215686274,
                          "rgb(97,30,82)"
                        ],
                        [
                          0.3137254901960784,
                          "rgb(123,30,89)"
                        ],
                        [
                          0.3764705882352941,
                          "rgb(150,27,91)"
                        ],
                        [
                          0.4392156862745098,
                          "rgb(177,22,88)"
                        ],
                        [
                          0.5019607843137255,
                          "rgb(203,26,79)"
                        ],
                        [
                          0.5647058823529412,
                          "rgb(223,47,67)"
                        ],
                        [
                          0.6274509803921569,
                          "rgb(236,76,61)"
                        ],
                        [
                          0.6901960784313725,
                          "rgb(242,107,73)"
                        ],
                        [
                          0.7529411764705882,
                          "rgb(244,135,95)"
                        ],
                        [
                          0.8156862745098039,
                          "rgb(245,162,122)"
                        ],
                        [
                          0.8784313725490196,
                          "rgb(246,188,153)"
                        ],
                        [
                          0.9411764705882353,
                          "rgb(247,212,187)"
                        ],
                        [
                          1,
                          "rgb(250,234,220)"
                        ]
                      ],
                      "sequentialminus": [
                        [
                          0,
                          "rgb(2,4,25)"
                        ],
                        [
                          0.06274509803921569,
                          "rgb(24,15,41)"
                        ],
                        [
                          0.12549019607843137,
                          "rgb(47,23,57)"
                        ],
                        [
                          0.18823529411764706,
                          "rgb(71,28,72)"
                        ],
                        [
                          0.25098039215686274,
                          "rgb(97,30,82)"
                        ],
                        [
                          0.3137254901960784,
                          "rgb(123,30,89)"
                        ],
                        [
                          0.3764705882352941,
                          "rgb(150,27,91)"
                        ],
                        [
                          0.4392156862745098,
                          "rgb(177,22,88)"
                        ],
                        [
                          0.5019607843137255,
                          "rgb(203,26,79)"
                        ],
                        [
                          0.5647058823529412,
                          "rgb(223,47,67)"
                        ],
                        [
                          0.6274509803921569,
                          "rgb(236,76,61)"
                        ],
                        [
                          0.6901960784313725,
                          "rgb(242,107,73)"
                        ],
                        [
                          0.7529411764705882,
                          "rgb(244,135,95)"
                        ],
                        [
                          0.8156862745098039,
                          "rgb(245,162,122)"
                        ],
                        [
                          0.8784313725490196,
                          "rgb(246,188,153)"
                        ],
                        [
                          0.9411764705882353,
                          "rgb(247,212,187)"
                        ],
                        [
                          1,
                          "rgb(250,234,220)"
                        ]
                      ]
                    },
                    "colorway": [
                      "rgb(76,114,176)",
                      "rgb(221,132,82)",
                      "rgb(85,168,104)",
                      "rgb(196,78,82)",
                      "rgb(129,114,179)",
                      "rgb(147,120,96)",
                      "rgb(218,139,195)",
                      "rgb(140,140,140)",
                      "rgb(204,185,116)",
                      "rgb(100,181,205)"
                    ],
                    "font": {
                      "color": "rgb(36,36,36)"
                    },
                    "geo": {
                      "bgcolor": "white",
                      "lakecolor": "white",
                      "landcolor": "rgb(234,234,242)",
                      "showlakes": true,
                      "showland": true,
                      "subunitcolor": "white"
                    },
                    "hoverlabel": {
                      "align": "left"
                    },
                    "hovermode": "closest",
                    "paper_bgcolor": "white",
                    "plot_bgcolor": "rgb(234,234,242)",
                    "polar": {
                      "angularaxis": {
                        "gridcolor": "white",
                        "linecolor": "white",
                        "showgrid": true,
                        "ticks": ""
                      },
                      "bgcolor": "rgb(234,234,242)",
                      "radialaxis": {
                        "gridcolor": "white",
                        "linecolor": "white",
                        "showgrid": true,
                        "ticks": ""
                      }
                    },
                    "scene": {
                      "xaxis": {
                        "backgroundcolor": "rgb(234,234,242)",
                        "gridcolor": "white",
                        "gridwidth": 2,
                        "linecolor": "white",
                        "showbackground": true,
                        "showgrid": true,
                        "ticks": "",
                        "zerolinecolor": "white"
                      },
                      "yaxis": {
                        "backgroundcolor": "rgb(234,234,242)",
                        "gridcolor": "white",
                        "gridwidth": 2,
                        "linecolor": "white",
                        "showbackground": true,
                        "showgrid": true,
                        "ticks": "",
                        "zerolinecolor": "white"
                      },
                      "zaxis": {
                        "backgroundcolor": "rgb(234,234,242)",
                        "gridcolor": "white",
                        "gridwidth": 2,
                        "linecolor": "white",
                        "showbackground": true,
                        "showgrid": true,
                        "ticks": "",
                        "zerolinecolor": "white"
                      }
                    },
                    "shapedefaults": {
                      "fillcolor": "rgb(67,103,167)",
                      "line": {
                        "width": 0
                      },
                      "opacity": 0.5
                    },
                    "ternary": {
                      "aaxis": {
                        "gridcolor": "white",
                        "linecolor": "white",
                        "showgrid": true,
                        "ticks": ""
                      },
                      "baxis": {
                        "gridcolor": "white",
                        "linecolor": "white",
                        "showgrid": true,
                        "ticks": ""
                      },
                      "bgcolor": "rgb(234,234,242)",
                      "caxis": {
                        "gridcolor": "white",
                        "linecolor": "white",
                        "showgrid": true,
                        "ticks": ""
                      }
                    },
                    "xaxis": {
                      "automargin": true,
                      "gridcolor": "white",
                      "linecolor": "white",
                      "showgrid": true,
                      "ticks": "",
                      "title": {
                        "standoff": 15
                      },
                      "zerolinecolor": "white"
                    },
                    "yaxis": {
                      "automargin": true,
                      "gridcolor": "white",
                      "linecolor": "white",
                      "showgrid": true,
                      "ticks": "",
                      "title": {
                        "standoff": 15
                      },
                      "zerolinecolor": "white"
                    }
                  }
                },
                "title": {
                  "text": "Scale Dependent Curvature of SimpleMLP on MNIST"
                },
                "xaxis": {
                  "dtick": 1,
                  "title": {
                    "text": "Coarse Graining Scale"
                  },
                  "type": "log"
                },
                "yaxis": {
                  "title": {
                    "text": "Curvature"
                  }
                }
              }
            }
          },
          "metadata": {},
          "output_type": "display_data"
        }
      ],
      "source": [
        "# Create a Plotly figure\n",
        "fig = go.Figure()\n",
        "\n",
        "# Plotting roughness for each direction using grouped data\n",
        "for direction, data in df.groupby(level='Direction'):\n",
        "    fig.add_trace(go.Scatter(\n",
        "        x=data.index.get_level_values('Distance'),\n",
        "        y=data['Curvature'],\n",
        "        mode='markers',\n",
        "        name=direction\n",
        "    ))\n",
        "\n",
        "# Set axis labels, title, and configure log scale on x-axis\n",
        "fig.update_layout(\n",
        "    title=f'Scale Dependent Curvature of {center_model.__class__.__name__} on {dataset.__class__.__name__}',\n",
        "    xaxis={\n",
        "        'title': 'Coarse Graining Scale',\n",
        "        'type': 'log',\n",
        "        'dtick': 1,  # Tick every power of ten\n",
        "    },\n",
        "    yaxis ={\n",
        "        'title': 'Curvature',\n",
        "    },\n",
        "    legend_title='Direction',\n",
        "    template='seaborn',\n",
        "    height=600\n",
        ")\n",
        "\n",
        "# Display the figure\n",
        "fig.show()"
      ]
    }
  ],
  "metadata": {
    "colab": {
      "provenance": []
    },
    "kernelspec": {
      "display_name": "Python 3",
      "name": "python3"
    },
    "language_info": {
      "codemirror_mode": {
        "name": "ipython",
        "version": 3
      },
      "file_extension": ".py",
      "mimetype": "text/x-python",
      "name": "python",
      "nbconvert_exporter": "python",
      "pygments_lexer": "ipython3",
      "version": "3.11.6"
    }
  },
  "nbformat": 4,
  "nbformat_minor": 0
}
