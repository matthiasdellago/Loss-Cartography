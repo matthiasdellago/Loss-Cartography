{
 "cells": [
  {
   "cell_type": "code",
   "execution_count": null,
   "metadata": {},
   "outputs": [],
   "source": [
    "import torch\n",
    "torch.set_grad_enabled(False)\n",
    "torch.set_default_dtype(torch.double)\n",
    "\n",
    "x = torch.tensor([[0.0], [1.0]])  # Inputs in double precision\n",
    "y = torch.tensor([[0.0], [1.0]])  # Targets in double precision\n",
    "\n",
    "model = torch.nn.Linear(1, 1)  # Model initialized and converted to double precision\n",
    "criterion = torch.nn.functional.mse_loss  # Loss function\n",
    "\n",
    "EPSILON = 1e-12\n",
    "\n",
    "l = []\n",
    "\n",
    "l.append(float(criterion(model(x), y)))\n",
    "\n",
    "for i in range(2):\n",
    "    # modify the params\n",
    "    for param in model.parameters():\n",
    "        param += EPSILON\n",
    "    l.append(float(criterion(model(x), y)))\n",
    "\n",
    "for j in l:\n",
    "    print(j)\n",
    "\n",
    "print(l[0]-2*l[1]+l[2])"
   ]
  }
 ],
 "metadata": {
  "language_info": {
   "name": "python"
  }
 },
 "nbformat": 4,
 "nbformat_minor": 2
}
