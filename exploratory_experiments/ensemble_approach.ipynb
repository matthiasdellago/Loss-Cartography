{
 "cells": [
  {
   "cell_type": "markdown",
   "metadata": {
    "colab_type": "text",
    "id": "view-in-github"
   },
   "source": [
    "<a href=\"https://colab.research.google.com/github/matthiasdellago/Loss-Cartography/blob/main/ensemble_approach.ipynb\" target=\"_parent\"><img src=\"https://colab.research.google.com/assets/colab-badge.svg\" alt=\"Open In Colab\"/></a>"
   ]
  },
  {
   "cell_type": "code",
   "execution_count": 1,
   "metadata": {
    "colab": {
     "base_uri": "https://localhost:8080/"
    },
    "execution": {
     "iopub.execute_input": "2024-06-04T15:03:23.206072Z",
     "iopub.status.busy": "2024-06-04T15:03:23.205464Z",
     "iopub.status.idle": "2024-06-04T15:03:27.277405Z",
     "shell.execute_reply": "2024-06-04T15:03:27.276462Z"
    },
    "id": "MTV4OGkJQDoW",
    "outputId": "52f5f0a7-f8dd-4945-8d74-d6134cdb02c9"
   },
   "outputs": [
    {
     "name": "stdout",
     "output_type": "stream",
     "text": [
      "Running on cpu\n"
     ]
    }
   ],
   "source": [
    "import torch\n",
    "import torch.nn as nn\n",
    "import torch.nn.functional as F\n",
    "from torchvision.datasets import MNIST\n",
    "from torchvision import transforms\n",
    "\n",
    "class SimpleMLP(nn.Module):\n",
    "    def __init__(self):\n",
    "        super(SimpleMLP, self).__init__()\n",
    "        self.fc1 = nn.Linear(784, 128)\n",
    "        self.fc2 = nn.Linear(128, 128)\n",
    "        self.fc3 = nn.Linear(128, 10)\n",
    "\n",
    "    def forward(self, x):\n",
    "        x = x.flatten(1)\n",
    "        x = self.fc1(x)\n",
    "        x = F.relu(x)\n",
    "        x = self.fc2(x)\n",
    "        x = F.relu(x)\n",
    "        x = self.fc3(x)\n",
    "        return x\n",
    "\n",
    "center_model = SimpleMLP()\n",
    "\n",
    "device = torch.device(\"cuda\" if torch.cuda.is_available() else \"cpu\")\n",
    "\n",
    "# Use a standard MNIST normalization\n",
    "transform = transforms.Compose([\n",
    "    transforms.ToTensor(),\n",
    "    transforms.Normalize((0.1307,), (0.3081,))\n",
    "])\n",
    "\n",
    "dataset = MNIST(root='./data', download=True, transform=transform)\n",
    "BATCH_SIZE = int(len(dataset)/10) # Big but not too big, because I think that the batch is duplicated for each model in the vmap-enselmble\n",
    "dataloader = torch.utils.data.DataLoader(dataset, batch_size=BATCH_SIZE, num_workers = 2)\n",
    "\n",
    "# criterion functional\n",
    "criterion = F.cross_entropy\n",
    "\n",
    "# parameter subspaces to investigate.\n",
    "# for each string, the union of all modules that contain the string in their name will be considered.\n",
    "# we will sample a random direction in that subspace + the gradient ascent and descent directions projected onto that subspace.\n",
    "SUBSPACES = ['fc1', 'weight', 'bias']\n",
    "\n",
    "#check if we are on GPU, otherwise just proof of concept\n",
    "if torch.cuda.is_available():\n",
    "    NUM_DIRS = 3\n",
    "    MAX_OOM = -1\n",
    "    MIN_OOM = -11 # go down until all roughness disappears due to numerical precision.\n",
    "else:\n",
    "    NUM_DIRS = 0 # number of random directions to sample, in addition to the gradient ascent + descent, and radially in + out.\n",
    "    MAX_OOM = 0 # maximum order of magnitude to sample\n",
    "    MIN_OOM = -1 # minimum order of magnitude to sample\n",
    "\n",
    "print(f'Running on {device}')"
   ]
  },
  {
   "cell_type": "markdown",
   "metadata": {
    "id": "FN9EIRkyKgAV"
   },
   "source": [
    "Define utility functions for parameter space arithmetic. iadd is inplace, all others create a new model."
   ]
  },
  {
   "cell_type": "code",
   "execution_count": 2,
   "metadata": {
    "execution": {
     "iopub.execute_input": "2024-06-04T15:03:27.321900Z",
     "iopub.status.busy": "2024-06-04T15:03:27.321274Z",
     "iopub.status.idle": "2024-06-04T15:03:27.333563Z",
     "shell.execute_reply": "2024-06-04T15:03:27.332506Z"
    },
    "id": "iTf0IfzpKgAX"
   },
   "outputs": [],
   "source": [
    "from copy import deepcopy\n",
    "\n",
    "@torch.no_grad\n",
    "def iadd(a:nn.Module, b:nn.Module):\n",
    "    \"\"\"add the parameters of b to a, inplace\"\"\"\n",
    "    for a_param, b_param in zip(a.parameters(), b.parameters()):\n",
    "        a_param.data.add_(b_param.data)\n",
    "    return a\n",
    "\n",
    "@torch.no_grad\n",
    "def add(a_old:nn.Module, b:nn.Module):\n",
    "    \"\"\"add the parameters of b to a\"\"\"\n",
    "    a = deepcopy(a_old)\n",
    "    return iadd(a, b)\n",
    "\n",
    "@torch.no_grad\n",
    "def scale(a_old:nn.Module, b:float):\n",
    "    \"\"\"scale the parameters of a by b\"\"\"\n",
    "    a = deepcopy(a_old)\n",
    "    for a_param in a.parameters():\n",
    "        a_param.data.mul_(b)\n",
    "    return a\n",
    "\n",
    "@torch.no_grad\n",
    "def sub(a:nn.Module, b:nn.Module):\n",
    "    \"\"\"subtract the parameters of b from a\"\"\"\n",
    "    neg_b = scale(b, -1)\n",
    "    return iadd(neg_b, a)\n",
    "\n",
    "@torch.no_grad\n",
    "def abs(a:nn.Module):\n",
    "    \"\"\"return the norm of the parameters of a\"\"\"\n",
    "    return torch.norm(torch.cat([param.data.flatten() for param in a.parameters()]))\n",
    "\n",
    "@torch.no_grad\n",
    "def norm(a:nn.Module):\n",
    "    \"\"\"normalize the parameters of a\"\"\"\n",
    "    return scale(a, 1/abs(a))\n",
    "\n",
    "@torch.no_grad\n",
    "def rand_like(a: nn.Module):\n",
    "    \"\"\"normalised random direction in the parameter space of the model.\"\"\"\n",
    "    rand = deepcopy(a)\n",
    "    for param in rand.parameters():\n",
    "        param.data = torch.randn_like(param.data)\n",
    "    return norm(rand)\n",
    "\n",
    "@torch.no_grad\n",
    "def project_to_module(a: nn.Module, target_subspace: str):\n",
    "    \"\"\"\n",
    "    normalised projection onto the subspace of the model specified by `target_subspace`.\n",
    "    subspace: Any parameter whose name contains the `target_subspace` string.\n",
    "    \"\"\"\n",
    "    projection = deepcopy(a)\n",
    "    for name, param in projection.named_parameters():\n",
    "        if target_subspace not in name:\n",
    "            param.data.zero_()\n",
    "    return norm(projection)"
   ]
  },
  {
   "cell_type": "markdown",
   "metadata": {
    "id": "VZwu4OiMKgAY"
   },
   "source": [
    "Define profiling context manager: measure execution time and GPU RAM usage before and after."
   ]
  },
  {
   "cell_type": "code",
   "execution_count": 3,
   "metadata": {
    "colab": {
     "base_uri": "https://localhost:8080/"
    },
    "execution": {
     "iopub.execute_input": "2024-06-04T15:03:27.338825Z",
     "iopub.status.busy": "2024-06-04T15:03:27.338061Z",
     "iopub.status.idle": "2024-06-04T15:03:27.345297Z",
     "shell.execute_reply": "2024-06-04T15:03:27.343500Z"
    },
    "id": "mUaBPF9jKgAY",
    "outputId": "7692784f-6874-44b7-8d65-041164ad09f4"
   },
   "outputs": [
    {
     "name": "stdout",
     "output_type": "stream",
     "text": [
      "\n",
      "::::::::::::::::::::::::::::::::Profiler example::::::::::::::::::::::::::::::::\n",
      "Computation goes here...\n",
      "::::::::::::::::::::::Finished Profiler example in 0.00 s:::::::::::::::::::::::\n"
     ]
    }
   ],
   "source": [
    "from time import perf_counter\n",
    "from contextlib import contextmanager\n",
    "import torch\n",
    "\n",
    "@contextmanager\n",
    "def profiler(description, length=80, pad_char=':'):\n",
    "    print('\\n'+description.center(length, pad_char))\n",
    "    if torch.cuda.is_available():\n",
    "        print(f'GPU RAM before execution: Allocated: {torch.cuda.memory_allocated()/1e9:.2f} GB | Reserved: {torch.cuda.memory_reserved()/1e9:.2f} GB')\n",
    "    start = perf_counter()\n",
    "    yield\n",
    "    if torch.cuda.is_available():\n",
    "        print(f'GPU RAM after execution:  Allocated: {torch.cuda.memory_allocated()/1e9:.2f} GB | Reserved: {torch.cuda.memory_reserved()/1e9:.2f} GB')\n",
    "    print(f'Finished {description} in {perf_counter() - start:.2f} s'.center(length, pad_char))\n",
    "\n",
    "with profiler('Profiler example'):\n",
    "    print('Computation goes here...')"
   ]
  },
  {
   "cell_type": "code",
   "execution_count": 4,
   "metadata": {
    "colab": {
     "base_uri": "https://localhost:8080/"
    },
    "execution": {
     "iopub.execute_input": "2024-06-04T15:03:27.348759Z",
     "iopub.status.busy": "2024-06-04T15:03:27.348483Z",
     "iopub.status.idle": "2024-06-04T15:03:39.863689Z",
     "shell.execute_reply": "2024-06-04T15:03:39.862638Z"
    },
    "id": "5YuHgRQVKgAb",
    "outputId": "51cb322a-cfe3-436d-9346-5ebac649bf6f"
   },
   "outputs": [
    {
     "name": "stdout",
     "output_type": "stream",
     "text": [
      "\n",
      ":::::::::::::::1 step of gradient descent over the whole dataset::::::::::::::::\n"
     ]
    },
    {
     "name": "stdout",
     "output_type": "stream",
     "text": [
      ":::::Finished 1 step of gradient descent over the whole dataset in 17.55 s::::::\n"
     ]
    }
   ],
   "source": [
    "# create a model to find the gradient\n",
    "grad_model = deepcopy(center_model)\n",
    "grad_model = grad_model.to(device)\n",
    "\n",
    "optimizer = torch.optim.SGD(grad_model.parameters(), lr=1)\n",
    "optimizer.zero_grad()\n",
    "torch.set_grad_enabled(True)\n",
    "\n",
    "# take a single step of gradient descent\n",
    "# gradient accumulate over the whole dataset\n",
    "with profiler('1 step of gradient descent over the whole dataset'):\n",
    "    for data, target in dataloader:\n",
    "        data, target = data.to(device), target.to(device)\n",
    "        output = grad_model(data)\n",
    "        loss = criterion(output, target)\n",
    "        loss.backward()\n",
    "\n",
    "optimizer.step()\n",
    "# from this point on we wont need any gradients\n",
    "torch.set_grad_enabled(False)\n",
    "\n",
    "\n",
    "# calculate the direction of gradient decent from the center model\n",
    "grad_model = grad_model.to('cpu')\n",
    "dir_ascent = sub(center_model, grad_model)\n",
    "dir_ascent = norm(dir_ascent)\n",
    "dir_descent = scale(dir_ascent, -1)\n",
    "\n",
    "del grad_model\n"
   ]
  },
  {
   "cell_type": "code",
   "execution_count": 5,
   "metadata": {
    "execution": {
     "iopub.execute_input": "2024-06-04T15:03:39.869498Z",
     "iopub.status.busy": "2024-06-04T15:03:39.869042Z",
     "iopub.status.idle": "2024-06-04T15:03:39.930705Z",
     "shell.execute_reply": "2024-06-04T15:03:39.930005Z"
    },
    "id": "VKoxaDhIKgAc"
   },
   "outputs": [],
   "source": [
    "radial = norm(center_model)\n",
    "\n",
    "dirs = {\n",
    "    'Ascent': dir_ascent,\n",
    "    'Descent': dir_descent,\n",
    "    'Radially Out': radial,\n",
    "    'Radially In': scale(radial,-1),\n",
    "    }\n",
    "\n",
    "# add random directions\n",
    "dirs.update({f'Random {i}': rand_like(center_model) for i in range(NUM_DIRS)})\n",
    "\n",
    "# add projections of each dir in dirs onto each SUBSPACE\n",
    "# Add projections of each direction in dirs onto each subspace\n",
    "for dir_name, direction in list(dirs.items()):\n",
    "    for subspace in SUBSPACES:\n",
    "        projected_dir = project_to_module(direction, subspace)\n",
    "        new_key = f'{dir_name} ⋅ P({subspace})'\n",
    "        dirs[new_key] = projected_dir\n",
    "\n",
    "# check that they are all normalised\n",
    "assert all(torch.isclose(abs(d), torch.tensor(1.0)) for d in dirs.values())"
   ]
  },
  {
   "cell_type": "code",
   "execution_count": 6,
   "metadata": {
    "colab": {
     "base_uri": "https://localhost:8080/",
     "height": 437
    },
    "execution": {
     "iopub.execute_input": "2024-06-04T15:03:39.934828Z",
     "iopub.status.busy": "2024-06-04T15:03:39.933876Z",
     "iopub.status.idle": "2024-06-04T15:03:40.374950Z",
     "shell.execute_reply": "2024-06-04T15:03:40.374128Z"
    },
    "id": "ucM6KCifKgAe",
    "outputId": "4e468526-2780-4e8e-ee82-ae8ae190e550"
   },
   "outputs": [
    {
     "data": {
      "text/html": [
       "<div>\n",
       "<style scoped>\n",
       "    .dataframe tbody tr th:only-of-type {\n",
       "        vertical-align: middle;\n",
       "    }\n",
       "\n",
       "    .dataframe tbody tr th {\n",
       "        vertical-align: top;\n",
       "    }\n",
       "\n",
       "    .dataframe thead th {\n",
       "        text-align: right;\n",
       "    }\n",
       "</style>\n",
       "<table border=\"1\" class=\"dataframe\">\n",
       "  <thead>\n",
       "    <tr style=\"text-align: right;\">\n",
       "      <th></th>\n",
       "      <th></th>\n",
       "    </tr>\n",
       "    <tr>\n",
       "      <th>Direction</th>\n",
       "      <th>Distance</th>\n",
       "    </tr>\n",
       "  </thead>\n",
       "  <tbody>\n",
       "    <tr>\n",
       "      <th rowspan=\"5\" valign=\"top\">Ascent</th>\n",
       "      <th>0.062500</th>\n",
       "    </tr>\n",
       "    <tr>\n",
       "      <th>0.125000</th>\n",
       "    </tr>\n",
       "    <tr>\n",
       "      <th>0.250000</th>\n",
       "    </tr>\n",
       "    <tr>\n",
       "      <th>0.500000</th>\n",
       "    </tr>\n",
       "    <tr>\n",
       "      <th>1.000000</th>\n",
       "    </tr>\n",
       "    <tr>\n",
       "      <th>...</th>\n",
       "      <th>...</th>\n",
       "    </tr>\n",
       "    <tr>\n",
       "      <th rowspan=\"5\" valign=\"top\">Radially In ⋅ P(bias)</th>\n",
       "      <th>0.119700</th>\n",
       "    </tr>\n",
       "    <tr>\n",
       "      <th>0.239401</th>\n",
       "    </tr>\n",
       "    <tr>\n",
       "      <th>0.478802</th>\n",
       "    </tr>\n",
       "    <tr>\n",
       "      <th>0.957603</th>\n",
       "    </tr>\n",
       "    <tr>\n",
       "      <th>1.915207</th>\n",
       "    </tr>\n",
       "  </tbody>\n",
       "</table>\n",
       "<p>80 rows × 0 columns</p>\n",
       "</div>"
      ],
      "text/plain": [
       "Empty DataFrame\n",
       "Columns: []\n",
       "Index: [(Ascent, 0.0625), (Ascent, 0.125), (Ascent, 0.25), (Ascent, 0.5), (Ascent, 1.0), (Descent, 0.06526711140171336), (Descent, 0.13053422280342672), (Descent, 0.26106844560685344), (Descent, 0.5221368912137069), (Descent, 1.0442737824274138), (Radially Out, 0.0681567332915786), (Radially Out, 0.1363134665831572), (Radially Out, 0.2726269331663144), (Radially Out, 0.5452538663326288), (Radially Out, 1.0905077326652577), (Radially In, 0.07117428967229322), (Radially In, 0.14234857934458645), (Radially In, 0.2846971586891729), (Radially In, 0.5693943173783458), (Radially In, 1.1387886347566916), (Ascent ⋅ P(fc1), 0.07432544468767006), (Ascent ⋅ P(fc1), 0.14865088937534013), (Ascent ⋅ P(fc1), 0.29730177875068026), (Ascent ⋅ P(fc1), 0.5946035575013605), (Ascent ⋅ P(fc1), 1.189207115002721), (Ascent ⋅ P(weight), 0.07761611325459275), (Ascent ⋅ P(weight), 0.1552322265091855), (Ascent ⋅ P(weight), 0.310464453018371), (Ascent ⋅ P(weight), 0.620928906036742), (Ascent ⋅ P(weight), 1.241857812073484), (Ascent ⋅ P(bias), 0.0810524721656881), (Ascent ⋅ P(bias), 0.1621049443313762), (Ascent ⋅ P(bias), 0.3242098886627524), (Ascent ⋅ P(bias), 0.6484197773255048), (Ascent ⋅ P(bias), 1.2968395546510096), (Descent ⋅ P(fc1), 0.08464097168355579), (Descent ⋅ P(fc1), 0.16928194336711158), (Descent ⋅ P(fc1), 0.33856388673422316), (Descent ⋅ P(fc1), 0.6771277734684463), (Descent ⋅ P(fc1), 1.3542555469368927), (Descent ⋅ P(weight), 0.08838834764831845), (Descent ⋅ P(weight), 0.1767766952966369), (Descent ⋅ P(weight), 0.3535533905932738), (Descent ⋅ P(weight), 0.7071067811865476), (Descent ⋅ P(weight), 1.4142135623730951), (Descent ⋅ P(bias), 0.09230163412121871), (Descent ⋅ P(bias), 0.18460326824243742), (Descent ⋅ P(bias), 0.36920653648487484), (Descent ⋅ P(bias), 0.7384130729697497), (Descent ⋅ P(bias), 1.4768261459394993), (Radially Out ⋅ P(fc1), 0.0963881765879963), (Radially Out ⋅ P(fc1), 0.1927763531759926), (Radially Out ⋅ P(fc1), 0.3855527063519852), (Radially Out ⋅ P(fc1), 0.7711054127039704), (Radially Out ⋅ P(fc1), 1.5422108254079407), (Radially Out ⋅ P(weight), 0.10065564574682839), (Radially Out ⋅ P(weight), 0.20131129149365679), (Radially Out ⋅ P(weight), 0.40262258298731357), (Radially Out ⋅ P(weight), 0.8052451659746271), (Radially Out ⋅ P(weight), 1.6104903319492543), (Radially Out ⋅ P(bias), 0.10511205190671431), (Radially Out ⋅ P(bias), 0.21022410381342863), (Radially Out ⋅ P(bias), 0.42044820762685725), (Radially Out ⋅ P(bias), 0.8408964152537145), (Radially Out ⋅ P(bias), 1.681792830507429), (Radially In ⋅ P(fc1), 0.10976576002333122), (Radially In ⋅ P(fc1), 0.21953152004666243), (Radially In ⋅ P(fc1), 0.43906304009332486), (Radially In ⋅ P(fc1), 0.8781260801866497), (Radially In ⋅ P(fc1), 1.7562521603732995), (Radially In ⋅ P(weight), 0.1146255054005839), (Radially In ⋅ P(weight), 0.2292510108011678), (Radially In ⋅ P(weight), 0.4585020216023356), (Radially In ⋅ P(weight), 0.9170040432046712), (Radially In ⋅ P(weight), 1.8340080864093424), (Radially In ⋅ P(bias), 0.11970041008732171), (Radially In ⋅ P(bias), 0.23940082017464343), (Radially In ⋅ P(bias), 0.47880164034928685), (Radially In ⋅ P(bias), 0.9576032806985737), (Radially In ⋅ P(bias), 1.9152065613971474)]\n",
       "\n",
       "[80 rows x 0 columns]"
      ]
     },
     "execution_count": 6,
     "metadata": {},
     "output_type": "execute_result"
    }
   ],
   "source": [
    "import pandas as pd\n",
    "import numpy as np\n",
    "\n",
    "\n",
    "# generate distances each twice as large as the previous, from 10^MIN_OOM to 10^MAX_OOM\n",
    "scales = 2 ** np.arange(MIN_OOM * np.log2(10), MAX_OOM * np.log2(10) + 1)\n",
    "\n",
    "# offset each direction by a different amount, so that we get a nice spread of distances, to avoid artefacts/robustness\n",
    "offset_per_direction = 2. ** np.linspace(0, 1, len(dirs), endpoint=False)\n",
    "\n",
    "# Initialize an empty list to hold tuples for MultiIndex\n",
    "index_list = []\n",
    "\n",
    "# Calculate distances using broadcasting\n",
    "distances = np.outer(scales, offset_per_direction).T.flatten()\n",
    "\n",
    "# Repeat directions accordingly\n",
    "directions = np.repeat(list(dirs.keys()), len(scales))\n",
    "\n",
    "# Create DataFrame directly from numpy arrays\n",
    "df = pd.DataFrame(index=pd.MultiIndex.from_arrays([directions, distances], names=['Direction', 'Distance']))\n",
    "\n",
    "df\n"
   ]
  },
  {
   "cell_type": "code",
   "execution_count": 7,
   "metadata": {
    "colab": {
     "base_uri": "https://localhost:8080/",
     "height": 455
    },
    "execution": {
     "iopub.execute_input": "2024-06-04T15:03:40.378204Z",
     "iopub.status.busy": "2024-06-04T15:03:40.377532Z",
     "iopub.status.idle": "2024-06-04T15:03:40.498070Z",
     "shell.execute_reply": "2024-06-04T15:03:40.497393Z"
    },
    "id": "1Kk_akciKgAg",
    "outputId": "f808dd5b-6fc6-40a4-f51b-242880351f8f"
   },
   "outputs": [
    {
     "data": {
      "text/html": [
       "<div>\n",
       "<style scoped>\n",
       "    .dataframe tbody tr th:only-of-type {\n",
       "        vertical-align: middle;\n",
       "    }\n",
       "\n",
       "    .dataframe tbody tr th {\n",
       "        vertical-align: top;\n",
       "    }\n",
       "\n",
       "    .dataframe thead th {\n",
       "        text-align: right;\n",
       "    }\n",
       "</style>\n",
       "<table border=\"1\" class=\"dataframe\">\n",
       "  <thead>\n",
       "    <tr style=\"text-align: right;\">\n",
       "      <th></th>\n",
       "      <th></th>\n",
       "      <th>Model</th>\n",
       "    </tr>\n",
       "    <tr>\n",
       "      <th>Direction</th>\n",
       "      <th>Distance</th>\n",
       "      <th></th>\n",
       "    </tr>\n",
       "  </thead>\n",
       "  <tbody>\n",
       "    <tr>\n",
       "      <th rowspan=\"5\" valign=\"top\">Ascent</th>\n",
       "      <th>0.062500</th>\n",
       "      <td>SimpleMLP(\\n  (fc1): Linear(in_features=784, o...</td>\n",
       "    </tr>\n",
       "    <tr>\n",
       "      <th>0.125000</th>\n",
       "      <td>SimpleMLP(\\n  (fc1): Linear(in_features=784, o...</td>\n",
       "    </tr>\n",
       "    <tr>\n",
       "      <th>0.250000</th>\n",
       "      <td>SimpleMLP(\\n  (fc1): Linear(in_features=784, o...</td>\n",
       "    </tr>\n",
       "    <tr>\n",
       "      <th>0.500000</th>\n",
       "      <td>SimpleMLP(\\n  (fc1): Linear(in_features=784, o...</td>\n",
       "    </tr>\n",
       "    <tr>\n",
       "      <th>1.000000</th>\n",
       "      <td>SimpleMLP(\\n  (fc1): Linear(in_features=784, o...</td>\n",
       "    </tr>\n",
       "    <tr>\n",
       "      <th>...</th>\n",
       "      <th>...</th>\n",
       "      <td>...</td>\n",
       "    </tr>\n",
       "    <tr>\n",
       "      <th rowspan=\"5\" valign=\"top\">Radially In ⋅ P(bias)</th>\n",
       "      <th>0.119700</th>\n",
       "      <td>SimpleMLP(\\n  (fc1): Linear(in_features=784, o...</td>\n",
       "    </tr>\n",
       "    <tr>\n",
       "      <th>0.239401</th>\n",
       "      <td>SimpleMLP(\\n  (fc1): Linear(in_features=784, o...</td>\n",
       "    </tr>\n",
       "    <tr>\n",
       "      <th>0.478802</th>\n",
       "      <td>SimpleMLP(\\n  (fc1): Linear(in_features=784, o...</td>\n",
       "    </tr>\n",
       "    <tr>\n",
       "      <th>0.957603</th>\n",
       "      <td>SimpleMLP(\\n  (fc1): Linear(in_features=784, o...</td>\n",
       "    </tr>\n",
       "    <tr>\n",
       "      <th>1.915207</th>\n",
       "      <td>SimpleMLP(\\n  (fc1): Linear(in_features=784, o...</td>\n",
       "    </tr>\n",
       "  </tbody>\n",
       "</table>\n",
       "<p>80 rows × 1 columns</p>\n",
       "</div>"
      ],
      "text/plain": [
       "                                                                            Model\n",
       "Direction             Distance                                                   \n",
       "Ascent                0.062500  SimpleMLP(\\n  (fc1): Linear(in_features=784, o...\n",
       "                      0.125000  SimpleMLP(\\n  (fc1): Linear(in_features=784, o...\n",
       "                      0.250000  SimpleMLP(\\n  (fc1): Linear(in_features=784, o...\n",
       "                      0.500000  SimpleMLP(\\n  (fc1): Linear(in_features=784, o...\n",
       "                      1.000000  SimpleMLP(\\n  (fc1): Linear(in_features=784, o...\n",
       "...                                                                           ...\n",
       "Radially In ⋅ P(bias) 0.119700  SimpleMLP(\\n  (fc1): Linear(in_features=784, o...\n",
       "                      0.239401  SimpleMLP(\\n  (fc1): Linear(in_features=784, o...\n",
       "                      0.478802  SimpleMLP(\\n  (fc1): Linear(in_features=784, o...\n",
       "                      0.957603  SimpleMLP(\\n  (fc1): Linear(in_features=784, o...\n",
       "                      1.915207  SimpleMLP(\\n  (fc1): Linear(in_features=784, o...\n",
       "\n",
       "[80 rows x 1 columns]"
      ]
     },
     "execution_count": 7,
     "metadata": {},
     "output_type": "execute_result"
    }
   ],
   "source": [
    "# fill the dataframe with the models\n",
    "for dir_name, dist in df.index:\n",
    "    shift = scale(dirs[dir_name], dist)     # shift = direction * distance\n",
    "    location = iadd(shift, center_model)    # location = center + shift\n",
    "    df.loc[(dir_name, dist), 'Model'] = location\n",
    "\n",
    "df"
   ]
  },
  {
   "cell_type": "markdown",
   "metadata": {
    "id": "sakcLDDnKgAh"
   },
   "source": [
    "Parallel evaluation with vmap()\n"
   ]
  },
  {
   "cell_type": "code",
   "execution_count": 8,
   "metadata": {
    "colab": {
     "base_uri": "https://localhost:8080/"
    },
    "execution": {
     "iopub.execute_input": "2024-06-04T15:03:40.501076Z",
     "iopub.status.busy": "2024-06-04T15:03:40.500809Z",
     "iopub.status.idle": "2024-06-04T15:04:03.426700Z",
     "shell.execute_reply": "2024-06-04T15:04:03.425549Z"
    },
    "id": "of195MzFwzdG",
    "outputId": "06a1a4e0-4e40-4432-be57-98d60bed7673"
   },
   "outputs": [
    {
     "name": "stdout",
     "output_type": "stream",
     "text": [
      "Ensemble size: 81\n",
      "\n",
      ":::::::::::::::::::::::::Moving stacked ensemble to cpu:::::::::::::::::::::::::\n",
      ":::::::::::::::Finished Moving stacked ensemble to cpu in 0.00 s::::::::::::::::\n",
      "\n",
      ":::::::::::::::::::::::Evaluating stacked ensemble on cpu:::::::::::::::::::::::\n",
      ":::::::::::::Finished Evaluating stacked ensemble on cpu in 32.86 s:::::::::::::\n",
      "\n",
      "::::::::::::::::::::::::::::Freeing data and target:::::::::::::::::::::::::::::\n",
      ":::::::::::::::::::Finished Freeing data and target in 0.00 s:::::::::::::::::::\n",
      "\n",
      "::::::::::::::::::::::::::::Freeing stacked ensemble::::::::::::::::::::::::::::\n",
      "::::::::::::::::::Finished Freeing stacked ensemble in 0.00 s:::::::::::::::::::\n"
     ]
    }
   ],
   "source": [
    "from torch.func import stack_module_state, functional_call\n",
    "from torch import vmap\n",
    "\n",
    "# add the center model\n",
    "ensemble_list = [center_model] + list(df['Model'])\n",
    "\n",
    "print(f'Ensemble size: {len(ensemble_list)}')\n",
    "\n",
    "# stack to prepare for vmap\n",
    "params, buffers = stack_module_state(ensemble_list)\n",
    "\n",
    "with profiler(f'Moving stacked ensemble to {device}'):\n",
    "    params = {name: tensor.to(device) for name, tensor in params.items()}\n",
    "    buffers = {name: tensor.to(device) for name, tensor in buffers.items()}\n",
    "\n",
    "stacked_ensemble = (params, buffers)\n",
    "\n",
    "# Construct a \"stateless\" version of one of the models. It is \"stateless\" in\n",
    "# the sense that the parameters are meta Tensors and do not have storage.\n",
    "meta_model = deepcopy(center_model).to('meta')\n",
    "\n",
    "def meta_model_loss(params_and_buffers, data, target):\n",
    "    \"\"\"Compute the loss of a set of params on a batch of data, via the meta model\"\"\"\n",
    "    predictions = functional_call(meta_model, params_and_buffers, (data,))\n",
    "    predictions = predictions.double() # double precision for better resoltion of small scales\n",
    "    loss = criterion(predictions, target)\n",
    "    return loss\n",
    "\n",
    "# define a loss function that takes the stacked ensemble params, data, and target\n",
    "# in_dims=(0, None, None) adds an ensemble dimension to the first argument 'params_and_buffers' but not to the other two arguments\n",
    "vmap_loss = vmap(meta_model_loss, in_dims=(0, None, None))\n",
    "\n",
    "batch_losses = []\n",
    "with profiler(f'Evaluating stacked ensemble on {device}'):\n",
    "    for data, target in dataloader:\n",
    "        data, target = data.to(device), target.to(device)\n",
    "        batch_loss = vmap_loss(stacked_ensemble, data, target)\n",
    "        batch_losses.append(batch_loss)\n",
    "\n",
    "with profiler('Freeing data and target'):\n",
    "    del data, target\n",
    "    torch.cuda.empty_cache()\n",
    "\n",
    "with profiler('Freeing stacked ensemble'):\n",
    "    del stacked_ensemble\n",
    "    torch.cuda.empty_cache()\n",
    "\n",
    "loss_tensor = torch.mean(torch.stack(batch_losses), dim=0)"
   ]
  },
  {
   "cell_type": "code",
   "execution_count": 9,
   "metadata": {
    "colab": {
     "base_uri": "https://localhost:8080/",
     "height": 455
    },
    "execution": {
     "iopub.execute_input": "2024-06-04T15:04:03.431166Z",
     "iopub.status.busy": "2024-06-04T15:04:03.430309Z",
     "iopub.status.idle": "2024-06-04T15:04:03.481321Z",
     "shell.execute_reply": "2024-06-04T15:04:03.480312Z"
    },
    "id": "wy5LA2Q7KgAi",
    "outputId": "56a2aa27-41ae-4471-9b3e-1f1a56f7561a"
   },
   "outputs": [
    {
     "data": {
      "text/html": [
       "<div>\n",
       "<style scoped>\n",
       "    .dataframe tbody tr th:only-of-type {\n",
       "        vertical-align: middle;\n",
       "    }\n",
       "\n",
       "    .dataframe tbody tr th {\n",
       "        vertical-align: top;\n",
       "    }\n",
       "\n",
       "    .dataframe thead th {\n",
       "        text-align: right;\n",
       "    }\n",
       "</style>\n",
       "<table border=\"1\" class=\"dataframe\">\n",
       "  <thead>\n",
       "    <tr style=\"text-align: right;\">\n",
       "      <th></th>\n",
       "      <th></th>\n",
       "      <th>Model</th>\n",
       "      <th>Loss</th>\n",
       "    </tr>\n",
       "    <tr>\n",
       "      <th>Direction</th>\n",
       "      <th>Distance</th>\n",
       "      <th></th>\n",
       "      <th></th>\n",
       "    </tr>\n",
       "  </thead>\n",
       "  <tbody>\n",
       "    <tr>\n",
       "      <th rowspan=\"5\" valign=\"top\">Ascent</th>\n",
       "      <th>0.000000</th>\n",
       "      <td>NaN</td>\n",
       "      <td>2.310385</td>\n",
       "    </tr>\n",
       "    <tr>\n",
       "      <th>0.062500</th>\n",
       "      <td>SimpleMLP(\\n  (fc1): Linear(in_features=784, o...</td>\n",
       "      <td>2.345272</td>\n",
       "    </tr>\n",
       "    <tr>\n",
       "      <th>0.125000</th>\n",
       "      <td>SimpleMLP(\\n  (fc1): Linear(in_features=784, o...</td>\n",
       "      <td>2.380990</td>\n",
       "    </tr>\n",
       "    <tr>\n",
       "      <th>0.250000</th>\n",
       "      <td>SimpleMLP(\\n  (fc1): Linear(in_features=784, o...</td>\n",
       "      <td>2.452914</td>\n",
       "    </tr>\n",
       "    <tr>\n",
       "      <th>0.500000</th>\n",
       "      <td>SimpleMLP(\\n  (fc1): Linear(in_features=784, o...</td>\n",
       "      <td>2.598581</td>\n",
       "    </tr>\n",
       "    <tr>\n",
       "      <th>...</th>\n",
       "      <th>...</th>\n",
       "      <td>...</td>\n",
       "      <td>...</td>\n",
       "    </tr>\n",
       "    <tr>\n",
       "      <th rowspan=\"5\" valign=\"top\">Radially Out ⋅ P(weight)</th>\n",
       "      <th>0.100656</th>\n",
       "      <td>SimpleMLP(\\n  (fc1): Linear(in_features=784, o...</td>\n",
       "      <td>2.310738</td>\n",
       "    </tr>\n",
       "    <tr>\n",
       "      <th>0.201311</th>\n",
       "      <td>SimpleMLP(\\n  (fc1): Linear(in_features=784, o...</td>\n",
       "      <td>2.311108</td>\n",
       "    </tr>\n",
       "    <tr>\n",
       "      <th>0.402623</th>\n",
       "      <td>SimpleMLP(\\n  (fc1): Linear(in_features=784, o...</td>\n",
       "      <td>2.311901</td>\n",
       "    </tr>\n",
       "    <tr>\n",
       "      <th>0.805245</th>\n",
       "      <td>SimpleMLP(\\n  (fc1): Linear(in_features=784, o...</td>\n",
       "      <td>2.313717</td>\n",
       "    </tr>\n",
       "    <tr>\n",
       "      <th>1.610490</th>\n",
       "      <td>SimpleMLP(\\n  (fc1): Linear(in_features=784, o...</td>\n",
       "      <td>2.318447</td>\n",
       "    </tr>\n",
       "  </tbody>\n",
       "</table>\n",
       "<p>96 rows × 2 columns</p>\n",
       "</div>"
      ],
      "text/plain": [
       "                                                                               Model  \\\n",
       "Direction                Distance                                                      \n",
       "Ascent                   0.000000                                                NaN   \n",
       "                         0.062500  SimpleMLP(\\n  (fc1): Linear(in_features=784, o...   \n",
       "                         0.125000  SimpleMLP(\\n  (fc1): Linear(in_features=784, o...   \n",
       "                         0.250000  SimpleMLP(\\n  (fc1): Linear(in_features=784, o...   \n",
       "                         0.500000  SimpleMLP(\\n  (fc1): Linear(in_features=784, o...   \n",
       "...                                                                              ...   \n",
       "Radially Out ⋅ P(weight) 0.100656  SimpleMLP(\\n  (fc1): Linear(in_features=784, o...   \n",
       "                         0.201311  SimpleMLP(\\n  (fc1): Linear(in_features=784, o...   \n",
       "                         0.402623  SimpleMLP(\\n  (fc1): Linear(in_features=784, o...   \n",
       "                         0.805245  SimpleMLP(\\n  (fc1): Linear(in_features=784, o...   \n",
       "                         1.610490  SimpleMLP(\\n  (fc1): Linear(in_features=784, o...   \n",
       "\n",
       "                                       Loss  \n",
       "Direction                Distance            \n",
       "Ascent                   0.000000  2.310385  \n",
       "                         0.062500  2.345272  \n",
       "                         0.125000  2.380990  \n",
       "                         0.250000  2.452914  \n",
       "                         0.500000  2.598581  \n",
       "...                                     ...  \n",
       "Radially Out ⋅ P(weight) 0.100656  2.310738  \n",
       "                         0.201311  2.311108  \n",
       "                         0.402623  2.311901  \n",
       "                         0.805245  2.313717  \n",
       "                         1.610490  2.318447  \n",
       "\n",
       "[96 rows x 2 columns]"
      ]
     },
     "execution_count": 9,
     "metadata": {},
     "output_type": "execute_result"
    }
   ],
   "source": [
    "# Convert the loss tensor to a list and unpack\n",
    "center_loss, *dir_losses = loss_tensor.tolist()\n",
    "\n",
    "# Ensure the length of dir_losses matches the DataFrame length\n",
    "assert len(dir_losses) == len(df)\n",
    "\n",
    "# Add the directional losses to the DataFrame\n",
    "df['Loss'] = dir_losses\n",
    "\n",
    "# Add the center_loss to each Direction, for Distance=0\n",
    "for direction in df.index.get_level_values('Direction').unique():\n",
    "    df.loc[(direction, 0.0), 'Loss'] = center_loss\n",
    "\n",
    "df.sort_index(inplace=True)\n",
    "\n",
    "df"
   ]
  },
  {
   "cell_type": "code",
   "execution_count": 10,
   "metadata": {
    "colab": {
     "base_uri": "https://localhost:8080/",
     "height": 617
    },
    "execution": {
     "iopub.execute_input": "2024-06-04T15:04:03.485343Z",
     "iopub.status.busy": "2024-06-04T15:04:03.484852Z",
     "iopub.status.idle": "2024-06-04T15:04:04.582359Z",
     "shell.execute_reply": "2024-06-04T15:04:04.581621Z"
    },
    "id": "C4SrQNLmKgAj",
    "outputId": "d703475a-883b-4957-da45-296827fe1606"
   },
   "outputs": [
    {
     "data": {
      "application/vnd.plotly.v1+json": {
       "config": {
        "plotlyServerURL": "https://plot.ly"
       },
       "data": [
        {
         "mode": "lines+markers",
         "name": "Ascent",
         "type": "scatter",
         "x": [
          0,
          0.0625,
          0.125,
          0.25,
          0.5,
          1
         ],
         "y": [
          2.310385382626163,
          2.345272239197013,
          2.380989865890133,
          2.4529141687458837,
          2.598581065158573,
          2.954174683715574
         ]
        },
        {
         "mode": "lines+markers",
         "name": "Ascent ⋅ P(bias)",
         "type": "scatter",
         "x": [
          0,
          0.0810524721656881,
          0.1621049443313762,
          0.3242098886627524,
          0.6484197773255048,
          1.2968395546510096
         ],
         "y": [
          2.310385382626163,
          2.314853024025987,
          2.3198923099867006,
          2.3316978448072785,
          2.362313817922908,
          2.451933330167873
         ]
        },
        {
         "mode": "lines+markers",
         "name": "Ascent ⋅ P(fc1)",
         "type": "scatter",
         "x": [
          0,
          0.07432544468767006,
          0.14865088937534013,
          0.29730177875068026,
          0.5946035575013605,
          1.189207115002721
         ],
         "y": [
          2.310385382626163,
          2.3463899799732273,
          2.381958176159931,
          2.44817494532701,
          2.562714299926603,
          2.7745199323157967
         ]
        },
        {
         "mode": "lines+markers",
         "name": "Ascent ⋅ P(weight)",
         "type": "scatter",
         "x": [
          0,
          0.07761611325459275,
          0.1552322265091855,
          0.310464453018371,
          0.620928906036742,
          1.241857812073484
         ],
         "y": [
          2.310385382626163,
          2.3536354632318295,
          2.3978557495168697,
          2.4862698222095894,
          2.669780282857984,
          3.165656706838541
         ]
        },
        {
         "mode": "lines+markers",
         "name": "Descent",
         "type": "scatter",
         "x": [
          0,
          0.06526711140171336,
          0.13053422280342672,
          0.26106844560685344,
          0.5221368912137069,
          1.0442737824274138
         ],
         "y": [
          2.310385382626163,
          2.275592800446548,
          2.2431360467518884,
          2.1865921330911773,
          2.0997588809023946,
          1.971163086833193
         ]
        },
        {
         "mode": "lines+markers",
         "name": "Descent ⋅ P(bias)",
         "type": "scatter",
         "x": [
          0,
          0.09230163412121871,
          0.18460326824243742,
          0.36920653648487484,
          0.7384130729697497,
          1.4768261459394993
         ],
         "y": [
          2.310385382626163,
          2.305984970693508,
          2.302311744016426,
          2.297115513575623,
          2.2950782954964337,
          2.322142954830705
         ]
        },
        {
         "mode": "lines+markers",
         "name": "Descent ⋅ P(fc1)",
         "type": "scatter",
         "x": [
          0,
          0.08464097168355579,
          0.16928194336711158,
          0.33856388673422316,
          0.6771277734684463,
          1.3542555469368927
         ],
         "y": [
          2.310385382626163,
          2.270813461486475,
          2.234655061611292,
          2.175250454846722,
          2.08762060536992,
          1.9520246715118905
         ]
        },
        {
         "mode": "lines+markers",
         "name": "Descent ⋅ P(weight)",
         "type": "scatter",
         "x": [
          0,
          0.08838834764831845,
          0.1767766952966369,
          0.3535533905932738,
          0.7071067811865476,
          1.4142135623730951
         ],
         "y": [
          2.310385382626163,
          2.2639707944439813,
          2.2220766901050757,
          2.152993660110444,
          2.048971597632254,
          1.8994518604005364
         ]
        },
        {
         "mode": "lines+markers",
         "name": "Radially In",
         "type": "scatter",
         "x": [
          0,
          0.07117428967229322,
          0.14234857934458645,
          0.2846971586891729,
          0.5693943173783458,
          1.1387886347566916
         ],
         "y": [
          2.310385382626163,
          2.310110323576885,
          2.3098438532409147,
          2.3093358098280037,
          2.308413302652873,
          2.3068964352359296
         ]
        },
        {
         "mode": "lines+markers",
         "name": "Radially In ⋅ P(bias)",
         "type": "scatter",
         "x": [
          0,
          0.11970041008732171,
          0.23940082017464343,
          0.47880164034928685,
          0.9576032806985737,
          1.9152065613971474
         ],
         "y": [
          2.310385382626163,
          2.3095737218656733,
          2.3088914427972966,
          2.3079114050874305,
          2.307362632941767,
          2.310724185471564
         ]
        },
        {
         "mode": "lines+markers",
         "name": "Radially In ⋅ P(fc1)",
         "type": "scatter",
         "x": [
          0,
          0.10976576002333122,
          0.21953152004666243,
          0.43906304009332486,
          0.8781260801866497,
          1.7562521603732995
         ],
         "y": [
          2.310385382626163,
          2.3102170793332424,
          2.310051407435712,
          2.309728028359509,
          2.309112025933786,
          2.308006076204133
         ]
        },
        {
         "mode": "lines+markers",
         "name": "Radially In ⋅ P(weight)",
         "type": "scatter",
         "x": [
          0,
          0.1146255054005839,
          0.2292510108011678,
          0.4585020216023356,
          0.9170040432046712,
          1.8340080864093424
         ],
         "y": [
          2.310385382626163,
          2.31000320092067,
          2.309641134782251,
          2.3089732395639446,
          2.307838687998338,
          2.3062142629442204
         ]
        },
        {
         "mode": "lines+markers",
         "name": "Radially Out",
         "type": "scatter",
         "x": [
          0,
          0.0681567332915786,
          0.1363134665831572,
          0.2726269331663144,
          0.5452538663326288,
          1.0905077326652577
         ],
         "y": [
          2.310385382626163,
          2.310657048877344,
          2.3109370721155336,
          2.3115229469994847,
          2.3128041226314733,
          2.3158574171302826
         ]
        },
        {
         "mode": "lines+markers",
         "name": "Radially Out ⋅ P(bias)",
         "type": "scatter",
         "x": [
          0,
          0.10511205190671431,
          0.21022410381342863,
          0.42044820762685725,
          0.8408964152537145,
          1.681792830507429
         ],
         "y": [
          2.310385382626163,
          2.311206165168108,
          2.3121236466393578,
          2.314235775850436,
          2.3195665464763424,
          2.334654613543517
         ]
        },
        {
         "mode": "lines+markers",
         "name": "Radially Out ⋅ P(fc1)",
         "type": "scatter",
         "x": [
          0,
          0.0963881765879963,
          0.1927763531759926,
          0.3855527063519852,
          0.7711054127039704,
          1.5422108254079407
         ],
         "y": [
          2.310385382626163,
          2.31053534019816,
          2.310687381622861,
          2.310997480280392,
          2.3116413734791452,
          2.313021889734967
         ]
        },
        {
         "mode": "lines+markers",
         "name": "Radially Out ⋅ P(weight)",
         "type": "scatter",
         "x": [
          0,
          0.10065564574682839,
          0.20131129149365679,
          0.40262258298731357,
          0.8052451659746271,
          1.6104903319492543
         ],
         "y": [
          2.310385382626163,
          2.3107382649518127,
          2.3111080544367204,
          2.31190051535802,
          2.3137166274188825,
          2.318446974204423
         ]
        }
       ],
       "layout": {
        "height": 600,
        "legend": {
         "title": {
          "text": "Direction"
         }
        },
        "template": {
         "data": {
          "bar": [
           {
            "error_x": {
             "color": "rgb(36,36,36)"
            },
            "error_y": {
             "color": "rgb(36,36,36)"
            },
            "marker": {
             "line": {
              "color": "rgb(234,234,242)",
              "width": 0.5
             },
             "pattern": {
              "fillmode": "overlay",
              "size": 10,
              "solidity": 0.2
             }
            },
            "type": "bar"
           }
          ],
          "barpolar": [
           {
            "marker": {
             "line": {
              "color": "rgb(234,234,242)",
              "width": 0.5
             },
             "pattern": {
              "fillmode": "overlay",
              "size": 10,
              "solidity": 0.2
             }
            },
            "type": "barpolar"
           }
          ],
          "carpet": [
           {
            "aaxis": {
             "endlinecolor": "rgb(36,36,36)",
             "gridcolor": "white",
             "linecolor": "white",
             "minorgridcolor": "white",
             "startlinecolor": "rgb(36,36,36)"
            },
            "baxis": {
             "endlinecolor": "rgb(36,36,36)",
             "gridcolor": "white",
             "linecolor": "white",
             "minorgridcolor": "white",
             "startlinecolor": "rgb(36,36,36)"
            },
            "type": "carpet"
           }
          ],
          "choropleth": [
           {
            "colorbar": {
             "outlinewidth": 0,
             "tickcolor": "rgb(36,36,36)",
             "ticklen": 8,
             "ticks": "outside",
             "tickwidth": 2
            },
            "type": "choropleth"
           }
          ],
          "contour": [
           {
            "colorbar": {
             "outlinewidth": 0,
             "tickcolor": "rgb(36,36,36)",
             "ticklen": 8,
             "ticks": "outside",
             "tickwidth": 2
            },
            "colorscale": [
             [
              0,
              "rgb(2,4,25)"
             ],
             [
              0.06274509803921569,
              "rgb(24,15,41)"
             ],
             [
              0.12549019607843137,
              "rgb(47,23,57)"
             ],
             [
              0.18823529411764706,
              "rgb(71,28,72)"
             ],
             [
              0.25098039215686274,
              "rgb(97,30,82)"
             ],
             [
              0.3137254901960784,
              "rgb(123,30,89)"
             ],
             [
              0.3764705882352941,
              "rgb(150,27,91)"
             ],
             [
              0.4392156862745098,
              "rgb(177,22,88)"
             ],
             [
              0.5019607843137255,
              "rgb(203,26,79)"
             ],
             [
              0.5647058823529412,
              "rgb(223,47,67)"
             ],
             [
              0.6274509803921569,
              "rgb(236,76,61)"
             ],
             [
              0.6901960784313725,
              "rgb(242,107,73)"
             ],
             [
              0.7529411764705882,
              "rgb(244,135,95)"
             ],
             [
              0.8156862745098039,
              "rgb(245,162,122)"
             ],
             [
              0.8784313725490196,
              "rgb(246,188,153)"
             ],
             [
              0.9411764705882353,
              "rgb(247,212,187)"
             ],
             [
              1,
              "rgb(250,234,220)"
             ]
            ],
            "type": "contour"
           }
          ],
          "contourcarpet": [
           {
            "colorbar": {
             "outlinewidth": 0,
             "tickcolor": "rgb(36,36,36)",
             "ticklen": 8,
             "ticks": "outside",
             "tickwidth": 2
            },
            "type": "contourcarpet"
           }
          ],
          "heatmap": [
           {
            "colorbar": {
             "outlinewidth": 0,
             "tickcolor": "rgb(36,36,36)",
             "ticklen": 8,
             "ticks": "outside",
             "tickwidth": 2
            },
            "colorscale": [
             [
              0,
              "rgb(2,4,25)"
             ],
             [
              0.06274509803921569,
              "rgb(24,15,41)"
             ],
             [
              0.12549019607843137,
              "rgb(47,23,57)"
             ],
             [
              0.18823529411764706,
              "rgb(71,28,72)"
             ],
             [
              0.25098039215686274,
              "rgb(97,30,82)"
             ],
             [
              0.3137254901960784,
              "rgb(123,30,89)"
             ],
             [
              0.3764705882352941,
              "rgb(150,27,91)"
             ],
             [
              0.4392156862745098,
              "rgb(177,22,88)"
             ],
             [
              0.5019607843137255,
              "rgb(203,26,79)"
             ],
             [
              0.5647058823529412,
              "rgb(223,47,67)"
             ],
             [
              0.6274509803921569,
              "rgb(236,76,61)"
             ],
             [
              0.6901960784313725,
              "rgb(242,107,73)"
             ],
             [
              0.7529411764705882,
              "rgb(244,135,95)"
             ],
             [
              0.8156862745098039,
              "rgb(245,162,122)"
             ],
             [
              0.8784313725490196,
              "rgb(246,188,153)"
             ],
             [
              0.9411764705882353,
              "rgb(247,212,187)"
             ],
             [
              1,
              "rgb(250,234,220)"
             ]
            ],
            "type": "heatmap"
           }
          ],
          "heatmapgl": [
           {
            "colorbar": {
             "outlinewidth": 0,
             "tickcolor": "rgb(36,36,36)",
             "ticklen": 8,
             "ticks": "outside",
             "tickwidth": 2
            },
            "colorscale": [
             [
              0,
              "rgb(2,4,25)"
             ],
             [
              0.06274509803921569,
              "rgb(24,15,41)"
             ],
             [
              0.12549019607843137,
              "rgb(47,23,57)"
             ],
             [
              0.18823529411764706,
              "rgb(71,28,72)"
             ],
             [
              0.25098039215686274,
              "rgb(97,30,82)"
             ],
             [
              0.3137254901960784,
              "rgb(123,30,89)"
             ],
             [
              0.3764705882352941,
              "rgb(150,27,91)"
             ],
             [
              0.4392156862745098,
              "rgb(177,22,88)"
             ],
             [
              0.5019607843137255,
              "rgb(203,26,79)"
             ],
             [
              0.5647058823529412,
              "rgb(223,47,67)"
             ],
             [
              0.6274509803921569,
              "rgb(236,76,61)"
             ],
             [
              0.6901960784313725,
              "rgb(242,107,73)"
             ],
             [
              0.7529411764705882,
              "rgb(244,135,95)"
             ],
             [
              0.8156862745098039,
              "rgb(245,162,122)"
             ],
             [
              0.8784313725490196,
              "rgb(246,188,153)"
             ],
             [
              0.9411764705882353,
              "rgb(247,212,187)"
             ],
             [
              1,
              "rgb(250,234,220)"
             ]
            ],
            "type": "heatmapgl"
           }
          ],
          "histogram": [
           {
            "marker": {
             "pattern": {
              "fillmode": "overlay",
              "size": 10,
              "solidity": 0.2
             }
            },
            "type": "histogram"
           }
          ],
          "histogram2d": [
           {
            "colorbar": {
             "outlinewidth": 0,
             "tickcolor": "rgb(36,36,36)",
             "ticklen": 8,
             "ticks": "outside",
             "tickwidth": 2
            },
            "colorscale": [
             [
              0,
              "rgb(2,4,25)"
             ],
             [
              0.06274509803921569,
              "rgb(24,15,41)"
             ],
             [
              0.12549019607843137,
              "rgb(47,23,57)"
             ],
             [
              0.18823529411764706,
              "rgb(71,28,72)"
             ],
             [
              0.25098039215686274,
              "rgb(97,30,82)"
             ],
             [
              0.3137254901960784,
              "rgb(123,30,89)"
             ],
             [
              0.3764705882352941,
              "rgb(150,27,91)"
             ],
             [
              0.4392156862745098,
              "rgb(177,22,88)"
             ],
             [
              0.5019607843137255,
              "rgb(203,26,79)"
             ],
             [
              0.5647058823529412,
              "rgb(223,47,67)"
             ],
             [
              0.6274509803921569,
              "rgb(236,76,61)"
             ],
             [
              0.6901960784313725,
              "rgb(242,107,73)"
             ],
             [
              0.7529411764705882,
              "rgb(244,135,95)"
             ],
             [
              0.8156862745098039,
              "rgb(245,162,122)"
             ],
             [
              0.8784313725490196,
              "rgb(246,188,153)"
             ],
             [
              0.9411764705882353,
              "rgb(247,212,187)"
             ],
             [
              1,
              "rgb(250,234,220)"
             ]
            ],
            "type": "histogram2d"
           }
          ],
          "histogram2dcontour": [
           {
            "colorbar": {
             "outlinewidth": 0,
             "tickcolor": "rgb(36,36,36)",
             "ticklen": 8,
             "ticks": "outside",
             "tickwidth": 2
            },
            "colorscale": [
             [
              0,
              "rgb(2,4,25)"
             ],
             [
              0.06274509803921569,
              "rgb(24,15,41)"
             ],
             [
              0.12549019607843137,
              "rgb(47,23,57)"
             ],
             [
              0.18823529411764706,
              "rgb(71,28,72)"
             ],
             [
              0.25098039215686274,
              "rgb(97,30,82)"
             ],
             [
              0.3137254901960784,
              "rgb(123,30,89)"
             ],
             [
              0.3764705882352941,
              "rgb(150,27,91)"
             ],
             [
              0.4392156862745098,
              "rgb(177,22,88)"
             ],
             [
              0.5019607843137255,
              "rgb(203,26,79)"
             ],
             [
              0.5647058823529412,
              "rgb(223,47,67)"
             ],
             [
              0.6274509803921569,
              "rgb(236,76,61)"
             ],
             [
              0.6901960784313725,
              "rgb(242,107,73)"
             ],
             [
              0.7529411764705882,
              "rgb(244,135,95)"
             ],
             [
              0.8156862745098039,
              "rgb(245,162,122)"
             ],
             [
              0.8784313725490196,
              "rgb(246,188,153)"
             ],
             [
              0.9411764705882353,
              "rgb(247,212,187)"
             ],
             [
              1,
              "rgb(250,234,220)"
             ]
            ],
            "type": "histogram2dcontour"
           }
          ],
          "mesh3d": [
           {
            "colorbar": {
             "outlinewidth": 0,
             "tickcolor": "rgb(36,36,36)",
             "ticklen": 8,
             "ticks": "outside",
             "tickwidth": 2
            },
            "type": "mesh3d"
           }
          ],
          "parcoords": [
           {
            "line": {
             "colorbar": {
              "outlinewidth": 0,
              "tickcolor": "rgb(36,36,36)",
              "ticklen": 8,
              "ticks": "outside",
              "tickwidth": 2
             }
            },
            "type": "parcoords"
           }
          ],
          "pie": [
           {
            "automargin": true,
            "type": "pie"
           }
          ],
          "scatter": [
           {
            "fillpattern": {
             "fillmode": "overlay",
             "size": 10,
             "solidity": 0.2
            },
            "type": "scatter"
           }
          ],
          "scatter3d": [
           {
            "line": {
             "colorbar": {
              "outlinewidth": 0,
              "tickcolor": "rgb(36,36,36)",
              "ticklen": 8,
              "ticks": "outside",
              "tickwidth": 2
             }
            },
            "marker": {
             "colorbar": {
              "outlinewidth": 0,
              "tickcolor": "rgb(36,36,36)",
              "ticklen": 8,
              "ticks": "outside",
              "tickwidth": 2
             }
            },
            "type": "scatter3d"
           }
          ],
          "scattercarpet": [
           {
            "marker": {
             "colorbar": {
              "outlinewidth": 0,
              "tickcolor": "rgb(36,36,36)",
              "ticklen": 8,
              "ticks": "outside",
              "tickwidth": 2
             }
            },
            "type": "scattercarpet"
           }
          ],
          "scattergeo": [
           {
            "marker": {
             "colorbar": {
              "outlinewidth": 0,
              "tickcolor": "rgb(36,36,36)",
              "ticklen": 8,
              "ticks": "outside",
              "tickwidth": 2
             }
            },
            "type": "scattergeo"
           }
          ],
          "scattergl": [
           {
            "marker": {
             "colorbar": {
              "outlinewidth": 0,
              "tickcolor": "rgb(36,36,36)",
              "ticklen": 8,
              "ticks": "outside",
              "tickwidth": 2
             }
            },
            "type": "scattergl"
           }
          ],
          "scattermapbox": [
           {
            "marker": {
             "colorbar": {
              "outlinewidth": 0,
              "tickcolor": "rgb(36,36,36)",
              "ticklen": 8,
              "ticks": "outside",
              "tickwidth": 2
             }
            },
            "type": "scattermapbox"
           }
          ],
          "scatterpolar": [
           {
            "marker": {
             "colorbar": {
              "outlinewidth": 0,
              "tickcolor": "rgb(36,36,36)",
              "ticklen": 8,
              "ticks": "outside",
              "tickwidth": 2
             }
            },
            "type": "scatterpolar"
           }
          ],
          "scatterpolargl": [
           {
            "marker": {
             "colorbar": {
              "outlinewidth": 0,
              "tickcolor": "rgb(36,36,36)",
              "ticklen": 8,
              "ticks": "outside",
              "tickwidth": 2
             }
            },
            "type": "scatterpolargl"
           }
          ],
          "scatterternary": [
           {
            "marker": {
             "colorbar": {
              "outlinewidth": 0,
              "tickcolor": "rgb(36,36,36)",
              "ticklen": 8,
              "ticks": "outside",
              "tickwidth": 2
             }
            },
            "type": "scatterternary"
           }
          ],
          "surface": [
           {
            "colorbar": {
             "outlinewidth": 0,
             "tickcolor": "rgb(36,36,36)",
             "ticklen": 8,
             "ticks": "outside",
             "tickwidth": 2
            },
            "colorscale": [
             [
              0,
              "rgb(2,4,25)"
             ],
             [
              0.06274509803921569,
              "rgb(24,15,41)"
             ],
             [
              0.12549019607843137,
              "rgb(47,23,57)"
             ],
             [
              0.18823529411764706,
              "rgb(71,28,72)"
             ],
             [
              0.25098039215686274,
              "rgb(97,30,82)"
             ],
             [
              0.3137254901960784,
              "rgb(123,30,89)"
             ],
             [
              0.3764705882352941,
              "rgb(150,27,91)"
             ],
             [
              0.4392156862745098,
              "rgb(177,22,88)"
             ],
             [
              0.5019607843137255,
              "rgb(203,26,79)"
             ],
             [
              0.5647058823529412,
              "rgb(223,47,67)"
             ],
             [
              0.6274509803921569,
              "rgb(236,76,61)"
             ],
             [
              0.6901960784313725,
              "rgb(242,107,73)"
             ],
             [
              0.7529411764705882,
              "rgb(244,135,95)"
             ],
             [
              0.8156862745098039,
              "rgb(245,162,122)"
             ],
             [
              0.8784313725490196,
              "rgb(246,188,153)"
             ],
             [
              0.9411764705882353,
              "rgb(247,212,187)"
             ],
             [
              1,
              "rgb(250,234,220)"
             ]
            ],
            "type": "surface"
           }
          ],
          "table": [
           {
            "cells": {
             "fill": {
              "color": "rgb(231,231,240)"
             },
             "line": {
              "color": "white"
             }
            },
            "header": {
             "fill": {
              "color": "rgb(183,183,191)"
             },
             "line": {
              "color": "white"
             }
            },
            "type": "table"
           }
          ]
         },
         "layout": {
          "annotationdefaults": {
           "arrowcolor": "rgb(67,103,167)"
          },
          "autotypenumbers": "strict",
          "coloraxis": {
           "colorbar": {
            "outlinewidth": 0,
            "tickcolor": "rgb(36,36,36)",
            "ticklen": 8,
            "ticks": "outside",
            "tickwidth": 2
           }
          },
          "colorscale": {
           "sequential": [
            [
             0,
             "rgb(2,4,25)"
            ],
            [
             0.06274509803921569,
             "rgb(24,15,41)"
            ],
            [
             0.12549019607843137,
             "rgb(47,23,57)"
            ],
            [
             0.18823529411764706,
             "rgb(71,28,72)"
            ],
            [
             0.25098039215686274,
             "rgb(97,30,82)"
            ],
            [
             0.3137254901960784,
             "rgb(123,30,89)"
            ],
            [
             0.3764705882352941,
             "rgb(150,27,91)"
            ],
            [
             0.4392156862745098,
             "rgb(177,22,88)"
            ],
            [
             0.5019607843137255,
             "rgb(203,26,79)"
            ],
            [
             0.5647058823529412,
             "rgb(223,47,67)"
            ],
            [
             0.6274509803921569,
             "rgb(236,76,61)"
            ],
            [
             0.6901960784313725,
             "rgb(242,107,73)"
            ],
            [
             0.7529411764705882,
             "rgb(244,135,95)"
            ],
            [
             0.8156862745098039,
             "rgb(245,162,122)"
            ],
            [
             0.8784313725490196,
             "rgb(246,188,153)"
            ],
            [
             0.9411764705882353,
             "rgb(247,212,187)"
            ],
            [
             1,
             "rgb(250,234,220)"
            ]
           ],
           "sequentialminus": [
            [
             0,
             "rgb(2,4,25)"
            ],
            [
             0.06274509803921569,
             "rgb(24,15,41)"
            ],
            [
             0.12549019607843137,
             "rgb(47,23,57)"
            ],
            [
             0.18823529411764706,
             "rgb(71,28,72)"
            ],
            [
             0.25098039215686274,
             "rgb(97,30,82)"
            ],
            [
             0.3137254901960784,
             "rgb(123,30,89)"
            ],
            [
             0.3764705882352941,
             "rgb(150,27,91)"
            ],
            [
             0.4392156862745098,
             "rgb(177,22,88)"
            ],
            [
             0.5019607843137255,
             "rgb(203,26,79)"
            ],
            [
             0.5647058823529412,
             "rgb(223,47,67)"
            ],
            [
             0.6274509803921569,
             "rgb(236,76,61)"
            ],
            [
             0.6901960784313725,
             "rgb(242,107,73)"
            ],
            [
             0.7529411764705882,
             "rgb(244,135,95)"
            ],
            [
             0.8156862745098039,
             "rgb(245,162,122)"
            ],
            [
             0.8784313725490196,
             "rgb(246,188,153)"
            ],
            [
             0.9411764705882353,
             "rgb(247,212,187)"
            ],
            [
             1,
             "rgb(250,234,220)"
            ]
           ]
          },
          "colorway": [
           "rgb(76,114,176)",
           "rgb(221,132,82)",
           "rgb(85,168,104)",
           "rgb(196,78,82)",
           "rgb(129,114,179)",
           "rgb(147,120,96)",
           "rgb(218,139,195)",
           "rgb(140,140,140)",
           "rgb(204,185,116)",
           "rgb(100,181,205)"
          ],
          "font": {
           "color": "rgb(36,36,36)"
          },
          "geo": {
           "bgcolor": "white",
           "lakecolor": "white",
           "landcolor": "rgb(234,234,242)",
           "showlakes": true,
           "showland": true,
           "subunitcolor": "white"
          },
          "hoverlabel": {
           "align": "left"
          },
          "hovermode": "closest",
          "paper_bgcolor": "white",
          "plot_bgcolor": "rgb(234,234,242)",
          "polar": {
           "angularaxis": {
            "gridcolor": "white",
            "linecolor": "white",
            "showgrid": true,
            "ticks": ""
           },
           "bgcolor": "rgb(234,234,242)",
           "radialaxis": {
            "gridcolor": "white",
            "linecolor": "white",
            "showgrid": true,
            "ticks": ""
           }
          },
          "scene": {
           "xaxis": {
            "backgroundcolor": "rgb(234,234,242)",
            "gridcolor": "white",
            "gridwidth": 2,
            "linecolor": "white",
            "showbackground": true,
            "showgrid": true,
            "ticks": "",
            "zerolinecolor": "white"
           },
           "yaxis": {
            "backgroundcolor": "rgb(234,234,242)",
            "gridcolor": "white",
            "gridwidth": 2,
            "linecolor": "white",
            "showbackground": true,
            "showgrid": true,
            "ticks": "",
            "zerolinecolor": "white"
           },
           "zaxis": {
            "backgroundcolor": "rgb(234,234,242)",
            "gridcolor": "white",
            "gridwidth": 2,
            "linecolor": "white",
            "showbackground": true,
            "showgrid": true,
            "ticks": "",
            "zerolinecolor": "white"
           }
          },
          "shapedefaults": {
           "fillcolor": "rgb(67,103,167)",
           "line": {
            "width": 0
           },
           "opacity": 0.5
          },
          "ternary": {
           "aaxis": {
            "gridcolor": "white",
            "linecolor": "white",
            "showgrid": true,
            "ticks": ""
           },
           "baxis": {
            "gridcolor": "white",
            "linecolor": "white",
            "showgrid": true,
            "ticks": ""
           },
           "bgcolor": "rgb(234,234,242)",
           "caxis": {
            "gridcolor": "white",
            "linecolor": "white",
            "showgrid": true,
            "ticks": ""
           }
          },
          "xaxis": {
           "automargin": true,
           "gridcolor": "white",
           "linecolor": "white",
           "showgrid": true,
           "ticks": "",
           "title": {
            "standoff": 15
           },
           "zerolinecolor": "white"
          },
          "yaxis": {
           "automargin": true,
           "gridcolor": "white",
           "linecolor": "white",
           "showgrid": true,
           "ticks": "",
           "title": {
            "standoff": 15
           },
           "zerolinecolor": "white"
          }
         }
        },
        "title": {
         "text": "Loss Landscape of SimpleMLP on MNIST"
        },
        "xaxis": {
         "title": {
          "text": "Distance from Center in Parameter Space"
         }
        },
        "yaxis": {
         "title": {
          "text": "Loss"
         }
        }
       }
      }
     },
     "metadata": {},
     "output_type": "display_data"
    }
   ],
   "source": [
    "\n",
    "\n",
    "import plotly.graph_objects as go\n",
    "\n",
    "# Create a Plotly figure\n",
    "fig = go.Figure()\n",
    "\n",
    "# Plotting directly from grouped data\n",
    "for direction, data in df.groupby(level='Direction'):\n",
    "    fig.add_trace(go.Scatter(\n",
    "        x=data.index.get_level_values('Distance'),\n",
    "        y=data['Loss'],\n",
    "        mode='lines+markers',\n",
    "        name=direction\n",
    "    ))\n",
    "\n",
    "# Set axis labels and title with adjusted figure dimensions\n",
    "fig.update_layout(\n",
    "    title=f'Loss Landscape of {center_model.__class__.__name__} on {dataset.__class__.__name__}',\n",
    "    xaxis_title='Distance from Center in Parameter Space',\n",
    "    yaxis_title='Loss',\n",
    "    legend_title='Direction',\n",
    "    template='seaborn',\n",
    "    height=600,\n",
    ")\n",
    "\n",
    "\n",
    "# Show the figure\n",
    "fig.show()\n"
   ]
  },
  {
   "cell_type": "markdown",
   "metadata": {
    "id": "F9vtI1c9KgAk"
   },
   "source": [
    "Now let's measure the roughness."
   ]
  },
  {
   "cell_type": "code",
   "execution_count": 11,
   "metadata": {
    "colab": {
     "base_uri": "https://localhost:8080/",
     "height": 455
    },
    "execution": {
     "iopub.execute_input": "2024-06-04T15:04:04.637690Z",
     "iopub.status.busy": "2024-06-04T15:04:04.636974Z",
     "iopub.status.idle": "2024-06-04T15:04:04.666168Z",
     "shell.execute_reply": "2024-06-04T15:04:04.665386Z"
    },
    "id": "cujcfbVrKgAk",
    "outputId": "93cc1863-54ef-4667-f772-e6801891c1fe"
   },
   "outputs": [
    {
     "data": {
      "text/html": [
       "<div>\n",
       "<style scoped>\n",
       "    .dataframe tbody tr th:only-of-type {\n",
       "        vertical-align: middle;\n",
       "    }\n",
       "\n",
       "    .dataframe tbody tr th {\n",
       "        vertical-align: top;\n",
       "    }\n",
       "\n",
       "    .dataframe thead th {\n",
       "        text-align: right;\n",
       "    }\n",
       "</style>\n",
       "<table border=\"1\" class=\"dataframe\">\n",
       "  <thead>\n",
       "    <tr style=\"text-align: right;\">\n",
       "      <th></th>\n",
       "      <th></th>\n",
       "      <th>Model</th>\n",
       "      <th>Loss</th>\n",
       "      <th>Roughness</th>\n",
       "    </tr>\n",
       "    <tr>\n",
       "      <th>Direction</th>\n",
       "      <th>Distance</th>\n",
       "      <th></th>\n",
       "      <th></th>\n",
       "      <th></th>\n",
       "    </tr>\n",
       "  </thead>\n",
       "  <tbody>\n",
       "    <tr>\n",
       "      <th rowspan=\"5\" valign=\"top\">Ascent</th>\n",
       "      <th>0.000000</th>\n",
       "      <td>NaN</td>\n",
       "      <td>2.310385</td>\n",
       "      <td>NaN</td>\n",
       "    </tr>\n",
       "    <tr>\n",
       "      <th>0.062500</th>\n",
       "      <td>SimpleMLP(\\n  (fc1): Linear(in_features=784, o...</td>\n",
       "      <td>2.345272</td>\n",
       "      <td>1.269395e-05</td>\n",
       "    </tr>\n",
       "    <tr>\n",
       "      <th>0.125000</th>\n",
       "      <td>SimpleMLP(\\n  (fc1): Linear(in_features=784, o...</td>\n",
       "      <td>2.380990</td>\n",
       "      <td>7.937201e-06</td>\n",
       "    </tr>\n",
       "    <tr>\n",
       "      <th>0.250000</th>\n",
       "      <td>SimpleMLP(\\n  (fc1): Linear(in_features=784, o...</td>\n",
       "      <td>2.452914</td>\n",
       "      <td>1.109713e-05</td>\n",
       "    </tr>\n",
       "    <tr>\n",
       "      <th>0.500000</th>\n",
       "      <td>SimpleMLP(\\n  (fc1): Linear(in_features=784, o...</td>\n",
       "      <td>2.598581</td>\n",
       "      <td>1.135639e-03</td>\n",
       "    </tr>\n",
       "    <tr>\n",
       "      <th>...</th>\n",
       "      <th>...</th>\n",
       "      <td>...</td>\n",
       "      <td>...</td>\n",
       "      <td>...</td>\n",
       "    </tr>\n",
       "    <tr>\n",
       "      <th rowspan=\"5\" valign=\"top\">Radially Out ⋅ P(weight)</th>\n",
       "      <th>0.100656</th>\n",
       "      <td>SimpleMLP(\\n  (fc1): Linear(in_features=784, o...</td>\n",
       "      <td>2.310738</td>\n",
       "      <td>3.526662e-09</td>\n",
       "    </tr>\n",
       "    <tr>\n",
       "      <th>0.201311</th>\n",
       "      <td>SimpleMLP(\\n  (fc1): Linear(in_features=784, o...</td>\n",
       "      <td>2.311108</td>\n",
       "      <td>1.502231e-08</td>\n",
       "    </tr>\n",
       "    <tr>\n",
       "      <th>0.402623</th>\n",
       "      <td>SimpleMLP(\\n  (fc1): Linear(in_features=784, o...</td>\n",
       "      <td>2.311901</td>\n",
       "      <td>6.985093e-08</td>\n",
       "    </tr>\n",
       "    <tr>\n",
       "      <th>0.805245</th>\n",
       "      <td>SimpleMLP(\\n  (fc1): Linear(in_features=784, o...</td>\n",
       "      <td>2.313717</td>\n",
       "      <td>3.773381e-07</td>\n",
       "    </tr>\n",
       "    <tr>\n",
       "      <th>1.610490</th>\n",
       "      <td>SimpleMLP(\\n  (fc1): Linear(in_features=784, o...</td>\n",
       "      <td>2.318447</td>\n",
       "      <td>NaN</td>\n",
       "    </tr>\n",
       "  </tbody>\n",
       "</table>\n",
       "<p>96 rows × 3 columns</p>\n",
       "</div>"
      ],
      "text/plain": [
       "                                                                               Model  \\\n",
       "Direction                Distance                                                      \n",
       "Ascent                   0.000000                                                NaN   \n",
       "                         0.062500  SimpleMLP(\\n  (fc1): Linear(in_features=784, o...   \n",
       "                         0.125000  SimpleMLP(\\n  (fc1): Linear(in_features=784, o...   \n",
       "                         0.250000  SimpleMLP(\\n  (fc1): Linear(in_features=784, o...   \n",
       "                         0.500000  SimpleMLP(\\n  (fc1): Linear(in_features=784, o...   \n",
       "...                                                                              ...   \n",
       "Radially Out ⋅ P(weight) 0.100656  SimpleMLP(\\n  (fc1): Linear(in_features=784, o...   \n",
       "                         0.201311  SimpleMLP(\\n  (fc1): Linear(in_features=784, o...   \n",
       "                         0.402623  SimpleMLP(\\n  (fc1): Linear(in_features=784, o...   \n",
       "                         0.805245  SimpleMLP(\\n  (fc1): Linear(in_features=784, o...   \n",
       "                         1.610490  SimpleMLP(\\n  (fc1): Linear(in_features=784, o...   \n",
       "\n",
       "                                       Loss     Roughness  \n",
       "Direction                Distance                          \n",
       "Ascent                   0.000000  2.310385           NaN  \n",
       "                         0.062500  2.345272  1.269395e-05  \n",
       "                         0.125000  2.380990  7.937201e-06  \n",
       "                         0.250000  2.452914  1.109713e-05  \n",
       "                         0.500000  2.598581  1.135639e-03  \n",
       "...                                     ...           ...  \n",
       "Radially Out ⋅ P(weight) 0.100656  2.310738  3.526662e-09  \n",
       "                         0.201311  2.311108  1.502231e-08  \n",
       "                         0.402623  2.311901  6.985093e-08  \n",
       "                         0.805245  2.313717  3.773381e-07  \n",
       "                         1.610490  2.318447           NaN  \n",
       "\n",
       "[96 rows x 3 columns]"
      ]
     },
     "execution_count": 11,
     "metadata": {},
     "output_type": "execute_result"
    }
   ],
   "source": [
    "# TODO: Add nice explanation of the roughness calculation\n",
    "df['Roughness'] = np.nan\n",
    "\n",
    "# Calculate the roughness, one direction at a time\n",
    "for direction, group in df.groupby(level='Direction'):\n",
    "    distA = group.index.get_level_values('Distance').to_numpy()\n",
    "    loss = group['Loss'].to_numpy()\n",
    "\n",
    "    # Named slices, so that\n",
    "    # distA[x] really corresponds to the distance between A and X ∈ {A, B, C},\n",
    "    # loss[x] really corresponds to the loss at X ∈ {A, B, C}\n",
    "    a = 0\n",
    "    b = slice(1, -1)\n",
    "    c = slice(2, None)\n",
    "\n",
    "    # Ensure distances and slices are correct\n",
    "    assert np.all(distA[c] == 2 * distA[b]), \"Distance check failed\"\n",
    "\n",
    "    # Calculate paths between A, B, and C\n",
    "    AB = np.sqrt((loss[b] - loss[a]) ** 2 + distA[b] ** 2)\n",
    "    BC = np.sqrt((loss[c] - loss[b]) ** 2 + distA[b] ** 2)\n",
    "    AC = np.sqrt((loss[c] - loss[a]) ** 2 + distA[c] ** 2)\n",
    "\n",
    "    # Roghness is how much the path via B (A->B->C) is longer than the direct path A->C\n",
    "    # subtracting 1, then we can use log scale better!\n",
    "    roughness = (AB + BC) / AC - 1\n",
    "\n",
    "    # Update DataFrame with roughness values\n",
    "    df.loc[(direction,), 'Roughness'] = np.concatenate([[np.nan], roughness, [np.nan]])\n",
    "\n",
    "df"
   ]
  },
  {
   "cell_type": "code",
   "execution_count": 12,
   "metadata": {
    "colab": {
     "base_uri": "https://localhost:8080/",
     "height": 617
    },
    "execution": {
     "iopub.execute_input": "2024-06-04T15:04:04.669076Z",
     "iopub.status.busy": "2024-06-04T15:04:04.668772Z",
     "iopub.status.idle": "2024-06-04T15:04:04.715867Z",
     "shell.execute_reply": "2024-06-04T15:04:04.715135Z"
    },
    "id": "hWRTXRv7KgAl",
    "outputId": "3a83597a-e4d7-42be-e3f0-e1ac06d39b97"
   },
   "outputs": [
    {
     "data": {
      "application/vnd.plotly.v1+json": {
       "config": {
        "plotlyServerURL": "https://plot.ly"
       },
       "data": [
        {
         "mode": "markers",
         "name": "Ascent",
         "type": "scatter",
         "x": [
          0,
          0.0625,
          0.125,
          0.25,
          0.5,
          1
         ],
         "y": [
          null,
          0.000012693951626285838,
          0.000007937201133900729,
          0.000011097131408233096,
          0.0011356392780137448,
          null
         ]
        },
        {
         "mode": "markers",
         "name": "Ascent ⋅ P(bias)",
         "type": "scatter",
         "x": [
          0,
          0.0810524721656881,
          0.1621049443313762,
          0.3242098886627524,
          0.6484197773255048,
          1.2968395546510096
         ],
         "y": [
          null,
          0.000006175128166363564,
          0.000024917039873173508,
          0.00010161944059339234,
          0.0004123848081005743,
          null
         ]
        },
        {
         "mode": "markers",
         "name": "Ascent ⋅ P(fc1)",
         "type": "scatter",
         "x": [
          0,
          0.07432544468767006,
          0.14865088937534013,
          0.29730177875068026,
          0.5946035575013605,
          1.189207115002721
         ],
         "y": [
          null,
          0.000002839935383081027,
          0.00010996284324416017,
          0.0005489189844687381,
          0.0004371965997422844,
          null
         ]
        },
        {
         "mode": "markers",
         "name": "Ascent ⋅ P(weight)",
         "type": "scatter",
         "x": [
          0,
          0.07761611325459275,
          0.1552322265091855,
          0.310464453018371,
          0.620928906036742,
          1.241857812073484
         ],
         "y": [
          null,
          0.000011251912100496142,
          0.0000026475852874519035,
          0.00004231703050638913,
          0.002781834967863883,
          null
         ]
        },
        {
         "mode": "markers",
         "name": "Descent",
         "type": "scatter",
         "x": [
          0,
          0.06526711140171336,
          0.13053422280342672,
          0.26106844560685344,
          0.5221368912137069,
          1.0442737824274138
         ],
         "y": [
          null,
          0.0000999856719789971,
          0.0005603940704608235,
          0.0018525468515879773,
          0.002522567583645108,
          null
         ]
        },
        {
         "mode": "markers",
         "name": "Descent ⋅ P(bias)",
         "type": "scatter",
         "x": [
          0,
          0.09230163412121871,
          0.18460326824243742,
          0.36920653648487484,
          0.7384130729697497,
          1.4768261459394993
         ],
         "y": [
          null,
          0.00000772893907563521,
          0.000030290491875417658,
          0.00011559460135734945,
          0.0004114524216098925,
          null
         ]
        },
        {
         "mode": "markers",
         "name": "Descent ⋅ P(fc1)",
         "type": "scatter",
         "x": [
          0,
          0.08464097168355579,
          0.16928194336711158,
          0.33856388673422316,
          0.6771277734684463,
          1.3542555469368927
         ],
         "y": [
          null,
          0.0001411527068007068,
          0.0008648936281405728,
          0.0020026323388238065,
          0.0018081000847036677,
          null
         ]
        },
        {
         "mode": "markers",
         "name": "Descent ⋅ P(weight)",
         "type": "scatter",
         "x": [
          0,
          0.08838834764831845,
          0.1767766952966369,
          0.3535533905932738,
          0.7071067811865476,
          1.4142135623730951
         ],
         "y": [
          null,
          0.00020940291630000551,
          0.0010297549528188732,
          0.0022034296910660167,
          0.0026592888828889105,
          null
         ]
        },
        {
         "mode": "markers",
         "name": "Radially In",
         "type": "scatter",
         "x": [
          0,
          0.07117428967229322,
          0.14234857934458645,
          0.2846971586891729,
          0.5693943173783458,
          1.1387886347566916
         ],
         "y": [
          null,
          1.8201509188742193e-9,
          6.9169996397278055e-9,
          2.4899433404002025e-8,
          7.989213957060315e-8,
          null
         ]
        },
        {
         "mode": "markers",
         "name": "Radially In ⋅ P(bias)",
         "type": "scatter",
         "x": [
          0,
          0.11970041008732171,
          0.23940082017464343,
          0.47880164034928685,
          0.9576032806985737,
          1.9152065613971474
         ],
         "y": [
          null,
          1.4602611608793836e-7,
          5.759652048631381e-7,
          0.000002020895233600939,
          0.000005556027708353284,
          null
         ]
        },
        {
         "mode": "markers",
         "name": "Radially In ⋅ P(fc1)",
         "type": "scatter",
         "x": [
          0,
          0.10976576002333122,
          0.21953152004666243,
          0.43906304009332486,
          0.8781260801866497,
          1.7562521603732995
         ],
         "y": [
          null,
          7.183675876376583e-11,
          2.912108332253638e-10,
          1.1087768481132798e-9,
          4.542989096023575e-9,
          null
         ]
        },
        {
         "mode": "markers",
         "name": "Radially In ⋅ P(weight)",
         "type": "scatter",
         "x": [
          0,
          0.1146255054005839,
          0.2292510108011678,
          0.4585020216023356,
          0.9170040432046712,
          1.8340080864093424
         ],
         "y": [
          null,
          3.8494873955130515e-9,
          1.386523407198581e-8,
          4.58176818707301e-8,
          1.2643833091630086e-7,
          null
         ]
        },
        {
         "mode": "markers",
         "name": "Radially Out",
         "type": "scatter",
         "x": [
          0,
          0.0681567332915786,
          0.1363134665831572,
          0.2726269331663144,
          0.5452538663326288,
          1.0905077326652577
         ],
         "y": [
          null,
          1.879220112854796e-9,
          7.861375772577617e-9,
          3.4684255245664986e-8,
          1.6928888557643518e-7,
          null
         ]
        },
        {
         "mode": "markers",
         "name": "Radially Out ⋅ P(bias)",
         "type": "scatter",
         "x": [
          0,
          0.10511205190671431,
          0.21022410381342863,
          0.42044820762685725,
          0.8408964152537145,
          1.681792830507429
         ],
         "y": [
          null,
          1.0577643094755729e-7,
          3.952775464721725e-7,
          0.000001549266113398673,
          0.000006165418000581013,
          null
         ]
        },
        {
         "mode": "markers",
         "name": "Radially Out ⋅ P(fc1)",
         "type": "scatter",
         "x": [
          0,
          0.0963881765879963,
          0.1927763531759926,
          0.3855527063519852,
          0.7711054127039704,
          1.5422108254079407
         ],
         "y": [
          null,
          5.842459849247916e-11,
          2.2066526383923701e-10,
          8.501053194720498e-10,
          3.2598370669489896e-9,
          null
         ]
        },
        {
         "mode": "markers",
         "name": "Radially Out ⋅ P(weight)",
         "type": "scatter",
         "x": [
          0,
          0.10065564574682839,
          0.20131129149365679,
          0.40262258298731357,
          0.8052451659746271,
          1.6104903319492543
         ],
         "y": [
          null,
          3.5266620734830667e-9,
          1.5022311616874617e-8,
          6.985093303768508e-8,
          3.773381058724823e-7,
          null
         ]
        }
       ],
       "layout": {
        "height": 600,
        "legend": {
         "title": {
          "text": "Direction"
         }
        },
        "template": {
         "data": {
          "bar": [
           {
            "error_x": {
             "color": "rgb(36,36,36)"
            },
            "error_y": {
             "color": "rgb(36,36,36)"
            },
            "marker": {
             "line": {
              "color": "rgb(234,234,242)",
              "width": 0.5
             },
             "pattern": {
              "fillmode": "overlay",
              "size": 10,
              "solidity": 0.2
             }
            },
            "type": "bar"
           }
          ],
          "barpolar": [
           {
            "marker": {
             "line": {
              "color": "rgb(234,234,242)",
              "width": 0.5
             },
             "pattern": {
              "fillmode": "overlay",
              "size": 10,
              "solidity": 0.2
             }
            },
            "type": "barpolar"
           }
          ],
          "carpet": [
           {
            "aaxis": {
             "endlinecolor": "rgb(36,36,36)",
             "gridcolor": "white",
             "linecolor": "white",
             "minorgridcolor": "white",
             "startlinecolor": "rgb(36,36,36)"
            },
            "baxis": {
             "endlinecolor": "rgb(36,36,36)",
             "gridcolor": "white",
             "linecolor": "white",
             "minorgridcolor": "white",
             "startlinecolor": "rgb(36,36,36)"
            },
            "type": "carpet"
           }
          ],
          "choropleth": [
           {
            "colorbar": {
             "outlinewidth": 0,
             "tickcolor": "rgb(36,36,36)",
             "ticklen": 8,
             "ticks": "outside",
             "tickwidth": 2
            },
            "type": "choropleth"
           }
          ],
          "contour": [
           {
            "colorbar": {
             "outlinewidth": 0,
             "tickcolor": "rgb(36,36,36)",
             "ticklen": 8,
             "ticks": "outside",
             "tickwidth": 2
            },
            "colorscale": [
             [
              0,
              "rgb(2,4,25)"
             ],
             [
              0.06274509803921569,
              "rgb(24,15,41)"
             ],
             [
              0.12549019607843137,
              "rgb(47,23,57)"
             ],
             [
              0.18823529411764706,
              "rgb(71,28,72)"
             ],
             [
              0.25098039215686274,
              "rgb(97,30,82)"
             ],
             [
              0.3137254901960784,
              "rgb(123,30,89)"
             ],
             [
              0.3764705882352941,
              "rgb(150,27,91)"
             ],
             [
              0.4392156862745098,
              "rgb(177,22,88)"
             ],
             [
              0.5019607843137255,
              "rgb(203,26,79)"
             ],
             [
              0.5647058823529412,
              "rgb(223,47,67)"
             ],
             [
              0.6274509803921569,
              "rgb(236,76,61)"
             ],
             [
              0.6901960784313725,
              "rgb(242,107,73)"
             ],
             [
              0.7529411764705882,
              "rgb(244,135,95)"
             ],
             [
              0.8156862745098039,
              "rgb(245,162,122)"
             ],
             [
              0.8784313725490196,
              "rgb(246,188,153)"
             ],
             [
              0.9411764705882353,
              "rgb(247,212,187)"
             ],
             [
              1,
              "rgb(250,234,220)"
             ]
            ],
            "type": "contour"
           }
          ],
          "contourcarpet": [
           {
            "colorbar": {
             "outlinewidth": 0,
             "tickcolor": "rgb(36,36,36)",
             "ticklen": 8,
             "ticks": "outside",
             "tickwidth": 2
            },
            "type": "contourcarpet"
           }
          ],
          "heatmap": [
           {
            "colorbar": {
             "outlinewidth": 0,
             "tickcolor": "rgb(36,36,36)",
             "ticklen": 8,
             "ticks": "outside",
             "tickwidth": 2
            },
            "colorscale": [
             [
              0,
              "rgb(2,4,25)"
             ],
             [
              0.06274509803921569,
              "rgb(24,15,41)"
             ],
             [
              0.12549019607843137,
              "rgb(47,23,57)"
             ],
             [
              0.18823529411764706,
              "rgb(71,28,72)"
             ],
             [
              0.25098039215686274,
              "rgb(97,30,82)"
             ],
             [
              0.3137254901960784,
              "rgb(123,30,89)"
             ],
             [
              0.3764705882352941,
              "rgb(150,27,91)"
             ],
             [
              0.4392156862745098,
              "rgb(177,22,88)"
             ],
             [
              0.5019607843137255,
              "rgb(203,26,79)"
             ],
             [
              0.5647058823529412,
              "rgb(223,47,67)"
             ],
             [
              0.6274509803921569,
              "rgb(236,76,61)"
             ],
             [
              0.6901960784313725,
              "rgb(242,107,73)"
             ],
             [
              0.7529411764705882,
              "rgb(244,135,95)"
             ],
             [
              0.8156862745098039,
              "rgb(245,162,122)"
             ],
             [
              0.8784313725490196,
              "rgb(246,188,153)"
             ],
             [
              0.9411764705882353,
              "rgb(247,212,187)"
             ],
             [
              1,
              "rgb(250,234,220)"
             ]
            ],
            "type": "heatmap"
           }
          ],
          "heatmapgl": [
           {
            "colorbar": {
             "outlinewidth": 0,
             "tickcolor": "rgb(36,36,36)",
             "ticklen": 8,
             "ticks": "outside",
             "tickwidth": 2
            },
            "colorscale": [
             [
              0,
              "rgb(2,4,25)"
             ],
             [
              0.06274509803921569,
              "rgb(24,15,41)"
             ],
             [
              0.12549019607843137,
              "rgb(47,23,57)"
             ],
             [
              0.18823529411764706,
              "rgb(71,28,72)"
             ],
             [
              0.25098039215686274,
              "rgb(97,30,82)"
             ],
             [
              0.3137254901960784,
              "rgb(123,30,89)"
             ],
             [
              0.3764705882352941,
              "rgb(150,27,91)"
             ],
             [
              0.4392156862745098,
              "rgb(177,22,88)"
             ],
             [
              0.5019607843137255,
              "rgb(203,26,79)"
             ],
             [
              0.5647058823529412,
              "rgb(223,47,67)"
             ],
             [
              0.6274509803921569,
              "rgb(236,76,61)"
             ],
             [
              0.6901960784313725,
              "rgb(242,107,73)"
             ],
             [
              0.7529411764705882,
              "rgb(244,135,95)"
             ],
             [
              0.8156862745098039,
              "rgb(245,162,122)"
             ],
             [
              0.8784313725490196,
              "rgb(246,188,153)"
             ],
             [
              0.9411764705882353,
              "rgb(247,212,187)"
             ],
             [
              1,
              "rgb(250,234,220)"
             ]
            ],
            "type": "heatmapgl"
           }
          ],
          "histogram": [
           {
            "marker": {
             "pattern": {
              "fillmode": "overlay",
              "size": 10,
              "solidity": 0.2
             }
            },
            "type": "histogram"
           }
          ],
          "histogram2d": [
           {
            "colorbar": {
             "outlinewidth": 0,
             "tickcolor": "rgb(36,36,36)",
             "ticklen": 8,
             "ticks": "outside",
             "tickwidth": 2
            },
            "colorscale": [
             [
              0,
              "rgb(2,4,25)"
             ],
             [
              0.06274509803921569,
              "rgb(24,15,41)"
             ],
             [
              0.12549019607843137,
              "rgb(47,23,57)"
             ],
             [
              0.18823529411764706,
              "rgb(71,28,72)"
             ],
             [
              0.25098039215686274,
              "rgb(97,30,82)"
             ],
             [
              0.3137254901960784,
              "rgb(123,30,89)"
             ],
             [
              0.3764705882352941,
              "rgb(150,27,91)"
             ],
             [
              0.4392156862745098,
              "rgb(177,22,88)"
             ],
             [
              0.5019607843137255,
              "rgb(203,26,79)"
             ],
             [
              0.5647058823529412,
              "rgb(223,47,67)"
             ],
             [
              0.6274509803921569,
              "rgb(236,76,61)"
             ],
             [
              0.6901960784313725,
              "rgb(242,107,73)"
             ],
             [
              0.7529411764705882,
              "rgb(244,135,95)"
             ],
             [
              0.8156862745098039,
              "rgb(245,162,122)"
             ],
             [
              0.8784313725490196,
              "rgb(246,188,153)"
             ],
             [
              0.9411764705882353,
              "rgb(247,212,187)"
             ],
             [
              1,
              "rgb(250,234,220)"
             ]
            ],
            "type": "histogram2d"
           }
          ],
          "histogram2dcontour": [
           {
            "colorbar": {
             "outlinewidth": 0,
             "tickcolor": "rgb(36,36,36)",
             "ticklen": 8,
             "ticks": "outside",
             "tickwidth": 2
            },
            "colorscale": [
             [
              0,
              "rgb(2,4,25)"
             ],
             [
              0.06274509803921569,
              "rgb(24,15,41)"
             ],
             [
              0.12549019607843137,
              "rgb(47,23,57)"
             ],
             [
              0.18823529411764706,
              "rgb(71,28,72)"
             ],
             [
              0.25098039215686274,
              "rgb(97,30,82)"
             ],
             [
              0.3137254901960784,
              "rgb(123,30,89)"
             ],
             [
              0.3764705882352941,
              "rgb(150,27,91)"
             ],
             [
              0.4392156862745098,
              "rgb(177,22,88)"
             ],
             [
              0.5019607843137255,
              "rgb(203,26,79)"
             ],
             [
              0.5647058823529412,
              "rgb(223,47,67)"
             ],
             [
              0.6274509803921569,
              "rgb(236,76,61)"
             ],
             [
              0.6901960784313725,
              "rgb(242,107,73)"
             ],
             [
              0.7529411764705882,
              "rgb(244,135,95)"
             ],
             [
              0.8156862745098039,
              "rgb(245,162,122)"
             ],
             [
              0.8784313725490196,
              "rgb(246,188,153)"
             ],
             [
              0.9411764705882353,
              "rgb(247,212,187)"
             ],
             [
              1,
              "rgb(250,234,220)"
             ]
            ],
            "type": "histogram2dcontour"
           }
          ],
          "mesh3d": [
           {
            "colorbar": {
             "outlinewidth": 0,
             "tickcolor": "rgb(36,36,36)",
             "ticklen": 8,
             "ticks": "outside",
             "tickwidth": 2
            },
            "type": "mesh3d"
           }
          ],
          "parcoords": [
           {
            "line": {
             "colorbar": {
              "outlinewidth": 0,
              "tickcolor": "rgb(36,36,36)",
              "ticklen": 8,
              "ticks": "outside",
              "tickwidth": 2
             }
            },
            "type": "parcoords"
           }
          ],
          "pie": [
           {
            "automargin": true,
            "type": "pie"
           }
          ],
          "scatter": [
           {
            "fillpattern": {
             "fillmode": "overlay",
             "size": 10,
             "solidity": 0.2
            },
            "type": "scatter"
           }
          ],
          "scatter3d": [
           {
            "line": {
             "colorbar": {
              "outlinewidth": 0,
              "tickcolor": "rgb(36,36,36)",
              "ticklen": 8,
              "ticks": "outside",
              "tickwidth": 2
             }
            },
            "marker": {
             "colorbar": {
              "outlinewidth": 0,
              "tickcolor": "rgb(36,36,36)",
              "ticklen": 8,
              "ticks": "outside",
              "tickwidth": 2
             }
            },
            "type": "scatter3d"
           }
          ],
          "scattercarpet": [
           {
            "marker": {
             "colorbar": {
              "outlinewidth": 0,
              "tickcolor": "rgb(36,36,36)",
              "ticklen": 8,
              "ticks": "outside",
              "tickwidth": 2
             }
            },
            "type": "scattercarpet"
           }
          ],
          "scattergeo": [
           {
            "marker": {
             "colorbar": {
              "outlinewidth": 0,
              "tickcolor": "rgb(36,36,36)",
              "ticklen": 8,
              "ticks": "outside",
              "tickwidth": 2
             }
            },
            "type": "scattergeo"
           }
          ],
          "scattergl": [
           {
            "marker": {
             "colorbar": {
              "outlinewidth": 0,
              "tickcolor": "rgb(36,36,36)",
              "ticklen": 8,
              "ticks": "outside",
              "tickwidth": 2
             }
            },
            "type": "scattergl"
           }
          ],
          "scattermapbox": [
           {
            "marker": {
             "colorbar": {
              "outlinewidth": 0,
              "tickcolor": "rgb(36,36,36)",
              "ticklen": 8,
              "ticks": "outside",
              "tickwidth": 2
             }
            },
            "type": "scattermapbox"
           }
          ],
          "scatterpolar": [
           {
            "marker": {
             "colorbar": {
              "outlinewidth": 0,
              "tickcolor": "rgb(36,36,36)",
              "ticklen": 8,
              "ticks": "outside",
              "tickwidth": 2
             }
            },
            "type": "scatterpolar"
           }
          ],
          "scatterpolargl": [
           {
            "marker": {
             "colorbar": {
              "outlinewidth": 0,
              "tickcolor": "rgb(36,36,36)",
              "ticklen": 8,
              "ticks": "outside",
              "tickwidth": 2
             }
            },
            "type": "scatterpolargl"
           }
          ],
          "scatterternary": [
           {
            "marker": {
             "colorbar": {
              "outlinewidth": 0,
              "tickcolor": "rgb(36,36,36)",
              "ticklen": 8,
              "ticks": "outside",
              "tickwidth": 2
             }
            },
            "type": "scatterternary"
           }
          ],
          "surface": [
           {
            "colorbar": {
             "outlinewidth": 0,
             "tickcolor": "rgb(36,36,36)",
             "ticklen": 8,
             "ticks": "outside",
             "tickwidth": 2
            },
            "colorscale": [
             [
              0,
              "rgb(2,4,25)"
             ],
             [
              0.06274509803921569,
              "rgb(24,15,41)"
             ],
             [
              0.12549019607843137,
              "rgb(47,23,57)"
             ],
             [
              0.18823529411764706,
              "rgb(71,28,72)"
             ],
             [
              0.25098039215686274,
              "rgb(97,30,82)"
             ],
             [
              0.3137254901960784,
              "rgb(123,30,89)"
             ],
             [
              0.3764705882352941,
              "rgb(150,27,91)"
             ],
             [
              0.4392156862745098,
              "rgb(177,22,88)"
             ],
             [
              0.5019607843137255,
              "rgb(203,26,79)"
             ],
             [
              0.5647058823529412,
              "rgb(223,47,67)"
             ],
             [
              0.6274509803921569,
              "rgb(236,76,61)"
             ],
             [
              0.6901960784313725,
              "rgb(242,107,73)"
             ],
             [
              0.7529411764705882,
              "rgb(244,135,95)"
             ],
             [
              0.8156862745098039,
              "rgb(245,162,122)"
             ],
             [
              0.8784313725490196,
              "rgb(246,188,153)"
             ],
             [
              0.9411764705882353,
              "rgb(247,212,187)"
             ],
             [
              1,
              "rgb(250,234,220)"
             ]
            ],
            "type": "surface"
           }
          ],
          "table": [
           {
            "cells": {
             "fill": {
              "color": "rgb(231,231,240)"
             },
             "line": {
              "color": "white"
             }
            },
            "header": {
             "fill": {
              "color": "rgb(183,183,191)"
             },
             "line": {
              "color": "white"
             }
            },
            "type": "table"
           }
          ]
         },
         "layout": {
          "annotationdefaults": {
           "arrowcolor": "rgb(67,103,167)"
          },
          "autotypenumbers": "strict",
          "coloraxis": {
           "colorbar": {
            "outlinewidth": 0,
            "tickcolor": "rgb(36,36,36)",
            "ticklen": 8,
            "ticks": "outside",
            "tickwidth": 2
           }
          },
          "colorscale": {
           "sequential": [
            [
             0,
             "rgb(2,4,25)"
            ],
            [
             0.06274509803921569,
             "rgb(24,15,41)"
            ],
            [
             0.12549019607843137,
             "rgb(47,23,57)"
            ],
            [
             0.18823529411764706,
             "rgb(71,28,72)"
            ],
            [
             0.25098039215686274,
             "rgb(97,30,82)"
            ],
            [
             0.3137254901960784,
             "rgb(123,30,89)"
            ],
            [
             0.3764705882352941,
             "rgb(150,27,91)"
            ],
            [
             0.4392156862745098,
             "rgb(177,22,88)"
            ],
            [
             0.5019607843137255,
             "rgb(203,26,79)"
            ],
            [
             0.5647058823529412,
             "rgb(223,47,67)"
            ],
            [
             0.6274509803921569,
             "rgb(236,76,61)"
            ],
            [
             0.6901960784313725,
             "rgb(242,107,73)"
            ],
            [
             0.7529411764705882,
             "rgb(244,135,95)"
            ],
            [
             0.8156862745098039,
             "rgb(245,162,122)"
            ],
            [
             0.8784313725490196,
             "rgb(246,188,153)"
            ],
            [
             0.9411764705882353,
             "rgb(247,212,187)"
            ],
            [
             1,
             "rgb(250,234,220)"
            ]
           ],
           "sequentialminus": [
            [
             0,
             "rgb(2,4,25)"
            ],
            [
             0.06274509803921569,
             "rgb(24,15,41)"
            ],
            [
             0.12549019607843137,
             "rgb(47,23,57)"
            ],
            [
             0.18823529411764706,
             "rgb(71,28,72)"
            ],
            [
             0.25098039215686274,
             "rgb(97,30,82)"
            ],
            [
             0.3137254901960784,
             "rgb(123,30,89)"
            ],
            [
             0.3764705882352941,
             "rgb(150,27,91)"
            ],
            [
             0.4392156862745098,
             "rgb(177,22,88)"
            ],
            [
             0.5019607843137255,
             "rgb(203,26,79)"
            ],
            [
             0.5647058823529412,
             "rgb(223,47,67)"
            ],
            [
             0.6274509803921569,
             "rgb(236,76,61)"
            ],
            [
             0.6901960784313725,
             "rgb(242,107,73)"
            ],
            [
             0.7529411764705882,
             "rgb(244,135,95)"
            ],
            [
             0.8156862745098039,
             "rgb(245,162,122)"
            ],
            [
             0.8784313725490196,
             "rgb(246,188,153)"
            ],
            [
             0.9411764705882353,
             "rgb(247,212,187)"
            ],
            [
             1,
             "rgb(250,234,220)"
            ]
           ]
          },
          "colorway": [
           "rgb(76,114,176)",
           "rgb(221,132,82)",
           "rgb(85,168,104)",
           "rgb(196,78,82)",
           "rgb(129,114,179)",
           "rgb(147,120,96)",
           "rgb(218,139,195)",
           "rgb(140,140,140)",
           "rgb(204,185,116)",
           "rgb(100,181,205)"
          ],
          "font": {
           "color": "rgb(36,36,36)"
          },
          "geo": {
           "bgcolor": "white",
           "lakecolor": "white",
           "landcolor": "rgb(234,234,242)",
           "showlakes": true,
           "showland": true,
           "subunitcolor": "white"
          },
          "hoverlabel": {
           "align": "left"
          },
          "hovermode": "closest",
          "paper_bgcolor": "white",
          "plot_bgcolor": "rgb(234,234,242)",
          "polar": {
           "angularaxis": {
            "gridcolor": "white",
            "linecolor": "white",
            "showgrid": true,
            "ticks": ""
           },
           "bgcolor": "rgb(234,234,242)",
           "radialaxis": {
            "gridcolor": "white",
            "linecolor": "white",
            "showgrid": true,
            "ticks": ""
           }
          },
          "scene": {
           "xaxis": {
            "backgroundcolor": "rgb(234,234,242)",
            "gridcolor": "white",
            "gridwidth": 2,
            "linecolor": "white",
            "showbackground": true,
            "showgrid": true,
            "ticks": "",
            "zerolinecolor": "white"
           },
           "yaxis": {
            "backgroundcolor": "rgb(234,234,242)",
            "gridcolor": "white",
            "gridwidth": 2,
            "linecolor": "white",
            "showbackground": true,
            "showgrid": true,
            "ticks": "",
            "zerolinecolor": "white"
           },
           "zaxis": {
            "backgroundcolor": "rgb(234,234,242)",
            "gridcolor": "white",
            "gridwidth": 2,
            "linecolor": "white",
            "showbackground": true,
            "showgrid": true,
            "ticks": "",
            "zerolinecolor": "white"
           }
          },
          "shapedefaults": {
           "fillcolor": "rgb(67,103,167)",
           "line": {
            "width": 0
           },
           "opacity": 0.5
          },
          "ternary": {
           "aaxis": {
            "gridcolor": "white",
            "linecolor": "white",
            "showgrid": true,
            "ticks": ""
           },
           "baxis": {
            "gridcolor": "white",
            "linecolor": "white",
            "showgrid": true,
            "ticks": ""
           },
           "bgcolor": "rgb(234,234,242)",
           "caxis": {
            "gridcolor": "white",
            "linecolor": "white",
            "showgrid": true,
            "ticks": ""
           }
          },
          "xaxis": {
           "automargin": true,
           "gridcolor": "white",
           "linecolor": "white",
           "showgrid": true,
           "ticks": "",
           "title": {
            "standoff": 15
           },
           "zerolinecolor": "white"
          },
          "yaxis": {
           "automargin": true,
           "gridcolor": "white",
           "linecolor": "white",
           "showgrid": true,
           "ticks": "",
           "title": {
            "standoff": 15
           },
           "zerolinecolor": "white"
          }
         }
        },
        "title": {
         "text": "Scale Dependent Roughness of SimpleMLP on MNIST"
        },
        "xaxis": {
         "dtick": 1,
         "title": {
          "text": "Coarse Graining Scale"
         },
         "type": "log"
        },
        "yaxis": {
         "title": {
          "text": "Roughness"
         },
         "type": "log"
        }
       }
      }
     },
     "metadata": {},
     "output_type": "display_data"
    }
   ],
   "source": [
    "# new nomenclature: grit := scale dependent roughness\n",
    "\n",
    "# Create a Plotly figure\n",
    "fig = go.Figure()\n",
    "\n",
    "# Plotting roughness for each direction using grouped data\n",
    "for direction, data in df.groupby(level='Direction'):\n",
    "    fig.add_trace(go.Scatter(\n",
    "        x=data.index.get_level_values('Distance'),\n",
    "        y=data['Roughness'],\n",
    "        mode='markers',\n",
    "        name=direction\n",
    "    ))\n",
    "\n",
    "# Set axis labels, title, and configure log scale on x-axis\n",
    "fig.update_layout(\n",
    "    title=f'Scale Dependent Roughness of {center_model.__class__.__name__} on {dataset.__class__.__name__}',\n",
    "    xaxis={\n",
    "        'title': 'Coarse Graining Scale',\n",
    "        'type': 'log',\n",
    "        'dtick': 1,  # Tick every power of ten\n",
    "    },\n",
    "    yaxis ={\n",
    "        'title': 'Roughness',\n",
    "        'type': 'log',\n",
    "    },\n",
    "    legend_title='Direction',\n",
    "    template='seaborn',\n",
    "    height=600\n",
    ")\n",
    "\n",
    "# Display the figure\n",
    "fig.show()\n"
   ]
  },
  {
   "cell_type": "markdown",
   "metadata": {
    "id": "6XetMPT3KgAl"
   },
   "source": [
    "Consider the formula for the second derivative of the loss function around point x:\n",
    "$$\n",
    "l''(x) = \\lim_{{h \\to 0}} \\frac{l(x) - 2l(x+h) + l(x+2h)}{h^2}\n",
    "$$\n",
    "\n",
    "Now let's consider this not as a limit but at a finite h.\n",
    "$$\n",
    "curvature(x,h) = \\frac{l(x) - 2l(x+h) + l(x+2h)}{h^2}\n",
    "$$\n",
    "\n",
    "But this is not what we want: It has dimensions of $loss/distance^2$, and is obviously scale dependet - a curved scaled up by a factor $2$ has a curvature half as big.\n",
    "To fix this we will multiply by $h$.\n",
    "\n",
    "$$\n",
    "h \\cdot curvature(x,h) = \\frac{l(x) - 2l(x+h) + l(x+2h)}{h}\n",
    "$$\n",
    "\n",
    "Now let's set x to x to our central model and calculate the curvature for different h's.\n",
    "Each h is a different scale, and so we get scale dependent curvature. Let's call it \"grit\".\n",
    "\n",
    "$$\n",
    "Grit_{x}(h) = \\frac{l(x) - 2l(x+h) + l(x+2h)}{h}\n",
    "$$"
   ]
  },
  {
   "cell_type": "code",
   "execution_count": 17,
   "metadata": {
    "colab": {
     "base_uri": "https://localhost:8080/",
     "height": 611
    },
    "execution": {
     "iopub.execute_input": "2024-06-04T15:04:04.719908Z",
     "iopub.status.busy": "2024-06-04T15:04:04.719338Z",
     "iopub.status.idle": "2024-06-04T15:04:04.750893Z",
     "shell.execute_reply": "2024-06-04T15:04:04.749969Z"
    },
    "id": "HeBknXW1KgAl",
    "outputId": "0dba9a33-e31b-48ce-8549-03ead9c12d9f"
   },
   "outputs": [
    {
     "data": {
      "text/html": [
       "<div>\n",
       "<style scoped>\n",
       "    .dataframe tbody tr th:only-of-type {\n",
       "        vertical-align: middle;\n",
       "    }\n",
       "\n",
       "    .dataframe tbody tr th {\n",
       "        vertical-align: top;\n",
       "    }\n",
       "\n",
       "    .dataframe thead th {\n",
       "        text-align: right;\n",
       "    }\n",
       "</style>\n",
       "<table border=\"1\" class=\"dataframe\">\n",
       "  <thead>\n",
       "    <tr style=\"text-align: right;\">\n",
       "      <th></th>\n",
       "      <th></th>\n",
       "      <th>Model</th>\n",
       "      <th>Loss</th>\n",
       "      <th>Roughness</th>\n",
       "      <th>Grit</th>\n",
       "    </tr>\n",
       "    <tr>\n",
       "      <th>Direction</th>\n",
       "      <th>Distance</th>\n",
       "      <th></th>\n",
       "      <th></th>\n",
       "      <th></th>\n",
       "      <th></th>\n",
       "    </tr>\n",
       "  </thead>\n",
       "  <tbody>\n",
       "    <tr>\n",
       "      <th rowspan=\"5\" valign=\"top\">Ascent</th>\n",
       "      <th>0.000000</th>\n",
       "      <td>NaN</td>\n",
       "      <td>2.310385</td>\n",
       "      <td>NaN</td>\n",
       "      <td>NaN</td>\n",
       "    </tr>\n",
       "    <tr>\n",
       "      <th>0.062500</th>\n",
       "      <td>SimpleMLP(\\n  (fc1): Linear(in_features=784, o...</td>\n",
       "      <td>2.345272</td>\n",
       "      <td>1.269395e-05</td>\n",
       "      <td>0.013292</td>\n",
       "    </tr>\n",
       "    <tr>\n",
       "      <th>0.125000</th>\n",
       "      <td>SimpleMLP(\\n  (fc1): Linear(in_features=784, o...</td>\n",
       "      <td>2.380990</td>\n",
       "      <td>7.937201e-06</td>\n",
       "      <td>0.010559</td>\n",
       "    </tr>\n",
       "    <tr>\n",
       "      <th>0.250000</th>\n",
       "      <td>SimpleMLP(\\n  (fc1): Linear(in_features=784, o...</td>\n",
       "      <td>2.452914</td>\n",
       "      <td>1.109713e-05</td>\n",
       "      <td>0.012552</td>\n",
       "    </tr>\n",
       "    <tr>\n",
       "      <th>0.500000</th>\n",
       "      <td>SimpleMLP(\\n  (fc1): Linear(in_features=784, o...</td>\n",
       "      <td>2.598581</td>\n",
       "      <td>1.135639e-03</td>\n",
       "      <td>0.134796</td>\n",
       "    </tr>\n",
       "    <tr>\n",
       "      <th>...</th>\n",
       "      <th>...</th>\n",
       "      <td>...</td>\n",
       "      <td>...</td>\n",
       "      <td>...</td>\n",
       "      <td>...</td>\n",
       "    </tr>\n",
       "    <tr>\n",
       "      <th rowspan=\"5\" valign=\"top\">Radially Out ⋅ P(weight)</th>\n",
       "      <th>0.100656</th>\n",
       "      <td>SimpleMLP(\\n  (fc1): Linear(in_features=784, o...</td>\n",
       "      <td>2.310738</td>\n",
       "      <td>3.526662e-09</td>\n",
       "      <td>0.000168</td>\n",
       "    </tr>\n",
       "    <tr>\n",
       "      <th>0.201311</th>\n",
       "      <td>SimpleMLP(\\n  (fc1): Linear(in_features=784, o...</td>\n",
       "      <td>2.311108</td>\n",
       "      <td>1.502231e-08</td>\n",
       "      <td>0.000347</td>\n",
       "    </tr>\n",
       "    <tr>\n",
       "      <th>0.402623</th>\n",
       "      <td>SimpleMLP(\\n  (fc1): Linear(in_features=784, o...</td>\n",
       "      <td>2.311901</td>\n",
       "      <td>6.985093e-08</td>\n",
       "      <td>0.000748</td>\n",
       "    </tr>\n",
       "    <tr>\n",
       "      <th>0.805245</th>\n",
       "      <td>SimpleMLP(\\n  (fc1): Linear(in_features=784, o...</td>\n",
       "      <td>2.313717</td>\n",
       "      <td>3.773381e-07</td>\n",
       "      <td>0.001737</td>\n",
       "    </tr>\n",
       "    <tr>\n",
       "      <th>1.610490</th>\n",
       "      <td>SimpleMLP(\\n  (fc1): Linear(in_features=784, o...</td>\n",
       "      <td>2.318447</td>\n",
       "      <td>NaN</td>\n",
       "      <td>NaN</td>\n",
       "    </tr>\n",
       "  </tbody>\n",
       "</table>\n",
       "<p>96 rows × 4 columns</p>\n",
       "</div>"
      ],
      "text/plain": [
       "                                                                               Model  \\\n",
       "Direction                Distance                                                      \n",
       "Ascent                   0.000000                                                NaN   \n",
       "                         0.062500  SimpleMLP(\\n  (fc1): Linear(in_features=784, o...   \n",
       "                         0.125000  SimpleMLP(\\n  (fc1): Linear(in_features=784, o...   \n",
       "                         0.250000  SimpleMLP(\\n  (fc1): Linear(in_features=784, o...   \n",
       "                         0.500000  SimpleMLP(\\n  (fc1): Linear(in_features=784, o...   \n",
       "...                                                                              ...   \n",
       "Radially Out ⋅ P(weight) 0.100656  SimpleMLP(\\n  (fc1): Linear(in_features=784, o...   \n",
       "                         0.201311  SimpleMLP(\\n  (fc1): Linear(in_features=784, o...   \n",
       "                         0.402623  SimpleMLP(\\n  (fc1): Linear(in_features=784, o...   \n",
       "                         0.805245  SimpleMLP(\\n  (fc1): Linear(in_features=784, o...   \n",
       "                         1.610490  SimpleMLP(\\n  (fc1): Linear(in_features=784, o...   \n",
       "\n",
       "                                       Loss     Roughness      Grit  \n",
       "Direction                Distance                                    \n",
       "Ascent                   0.000000  2.310385           NaN       NaN  \n",
       "                         0.062500  2.345272  1.269395e-05  0.013292  \n",
       "                         0.125000  2.380990  7.937201e-06  0.010559  \n",
       "                         0.250000  2.452914  1.109713e-05  0.012552  \n",
       "                         0.500000  2.598581  1.135639e-03  0.134796  \n",
       "...                                     ...           ...       ...  \n",
       "Radially Out ⋅ P(weight) 0.100656  2.310738  3.526662e-09  0.000168  \n",
       "                         0.201311  2.311108  1.502231e-08  0.000347  \n",
       "                         0.402623  2.311901  6.985093e-08  0.000748  \n",
       "                         0.805245  2.313717  3.773381e-07  0.001737  \n",
       "                         1.610490  2.318447           NaN       NaN  \n",
       "\n",
       "[96 rows x 4 columns]"
      ]
     },
     "execution_count": 17,
     "metadata": {},
     "output_type": "execute_result"
    }
   ],
   "source": [
    "df['Grit'] = np.nan\n",
    "\n",
    "# Calculate the grit, one direction at a time\n",
    "for direction, group in df.groupby(level='Direction'):\n",
    "    dist_h = group.index.get_level_values('Distance').to_numpy()\n",
    "    l = group['Loss'].to_numpy()\n",
    "\n",
    "    # Named slices, so that x\n",
    "    x = 0\n",
    "    x_plus_h = slice(1, -1)\n",
    "    x_plus_2h = slice(2, None)\n",
    "\n",
    "    # check that the distances are correct\n",
    "    assert np.all(dist_h[x_plus_2h] == 2 * dist_h[x_plus_h]), \"Distances are not geometrically spaced\"\n",
    "\n",
    "    # calculate the grit\n",
    "\n",
    "    grit = (l[x] - 2*l[x_plus_h] + l[x_plus_2h]) / dist_h[x_plus_h]\n",
    "\n",
    "    # Update DataFrame with roughness values\n",
    "    df.loc[(direction,), 'Grit'] = np.concatenate([[np.nan], grit, [np.nan]])\n",
    "\n",
    "df"
   ]
  },
  {
   "cell_type": "code",
   "execution_count": 19,
   "metadata": {
    "colab": {
     "base_uri": "https://localhost:8080/",
     "height": 617
    },
    "execution": {
     "iopub.execute_input": "2024-06-04T15:04:04.754435Z",
     "iopub.status.busy": "2024-06-04T15:04:04.753883Z",
     "iopub.status.idle": "2024-06-04T15:04:04.798961Z",
     "shell.execute_reply": "2024-06-04T15:04:04.798229Z"
    },
    "id": "rd_eF1S1KgAl",
    "outputId": "75d8e91d-516b-4d28-d0a3-e349456858a1"
   },
   "outputs": [
    {
     "data": {
      "application/vnd.plotly.v1+json": {
       "config": {
        "plotlyServerURL": "https://plot.ly"
       },
       "data": [
        {
         "mode": "markers",
         "name": "Ascent",
         "type": "scatter",
         "x": [
          0,
          0.0625,
          0.125,
          0.25,
          0.5,
          1
         ],
         "y": [
          null,
          0.013292321956321018,
          0.010558556734245883,
          0.012552441171873596,
          0.13479587204918175,
          null
         ]
        },
        {
         "mode": "markers",
         "name": "Ascent ⋅ P(bias)",
         "type": "scatter",
         "x": [
          0,
          0.0810524721656881,
          0.1621049443313762,
          0.3242098886627524,
          0.6484197773255048,
          1.2968395546510096
         ],
         "y": [
          null,
          0.0070527714407194395,
          0.01417974923294967,
          0.028695950555016878,
          0.05812758689082848,
          null
         ]
        },
        {
         "mode": "markers",
         "name": "Ascent ⋅ P(fc1)",
         "type": "scatter",
         "x": [
          0,
          0.07432544468767006,
          0.14865088937534013,
          0.29730177875068026,
          0.5946035575013605,
          1.189207115002721
         ],
         "y": [
          null,
          -0.00587149074175649,
          -0.03603089351968579,
          -0.07820406658498945,
          -0.06815177003234343,
          null
         ]
        },
        {
         "mode": "markers",
         "name": "Ascent ⋅ P(weight)",
         "type": "scatter",
         "x": [
          0,
          0.07761611325459275,
          0.1552322265091855,
          0.310464453018371,
          0.620928906036742,
          1.241857812073484
         ],
         "y": [
          null,
          0.012500054933068432,
          0.00607931628138381,
          0.02456326639274504,
          0.21980217448704154,
          null
         ]
        },
        {
         "mode": "markers",
         "name": "Descent",
         "type": "scatter",
         "x": [
          0,
          0.06526711140171336,
          0.13053422280342672,
          0.26106844560685344,
          0.5221368912137069,
          1.0442737824274138
         ],
         "y": [
          null,
          0.035788752325470914,
          0.08201237946377367,
          0.14157205885333798,
          0.15710574953607748,
          null
         ]
        },
        {
         "mode": "markers",
         "name": "Descent ⋅ P(bias)",
         "type": "scatter",
         "x": [
          0,
          0.09230163412121871,
          0.18460326824243742,
          0.36920653648487484,
          0.7384130729697497,
          1.4768261459394993
         ],
         "y": [
          null,
          0.007878357328083943,
          0.015586983894324015,
          0.03042375976951441,
          0.05738217268227641,
          null
         ]
        },
        {
         "mode": "markers",
         "name": "Descent ⋅ P(fc1)",
         "type": "scatter",
         "x": [
          0,
          0.08464097168355579,
          0.16928194336711158,
          0.33856388673422316,
          0.6771277734684463,
          1.3542555469368927
         ],
         "y": [
          null,
          0.04032941962513686,
          0.09644096662392533,
          0.14031348340447886,
          0.12873322704178794,
          null
         ]
        },
        {
         "mode": "markers",
         "name": "Descent ⋅ P(weight)",
         "type": "scatter",
         "x": [
          0,
          0.08838834764831845,
          0.1767766952966369,
          0.3535533905932738,
          0.7071067811865476,
          1.4142135623730951
         ],
         "y": [
          null,
          0.05114343647719462,
          0.10875677076208633,
          0.15095219408862875,
          0.15824207989411435,
          null
         ]
        },
        {
         "mode": "markers",
         "name": "Radially In",
         "type": "scatter",
         "x": [
          0,
          0.07117428967229322,
          0.14234857934458645,
          0.2846971586891729,
          0.5693943173783458,
          1.1387886347566916
         ],
         "y": [
          null,
          0.00012067157040509365,
          0.00023523924503770604,
          0.0004463185499053779,
          0.0007994680355131903,
          null
         ]
        },
        {
         "mode": "markers",
         "name": "Radially In ⋅ P(bias)",
         "type": "scatter",
         "x": [
          0,
          0.11970041008732171,
          0.23940082017464343,
          0.47880164034928685,
          0.9576032806985737,
          1.9152065613971474
         ],
         "y": [
          null,
          0.001080879271996368,
          0.0021466180384230133,
          0.004020883035539076,
          0.0066669594213749845,
          null
         ]
        },
        {
         "mode": "markers",
         "name": "Radially In ⋅ P(fc1)",
         "type": "scatter",
         "x": [
          0,
          0.10976576002333122,
          0.21953152004666243,
          0.43906304009332486,
          0.8781260801866497,
          1.7562521603732995
         ],
         "y": [
          null,
          0.000023972825309731347,
          0.00004826693791396835,
          0.00009418201295599985,
          0.00019064114652896715,
          null
         ]
        },
        {
         "mode": "markers",
         "name": "Radially In ⋅ P(weight)",
         "type": "scatter",
         "x": [
          0,
          0.1146255054005839,
          0.2292510108011678,
          0.4585020216023356,
          0.9170040432046712,
          1.8340080864093424
         ],
         "y": [
          null,
          0.00017548945153144933,
          0.0003330525145267367,
          0.0006054313471545206,
          0.0010057421017293764,
          null
         ]
        },
        {
         "mode": "markers",
         "name": "Radially Out",
         "type": "scatter",
         "x": [
          0,
          0.0681567332915786,
          0.1363134665831572,
          0.2726269331663144,
          0.5452538663326288,
          1.0905077326652577
         ],
         "y": [
          null,
          0.00012261425401474191,
          0.000250785160390512,
          0.0005267684193886631,
          0.0011637780723443996,
          null
         ]
        },
        {
         "mode": "markers",
         "name": "Radially Out ⋅ P(bias)",
         "type": "scatter",
         "x": [
          0,
          0.10511205190671431,
          0.21022410381342863,
          0.42044820762685725,
          0.8408964152537145,
          1.681792830507429
         ],
         "y": [
          null,
          0.0009199604379388348,
          0.0017784126134988544,
          0.003520950677823422,
          0.007024531333282846,
          null
         ]
        },
        {
         "mode": "markers",
         "name": "Radially Out ⋅ P(fc1)",
         "type": "scatter",
         "x": [
          0,
          0.0963881765879963,
          0.1927763531759926,
          0.3855527063519852,
          0.7711054127039704,
          1.5422108254079407
         ],
         "y": [
          null,
          0.000021619380898077193,
          0.00004201584218844023,
          0.00008246743960174371,
          0.00016148946796107642,
          null
         ]
        },
        {
         "mode": "markers",
         "name": "Radially Out ⋅ P(weight)",
         "type": "scatter",
         "x": [
          0,
          0.10065564574682839,
          0.20131129149365679,
          0.40262258298731357,
          0.8052451659746271,
          1.6104903319492543
         ],
         "y": [
          null,
          0.00016797030243565197,
          0.00034667260949024784,
          0.0007475470619965666,
          0.0017374857396723457,
          null
         ]
        }
       ],
       "layout": {
        "height": 600,
        "legend": {
         "title": {
          "text": "Direction"
         }
        },
        "template": {
         "data": {
          "bar": [
           {
            "error_x": {
             "color": "rgb(36,36,36)"
            },
            "error_y": {
             "color": "rgb(36,36,36)"
            },
            "marker": {
             "line": {
              "color": "rgb(234,234,242)",
              "width": 0.5
             },
             "pattern": {
              "fillmode": "overlay",
              "size": 10,
              "solidity": 0.2
             }
            },
            "type": "bar"
           }
          ],
          "barpolar": [
           {
            "marker": {
             "line": {
              "color": "rgb(234,234,242)",
              "width": 0.5
             },
             "pattern": {
              "fillmode": "overlay",
              "size": 10,
              "solidity": 0.2
             }
            },
            "type": "barpolar"
           }
          ],
          "carpet": [
           {
            "aaxis": {
             "endlinecolor": "rgb(36,36,36)",
             "gridcolor": "white",
             "linecolor": "white",
             "minorgridcolor": "white",
             "startlinecolor": "rgb(36,36,36)"
            },
            "baxis": {
             "endlinecolor": "rgb(36,36,36)",
             "gridcolor": "white",
             "linecolor": "white",
             "minorgridcolor": "white",
             "startlinecolor": "rgb(36,36,36)"
            },
            "type": "carpet"
           }
          ],
          "choropleth": [
           {
            "colorbar": {
             "outlinewidth": 0,
             "tickcolor": "rgb(36,36,36)",
             "ticklen": 8,
             "ticks": "outside",
             "tickwidth": 2
            },
            "type": "choropleth"
           }
          ],
          "contour": [
           {
            "colorbar": {
             "outlinewidth": 0,
             "tickcolor": "rgb(36,36,36)",
             "ticklen": 8,
             "ticks": "outside",
             "tickwidth": 2
            },
            "colorscale": [
             [
              0,
              "rgb(2,4,25)"
             ],
             [
              0.06274509803921569,
              "rgb(24,15,41)"
             ],
             [
              0.12549019607843137,
              "rgb(47,23,57)"
             ],
             [
              0.18823529411764706,
              "rgb(71,28,72)"
             ],
             [
              0.25098039215686274,
              "rgb(97,30,82)"
             ],
             [
              0.3137254901960784,
              "rgb(123,30,89)"
             ],
             [
              0.3764705882352941,
              "rgb(150,27,91)"
             ],
             [
              0.4392156862745098,
              "rgb(177,22,88)"
             ],
             [
              0.5019607843137255,
              "rgb(203,26,79)"
             ],
             [
              0.5647058823529412,
              "rgb(223,47,67)"
             ],
             [
              0.6274509803921569,
              "rgb(236,76,61)"
             ],
             [
              0.6901960784313725,
              "rgb(242,107,73)"
             ],
             [
              0.7529411764705882,
              "rgb(244,135,95)"
             ],
             [
              0.8156862745098039,
              "rgb(245,162,122)"
             ],
             [
              0.8784313725490196,
              "rgb(246,188,153)"
             ],
             [
              0.9411764705882353,
              "rgb(247,212,187)"
             ],
             [
              1,
              "rgb(250,234,220)"
             ]
            ],
            "type": "contour"
           }
          ],
          "contourcarpet": [
           {
            "colorbar": {
             "outlinewidth": 0,
             "tickcolor": "rgb(36,36,36)",
             "ticklen": 8,
             "ticks": "outside",
             "tickwidth": 2
            },
            "type": "contourcarpet"
           }
          ],
          "heatmap": [
           {
            "colorbar": {
             "outlinewidth": 0,
             "tickcolor": "rgb(36,36,36)",
             "ticklen": 8,
             "ticks": "outside",
             "tickwidth": 2
            },
            "colorscale": [
             [
              0,
              "rgb(2,4,25)"
             ],
             [
              0.06274509803921569,
              "rgb(24,15,41)"
             ],
             [
              0.12549019607843137,
              "rgb(47,23,57)"
             ],
             [
              0.18823529411764706,
              "rgb(71,28,72)"
             ],
             [
              0.25098039215686274,
              "rgb(97,30,82)"
             ],
             [
              0.3137254901960784,
              "rgb(123,30,89)"
             ],
             [
              0.3764705882352941,
              "rgb(150,27,91)"
             ],
             [
              0.4392156862745098,
              "rgb(177,22,88)"
             ],
             [
              0.5019607843137255,
              "rgb(203,26,79)"
             ],
             [
              0.5647058823529412,
              "rgb(223,47,67)"
             ],
             [
              0.6274509803921569,
              "rgb(236,76,61)"
             ],
             [
              0.6901960784313725,
              "rgb(242,107,73)"
             ],
             [
              0.7529411764705882,
              "rgb(244,135,95)"
             ],
             [
              0.8156862745098039,
              "rgb(245,162,122)"
             ],
             [
              0.8784313725490196,
              "rgb(246,188,153)"
             ],
             [
              0.9411764705882353,
              "rgb(247,212,187)"
             ],
             [
              1,
              "rgb(250,234,220)"
             ]
            ],
            "type": "heatmap"
           }
          ],
          "heatmapgl": [
           {
            "colorbar": {
             "outlinewidth": 0,
             "tickcolor": "rgb(36,36,36)",
             "ticklen": 8,
             "ticks": "outside",
             "tickwidth": 2
            },
            "colorscale": [
             [
              0,
              "rgb(2,4,25)"
             ],
             [
              0.06274509803921569,
              "rgb(24,15,41)"
             ],
             [
              0.12549019607843137,
              "rgb(47,23,57)"
             ],
             [
              0.18823529411764706,
              "rgb(71,28,72)"
             ],
             [
              0.25098039215686274,
              "rgb(97,30,82)"
             ],
             [
              0.3137254901960784,
              "rgb(123,30,89)"
             ],
             [
              0.3764705882352941,
              "rgb(150,27,91)"
             ],
             [
              0.4392156862745098,
              "rgb(177,22,88)"
             ],
             [
              0.5019607843137255,
              "rgb(203,26,79)"
             ],
             [
              0.5647058823529412,
              "rgb(223,47,67)"
             ],
             [
              0.6274509803921569,
              "rgb(236,76,61)"
             ],
             [
              0.6901960784313725,
              "rgb(242,107,73)"
             ],
             [
              0.7529411764705882,
              "rgb(244,135,95)"
             ],
             [
              0.8156862745098039,
              "rgb(245,162,122)"
             ],
             [
              0.8784313725490196,
              "rgb(246,188,153)"
             ],
             [
              0.9411764705882353,
              "rgb(247,212,187)"
             ],
             [
              1,
              "rgb(250,234,220)"
             ]
            ],
            "type": "heatmapgl"
           }
          ],
          "histogram": [
           {
            "marker": {
             "pattern": {
              "fillmode": "overlay",
              "size": 10,
              "solidity": 0.2
             }
            },
            "type": "histogram"
           }
          ],
          "histogram2d": [
           {
            "colorbar": {
             "outlinewidth": 0,
             "tickcolor": "rgb(36,36,36)",
             "ticklen": 8,
             "ticks": "outside",
             "tickwidth": 2
            },
            "colorscale": [
             [
              0,
              "rgb(2,4,25)"
             ],
             [
              0.06274509803921569,
              "rgb(24,15,41)"
             ],
             [
              0.12549019607843137,
              "rgb(47,23,57)"
             ],
             [
              0.18823529411764706,
              "rgb(71,28,72)"
             ],
             [
              0.25098039215686274,
              "rgb(97,30,82)"
             ],
             [
              0.3137254901960784,
              "rgb(123,30,89)"
             ],
             [
              0.3764705882352941,
              "rgb(150,27,91)"
             ],
             [
              0.4392156862745098,
              "rgb(177,22,88)"
             ],
             [
              0.5019607843137255,
              "rgb(203,26,79)"
             ],
             [
              0.5647058823529412,
              "rgb(223,47,67)"
             ],
             [
              0.6274509803921569,
              "rgb(236,76,61)"
             ],
             [
              0.6901960784313725,
              "rgb(242,107,73)"
             ],
             [
              0.7529411764705882,
              "rgb(244,135,95)"
             ],
             [
              0.8156862745098039,
              "rgb(245,162,122)"
             ],
             [
              0.8784313725490196,
              "rgb(246,188,153)"
             ],
             [
              0.9411764705882353,
              "rgb(247,212,187)"
             ],
             [
              1,
              "rgb(250,234,220)"
             ]
            ],
            "type": "histogram2d"
           }
          ],
          "histogram2dcontour": [
           {
            "colorbar": {
             "outlinewidth": 0,
             "tickcolor": "rgb(36,36,36)",
             "ticklen": 8,
             "ticks": "outside",
             "tickwidth": 2
            },
            "colorscale": [
             [
              0,
              "rgb(2,4,25)"
             ],
             [
              0.06274509803921569,
              "rgb(24,15,41)"
             ],
             [
              0.12549019607843137,
              "rgb(47,23,57)"
             ],
             [
              0.18823529411764706,
              "rgb(71,28,72)"
             ],
             [
              0.25098039215686274,
              "rgb(97,30,82)"
             ],
             [
              0.3137254901960784,
              "rgb(123,30,89)"
             ],
             [
              0.3764705882352941,
              "rgb(150,27,91)"
             ],
             [
              0.4392156862745098,
              "rgb(177,22,88)"
             ],
             [
              0.5019607843137255,
              "rgb(203,26,79)"
             ],
             [
              0.5647058823529412,
              "rgb(223,47,67)"
             ],
             [
              0.6274509803921569,
              "rgb(236,76,61)"
             ],
             [
              0.6901960784313725,
              "rgb(242,107,73)"
             ],
             [
              0.7529411764705882,
              "rgb(244,135,95)"
             ],
             [
              0.8156862745098039,
              "rgb(245,162,122)"
             ],
             [
              0.8784313725490196,
              "rgb(246,188,153)"
             ],
             [
              0.9411764705882353,
              "rgb(247,212,187)"
             ],
             [
              1,
              "rgb(250,234,220)"
             ]
            ],
            "type": "histogram2dcontour"
           }
          ],
          "mesh3d": [
           {
            "colorbar": {
             "outlinewidth": 0,
             "tickcolor": "rgb(36,36,36)",
             "ticklen": 8,
             "ticks": "outside",
             "tickwidth": 2
            },
            "type": "mesh3d"
           }
          ],
          "parcoords": [
           {
            "line": {
             "colorbar": {
              "outlinewidth": 0,
              "tickcolor": "rgb(36,36,36)",
              "ticklen": 8,
              "ticks": "outside",
              "tickwidth": 2
             }
            },
            "type": "parcoords"
           }
          ],
          "pie": [
           {
            "automargin": true,
            "type": "pie"
           }
          ],
          "scatter": [
           {
            "fillpattern": {
             "fillmode": "overlay",
             "size": 10,
             "solidity": 0.2
            },
            "type": "scatter"
           }
          ],
          "scatter3d": [
           {
            "line": {
             "colorbar": {
              "outlinewidth": 0,
              "tickcolor": "rgb(36,36,36)",
              "ticklen": 8,
              "ticks": "outside",
              "tickwidth": 2
             }
            },
            "marker": {
             "colorbar": {
              "outlinewidth": 0,
              "tickcolor": "rgb(36,36,36)",
              "ticklen": 8,
              "ticks": "outside",
              "tickwidth": 2
             }
            },
            "type": "scatter3d"
           }
          ],
          "scattercarpet": [
           {
            "marker": {
             "colorbar": {
              "outlinewidth": 0,
              "tickcolor": "rgb(36,36,36)",
              "ticklen": 8,
              "ticks": "outside",
              "tickwidth": 2
             }
            },
            "type": "scattercarpet"
           }
          ],
          "scattergeo": [
           {
            "marker": {
             "colorbar": {
              "outlinewidth": 0,
              "tickcolor": "rgb(36,36,36)",
              "ticklen": 8,
              "ticks": "outside",
              "tickwidth": 2
             }
            },
            "type": "scattergeo"
           }
          ],
          "scattergl": [
           {
            "marker": {
             "colorbar": {
              "outlinewidth": 0,
              "tickcolor": "rgb(36,36,36)",
              "ticklen": 8,
              "ticks": "outside",
              "tickwidth": 2
             }
            },
            "type": "scattergl"
           }
          ],
          "scattermapbox": [
           {
            "marker": {
             "colorbar": {
              "outlinewidth": 0,
              "tickcolor": "rgb(36,36,36)",
              "ticklen": 8,
              "ticks": "outside",
              "tickwidth": 2
             }
            },
            "type": "scattermapbox"
           }
          ],
          "scatterpolar": [
           {
            "marker": {
             "colorbar": {
              "outlinewidth": 0,
              "tickcolor": "rgb(36,36,36)",
              "ticklen": 8,
              "ticks": "outside",
              "tickwidth": 2
             }
            },
            "type": "scatterpolar"
           }
          ],
          "scatterpolargl": [
           {
            "marker": {
             "colorbar": {
              "outlinewidth": 0,
              "tickcolor": "rgb(36,36,36)",
              "ticklen": 8,
              "ticks": "outside",
              "tickwidth": 2
             }
            },
            "type": "scatterpolargl"
           }
          ],
          "scatterternary": [
           {
            "marker": {
             "colorbar": {
              "outlinewidth": 0,
              "tickcolor": "rgb(36,36,36)",
              "ticklen": 8,
              "ticks": "outside",
              "tickwidth": 2
             }
            },
            "type": "scatterternary"
           }
          ],
          "surface": [
           {
            "colorbar": {
             "outlinewidth": 0,
             "tickcolor": "rgb(36,36,36)",
             "ticklen": 8,
             "ticks": "outside",
             "tickwidth": 2
            },
            "colorscale": [
             [
              0,
              "rgb(2,4,25)"
             ],
             [
              0.06274509803921569,
              "rgb(24,15,41)"
             ],
             [
              0.12549019607843137,
              "rgb(47,23,57)"
             ],
             [
              0.18823529411764706,
              "rgb(71,28,72)"
             ],
             [
              0.25098039215686274,
              "rgb(97,30,82)"
             ],
             [
              0.3137254901960784,
              "rgb(123,30,89)"
             ],
             [
              0.3764705882352941,
              "rgb(150,27,91)"
             ],
             [
              0.4392156862745098,
              "rgb(177,22,88)"
             ],
             [
              0.5019607843137255,
              "rgb(203,26,79)"
             ],
             [
              0.5647058823529412,
              "rgb(223,47,67)"
             ],
             [
              0.6274509803921569,
              "rgb(236,76,61)"
             ],
             [
              0.6901960784313725,
              "rgb(242,107,73)"
             ],
             [
              0.7529411764705882,
              "rgb(244,135,95)"
             ],
             [
              0.8156862745098039,
              "rgb(245,162,122)"
             ],
             [
              0.8784313725490196,
              "rgb(246,188,153)"
             ],
             [
              0.9411764705882353,
              "rgb(247,212,187)"
             ],
             [
              1,
              "rgb(250,234,220)"
             ]
            ],
            "type": "surface"
           }
          ],
          "table": [
           {
            "cells": {
             "fill": {
              "color": "rgb(231,231,240)"
             },
             "line": {
              "color": "white"
             }
            },
            "header": {
             "fill": {
              "color": "rgb(183,183,191)"
             },
             "line": {
              "color": "white"
             }
            },
            "type": "table"
           }
          ]
         },
         "layout": {
          "annotationdefaults": {
           "arrowcolor": "rgb(67,103,167)"
          },
          "autotypenumbers": "strict",
          "coloraxis": {
           "colorbar": {
            "outlinewidth": 0,
            "tickcolor": "rgb(36,36,36)",
            "ticklen": 8,
            "ticks": "outside",
            "tickwidth": 2
           }
          },
          "colorscale": {
           "sequential": [
            [
             0,
             "rgb(2,4,25)"
            ],
            [
             0.06274509803921569,
             "rgb(24,15,41)"
            ],
            [
             0.12549019607843137,
             "rgb(47,23,57)"
            ],
            [
             0.18823529411764706,
             "rgb(71,28,72)"
            ],
            [
             0.25098039215686274,
             "rgb(97,30,82)"
            ],
            [
             0.3137254901960784,
             "rgb(123,30,89)"
            ],
            [
             0.3764705882352941,
             "rgb(150,27,91)"
            ],
            [
             0.4392156862745098,
             "rgb(177,22,88)"
            ],
            [
             0.5019607843137255,
             "rgb(203,26,79)"
            ],
            [
             0.5647058823529412,
             "rgb(223,47,67)"
            ],
            [
             0.6274509803921569,
             "rgb(236,76,61)"
            ],
            [
             0.6901960784313725,
             "rgb(242,107,73)"
            ],
            [
             0.7529411764705882,
             "rgb(244,135,95)"
            ],
            [
             0.8156862745098039,
             "rgb(245,162,122)"
            ],
            [
             0.8784313725490196,
             "rgb(246,188,153)"
            ],
            [
             0.9411764705882353,
             "rgb(247,212,187)"
            ],
            [
             1,
             "rgb(250,234,220)"
            ]
           ],
           "sequentialminus": [
            [
             0,
             "rgb(2,4,25)"
            ],
            [
             0.06274509803921569,
             "rgb(24,15,41)"
            ],
            [
             0.12549019607843137,
             "rgb(47,23,57)"
            ],
            [
             0.18823529411764706,
             "rgb(71,28,72)"
            ],
            [
             0.25098039215686274,
             "rgb(97,30,82)"
            ],
            [
             0.3137254901960784,
             "rgb(123,30,89)"
            ],
            [
             0.3764705882352941,
             "rgb(150,27,91)"
            ],
            [
             0.4392156862745098,
             "rgb(177,22,88)"
            ],
            [
             0.5019607843137255,
             "rgb(203,26,79)"
            ],
            [
             0.5647058823529412,
             "rgb(223,47,67)"
            ],
            [
             0.6274509803921569,
             "rgb(236,76,61)"
            ],
            [
             0.6901960784313725,
             "rgb(242,107,73)"
            ],
            [
             0.7529411764705882,
             "rgb(244,135,95)"
            ],
            [
             0.8156862745098039,
             "rgb(245,162,122)"
            ],
            [
             0.8784313725490196,
             "rgb(246,188,153)"
            ],
            [
             0.9411764705882353,
             "rgb(247,212,187)"
            ],
            [
             1,
             "rgb(250,234,220)"
            ]
           ]
          },
          "colorway": [
           "rgb(76,114,176)",
           "rgb(221,132,82)",
           "rgb(85,168,104)",
           "rgb(196,78,82)",
           "rgb(129,114,179)",
           "rgb(147,120,96)",
           "rgb(218,139,195)",
           "rgb(140,140,140)",
           "rgb(204,185,116)",
           "rgb(100,181,205)"
          ],
          "font": {
           "color": "rgb(36,36,36)"
          },
          "geo": {
           "bgcolor": "white",
           "lakecolor": "white",
           "landcolor": "rgb(234,234,242)",
           "showlakes": true,
           "showland": true,
           "subunitcolor": "white"
          },
          "hoverlabel": {
           "align": "left"
          },
          "hovermode": "closest",
          "paper_bgcolor": "white",
          "plot_bgcolor": "rgb(234,234,242)",
          "polar": {
           "angularaxis": {
            "gridcolor": "white",
            "linecolor": "white",
            "showgrid": true,
            "ticks": ""
           },
           "bgcolor": "rgb(234,234,242)",
           "radialaxis": {
            "gridcolor": "white",
            "linecolor": "white",
            "showgrid": true,
            "ticks": ""
           }
          },
          "scene": {
           "xaxis": {
            "backgroundcolor": "rgb(234,234,242)",
            "gridcolor": "white",
            "gridwidth": 2,
            "linecolor": "white",
            "showbackground": true,
            "showgrid": true,
            "ticks": "",
            "zerolinecolor": "white"
           },
           "yaxis": {
            "backgroundcolor": "rgb(234,234,242)",
            "gridcolor": "white",
            "gridwidth": 2,
            "linecolor": "white",
            "showbackground": true,
            "showgrid": true,
            "ticks": "",
            "zerolinecolor": "white"
           },
           "zaxis": {
            "backgroundcolor": "rgb(234,234,242)",
            "gridcolor": "white",
            "gridwidth": 2,
            "linecolor": "white",
            "showbackground": true,
            "showgrid": true,
            "ticks": "",
            "zerolinecolor": "white"
           }
          },
          "shapedefaults": {
           "fillcolor": "rgb(67,103,167)",
           "line": {
            "width": 0
           },
           "opacity": 0.5
          },
          "ternary": {
           "aaxis": {
            "gridcolor": "white",
            "linecolor": "white",
            "showgrid": true,
            "ticks": ""
           },
           "baxis": {
            "gridcolor": "white",
            "linecolor": "white",
            "showgrid": true,
            "ticks": ""
           },
           "bgcolor": "rgb(234,234,242)",
           "caxis": {
            "gridcolor": "white",
            "linecolor": "white",
            "showgrid": true,
            "ticks": ""
           }
          },
          "xaxis": {
           "automargin": true,
           "gridcolor": "white",
           "linecolor": "white",
           "showgrid": true,
           "ticks": "",
           "title": {
            "standoff": 15
           },
           "zerolinecolor": "white"
          },
          "yaxis": {
           "automargin": true,
           "gridcolor": "white",
           "linecolor": "white",
           "showgrid": true,
           "ticks": "",
           "title": {
            "standoff": 15
           },
           "zerolinecolor": "white"
          }
         }
        },
        "title": {
         "text": "Grit of SimpleMLP on MNIST"
        },
        "xaxis": {
         "dtick": 1,
         "title": {
          "text": "Coarse Graining Scale"
         },
         "type": "log"
        },
        "yaxis": {
         "title": {
          "text": "Grit"
         }
        }
       }
      }
     },
     "metadata": {},
     "output_type": "display_data"
    }
   ],
   "source": [
    "# Create a Plotly figure\n",
    "fig = go.Figure()\n",
    "\n",
    "# Plotting roughness for each direction using grouped data\n",
    "for direction, data in df.groupby(level='Direction'):\n",
    "    fig.add_trace(go.Scatter(\n",
    "        x=data.index.get_level_values('Distance'),\n",
    "        y=data['Grit'],\n",
    "        mode='markers',\n",
    "        name=direction\n",
    "    ))\n",
    "\n",
    "# Set axis labels, title, and configure log scale on x-axis\n",
    "fig.update_layout(\n",
    "    title=f'Grit of {center_model.__class__.__name__} on {dataset.__class__.__name__}',\n",
    "    xaxis={\n",
    "        'title': 'Coarse Graining Scale',\n",
    "        'type': 'log',\n",
    "        'dtick': 1,  # Tick every power of ten\n",
    "    },\n",
    "    yaxis ={\n",
    "        'title': 'Grit',\n",
    "    },\n",
    "    legend_title='Direction',\n",
    "    template='seaborn',\n",
    "    height=600\n",
    ")\n",
    "\n",
    "# Display the figure\n",
    "fig.show()"
   ]
  },
  {
   "cell_type": "code",
   "execution_count": 20,
   "metadata": {
    "colab": {
     "base_uri": "https://localhost:8080/",
     "height": 617
    },
    "execution": {
     "iopub.execute_input": "2024-06-04T15:04:04.802506Z",
     "iopub.status.busy": "2024-06-04T15:04:04.802223Z",
     "iopub.status.idle": "2024-06-04T15:04:04.849600Z",
     "shell.execute_reply": "2024-06-04T15:04:04.848677Z"
    },
    "id": "zRkHNZiKLYEY",
    "outputId": "b0a1847e-05b6-470a-dcae-ec9635631745"
   },
   "outputs": [
    {
     "data": {
      "application/vnd.plotly.v1+json": {
       "config": {
        "plotlyServerURL": "https://plot.ly"
       },
       "data": [
        {
         "mode": "lines+markers",
         "name": "Ascent",
         "type": "scatter",
         "x": [
          0,
          0.0625,
          0.125,
          0.25,
          0.5,
          1
         ],
         "y": [
          null,
          0.013292321956321018,
          0.010558556734245883,
          0.012552441171873596,
          0.13479587204918175,
          null
         ]
        },
        {
         "mode": "lines+markers",
         "name": "Ascent ⋅ P(bias)",
         "type": "scatter",
         "x": [
          0,
          0.0810524721656881,
          0.1621049443313762,
          0.3242098886627524,
          0.6484197773255048,
          1.2968395546510096
         ],
         "y": [
          null,
          0.0070527714407194395,
          0.01417974923294967,
          0.028695950555016878,
          0.05812758689082848,
          null
         ]
        },
        {
         "mode": "lines+markers",
         "name": "Ascent ⋅ P(fc1)",
         "type": "scatter",
         "x": [
          0,
          0.07432544468767006,
          0.14865088937534013,
          0.29730177875068026,
          0.5946035575013605,
          1.189207115002721
         ],
         "y": [
          null,
          0.00587149074175649,
          0.03603089351968579,
          0.07820406658498945,
          0.06815177003234343,
          null
         ]
        },
        {
         "mode": "lines+markers",
         "name": "Ascent ⋅ P(weight)",
         "type": "scatter",
         "x": [
          0,
          0.07761611325459275,
          0.1552322265091855,
          0.310464453018371,
          0.620928906036742,
          1.241857812073484
         ],
         "y": [
          null,
          0.012500054933068432,
          0.00607931628138381,
          0.02456326639274504,
          0.21980217448704154,
          null
         ]
        },
        {
         "mode": "lines+markers",
         "name": "Descent",
         "type": "scatter",
         "x": [
          0,
          0.06526711140171336,
          0.13053422280342672,
          0.26106844560685344,
          0.5221368912137069,
          1.0442737824274138
         ],
         "y": [
          null,
          0.035788752325470914,
          0.08201237946377367,
          0.14157205885333798,
          0.15710574953607748,
          null
         ]
        },
        {
         "mode": "lines+markers",
         "name": "Descent ⋅ P(bias)",
         "type": "scatter",
         "x": [
          0,
          0.09230163412121871,
          0.18460326824243742,
          0.36920653648487484,
          0.7384130729697497,
          1.4768261459394993
         ],
         "y": [
          null,
          0.007878357328083943,
          0.015586983894324015,
          0.03042375976951441,
          0.05738217268227641,
          null
         ]
        },
        {
         "mode": "lines+markers",
         "name": "Descent ⋅ P(fc1)",
         "type": "scatter",
         "x": [
          0,
          0.08464097168355579,
          0.16928194336711158,
          0.33856388673422316,
          0.6771277734684463,
          1.3542555469368927
         ],
         "y": [
          null,
          0.04032941962513686,
          0.09644096662392533,
          0.14031348340447886,
          0.12873322704178794,
          null
         ]
        },
        {
         "mode": "lines+markers",
         "name": "Descent ⋅ P(weight)",
         "type": "scatter",
         "x": [
          0,
          0.08838834764831845,
          0.1767766952966369,
          0.3535533905932738,
          0.7071067811865476,
          1.4142135623730951
         ],
         "y": [
          null,
          0.05114343647719462,
          0.10875677076208633,
          0.15095219408862875,
          0.15824207989411435,
          null
         ]
        },
        {
         "mode": "lines+markers",
         "name": "Radially In",
         "type": "scatter",
         "x": [
          0,
          0.07117428967229322,
          0.14234857934458645,
          0.2846971586891729,
          0.5693943173783458,
          1.1387886347566916
         ],
         "y": [
          null,
          0.00012067157040509365,
          0.00023523924503770604,
          0.0004463185499053779,
          0.0007994680355131903,
          null
         ]
        },
        {
         "mode": "lines+markers",
         "name": "Radially In ⋅ P(bias)",
         "type": "scatter",
         "x": [
          0,
          0.11970041008732171,
          0.23940082017464343,
          0.47880164034928685,
          0.9576032806985737,
          1.9152065613971474
         ],
         "y": [
          null,
          0.001080879271996368,
          0.0021466180384230133,
          0.004020883035539076,
          0.0066669594213749845,
          null
         ]
        },
        {
         "mode": "lines+markers",
         "name": "Radially In ⋅ P(fc1)",
         "type": "scatter",
         "x": [
          0,
          0.10976576002333122,
          0.21953152004666243,
          0.43906304009332486,
          0.8781260801866497,
          1.7562521603732995
         ],
         "y": [
          null,
          0.000023972825309731347,
          0.00004826693791396835,
          0.00009418201295599985,
          0.00019064114652896715,
          null
         ]
        },
        {
         "mode": "lines+markers",
         "name": "Radially In ⋅ P(weight)",
         "type": "scatter",
         "x": [
          0,
          0.1146255054005839,
          0.2292510108011678,
          0.4585020216023356,
          0.9170040432046712,
          1.8340080864093424
         ],
         "y": [
          null,
          0.00017548945153144933,
          0.0003330525145267367,
          0.0006054313471545206,
          0.0010057421017293764,
          null
         ]
        },
        {
         "mode": "lines+markers",
         "name": "Radially Out",
         "type": "scatter",
         "x": [
          0,
          0.0681567332915786,
          0.1363134665831572,
          0.2726269331663144,
          0.5452538663326288,
          1.0905077326652577
         ],
         "y": [
          null,
          0.00012261425401474191,
          0.000250785160390512,
          0.0005267684193886631,
          0.0011637780723443996,
          null
         ]
        },
        {
         "mode": "lines+markers",
         "name": "Radially Out ⋅ P(bias)",
         "type": "scatter",
         "x": [
          0,
          0.10511205190671431,
          0.21022410381342863,
          0.42044820762685725,
          0.8408964152537145,
          1.681792830507429
         ],
         "y": [
          null,
          0.0009199604379388348,
          0.0017784126134988544,
          0.003520950677823422,
          0.007024531333282846,
          null
         ]
        },
        {
         "mode": "lines+markers",
         "name": "Radially Out ⋅ P(fc1)",
         "type": "scatter",
         "x": [
          0,
          0.0963881765879963,
          0.1927763531759926,
          0.3855527063519852,
          0.7711054127039704,
          1.5422108254079407
         ],
         "y": [
          null,
          0.000021619380898077193,
          0.00004201584218844023,
          0.00008246743960174371,
          0.00016148946796107642,
          null
         ]
        },
        {
         "mode": "lines+markers",
         "name": "Radially Out ⋅ P(weight)",
         "type": "scatter",
         "x": [
          0,
          0.10065564574682839,
          0.20131129149365679,
          0.40262258298731357,
          0.8052451659746271,
          1.6104903319492543
         ],
         "y": [
          null,
          0.00016797030243565197,
          0.00034667260949024784,
          0.0007475470619965666,
          0.0017374857396723457,
          null
         ]
        }
       ],
       "layout": {
        "height": 600,
        "legend": {
         "title": {
          "text": "Direction"
         }
        },
        "template": {
         "data": {
          "bar": [
           {
            "error_x": {
             "color": "rgb(36,36,36)"
            },
            "error_y": {
             "color": "rgb(36,36,36)"
            },
            "marker": {
             "line": {
              "color": "rgb(234,234,242)",
              "width": 0.5
             },
             "pattern": {
              "fillmode": "overlay",
              "size": 10,
              "solidity": 0.2
             }
            },
            "type": "bar"
           }
          ],
          "barpolar": [
           {
            "marker": {
             "line": {
              "color": "rgb(234,234,242)",
              "width": 0.5
             },
             "pattern": {
              "fillmode": "overlay",
              "size": 10,
              "solidity": 0.2
             }
            },
            "type": "barpolar"
           }
          ],
          "carpet": [
           {
            "aaxis": {
             "endlinecolor": "rgb(36,36,36)",
             "gridcolor": "white",
             "linecolor": "white",
             "minorgridcolor": "white",
             "startlinecolor": "rgb(36,36,36)"
            },
            "baxis": {
             "endlinecolor": "rgb(36,36,36)",
             "gridcolor": "white",
             "linecolor": "white",
             "minorgridcolor": "white",
             "startlinecolor": "rgb(36,36,36)"
            },
            "type": "carpet"
           }
          ],
          "choropleth": [
           {
            "colorbar": {
             "outlinewidth": 0,
             "tickcolor": "rgb(36,36,36)",
             "ticklen": 8,
             "ticks": "outside",
             "tickwidth": 2
            },
            "type": "choropleth"
           }
          ],
          "contour": [
           {
            "colorbar": {
             "outlinewidth": 0,
             "tickcolor": "rgb(36,36,36)",
             "ticklen": 8,
             "ticks": "outside",
             "tickwidth": 2
            },
            "colorscale": [
             [
              0,
              "rgb(2,4,25)"
             ],
             [
              0.06274509803921569,
              "rgb(24,15,41)"
             ],
             [
              0.12549019607843137,
              "rgb(47,23,57)"
             ],
             [
              0.18823529411764706,
              "rgb(71,28,72)"
             ],
             [
              0.25098039215686274,
              "rgb(97,30,82)"
             ],
             [
              0.3137254901960784,
              "rgb(123,30,89)"
             ],
             [
              0.3764705882352941,
              "rgb(150,27,91)"
             ],
             [
              0.4392156862745098,
              "rgb(177,22,88)"
             ],
             [
              0.5019607843137255,
              "rgb(203,26,79)"
             ],
             [
              0.5647058823529412,
              "rgb(223,47,67)"
             ],
             [
              0.6274509803921569,
              "rgb(236,76,61)"
             ],
             [
              0.6901960784313725,
              "rgb(242,107,73)"
             ],
             [
              0.7529411764705882,
              "rgb(244,135,95)"
             ],
             [
              0.8156862745098039,
              "rgb(245,162,122)"
             ],
             [
              0.8784313725490196,
              "rgb(246,188,153)"
             ],
             [
              0.9411764705882353,
              "rgb(247,212,187)"
             ],
             [
              1,
              "rgb(250,234,220)"
             ]
            ],
            "type": "contour"
           }
          ],
          "contourcarpet": [
           {
            "colorbar": {
             "outlinewidth": 0,
             "tickcolor": "rgb(36,36,36)",
             "ticklen": 8,
             "ticks": "outside",
             "tickwidth": 2
            },
            "type": "contourcarpet"
           }
          ],
          "heatmap": [
           {
            "colorbar": {
             "outlinewidth": 0,
             "tickcolor": "rgb(36,36,36)",
             "ticklen": 8,
             "ticks": "outside",
             "tickwidth": 2
            },
            "colorscale": [
             [
              0,
              "rgb(2,4,25)"
             ],
             [
              0.06274509803921569,
              "rgb(24,15,41)"
             ],
             [
              0.12549019607843137,
              "rgb(47,23,57)"
             ],
             [
              0.18823529411764706,
              "rgb(71,28,72)"
             ],
             [
              0.25098039215686274,
              "rgb(97,30,82)"
             ],
             [
              0.3137254901960784,
              "rgb(123,30,89)"
             ],
             [
              0.3764705882352941,
              "rgb(150,27,91)"
             ],
             [
              0.4392156862745098,
              "rgb(177,22,88)"
             ],
             [
              0.5019607843137255,
              "rgb(203,26,79)"
             ],
             [
              0.5647058823529412,
              "rgb(223,47,67)"
             ],
             [
              0.6274509803921569,
              "rgb(236,76,61)"
             ],
             [
              0.6901960784313725,
              "rgb(242,107,73)"
             ],
             [
              0.7529411764705882,
              "rgb(244,135,95)"
             ],
             [
              0.8156862745098039,
              "rgb(245,162,122)"
             ],
             [
              0.8784313725490196,
              "rgb(246,188,153)"
             ],
             [
              0.9411764705882353,
              "rgb(247,212,187)"
             ],
             [
              1,
              "rgb(250,234,220)"
             ]
            ],
            "type": "heatmap"
           }
          ],
          "heatmapgl": [
           {
            "colorbar": {
             "outlinewidth": 0,
             "tickcolor": "rgb(36,36,36)",
             "ticklen": 8,
             "ticks": "outside",
             "tickwidth": 2
            },
            "colorscale": [
             [
              0,
              "rgb(2,4,25)"
             ],
             [
              0.06274509803921569,
              "rgb(24,15,41)"
             ],
             [
              0.12549019607843137,
              "rgb(47,23,57)"
             ],
             [
              0.18823529411764706,
              "rgb(71,28,72)"
             ],
             [
              0.25098039215686274,
              "rgb(97,30,82)"
             ],
             [
              0.3137254901960784,
              "rgb(123,30,89)"
             ],
             [
              0.3764705882352941,
              "rgb(150,27,91)"
             ],
             [
              0.4392156862745098,
              "rgb(177,22,88)"
             ],
             [
              0.5019607843137255,
              "rgb(203,26,79)"
             ],
             [
              0.5647058823529412,
              "rgb(223,47,67)"
             ],
             [
              0.6274509803921569,
              "rgb(236,76,61)"
             ],
             [
              0.6901960784313725,
              "rgb(242,107,73)"
             ],
             [
              0.7529411764705882,
              "rgb(244,135,95)"
             ],
             [
              0.8156862745098039,
              "rgb(245,162,122)"
             ],
             [
              0.8784313725490196,
              "rgb(246,188,153)"
             ],
             [
              0.9411764705882353,
              "rgb(247,212,187)"
             ],
             [
              1,
              "rgb(250,234,220)"
             ]
            ],
            "type": "heatmapgl"
           }
          ],
          "histogram": [
           {
            "marker": {
             "pattern": {
              "fillmode": "overlay",
              "size": 10,
              "solidity": 0.2
             }
            },
            "type": "histogram"
           }
          ],
          "histogram2d": [
           {
            "colorbar": {
             "outlinewidth": 0,
             "tickcolor": "rgb(36,36,36)",
             "ticklen": 8,
             "ticks": "outside",
             "tickwidth": 2
            },
            "colorscale": [
             [
              0,
              "rgb(2,4,25)"
             ],
             [
              0.06274509803921569,
              "rgb(24,15,41)"
             ],
             [
              0.12549019607843137,
              "rgb(47,23,57)"
             ],
             [
              0.18823529411764706,
              "rgb(71,28,72)"
             ],
             [
              0.25098039215686274,
              "rgb(97,30,82)"
             ],
             [
              0.3137254901960784,
              "rgb(123,30,89)"
             ],
             [
              0.3764705882352941,
              "rgb(150,27,91)"
             ],
             [
              0.4392156862745098,
              "rgb(177,22,88)"
             ],
             [
              0.5019607843137255,
              "rgb(203,26,79)"
             ],
             [
              0.5647058823529412,
              "rgb(223,47,67)"
             ],
             [
              0.6274509803921569,
              "rgb(236,76,61)"
             ],
             [
              0.6901960784313725,
              "rgb(242,107,73)"
             ],
             [
              0.7529411764705882,
              "rgb(244,135,95)"
             ],
             [
              0.8156862745098039,
              "rgb(245,162,122)"
             ],
             [
              0.8784313725490196,
              "rgb(246,188,153)"
             ],
             [
              0.9411764705882353,
              "rgb(247,212,187)"
             ],
             [
              1,
              "rgb(250,234,220)"
             ]
            ],
            "type": "histogram2d"
           }
          ],
          "histogram2dcontour": [
           {
            "colorbar": {
             "outlinewidth": 0,
             "tickcolor": "rgb(36,36,36)",
             "ticklen": 8,
             "ticks": "outside",
             "tickwidth": 2
            },
            "colorscale": [
             [
              0,
              "rgb(2,4,25)"
             ],
             [
              0.06274509803921569,
              "rgb(24,15,41)"
             ],
             [
              0.12549019607843137,
              "rgb(47,23,57)"
             ],
             [
              0.18823529411764706,
              "rgb(71,28,72)"
             ],
             [
              0.25098039215686274,
              "rgb(97,30,82)"
             ],
             [
              0.3137254901960784,
              "rgb(123,30,89)"
             ],
             [
              0.3764705882352941,
              "rgb(150,27,91)"
             ],
             [
              0.4392156862745098,
              "rgb(177,22,88)"
             ],
             [
              0.5019607843137255,
              "rgb(203,26,79)"
             ],
             [
              0.5647058823529412,
              "rgb(223,47,67)"
             ],
             [
              0.6274509803921569,
              "rgb(236,76,61)"
             ],
             [
              0.6901960784313725,
              "rgb(242,107,73)"
             ],
             [
              0.7529411764705882,
              "rgb(244,135,95)"
             ],
             [
              0.8156862745098039,
              "rgb(245,162,122)"
             ],
             [
              0.8784313725490196,
              "rgb(246,188,153)"
             ],
             [
              0.9411764705882353,
              "rgb(247,212,187)"
             ],
             [
              1,
              "rgb(250,234,220)"
             ]
            ],
            "type": "histogram2dcontour"
           }
          ],
          "mesh3d": [
           {
            "colorbar": {
             "outlinewidth": 0,
             "tickcolor": "rgb(36,36,36)",
             "ticklen": 8,
             "ticks": "outside",
             "tickwidth": 2
            },
            "type": "mesh3d"
           }
          ],
          "parcoords": [
           {
            "line": {
             "colorbar": {
              "outlinewidth": 0,
              "tickcolor": "rgb(36,36,36)",
              "ticklen": 8,
              "ticks": "outside",
              "tickwidth": 2
             }
            },
            "type": "parcoords"
           }
          ],
          "pie": [
           {
            "automargin": true,
            "type": "pie"
           }
          ],
          "scatter": [
           {
            "fillpattern": {
             "fillmode": "overlay",
             "size": 10,
             "solidity": 0.2
            },
            "type": "scatter"
           }
          ],
          "scatter3d": [
           {
            "line": {
             "colorbar": {
              "outlinewidth": 0,
              "tickcolor": "rgb(36,36,36)",
              "ticklen": 8,
              "ticks": "outside",
              "tickwidth": 2
             }
            },
            "marker": {
             "colorbar": {
              "outlinewidth": 0,
              "tickcolor": "rgb(36,36,36)",
              "ticklen": 8,
              "ticks": "outside",
              "tickwidth": 2
             }
            },
            "type": "scatter3d"
           }
          ],
          "scattercarpet": [
           {
            "marker": {
             "colorbar": {
              "outlinewidth": 0,
              "tickcolor": "rgb(36,36,36)",
              "ticklen": 8,
              "ticks": "outside",
              "tickwidth": 2
             }
            },
            "type": "scattercarpet"
           }
          ],
          "scattergeo": [
           {
            "marker": {
             "colorbar": {
              "outlinewidth": 0,
              "tickcolor": "rgb(36,36,36)",
              "ticklen": 8,
              "ticks": "outside",
              "tickwidth": 2
             }
            },
            "type": "scattergeo"
           }
          ],
          "scattergl": [
           {
            "marker": {
             "colorbar": {
              "outlinewidth": 0,
              "tickcolor": "rgb(36,36,36)",
              "ticklen": 8,
              "ticks": "outside",
              "tickwidth": 2
             }
            },
            "type": "scattergl"
           }
          ],
          "scattermapbox": [
           {
            "marker": {
             "colorbar": {
              "outlinewidth": 0,
              "tickcolor": "rgb(36,36,36)",
              "ticklen": 8,
              "ticks": "outside",
              "tickwidth": 2
             }
            },
            "type": "scattermapbox"
           }
          ],
          "scatterpolar": [
           {
            "marker": {
             "colorbar": {
              "outlinewidth": 0,
              "tickcolor": "rgb(36,36,36)",
              "ticklen": 8,
              "ticks": "outside",
              "tickwidth": 2
             }
            },
            "type": "scatterpolar"
           }
          ],
          "scatterpolargl": [
           {
            "marker": {
             "colorbar": {
              "outlinewidth": 0,
              "tickcolor": "rgb(36,36,36)",
              "ticklen": 8,
              "ticks": "outside",
              "tickwidth": 2
             }
            },
            "type": "scatterpolargl"
           }
          ],
          "scatterternary": [
           {
            "marker": {
             "colorbar": {
              "outlinewidth": 0,
              "tickcolor": "rgb(36,36,36)",
              "ticklen": 8,
              "ticks": "outside",
              "tickwidth": 2
             }
            },
            "type": "scatterternary"
           }
          ],
          "surface": [
           {
            "colorbar": {
             "outlinewidth": 0,
             "tickcolor": "rgb(36,36,36)",
             "ticklen": 8,
             "ticks": "outside",
             "tickwidth": 2
            },
            "colorscale": [
             [
              0,
              "rgb(2,4,25)"
             ],
             [
              0.06274509803921569,
              "rgb(24,15,41)"
             ],
             [
              0.12549019607843137,
              "rgb(47,23,57)"
             ],
             [
              0.18823529411764706,
              "rgb(71,28,72)"
             ],
             [
              0.25098039215686274,
              "rgb(97,30,82)"
             ],
             [
              0.3137254901960784,
              "rgb(123,30,89)"
             ],
             [
              0.3764705882352941,
              "rgb(150,27,91)"
             ],
             [
              0.4392156862745098,
              "rgb(177,22,88)"
             ],
             [
              0.5019607843137255,
              "rgb(203,26,79)"
             ],
             [
              0.5647058823529412,
              "rgb(223,47,67)"
             ],
             [
              0.6274509803921569,
              "rgb(236,76,61)"
             ],
             [
              0.6901960784313725,
              "rgb(242,107,73)"
             ],
             [
              0.7529411764705882,
              "rgb(244,135,95)"
             ],
             [
              0.8156862745098039,
              "rgb(245,162,122)"
             ],
             [
              0.8784313725490196,
              "rgb(246,188,153)"
             ],
             [
              0.9411764705882353,
              "rgb(247,212,187)"
             ],
             [
              1,
              "rgb(250,234,220)"
             ]
            ],
            "type": "surface"
           }
          ],
          "table": [
           {
            "cells": {
             "fill": {
              "color": "rgb(231,231,240)"
             },
             "line": {
              "color": "white"
             }
            },
            "header": {
             "fill": {
              "color": "rgb(183,183,191)"
             },
             "line": {
              "color": "white"
             }
            },
            "type": "table"
           }
          ]
         },
         "layout": {
          "annotationdefaults": {
           "arrowcolor": "rgb(67,103,167)"
          },
          "autotypenumbers": "strict",
          "coloraxis": {
           "colorbar": {
            "outlinewidth": 0,
            "tickcolor": "rgb(36,36,36)",
            "ticklen": 8,
            "ticks": "outside",
            "tickwidth": 2
           }
          },
          "colorscale": {
           "sequential": [
            [
             0,
             "rgb(2,4,25)"
            ],
            [
             0.06274509803921569,
             "rgb(24,15,41)"
            ],
            [
             0.12549019607843137,
             "rgb(47,23,57)"
            ],
            [
             0.18823529411764706,
             "rgb(71,28,72)"
            ],
            [
             0.25098039215686274,
             "rgb(97,30,82)"
            ],
            [
             0.3137254901960784,
             "rgb(123,30,89)"
            ],
            [
             0.3764705882352941,
             "rgb(150,27,91)"
            ],
            [
             0.4392156862745098,
             "rgb(177,22,88)"
            ],
            [
             0.5019607843137255,
             "rgb(203,26,79)"
            ],
            [
             0.5647058823529412,
             "rgb(223,47,67)"
            ],
            [
             0.6274509803921569,
             "rgb(236,76,61)"
            ],
            [
             0.6901960784313725,
             "rgb(242,107,73)"
            ],
            [
             0.7529411764705882,
             "rgb(244,135,95)"
            ],
            [
             0.8156862745098039,
             "rgb(245,162,122)"
            ],
            [
             0.8784313725490196,
             "rgb(246,188,153)"
            ],
            [
             0.9411764705882353,
             "rgb(247,212,187)"
            ],
            [
             1,
             "rgb(250,234,220)"
            ]
           ],
           "sequentialminus": [
            [
             0,
             "rgb(2,4,25)"
            ],
            [
             0.06274509803921569,
             "rgb(24,15,41)"
            ],
            [
             0.12549019607843137,
             "rgb(47,23,57)"
            ],
            [
             0.18823529411764706,
             "rgb(71,28,72)"
            ],
            [
             0.25098039215686274,
             "rgb(97,30,82)"
            ],
            [
             0.3137254901960784,
             "rgb(123,30,89)"
            ],
            [
             0.3764705882352941,
             "rgb(150,27,91)"
            ],
            [
             0.4392156862745098,
             "rgb(177,22,88)"
            ],
            [
             0.5019607843137255,
             "rgb(203,26,79)"
            ],
            [
             0.5647058823529412,
             "rgb(223,47,67)"
            ],
            [
             0.6274509803921569,
             "rgb(236,76,61)"
            ],
            [
             0.6901960784313725,
             "rgb(242,107,73)"
            ],
            [
             0.7529411764705882,
             "rgb(244,135,95)"
            ],
            [
             0.8156862745098039,
             "rgb(245,162,122)"
            ],
            [
             0.8784313725490196,
             "rgb(246,188,153)"
            ],
            [
             0.9411764705882353,
             "rgb(247,212,187)"
            ],
            [
             1,
             "rgb(250,234,220)"
            ]
           ]
          },
          "colorway": [
           "rgb(76,114,176)",
           "rgb(221,132,82)",
           "rgb(85,168,104)",
           "rgb(196,78,82)",
           "rgb(129,114,179)",
           "rgb(147,120,96)",
           "rgb(218,139,195)",
           "rgb(140,140,140)",
           "rgb(204,185,116)",
           "rgb(100,181,205)"
          ],
          "font": {
           "color": "rgb(36,36,36)"
          },
          "geo": {
           "bgcolor": "white",
           "lakecolor": "white",
           "landcolor": "rgb(234,234,242)",
           "showlakes": true,
           "showland": true,
           "subunitcolor": "white"
          },
          "hoverlabel": {
           "align": "left"
          },
          "hovermode": "closest",
          "paper_bgcolor": "white",
          "plot_bgcolor": "rgb(234,234,242)",
          "polar": {
           "angularaxis": {
            "gridcolor": "white",
            "linecolor": "white",
            "showgrid": true,
            "ticks": ""
           },
           "bgcolor": "rgb(234,234,242)",
           "radialaxis": {
            "gridcolor": "white",
            "linecolor": "white",
            "showgrid": true,
            "ticks": ""
           }
          },
          "scene": {
           "xaxis": {
            "backgroundcolor": "rgb(234,234,242)",
            "gridcolor": "white",
            "gridwidth": 2,
            "linecolor": "white",
            "showbackground": true,
            "showgrid": true,
            "ticks": "",
            "zerolinecolor": "white"
           },
           "yaxis": {
            "backgroundcolor": "rgb(234,234,242)",
            "gridcolor": "white",
            "gridwidth": 2,
            "linecolor": "white",
            "showbackground": true,
            "showgrid": true,
            "ticks": "",
            "zerolinecolor": "white"
           },
           "zaxis": {
            "backgroundcolor": "rgb(234,234,242)",
            "gridcolor": "white",
            "gridwidth": 2,
            "linecolor": "white",
            "showbackground": true,
            "showgrid": true,
            "ticks": "",
            "zerolinecolor": "white"
           }
          },
          "shapedefaults": {
           "fillcolor": "rgb(67,103,167)",
           "line": {
            "width": 0
           },
           "opacity": 0.5
          },
          "ternary": {
           "aaxis": {
            "gridcolor": "white",
            "linecolor": "white",
            "showgrid": true,
            "ticks": ""
           },
           "baxis": {
            "gridcolor": "white",
            "linecolor": "white",
            "showgrid": true,
            "ticks": ""
           },
           "bgcolor": "rgb(234,234,242)",
           "caxis": {
            "gridcolor": "white",
            "linecolor": "white",
            "showgrid": true,
            "ticks": ""
           }
          },
          "xaxis": {
           "automargin": true,
           "gridcolor": "white",
           "linecolor": "white",
           "showgrid": true,
           "ticks": "",
           "title": {
            "standoff": 15
           },
           "zerolinecolor": "white"
          },
          "yaxis": {
           "automargin": true,
           "gridcolor": "white",
           "linecolor": "white",
           "showgrid": true,
           "ticks": "",
           "title": {
            "standoff": 15
           },
           "zerolinecolor": "white"
          }
         }
        },
        "title": {
         "text": "Grit Magnitude of SimpleMLP on MNIST"
        },
        "xaxis": {
         "dtick": 1,
         "title": {
          "text": "Coarse Graining Scale"
         },
         "type": "log"
        },
        "yaxis": {
         "title": {
          "text": "|Grit|"
         },
         "type": "log"
        }
       }
      }
     },
     "metadata": {},
     "output_type": "display_data"
    }
   ],
   "source": [
    "# Create a Plotly figure\n",
    "fig = go.Figure()\n",
    "\n",
    "# Plotting roughness for each direction using grouped data\n",
    "for direction, data in df.groupby(level='Direction'):\n",
    "    fig.add_trace(go.Scatter(\n",
    "        x=data.index.get_level_values('Distance'),\n",
    "        y=np.abs(data['Grit']),\n",
    "        mode='lines+markers',\n",
    "        name=direction\n",
    "    ))\n",
    "\n",
    "# Set axis labels, title, and configure log scale on x-axis\n",
    "fig.update_layout(\n",
    "    title=f'Grit Magnitude of {center_model.__class__.__name__} on {dataset.__class__.__name__}',\n",
    "    xaxis={\n",
    "        'title': 'Coarse Graining Scale',\n",
    "        'type': 'log',\n",
    "        'dtick': 1,  # Tick every power of ten\n",
    "    },\n",
    "    yaxis ={\n",
    "        'title': '|Grit|',\n",
    "        'type': 'log',\n",
    "    },\n",
    "    legend_title='Direction',\n",
    "    template='seaborn',\n",
    "    height=600\n",
    ")\n",
    "\n",
    "# Display the figure\n",
    "fig.show()"
   ]
  },
  {
   "cell_type": "code",
   "execution_count": null,
   "metadata": {},
   "outputs": [],
   "source": []
  }
 ],
 "metadata": {
  "accelerator": "GPU",
  "colab": {
   "gpuType": "T4",
   "include_colab_link": true,
   "provenance": []
  },
  "kernelspec": {
   "display_name": "Python 3",
   "name": "python3"
  },
  "language_info": {
   "codemirror_mode": {
    "name": "ipython",
    "version": 3
   },
   "file_extension": ".py",
   "mimetype": "text/x-python",
   "name": "python",
   "nbconvert_exporter": "python",
   "pygments_lexer": "ipython3",
   "version": "3.11.6"
  }
 },
 "nbformat": 4,
 "nbformat_minor": 0
}
