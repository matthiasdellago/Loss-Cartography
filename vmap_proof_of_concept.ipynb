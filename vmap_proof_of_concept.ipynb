{
  "cells": [
    {
      "cell_type": "code",
      "execution_count": 11,
      "metadata": {
        "id": "MTV4OGkJQDoW"
      },
      "outputs": [
        {
          "name": "stdout",
          "output_type": "stream",
          "text": [
            "torch.Size([3])\n"
          ]
        }
      ],
      "source": [
        "import torch\n",
        "import torch.nn as nn\n",
        "import torch.nn.functional as F\n",
        "\n",
        "# Here's a simple MLP\n",
        "class SimpleMLP(nn.Module):\n",
        "    def __init__(self):\n",
        "        super(SimpleMLP, self).__init__()\n",
        "        self.fc1 = nn.Linear(784, 128)\n",
        "        self.fc2 = nn.Linear(128, 128)\n",
        "        self.fc3 = nn.Linear(128, 10)\n",
        "\n",
        "    def forward(self, x):\n",
        "        x = x.flatten(1)\n",
        "        x = self.fc1(x)\n",
        "        x = F.relu(x)\n",
        "        x = self.fc2(x)\n",
        "        x = F.relu(x)\n",
        "        x = self.fc3(x)\n",
        "        return x\n",
        "        \n",
        "from torchvision.datasets import MNIST\n",
        "from torchvision import transforms\n",
        "\n",
        "device = torch.device(\"cuda\" if torch.cuda.is_available() else \"cpu\")\n",
        "\n",
        "# Use a standard MNIST normalization\n",
        "transform = transforms.Compose([\n",
        "    transforms.ToTensor(),\n",
        "    transforms.Normalize((0.1307,), (0.3081,))\n",
        "])\n",
        "\n",
        "dataset = MNIST(root='./data', train=False, download=True, transform=transform)\n",
        "dataloader = torch.utils.data.DataLoader(dataset, batch_size=32, shuffle=True)\n",
        "\n",
        "num_models = 3\n",
        "\n",
        "models = [SimpleMLP().to(device) for _ in range(num_models)]\n",
        "data, target = next(iter(dataloader))\n",
        "data = data.to(device)\n",
        "target = target.to(device)\n",
        "\n",
        "# predictions with for loop\n",
        "predictions_loop = torch.stack([model(data) for model in models])\n",
        "loss_loop = torch.stack([F.cross_entropy(predictions.double(), target) for predictions in predictions_loop])\n",
        "print(loss_loop.shape)"
      ]
    },
    {
      "cell_type": "markdown",
      "metadata": {},
      "source": [
        "Parallel evaluation with vmap()\n"
      ]
    },
    {
      "cell_type": "code",
      "execution_count": 12,
      "metadata": {
        "id": "of195MzFwzdG"
      },
      "outputs": [],
      "source": [
        "from torch.func import stack_module_state\n",
        "from icecream import ic\n",
        "\n",
        "params, buffers = stack_module_state(models)\n",
        "\n",
        "from torch.func import functional_call\n",
        "from torch.nn.functional import cross_entropy\n",
        "import copy\n",
        "\n",
        "# Construct a \"stateless\" version of one of the models. It is \"stateless\" in\n",
        "# the sense that the parameters are meta Tensors and do not have storage.\n",
        "meta_model = copy.deepcopy(models[0])\n",
        "meta_model = meta_model.to('meta')\n",
        "\n",
        "def meta_model_loss(params, buffers, data, target):\n",
        "    predictions = functional_call(meta_model, (params, buffers), (data,))\n",
        "    predictions = predictions.double()\n",
        "    loss = cross_entropy(predictions, target)  # Compute loss per sample\n",
        "    return loss\n",
        "\n",
        "from torch import vmap\n",
        "ensembled_loss = vmap(meta_model_loss, in_dims=(0, 0, None, None)) # adds an ensemble dimension to the first two arguments (params, buffers)\n",
        "# data and target are not ensembled over, so we don't add an ensemble dimension for them\n",
        "loss_vmap = ensembled_loss(params, buffers, data, target)\n",
        "\n",
        "\n",
        "assert torch.allclose(loss_loop, loss_vmap, atol=1e-3, rtol=1e-5)\n"
      ]
    }
  ],
  "metadata": {
    "colab": {
      "provenance": []
    },
    "kernelspec": {
      "display_name": "Python 3",
      "name": "python3"
    },
    "language_info": {
      "codemirror_mode": {
        "name": "ipython",
        "version": 3
      },
      "file_extension": ".py",
      "mimetype": "text/x-python",
      "name": "python",
      "nbconvert_exporter": "python",
      "pygments_lexer": "ipython3",
      "version": "3.11.6"
    }
  },
  "nbformat": 4,
  "nbformat_minor": 0
}
